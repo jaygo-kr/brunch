{
  "nbformat": 4,
  "nbformat_minor": 0,
  "metadata": {
    "colab": {
      "name": "get_naver_best_music.ipynb",
      "version": "0.3.2",
      "provenance": [],
      "collapsed_sections": [],
      "include_colab_link": true
    },
    "kernelspec": {
      "name": "python3",
      "display_name": "Python 3"
    }
  },
  "cells": [
    {
      "cell_type": "markdown",
      "metadata": {
        "id": "view-in-github",
        "colab_type": "text"
      },
      "source": [
        "<a href=\"https://colab.research.google.com/github/jaygo-kr/brunch/blob/master/get_naver_best_music.ipynb\" target=\"_parent\"><img src=\"https://colab.research.google.com/assets/colab-badge.svg\" alt=\"Open In Colab\"/></a>"
      ]
    },
    {
      "cell_type": "markdown",
      "metadata": {
        "id": "4GaFcUQimLVB",
        "colab_type": "text"
      },
      "source": [
        "시대별 대중음악 변천사"
      ]
    },
    {
      "cell_type": "code",
      "metadata": {
        "id": "8fppKZppsYZT",
        "colab_type": "code",
        "colab": {}
      },
      "source": [
        "#2"
      ],
      "execution_count": 0,
      "outputs": []
    },
    {
      "cell_type": "code",
      "metadata": {
        "id": "U4kQ2mLamKrA",
        "colab_type": "code",
        "outputId": "dcaa32ef-d380-4401-ad2f-534ed509151a",
        "colab": {
          "base_uri": "https://localhost:8080/",
          "height": 36
        }
      },
      "source": [
        "from bs4 import BeautifulSoup\n",
        "import numpy as np\n",
        "import pandas as pd\n",
        "import time\n",
        "from google.colab import files, drive\n",
        "drive.mount('/content/gdrive')"
      ],
      "execution_count": 0,
      "outputs": [
        {
          "output_type": "stream",
          "text": [
            "Drive already mounted at /content/gdrive; to attempt to forcibly remount, call drive.mount(\"/content/gdrive\", force_remount=True).\n"
          ],
          "name": "stdout"
        }
      ]
    },
    {
      "cell_type": "code",
      "metadata": {
        "id": "7UFnzmeCmKt3",
        "colab_type": "code",
        "colab": {}
      },
      "source": [
        "import requests"
      ],
      "execution_count": 0,
      "outputs": []
    },
    {
      "cell_type": "code",
      "metadata": {
        "id": "RhagWp95PR_I",
        "colab_type": "code",
        "colab": {}
      },
      "source": [
        "ERA_DICT = {1980:'1980',1990:'1990',2000:'2000',2010:'2010'}\n",
        "GENRE_DICT = {'K01':'발라드','K02':'댄스','K03':'힙합','K04':'록/포크','K05':'트로트'}\n",
        "COLUMNS_LIST = ['곡명','아티스트','앨범','시대','장르','순위/전체','순위/시대','순위/장르','순위/시대/장르']"
      ],
      "execution_count": 0,
      "outputs": []
    },
    {
      "cell_type": "code",
      "metadata": {
        "colab_type": "code",
        "id": "XrYVYRbjwJcT",
        "colab": {}
      },
      "source": [
        "# 각 시대/장르 1개씩 조합하여 전부 axis = 0 으로 합쳐야함\n",
        "# 이후, 전체시대의 장르별로 / 전체장르의 시대별로 해서 각각 axis = 0 으로 합침\n",
        "# 마지막으로 전체에 대하여 추출\n",
        "# 각 테이블의순위들 제외하고 다 합친것을 key로 해서 merge 필요\n",
        "# 시대별, 장르별, 전체 하게되면 장르나 시대가 하나씪 비네, 개별조합으로 다 받아서 나머지 값들 합한거 중복 있나 봐야겠다. 키로 쓰게\n",
        "# 2019-03-08 기준 네이버 시대별 음악 총 곡 수 17624 임으로 이를 획득해야함\n",
        "def read_data_seperate(ERA, GENRE, DISPLAY = 50):\n",
        "  initial_url = 'https://music.naver.com/recommend/trackTimeLine.nhn?fromTime={ERA_from}&toTime={ERA_to}&searchType=track&orderType=score&viewType=thumbnail&genre={GENRE}&display={DISPLAY}'.format(\n",
        "    ERA_from=ERA, ERA_to=ERA+10, GENRE=GENRE, DISPLAY=DISPLAY)\n",
        "  r = requests.get(initial_url)\n",
        "  \n",
        "  html = r.text\n",
        "  soup = BeautifulSoup(html, 'html.parser')\n",
        "  \n",
        "  num_select = soup.select(\n",
        "    'div.sorting_area > div.tab_rdo > label.item10 > em'\n",
        "  )\n",
        "  num = int(num_select[0].text[1:-1])\n",
        "  DISPLAY = num\n",
        "  \n",
        "  target_url = 'https://music.naver.com/recommend/trackTimeLine.nhn?fromTime={ERA_from}&toTime={ERA_to}&searchType=track&orderType=score&viewType=thumbnail&genre={GENRE}&display={DISPLAY}'.format(\n",
        "    ERA_from=ERA, ERA_to=ERA+10, GENRE=GENRE, DISPLAY=DISPLAY)\n",
        "  r = requests.get(target_url)\n",
        "  \n",
        "  print('STEP {},{} : {} data reading...'.format(ERA, GENRE, num))\n",
        "  \n",
        "  html = r.text\n",
        "  soup = BeautifulSoup(html, 'html.parser')\n",
        "  \n",
        "\n",
        "  title_select = soup.select(\n",
        "    'tbody > tr > td.name'\n",
        "  )\n",
        "  artist_select = soup.select(\n",
        "    'tbody > tr > td._artist'\n",
        "  )\n",
        "  album_select = soup.select(\n",
        "    'tbody > tr > td.album > a._album'\n",
        "  )\n",
        "\n",
        "  data = pd.DataFrame(columns = COLUMNS_LIST[:5] + [COLUMNS_LIST[8]])\n",
        "\n",
        "  #for col in COLUMNS_LIST:\n",
        "  title_list = []\n",
        "  for select in title_select[1:]:\n",
        "    title_list.append(select.text.strip())\n",
        "  data[COLUMNS_LIST[0]] = title_list\n",
        "  \n",
        "  artist_list = []\n",
        "  for select in artist_select[1:]:\n",
        "    artist_list.append(select.text.strip())\n",
        "  data[COLUMNS_LIST[1]] = artist_list\n",
        "  \n",
        "  album_list = []\n",
        "  for select in album_select:\n",
        "    album_list.append(select.text)\n",
        "  data[COLUMNS_LIST[2]] = album_list\n",
        "  \n",
        "  era_list = [ERA_DICT[ERA] for _ in range(num)]\n",
        "  data[COLUMNS_LIST[3]] = era_list\n",
        "  \n",
        "  genre_list = [GENRE_DICT[GENRE] for _ in range(num)]\n",
        "  data[COLUMNS_LIST[4]] = genre_list\n",
        "  \n",
        "  rank_list = [i+1 for i in range(num)]\n",
        "  data[COLUMNS_LIST[8]] = pd.to_numeric(rank_list)\n",
        "  print('STEP {},{} : {} data done.'.format(ERA, GENRE, num))\n",
        "  return data "
      ],
      "execution_count": 0,
      "outputs": []
    },
    {
      "cell_type": "code",
      "metadata": {
        "id": "kHEXOOqG-tPo",
        "colab_type": "code",
        "outputId": "32247280-dbdc-43fa-b0e5-c39a1a389de9",
        "colab": {
          "base_uri": "https://localhost:8080/",
          "height": 778
        }
      },
      "source": [
        "full_data_sep = pd.DataFrame()\n",
        "\n",
        "for era in ERA_DICT.keys():\n",
        "  for genre in GENRE_DICT.keys():\n",
        "    read_data = read_data_seperate(era, genre)\n",
        "    full_data_sep = pd.concat([full_data_sep, read_data])\n",
        "\n",
        "len(full_data_sep)"
      ],
      "execution_count": 0,
      "outputs": [
        {
          "output_type": "stream",
          "text": [
            "STEP 1980,K01 : 1005 data reading...\n",
            "STEP 1980,K01 : 1005 data done.\n",
            "STEP 1980,K02 : 97 data reading...\n",
            "STEP 1980,K02 : 97 data done.\n",
            "STEP 1980,K03 : 0 data reading...\n",
            "STEP 1980,K03 : 0 data done.\n",
            "STEP 1980,K04 : 1002 data reading...\n",
            "STEP 1980,K04 : 1002 data done.\n",
            "STEP 1980,K05 : 1001 data reading...\n",
            "STEP 1980,K05 : 1001 data done.\n",
            "STEP 1990,K01 : 1000 data reading...\n",
            "STEP 1990,K01 : 1000 data done.\n",
            "STEP 1990,K02 : 1000 data reading...\n",
            "STEP 1990,K02 : 1000 data done.\n",
            "STEP 1990,K03 : 519 data reading...\n",
            "STEP 1990,K03 : 519 data done.\n",
            "STEP 1990,K04 : 1000 data reading...\n",
            "STEP 1990,K04 : 1000 data done.\n",
            "STEP 1990,K05 : 1000 data reading...\n",
            "STEP 1990,K05 : 1000 data done.\n",
            "STEP 2000,K01 : 1000 data reading...\n",
            "STEP 2000,K01 : 1000 data done.\n",
            "STEP 2000,K02 : 1000 data reading...\n",
            "STEP 2000,K02 : 1000 data done.\n",
            "STEP 2000,K03 : 1000 data reading...\n",
            "STEP 2000,K03 : 1000 data done.\n",
            "STEP 2000,K04 : 1000 data reading...\n",
            "STEP 2000,K04 : 1000 data done.\n",
            "STEP 2000,K05 : 1000 data reading...\n",
            "STEP 2000,K05 : 1000 data done.\n",
            "STEP 2010,K01 : 1000 data reading...\n",
            "STEP 2010,K01 : 1000 data done.\n",
            "STEP 2010,K02 : 1000 data reading...\n",
            "STEP 2010,K02 : 1000 data done.\n",
            "STEP 2010,K03 : 1000 data reading...\n",
            "STEP 2010,K03 : 1000 data done.\n",
            "STEP 2010,K04 : 1000 data reading...\n",
            "STEP 2010,K04 : 1000 data done.\n",
            "STEP 2010,K05 : 1000 data reading...\n",
            "STEP 2010,K05 : 1000 data done.\n"
          ],
          "name": "stdout"
        },
        {
          "output_type": "execute_result",
          "data": {
            "text/plain": [
              "17624"
            ]
          },
          "metadata": {
            "tags": []
          },
          "execution_count": 5
        }
      ]
    },
    {
      "cell_type": "code",
      "metadata": {
        "id": "cIPl8LhnATXW",
        "colab_type": "code",
        "outputId": "f103d92a-2c09-4da3-b918-63f28a892a49",
        "colab": {
          "base_uri": "https://localhost:8080/",
          "height": 198
        }
      },
      "source": [
        "full_data_sep.head()"
      ],
      "execution_count": 0,
      "outputs": [
        {
          "output_type": "execute_result",
          "data": {
            "text/html": [
              "<div>\n",
              "<style scoped>\n",
              "    .dataframe tbody tr th:only-of-type {\n",
              "        vertical-align: middle;\n",
              "    }\n",
              "\n",
              "    .dataframe tbody tr th {\n",
              "        vertical-align: top;\n",
              "    }\n",
              "\n",
              "    .dataframe thead th {\n",
              "        text-align: right;\n",
              "    }\n",
              "</style>\n",
              "<table border=\"1\" class=\"dataframe\">\n",
              "  <thead>\n",
              "    <tr style=\"text-align: right;\">\n",
              "      <th></th>\n",
              "      <th>곡명</th>\n",
              "      <th>아티스트</th>\n",
              "      <th>앨범</th>\n",
              "      <th>시대</th>\n",
              "      <th>장르</th>\n",
              "      <th>순위/시대/장르</th>\n",
              "    </tr>\n",
              "  </thead>\n",
              "  <tbody>\n",
              "    <tr>\n",
              "      <th>0</th>\n",
              "      <td>가로수 그늘아래 서면</td>\n",
              "      <td>이문세</td>\n",
              "      <td>5집 가로수 그늘아래서면</td>\n",
              "      <td>1980</td>\n",
              "      <td>발라드</td>\n",
              "      <td>1</td>\n",
              "    </tr>\n",
              "    <tr>\n",
              "      <th>1</th>\n",
              "      <td>사랑하기 때문에</td>\n",
              "      <td>유재하</td>\n",
              "      <td>1집 사랑하기 때문에</td>\n",
              "      <td>1980</td>\n",
              "      <td>발라드</td>\n",
              "      <td>2</td>\n",
              "    </tr>\n",
              "    <tr>\n",
              "      <th>2</th>\n",
              "      <td>너에게로 또 다시</td>\n",
              "      <td>변진섭</td>\n",
              "      <td>2집 너에게로 또다시</td>\n",
              "      <td>1980</td>\n",
              "      <td>발라드</td>\n",
              "      <td>3</td>\n",
              "    </tr>\n",
              "    <tr>\n",
              "      <th>3</th>\n",
              "      <td>가리워진 길</td>\n",
              "      <td>유재하</td>\n",
              "      <td>1집 사랑하기 때문에</td>\n",
              "      <td>1980</td>\n",
              "      <td>발라드</td>\n",
              "      <td>4</td>\n",
              "    </tr>\n",
              "    <tr>\n",
              "      <th>4</th>\n",
              "      <td>비처럼 음악처럼</td>\n",
              "      <td>김현식</td>\n",
              "      <td>3집 비처럼 음악처럼</td>\n",
              "      <td>1980</td>\n",
              "      <td>발라드</td>\n",
              "      <td>5</td>\n",
              "    </tr>\n",
              "  </tbody>\n",
              "</table>\n",
              "</div>"
            ],
            "text/plain": [
              "            곡명 아티스트             앨범    시대   장르  순위/시대/장르\n",
              "0  가로수 그늘아래 서면  이문세  5집 가로수 그늘아래서면  1980  발라드         1\n",
              "1     사랑하기 때문에  유재하    1집 사랑하기 때문에  1980  발라드         2\n",
              "2    너에게로 또 다시  변진섭    2집 너에게로 또다시  1980  발라드         3\n",
              "3       가리워진 길  유재하    1집 사랑하기 때문에  1980  발라드         4\n",
              "4     비처럼 음악처럼  김현식    3집 비처럼 음악처럼  1980  발라드         5"
            ]
          },
          "metadata": {
            "tags": []
          },
          "execution_count": 6
        }
      ]
    },
    {
      "cell_type": "code",
      "metadata": {
        "id": "a1SEwU3ehaW1",
        "colab_type": "code",
        "colab": {}
      },
      "source": [
        "import os"
      ],
      "execution_count": 0,
      "outputs": []
    },
    {
      "cell_type": "code",
      "metadata": {
        "id": "cYcswaKthcVW",
        "colab_type": "code",
        "outputId": "b4f852a6-f918-4744-c16b-1f92b46625d2",
        "colab": {
          "base_uri": "https://localhost:8080/",
          "height": 36
        }
      },
      "source": [
        "print(os.listdir(\"./gdrive/My Drive/Colab/data\"))"
      ],
      "execution_count": 0,
      "outputs": [
        {
          "output_type": "stream",
          "text": [
            "['Extracted 190309']\n"
          ],
          "name": "stdout"
        }
      ]
    },
    {
      "cell_type": "code",
      "metadata": {
        "id": "Yk-L6hhmb-sL",
        "colab_type": "code",
        "colab": {}
      },
      "source": [
        "full_data_sep.to_csv(\"./gdrive/My Drive/Colab/data/full_data_sep.csv\", index=False)"
      ],
      "execution_count": 0,
      "outputs": []
    },
    {
      "cell_type": "code",
      "metadata": {
        "id": "7OhcMkvzb-v5",
        "colab_type": "code",
        "colab": {}
      },
      "source": [
        "############# 여기까지 1차"
      ],
      "execution_count": 0,
      "outputs": []
    },
    {
      "cell_type": "code",
      "metadata": {
        "id": "4EpIj9K4vb7n",
        "colab_type": "code",
        "colab": {}
      },
      "source": [
        "def read_data_era(ERA, DISPLAY = 50):\n",
        "  initial_url = 'https://music.naver.com/recommend/trackTimeLine.nhn?fromTime={ERA_from}&toTime={ERA_to}&searchType=track&orderType=score&viewType=thumbnail&genre={GENRE}&display={DISPLAY}'.format(\n",
        "    ERA_from=ERA, ERA_to=ERA+10, GENRE=','.join(GENRE_DICT.keys()), DISPLAY=DISPLAY)\n",
        "  r = requests.get(initial_url)\n",
        "  \n",
        "  html = r.text\n",
        "  soup = BeautifulSoup(html, 'html.parser')\n",
        "  \n",
        "  num_select = soup.select(\n",
        "    'div.sorting_area > div.tab_rdo > label.item10 > em'\n",
        "  )\n",
        "  num = int(num_select[0].text[1:-1])\n",
        "  DISPLAY = num\n",
        "  \n",
        "  target_url = 'https://music.naver.com/recommend/trackTimeLine.nhn?fromTime={ERA_from}&toTime={ERA_to}&searchType=track&orderType=score&viewType=thumbnail&genre={GENRE}&display={DISPLAY}'.format(\n",
        "    ERA_from=ERA, ERA_to=ERA+10, GENRE=','.join(GENRE_DICT.keys()), DISPLAY=num)\n",
        "  r = requests.get(target_url)\n",
        "  print('STEP {} : {} data reading...'.format(ERA, num))\n",
        "  \n",
        "  html = r.text\n",
        "  soup = BeautifulSoup(html, 'html.parser')\n",
        "  \n",
        "  title_select = soup.select(\n",
        "    'tbody > tr > td.name'\n",
        "  )\n",
        "  artist_select = soup.select(\n",
        "    'tbody > tr > td._artist'\n",
        "  )\n",
        "  album_select = soup.select(\n",
        "    'tbody > tr > td.album > a._album'\n",
        "  )\n",
        "  \n",
        "  data = pd.DataFrame(columns = COLUMNS_LIST[:4] + [COLUMNS_LIST[6]])\n",
        "\n",
        "  #for col in COLUMNS_LIST:\n",
        "  title_list = []\n",
        "  for select in title_select[1:]:\n",
        "    title_list.append(select.text.strip())\n",
        "  data[COLUMNS_LIST[0]] = title_list\n",
        "  \n",
        "  artist_list = []\n",
        "  for select in artist_select[1:]:\n",
        "    artist_list.append(select.text.strip())\n",
        "  data[COLUMNS_LIST[1]] = artist_list\n",
        "  \n",
        "  album_list = []\n",
        "  for select in album_select:\n",
        "    album_list.append(select.text)\n",
        "  data[COLUMNS_LIST[2]] = album_list\n",
        "  \n",
        "  era_list = [ERA_DICT[ERA] for _ in range(num)]\n",
        "  data[COLUMNS_LIST[3]] = era_list\n",
        "  \n",
        "  rank_list = [i+1 for i in range(num)]\n",
        "  data[COLUMNS_LIST[6]] = pd.to_numeric(rank_list)\n",
        "  print('STEP {} : {} data done.'.format(ERA, num))\n",
        "  \n",
        "  return data  "
      ],
      "execution_count": 0,
      "outputs": []
    },
    {
      "cell_type": "code",
      "metadata": {
        "id": "WERgmGOlnBCi",
        "colab_type": "code",
        "outputId": "f3583334-3a8b-4026-a52e-95847b0d3a78",
        "colab": {
          "base_uri": "https://localhost:8080/",
          "height": 184
        }
      },
      "source": [
        "full_data_era = pd.DataFrame()\n",
        "\n",
        "for era in ERA_DICT.keys():\n",
        "  read_data = read_data_era(era)\n",
        "  full_data_era = pd.concat([full_data_era, read_data])\n",
        "\n",
        "len(full_data_era)"
      ],
      "execution_count": 0,
      "outputs": [
        {
          "output_type": "stream",
          "text": [
            "STEP 1980 : 3105 data reading...\n",
            "STEP 1980 : 3105 data done.\n",
            "STEP 1990 : 4519 data reading...\n",
            "STEP 1990 : 4519 data done.\n",
            "STEP 2000 : 5000 data reading...\n",
            "STEP 2000 : 5000 data done.\n",
            "STEP 2010 : 5000 data reading...\n",
            "STEP 2010 : 5000 data done.\n"
          ],
          "name": "stdout"
        },
        {
          "output_type": "execute_result",
          "data": {
            "text/plain": [
              "17624"
            ]
          },
          "metadata": {
            "tags": []
          },
          "execution_count": 12
        }
      ]
    },
    {
      "cell_type": "code",
      "metadata": {
        "id": "GvYOaKAdmCFB",
        "colab_type": "code",
        "outputId": "a7c430e9-4f91-4bd2-9061-53a1ef26bae8",
        "colab": {
          "base_uri": "https://localhost:8080/",
          "height": 198
        }
      },
      "source": [
        "full_data_era.head()"
      ],
      "execution_count": 0,
      "outputs": [
        {
          "output_type": "execute_result",
          "data": {
            "text/html": [
              "<div>\n",
              "<style scoped>\n",
              "    .dataframe tbody tr th:only-of-type {\n",
              "        vertical-align: middle;\n",
              "    }\n",
              "\n",
              "    .dataframe tbody tr th {\n",
              "        vertical-align: top;\n",
              "    }\n",
              "\n",
              "    .dataframe thead th {\n",
              "        text-align: right;\n",
              "    }\n",
              "</style>\n",
              "<table border=\"1\" class=\"dataframe\">\n",
              "  <thead>\n",
              "    <tr style=\"text-align: right;\">\n",
              "      <th></th>\n",
              "      <th>곡명</th>\n",
              "      <th>아티스트</th>\n",
              "      <th>앨범</th>\n",
              "      <th>시대</th>\n",
              "      <th>순위/시대</th>\n",
              "    </tr>\n",
              "  </thead>\n",
              "  <tbody>\n",
              "    <tr>\n",
              "      <th>0</th>\n",
              "      <td>가로수 그늘아래 서면</td>\n",
              "      <td>이문세</td>\n",
              "      <td>5집 가로수 그늘아래서면</td>\n",
              "      <td>1980</td>\n",
              "      <td>1</td>\n",
              "    </tr>\n",
              "    <tr>\n",
              "      <th>1</th>\n",
              "      <td>사랑하기 때문에</td>\n",
              "      <td>유재하</td>\n",
              "      <td>1집 사랑하기 때문에</td>\n",
              "      <td>1980</td>\n",
              "      <td>2</td>\n",
              "    </tr>\n",
              "    <tr>\n",
              "      <th>2</th>\n",
              "      <td>너에게로 또 다시</td>\n",
              "      <td>변진섭</td>\n",
              "      <td>2집 너에게로 또다시</td>\n",
              "      <td>1980</td>\n",
              "      <td>3</td>\n",
              "    </tr>\n",
              "    <tr>\n",
              "      <th>3</th>\n",
              "      <td>가리워진 길</td>\n",
              "      <td>유재하</td>\n",
              "      <td>1집 사랑하기 때문에</td>\n",
              "      <td>1980</td>\n",
              "      <td>4</td>\n",
              "    </tr>\n",
              "    <tr>\n",
              "      <th>4</th>\n",
              "      <td>비처럼 음악처럼</td>\n",
              "      <td>김현식</td>\n",
              "      <td>3집 비처럼 음악처럼</td>\n",
              "      <td>1980</td>\n",
              "      <td>5</td>\n",
              "    </tr>\n",
              "  </tbody>\n",
              "</table>\n",
              "</div>"
            ],
            "text/plain": [
              "            곡명 아티스트             앨범    시대  순위/시대\n",
              "0  가로수 그늘아래 서면  이문세  5집 가로수 그늘아래서면  1980      1\n",
              "1     사랑하기 때문에  유재하    1집 사랑하기 때문에  1980      2\n",
              "2    너에게로 또 다시  변진섭    2집 너에게로 또다시  1980      3\n",
              "3       가리워진 길  유재하    1집 사랑하기 때문에  1980      4\n",
              "4     비처럼 음악처럼  김현식    3집 비처럼 음악처럼  1980      5"
            ]
          },
          "metadata": {
            "tags": []
          },
          "execution_count": 13
        }
      ]
    },
    {
      "cell_type": "code",
      "metadata": {
        "id": "gQFASNWQl4sJ",
        "colab_type": "code",
        "colab": {}
      },
      "source": [
        "full_data_era.to_csv(\"./gdrive/My Drive/Colab/data/full_data_era.csv\", index=False)"
      ],
      "execution_count": 0,
      "outputs": []
    },
    {
      "cell_type": "code",
      "metadata": {
        "id": "rEIrOj7Dl6-q",
        "colab_type": "code",
        "colab": {}
      },
      "source": [
        "############### 여기까지 2차"
      ],
      "execution_count": 0,
      "outputs": []
    },
    {
      "cell_type": "code",
      "metadata": {
        "id": "hb8yVC8Bmavr",
        "colab_type": "code",
        "outputId": "a0d988a1-14ec-4b9c-8f49-3bd27b58d189",
        "colab": {
          "base_uri": "https://localhost:8080/",
          "height": 36
        }
      },
      "source": [
        "ERA_DICT.keys()"
      ],
      "execution_count": 0,
      "outputs": [
        {
          "output_type": "execute_result",
          "data": {
            "text/plain": [
              "dict_keys([1980, 1990, 2000, 2010])"
            ]
          },
          "metadata": {
            "tags": []
          },
          "execution_count": 16
        }
      ]
    },
    {
      "cell_type": "code",
      "metadata": {
        "id": "z4L3kpCxmxch",
        "colab_type": "code",
        "outputId": "69db4936-ec30-4250-d507-ce6769b7d994",
        "colab": {
          "base_uri": "https://localhost:8080/",
          "height": 36
        }
      },
      "source": [
        "COLUMNS_LIST"
      ],
      "execution_count": 0,
      "outputs": [
        {
          "output_type": "execute_result",
          "data": {
            "text/plain": [
              "['곡명', '아티스트', '앨범', '시대', '장르', '순위/전체', '순위/시대', '순위/장르', '순위/시대/장르']"
            ]
          },
          "metadata": {
            "tags": []
          },
          "execution_count": 17
        }
      ]
    },
    {
      "cell_type": "code",
      "metadata": {
        "id": "Ei0cc5YDm3aG",
        "colab_type": "code",
        "outputId": "efd8ae16-5440-4bb5-f8e6-5582aa0cc336",
        "colab": {
          "base_uri": "https://localhost:8080/",
          "height": 36
        }
      },
      "source": [
        "COLUMNS_LIST[:3] + [COLUMNS_LIST[4]] + [COLUMNS_LIST[7]]"
      ],
      "execution_count": 0,
      "outputs": [
        {
          "output_type": "execute_result",
          "data": {
            "text/plain": [
              "['곡명', '아티스트', '앨범', '장르', '순위/장르']"
            ]
          },
          "metadata": {
            "tags": []
          },
          "execution_count": 18
        }
      ]
    },
    {
      "cell_type": "code",
      "metadata": {
        "id": "4c68a5EgYU73",
        "colab_type": "code",
        "colab": {}
      },
      "source": [
        "def read_data_genre(GENRE, DISPLAY = 50):\n",
        "  initial_url = 'https://music.naver.com/recommend/trackTimeLine.nhn?fromTime={ERA_from}&toTime={ERA_to}&searchType=track&orderType=score&viewType=thumbnail&genre={GENRE}&display={DISPLAY}'.format(\n",
        "    ERA_from=1980, ERA_to=2010+10, GENRE=GENRE, DISPLAY=DISPLAY)\n",
        "  r = requests.get(initial_url)\n",
        "  \n",
        "  html = r.text\n",
        "  soup = BeautifulSoup(html, 'html.parser')\n",
        "  \n",
        "  num_select = soup.select(\n",
        "    'div.sorting_area > div.tab_rdo > label.item10 > em'\n",
        "  )\n",
        "  num = int(num_select[0].text[1:-1])\n",
        "  DISPLAY = num\n",
        "  \n",
        "  target_url = 'https://music.naver.com/recommend/trackTimeLine.nhn?fromTime={ERA_from}&toTime={ERA_to}&searchType=track&orderType=score&viewType=thumbnail&genre={GENRE}&display={DISPLAY}'.format(\n",
        "    ERA_from=1980, ERA_to=2010+10, GENRE=GENRE, DISPLAY=num)\n",
        "  r = requests.get(target_url)\n",
        "  print('STEP {} : {} data reading...'.format(GENRE, num))\n",
        "  \n",
        "  html = r.text\n",
        "  soup = BeautifulSoup(html, 'html.parser')\n",
        "  \n",
        "  title_select = soup.select(\n",
        "    'tbody > tr > td.name'\n",
        "  )\n",
        "  artist_select = soup.select(\n",
        "    'tbody > tr > td._artist'\n",
        "  )\n",
        "  album_select = soup.select(\n",
        "    'tbody > tr > td.album > a._album'\n",
        "  )\n",
        "  \n",
        "  data = pd.DataFrame(columns = COLUMNS_LIST[:3] + [COLUMNS_LIST[4]] + [COLUMNS_LIST[7]])\n",
        "\n",
        "  #for col in COLUMNS_LIST:\n",
        "  title_list = []\n",
        "  for select in title_select[1:]:\n",
        "    title_list.append(select.text.strip())\n",
        "  data[COLUMNS_LIST[0]] = title_list\n",
        "  \n",
        "  artist_list = []\n",
        "  for select in artist_select[1:]:\n",
        "    artist_list.append(select.text.strip())\n",
        "  data[COLUMNS_LIST[1]] = artist_list\n",
        "  \n",
        "  album_list = []\n",
        "  for select in album_select:\n",
        "    album_list.append(select.text)\n",
        "  data[COLUMNS_LIST[2]] = album_list\n",
        "  \n",
        "  genre_list = [GENRE_DICT[GENRE] for _ in range(num)]\n",
        "  data[COLUMNS_LIST[4]] = genre_list\n",
        "  \n",
        "  rank_list = [i+1 for i in range(num)]\n",
        "  data[COLUMNS_LIST[7]] = pd.to_numeric(rank_list)\n",
        "  print('STEP {} : {} data done.'.format(GENRE, num))\n",
        "  \n",
        "  return data  "
      ],
      "execution_count": 0,
      "outputs": []
    },
    {
      "cell_type": "code",
      "metadata": {
        "id": "qVmi4AofnvLs",
        "colab_type": "code",
        "outputId": "124b1be2-e372-41f9-ce84-59aca7f20dc3",
        "colab": {
          "base_uri": "https://localhost:8080/",
          "height": 221
        }
      },
      "source": [
        "full_data_genre = pd.DataFrame()\n",
        "\n",
        "for genre in GENRE_DICT.keys():\n",
        "  read_data = read_data_genre(genre)\n",
        "  full_data_genre = pd.concat([full_data_genre, read_data])\n",
        "\n",
        "len(full_data_genre)"
      ],
      "execution_count": 0,
      "outputs": [
        {
          "output_type": "stream",
          "text": [
            "STEP K01 : 4005 data reading...\n",
            "STEP K01 : 4005 data done.\n",
            "STEP K02 : 3097 data reading...\n",
            "STEP K02 : 3097 data done.\n",
            "STEP K03 : 2519 data reading...\n",
            "STEP K03 : 2519 data done.\n",
            "STEP K04 : 4002 data reading...\n",
            "STEP K04 : 4002 data done.\n",
            "STEP K05 : 4001 data reading...\n",
            "STEP K05 : 4001 data done.\n"
          ],
          "name": "stdout"
        },
        {
          "output_type": "execute_result",
          "data": {
            "text/plain": [
              "17624"
            ]
          },
          "metadata": {
            "tags": []
          },
          "execution_count": 20
        }
      ]
    },
    {
      "cell_type": "code",
      "metadata": {
        "id": "Dqv7g2CvpLqw",
        "colab_type": "code",
        "outputId": "1a075c7a-dc8b-43b7-aacd-288bce320041",
        "colab": {
          "base_uri": "https://localhost:8080/",
          "height": 198
        }
      },
      "source": [
        "full_data_genre.head()"
      ],
      "execution_count": 0,
      "outputs": [
        {
          "output_type": "execute_result",
          "data": {
            "text/html": [
              "<div>\n",
              "<style scoped>\n",
              "    .dataframe tbody tr th:only-of-type {\n",
              "        vertical-align: middle;\n",
              "    }\n",
              "\n",
              "    .dataframe tbody tr th {\n",
              "        vertical-align: top;\n",
              "    }\n",
              "\n",
              "    .dataframe thead th {\n",
              "        text-align: right;\n",
              "    }\n",
              "</style>\n",
              "<table border=\"1\" class=\"dataframe\">\n",
              "  <thead>\n",
              "    <tr style=\"text-align: right;\">\n",
              "      <th></th>\n",
              "      <th>곡명</th>\n",
              "      <th>아티스트</th>\n",
              "      <th>앨범</th>\n",
              "      <th>장르</th>\n",
              "      <th>순위/장르</th>\n",
              "    </tr>\n",
              "  </thead>\n",
              "  <tbody>\n",
              "    <tr>\n",
              "      <th>0</th>\n",
              "      <td>소주 한 잔</td>\n",
              "      <td>임창정</td>\n",
              "      <td>10집 Bye</td>\n",
              "      <td>발라드</td>\n",
              "      <td>1</td>\n",
              "    </tr>\n",
              "    <tr>\n",
              "      <th>1</th>\n",
              "      <td>그대네요 (With 아이유)</td>\n",
              "      <td>성시경</td>\n",
              "      <td>그대네요</td>\n",
              "      <td>발라드</td>\n",
              "      <td>2</td>\n",
              "    </tr>\n",
              "    <tr>\n",
              "      <th>2</th>\n",
              "      <td>눈의 꽃</td>\n",
              "      <td>박효신</td>\n",
              "      <td>미안하다 사랑한다 OST (KBS 미니시리즈)</td>\n",
              "      <td>발라드</td>\n",
              "      <td>3</td>\n",
              "    </tr>\n",
              "    <tr>\n",
              "      <th>3</th>\n",
              "      <td>벌써 일년</td>\n",
              "      <td>브라운 아이즈</td>\n",
              "      <td>1집 Brown Eyes</td>\n",
              "      <td>발라드</td>\n",
              "      <td>4</td>\n",
              "    </tr>\n",
              "    <tr>\n",
              "      <th>4</th>\n",
              "      <td>어떻게 사랑이 그래요</td>\n",
              "      <td>이승환</td>\n",
              "      <td>9집 Hwantastic</td>\n",
              "      <td>발라드</td>\n",
              "      <td>5</td>\n",
              "    </tr>\n",
              "  </tbody>\n",
              "</table>\n",
              "</div>"
            ],
            "text/plain": [
              "                곡명     아티스트                         앨범   장르  순위/장르\n",
              "0           소주 한 잔      임창정                    10집 Bye  발라드      1\n",
              "1  그대네요 (With 아이유)      성시경                       그대네요  발라드      2\n",
              "2             눈의 꽃      박효신  미안하다 사랑한다 OST (KBS 미니시리즈)  발라드      3\n",
              "3            벌써 일년  브라운 아이즈              1집 Brown Eyes  발라드      4\n",
              "4      어떻게 사랑이 그래요      이승환              9집 Hwantastic  발라드      5"
            ]
          },
          "metadata": {
            "tags": []
          },
          "execution_count": 21
        }
      ]
    },
    {
      "cell_type": "code",
      "metadata": {
        "id": "EvHIJKWppLAQ",
        "colab_type": "code",
        "colab": {}
      },
      "source": [
        "full_data_genre.to_csv(\"./gdrive/My Drive/Colab/data/full_data_genre.csv\", index=False)"
      ],
      "execution_count": 0,
      "outputs": []
    },
    {
      "cell_type": "code",
      "metadata": {
        "id": "hJg-U93IrBls",
        "colab_type": "code",
        "colab": {}
      },
      "source": [
        "################# 다음"
      ],
      "execution_count": 0,
      "outputs": []
    },
    {
      "cell_type": "code",
      "metadata": {
        "id": "v8s78SM7rS1v",
        "colab_type": "code",
        "outputId": "5f1bb180-d155-4485-e1b2-1b0fbf8ae32d",
        "colab": {
          "base_uri": "https://localhost:8080/",
          "height": 36
        }
      },
      "source": [
        "COLUMNS_LIST"
      ],
      "execution_count": 0,
      "outputs": [
        {
          "output_type": "execute_result",
          "data": {
            "text/plain": [
              "['곡명', '아티스트', '앨범', '시대', '장르', '순위/전체', '순위/시대', '순위/장르', '순위/시대/장르']"
            ]
          },
          "metadata": {
            "tags": []
          },
          "execution_count": 24
        }
      ]
    },
    {
      "cell_type": "code",
      "metadata": {
        "id": "zSQoYB_7rUIl",
        "colab_type": "code",
        "outputId": "295271e1-8ec1-4d92-a63d-9e783e6f1918",
        "colab": {
          "base_uri": "https://localhost:8080/",
          "height": 36
        }
      },
      "source": [
        "COLUMNS_LIST[:3] + [COLUMNS_LIST[5]]"
      ],
      "execution_count": 0,
      "outputs": [
        {
          "output_type": "execute_result",
          "data": {
            "text/plain": [
              "['곡명', '아티스트', '앨범', '순위/전체']"
            ]
          },
          "metadata": {
            "tags": []
          },
          "execution_count": 25
        }
      ]
    },
    {
      "cell_type": "code",
      "metadata": {
        "id": "XtPp7Hc2Yd-d",
        "colab_type": "code",
        "colab": {}
      },
      "source": [
        "def read_data_all(DISPLAY = 50):\n",
        "  initial_url = 'https://music.naver.com/recommend/trackTimeLine.nhn?fromTime={ERA_from}&toTime={ERA_to}&searchType=track&orderType=score&viewType=thumbnail&genre={GENRE}&display={DISPLAY}'.format(\n",
        "    ERA_from=1980, ERA_to=2010+10, GENRE=','.join(GENRE_DICT.keys()), DISPLAY=DISPLAY)\n",
        "  r = requests.get(initial_url)\n",
        "  \n",
        "  html = r.text\n",
        "  soup = BeautifulSoup(html, 'html.parser')\n",
        "  \n",
        "  num_select = soup.select(\n",
        "    'div.sorting_area > div.tab_rdo > label.item10 > em'\n",
        "  )\n",
        "  num = int(num_select[0].text[1:-1])\n",
        "  DISPLAY = num\n",
        "  \n",
        "  target_url = 'https://music.naver.com/recommend/trackTimeLine.nhn?fromTime={ERA_from}&toTime={ERA_to}&searchType=track&orderType=score&viewType=thumbnail&genre={GENRE}&display={DISPLAY}'.format(\n",
        "    ERA_from=1980, ERA_to=2010+10, GENRE=','.join(GENRE_DICT.keys()), DISPLAY=num)\n",
        "  r = requests.get(target_url)\n",
        "  print('STEP ALL : {} data reading...'.format(num))\n",
        "  \n",
        "  html = r.text\n",
        "  soup = BeautifulSoup(html, 'html.parser')\n",
        "  \n",
        "  title_select = soup.select(\n",
        "    'tbody > tr > td.name'\n",
        "  )\n",
        "  artist_select = soup.select(\n",
        "    'tbody > tr > td._artist'\n",
        "  )\n",
        "  album_select = soup.select(\n",
        "    'tbody > tr > td.album > a._album'\n",
        "  )\n",
        "  \n",
        "  data = pd.DataFrame(columns = COLUMNS_LIST[:3] + [COLUMNS_LIST[5]])\n",
        "\n",
        "  #for col in COLUMNS_LIST:\n",
        "  title_list = []\n",
        "  for select in title_select[1:]:\n",
        "    title_list.append(select.text.strip())\n",
        "  data[COLUMNS_LIST[0]] = title_list\n",
        "  \n",
        "  artist_list = []\n",
        "  for select in artist_select[1:]:\n",
        "    artist_list.append(select.text.strip())\n",
        "  data[COLUMNS_LIST[1]] = artist_list\n",
        "  \n",
        "  album_list = []\n",
        "  for select in album_select:\n",
        "    album_list.append(select.text)\n",
        "  data[COLUMNS_LIST[2]] = album_list\n",
        "  \n",
        "  rank_list = [i+1 for i in range(num)]\n",
        "  data[COLUMNS_LIST[5]] = pd.to_numeric(rank_list)\n",
        "  print('STEP ALL : {} data done.'.format(num))\n",
        "  \n",
        "  return data  "
      ],
      "execution_count": 0,
      "outputs": []
    },
    {
      "cell_type": "code",
      "metadata": {
        "id": "c-xjWqrxrtxD",
        "colab_type": "code",
        "outputId": "65508401-fe98-4815-d8c4-97784b2fe2cf",
        "colab": {
          "base_uri": "https://localhost:8080/",
          "height": 73
        }
      },
      "source": [
        "full_data_all = pd.DataFrame()\n",
        "\n",
        "full_data_all = read_data_all()\n",
        "\n",
        "len(full_data_all)"
      ],
      "execution_count": 0,
      "outputs": [
        {
          "output_type": "stream",
          "text": [
            "STEP ALL : 17624 data reading...\n",
            "STEP ALL : 17624 data done.\n"
          ],
          "name": "stdout"
        },
        {
          "output_type": "execute_result",
          "data": {
            "text/plain": [
              "17624"
            ]
          },
          "metadata": {
            "tags": []
          },
          "execution_count": 27
        }
      ]
    },
    {
      "cell_type": "code",
      "metadata": {
        "id": "l5LOnt5Kr9oh",
        "colab_type": "code",
        "outputId": "49a5aa7c-356d-48c9-a6d9-72e0bc815a60",
        "colab": {
          "base_uri": "https://localhost:8080/",
          "height": 198
        }
      },
      "source": [
        "full_data_all.tail()"
      ],
      "execution_count": 0,
      "outputs": [
        {
          "output_type": "execute_result",
          "data": {
            "text/html": [
              "<div>\n",
              "<style scoped>\n",
              "    .dataframe tbody tr th:only-of-type {\n",
              "        vertical-align: middle;\n",
              "    }\n",
              "\n",
              "    .dataframe tbody tr th {\n",
              "        vertical-align: top;\n",
              "    }\n",
              "\n",
              "    .dataframe thead th {\n",
              "        text-align: right;\n",
              "    }\n",
              "</style>\n",
              "<table border=\"1\" class=\"dataframe\">\n",
              "  <thead>\n",
              "    <tr style=\"text-align: right;\">\n",
              "      <th></th>\n",
              "      <th>곡명</th>\n",
              "      <th>아티스트</th>\n",
              "      <th>앨범</th>\n",
              "      <th>순위/전체</th>\n",
              "    </tr>\n",
              "  </thead>\n",
              "  <tbody>\n",
              "    <tr>\n",
              "      <th>17619</th>\n",
              "      <td>J2y</td>\n",
              "      <td>Z.A2</td>\n",
              "      <td>Code-1ㆍ4ㆍ3ㆍ5 Story</td>\n",
              "      <td>17620</td>\n",
              "    </tr>\n",
              "    <tr>\n",
              "      <th>17620</th>\n",
              "      <td>New Z.A.2 Style Vol.1</td>\n",
              "      <td>Z.A2</td>\n",
              "      <td>Code-1ㆍ4ㆍ3ㆍ5 Story</td>\n",
              "      <td>17621</td>\n",
              "    </tr>\n",
              "    <tr>\n",
              "      <th>17621</th>\n",
              "      <td>일방통행</td>\n",
              "      <td>Z.A2</td>\n",
              "      <td>Code-1ㆍ4ㆍ3ㆍ5 Story</td>\n",
              "      <td>17622</td>\n",
              "    </tr>\n",
              "    <tr>\n",
              "      <th>17622</th>\n",
              "      <td>Listen My Love</td>\n",
              "      <td>Z.A2</td>\n",
              "      <td>Code-1ㆍ4ㆍ3ㆍ5 Story</td>\n",
              "      <td>17623</td>\n",
              "    </tr>\n",
              "    <tr>\n",
              "      <th>17623</th>\n",
              "      <td>Brisk Intro B</td>\n",
              "      <td>Z.A2</td>\n",
              "      <td>Code-1ㆍ4ㆍ3ㆍ5 Story</td>\n",
              "      <td>17624</td>\n",
              "    </tr>\n",
              "  </tbody>\n",
              "</table>\n",
              "</div>"
            ],
            "text/plain": [
              "                          곡명  아티스트                  앨범  순위/전체\n",
              "17619                    J2y  Z.A2  Code-1ㆍ4ㆍ3ㆍ5 Story  17620\n",
              "17620  New Z.A.2 Style Vol.1  Z.A2  Code-1ㆍ4ㆍ3ㆍ5 Story  17621\n",
              "17621                   일방통행  Z.A2  Code-1ㆍ4ㆍ3ㆍ5 Story  17622\n",
              "17622         Listen My Love  Z.A2  Code-1ㆍ4ㆍ3ㆍ5 Story  17623\n",
              "17623          Brisk Intro B  Z.A2  Code-1ㆍ4ㆍ3ㆍ5 Story  17624"
            ]
          },
          "metadata": {
            "tags": []
          },
          "execution_count": 28
        }
      ]
    },
    {
      "cell_type": "code",
      "metadata": {
        "id": "AAzk6sHosNkz",
        "colab_type": "code",
        "colab": {}
      },
      "source": [
        "full_data_all.to_csv(\"./gdrive/My Drive/Colab/data/full_data_all.csv\", index=False)"
      ],
      "execution_count": 0,
      "outputs": []
    },
    {
      "cell_type": "code",
      "metadata": {
        "id": "q5XJc5PksTdO",
        "colab_type": "code",
        "colab": {}
      },
      "source": [
        "################### 일단 여기까지! 내일 연결하자"
      ],
      "execution_count": 0,
      "outputs": []
    },
    {
      "cell_type": "code",
      "metadata": {
        "id": "cYh0fcfGwqZz",
        "colab_type": "code",
        "colab": {}
      },
      "source": [
        "full_data_sep = pd.read_csv(\"./gdrive/My Drive/Colab/data/full_data_sep.csv\")"
      ],
      "execution_count": 0,
      "outputs": []
    },
    {
      "cell_type": "code",
      "metadata": {
        "id": "9eenOLb1wqc3",
        "colab_type": "code",
        "colab": {}
      },
      "source": [
        "full_data_genre = pd.read_csv(\"./gdrive/My Drive/Colab/data/full_data_genre.csv\")"
      ],
      "execution_count": 0,
      "outputs": []
    },
    {
      "cell_type": "code",
      "metadata": {
        "id": "lmox2cdywqir",
        "colab_type": "code",
        "colab": {}
      },
      "source": [
        "full_data_era = pd.read_csv(\"./gdrive/My Drive/Colab/data/full_data_era.csv\")"
      ],
      "execution_count": 0,
      "outputs": []
    },
    {
      "cell_type": "code",
      "metadata": {
        "id": "7spMEQOd4o_i",
        "colab_type": "code",
        "colab": {}
      },
      "source": [
        "full_data_all = pd.read_csv(\"./gdrive/My Drive/Colab/data/full_data_all.csv\")"
      ],
      "execution_count": 0,
      "outputs": []
    },
    {
      "cell_type": "code",
      "metadata": {
        "id": "RvcoVBTxwqzH",
        "colab_type": "code",
        "outputId": "69512c62-30ec-45cb-f2db-545b1eb40c3e",
        "colab": {
          "base_uri": "https://localhost:8080/",
          "height": 36
        }
      },
      "source": [
        "len(full_data_all),len(full_data_sep), len(full_data_era), len(full_data_genre)"
      ],
      "execution_count": 0,
      "outputs": [
        {
          "output_type": "execute_result",
          "data": {
            "text/plain": [
              "(17624, 17624, 17624, 17624)"
            ]
          },
          "metadata": {
            "tags": []
          },
          "execution_count": 35
        }
      ]
    },
    {
      "cell_type": "code",
      "metadata": {
        "id": "PGzX9UO64foS",
        "colab_type": "code",
        "outputId": "32950b29-5dec-4bf2-cff3-c777a309970c",
        "colab": {
          "base_uri": "https://localhost:8080/",
          "height": 36
        }
      },
      "source": [
        "COLUMNS_LIST"
      ],
      "execution_count": 0,
      "outputs": [
        {
          "output_type": "execute_result",
          "data": {
            "text/plain": [
              "['곡명', '아티스트', '앨범', '시대', '장르', '순위/전체', '순위/시대', '순위/장르', '순위/시대/장르']"
            ]
          },
          "metadata": {
            "tags": []
          },
          "execution_count": 36
        }
      ]
    },
    {
      "cell_type": "code",
      "metadata": {
        "id": "G3hxf7gE4ggm",
        "colab_type": "code",
        "outputId": "c3f0a689-6c5b-422b-9578-a209be24181d",
        "colab": {
          "base_uri": "https://localhost:8080/",
          "height": 36
        }
      },
      "source": [
        "full_data_all.columns"
      ],
      "execution_count": 0,
      "outputs": [
        {
          "output_type": "execute_result",
          "data": {
            "text/plain": [
              "Index(['곡명', '아티스트', '앨범', '순위/전체'], dtype='object')"
            ]
          },
          "metadata": {
            "tags": []
          },
          "execution_count": 37
        }
      ]
    },
    {
      "cell_type": "code",
      "metadata": {
        "id": "hyyLib_g4j6A",
        "colab_type": "code",
        "outputId": "b8223566-dfe3-41e8-f1a4-e0cd646a6880",
        "colab": {
          "base_uri": "https://localhost:8080/",
          "height": 36
        }
      },
      "source": [
        "full_data_sep.columns"
      ],
      "execution_count": 0,
      "outputs": [
        {
          "output_type": "execute_result",
          "data": {
            "text/plain": [
              "Index(['곡명', '아티스트', '앨범', '시대', '장르', '순위/시대/장르'], dtype='object')"
            ]
          },
          "metadata": {
            "tags": []
          },
          "execution_count": 38
        }
      ]
    },
    {
      "cell_type": "code",
      "metadata": {
        "id": "AArM1ElQ4j9S",
        "colab_type": "code",
        "outputId": "0efaed8f-c829-48ca-b0e2-ecd96f66db3a",
        "colab": {
          "base_uri": "https://localhost:8080/",
          "height": 36
        }
      },
      "source": [
        "full_data_era.columns"
      ],
      "execution_count": 0,
      "outputs": [
        {
          "output_type": "execute_result",
          "data": {
            "text/plain": [
              "Index(['곡명', '아티스트', '앨범', '시대', '순위/시대'], dtype='object')"
            ]
          },
          "metadata": {
            "tags": []
          },
          "execution_count": 39
        }
      ]
    },
    {
      "cell_type": "code",
      "metadata": {
        "id": "LCQOn2NU4kBK",
        "colab_type": "code",
        "outputId": "49640b84-ea3b-4b13-a2c2-e3aceba194e3",
        "colab": {
          "base_uri": "https://localhost:8080/",
          "height": 36
        }
      },
      "source": [
        "full_data_genre.columns"
      ],
      "execution_count": 0,
      "outputs": [
        {
          "output_type": "execute_result",
          "data": {
            "text/plain": [
              "Index(['곡명', '아티스트', '앨범', '장르', '순위/장르'], dtype='object')"
            ]
          },
          "metadata": {
            "tags": []
          },
          "execution_count": 40
        }
      ]
    },
    {
      "cell_type": "code",
      "metadata": {
        "id": "_EXLNjCh7QW1",
        "colab_type": "code",
        "outputId": "6c4311c7-e6d7-49c6-ff27-ad321795572b",
        "colab": {
          "base_uri": "https://localhost:8080/",
          "height": 36
        }
      },
      "source": [
        "full_data_sep[['곡명','아티스트','앨범']].duplicated().sum(), full_data_era[['곡명','아티스트','앨범']].duplicated().sum(), full_data_genre[['곡명','아티스트','앨범']].duplicated().sum(), full_data_all[['곡명','아티스트','앨범']].duplicated().sum()"
      ],
      "execution_count": 0,
      "outputs": [
        {
          "output_type": "execute_result",
          "data": {
            "text/plain": [
              "(49, 49, 49, 49)"
            ]
          },
          "metadata": {
            "tags": []
          },
          "execution_count": 41
        }
      ]
    },
    {
      "cell_type": "code",
      "metadata": {
        "id": "1DJXxp8r5vaj",
        "colab_type": "code",
        "outputId": "5de4dedd-6e09-4e04-9006-fac0be89fc3b",
        "colab": {
          "base_uri": "https://localhost:8080/",
          "height": 1522
        }
      },
      "source": [
        "full_data_sep[full_data_sep[['곡명','아티스트','앨범']].duplicated()==True]"
      ],
      "execution_count": 0,
      "outputs": [
        {
          "output_type": "execute_result",
          "data": {
            "text/html": [
              "<div>\n",
              "<style scoped>\n",
              "    .dataframe tbody tr th:only-of-type {\n",
              "        vertical-align: middle;\n",
              "    }\n",
              "\n",
              "    .dataframe tbody tr th {\n",
              "        vertical-align: top;\n",
              "    }\n",
              "\n",
              "    .dataframe thead th {\n",
              "        text-align: right;\n",
              "    }\n",
              "</style>\n",
              "<table border=\"1\" class=\"dataframe\">\n",
              "  <thead>\n",
              "    <tr style=\"text-align: right;\">\n",
              "      <th></th>\n",
              "      <th>곡명</th>\n",
              "      <th>아티스트</th>\n",
              "      <th>앨범</th>\n",
              "      <th>시대</th>\n",
              "      <th>장르</th>\n",
              "      <th>순위/시대/장르</th>\n",
              "    </tr>\n",
              "  </thead>\n",
              "  <tbody>\n",
              "    <tr>\n",
              "      <th>547</th>\n",
              "      <td>세월 가면</td>\n",
              "      <td>이광조</td>\n",
              "      <td>Golden Hits Vol.2</td>\n",
              "      <td>1980</td>\n",
              "      <td>발라드</td>\n",
              "      <td>548</td>\n",
              "    </tr>\n",
              "    <tr>\n",
              "      <th>771</th>\n",
              "      <td>그때는 어렸나봐요</td>\n",
              "      <td>이지연</td>\n",
              "      <td>이지연 Best</td>\n",
              "      <td>1980</td>\n",
              "      <td>발라드</td>\n",
              "      <td>772</td>\n",
              "    </tr>\n",
              "    <tr>\n",
              "      <th>772</th>\n",
              "      <td>저 하늘에 구름따라</td>\n",
              "      <td>이광조</td>\n",
              "      <td>Golden Hits Vol.2</td>\n",
              "      <td>1980</td>\n",
              "      <td>발라드</td>\n",
              "      <td>773</td>\n",
              "    </tr>\n",
              "    <tr>\n",
              "      <th>941</th>\n",
              "      <td>우리네 인생</td>\n",
              "      <td>이광조</td>\n",
              "      <td>Golden Hits Vol.2</td>\n",
              "      <td>1980</td>\n",
              "      <td>발라드</td>\n",
              "      <td>942</td>\n",
              "    </tr>\n",
              "    <tr>\n",
              "      <th>1354</th>\n",
              "      <td>꿈에</td>\n",
              "      <td>조덕배</td>\n",
              "      <td>나의 옛날 이야기 (사랑한 女人에게)</td>\n",
              "      <td>1980</td>\n",
              "      <td>록/포크</td>\n",
              "      <td>253</td>\n",
              "    </tr>\n",
              "    <tr>\n",
              "      <th>1716</th>\n",
              "      <td>파랑새</td>\n",
              "      <td>전인권</td>\n",
              "      <td>1집 파랑새</td>\n",
              "      <td>1980</td>\n",
              "      <td>록/포크</td>\n",
              "      <td>615</td>\n",
              "    </tr>\n",
              "    <tr>\n",
              "      <th>2052</th>\n",
              "      <td>한 송이 저 들국화처럼</td>\n",
              "      <td>박광현</td>\n",
              "      <td>1집 한송이 저 들국화처럼</td>\n",
              "      <td>1980</td>\n",
              "      <td>록/포크</td>\n",
              "      <td>951</td>\n",
              "    </tr>\n",
              "    <tr>\n",
              "      <th>2619</th>\n",
              "      <td>물새 한마리</td>\n",
              "      <td>김연자</td>\n",
              "      <td>김연자 노래올림픽 1</td>\n",
              "      <td>1980</td>\n",
              "      <td>트로트</td>\n",
              "      <td>516</td>\n",
              "    </tr>\n",
              "    <tr>\n",
              "      <th>2738</th>\n",
              "      <td>청춘고백</td>\n",
              "      <td>김연자</td>\n",
              "      <td>김연자 노래올림픽 1</td>\n",
              "      <td>1980</td>\n",
              "      <td>트로트</td>\n",
              "      <td>635</td>\n",
              "    </tr>\n",
              "    <tr>\n",
              "      <th>2827</th>\n",
              "      <td>삼다도 소식</td>\n",
              "      <td>김연자</td>\n",
              "      <td>김연자 노래올림픽 1</td>\n",
              "      <td>1980</td>\n",
              "      <td>트로트</td>\n",
              "      <td>724</td>\n",
              "    </tr>\n",
              "    <tr>\n",
              "      <th>2869</th>\n",
              "      <td>스카이 라운지에서</td>\n",
              "      <td>주현미</td>\n",
              "      <td>9집 신사동 그 사람</td>\n",
              "      <td>1980</td>\n",
              "      <td>트로트</td>\n",
              "      <td>766</td>\n",
              "    </tr>\n",
              "    <tr>\n",
              "      <th>3482</th>\n",
              "      <td>오랜만에</td>\n",
              "      <td>박정현</td>\n",
              "      <td>1집 Piece</td>\n",
              "      <td>1990</td>\n",
              "      <td>발라드</td>\n",
              "      <td>378</td>\n",
              "    </tr>\n",
              "    <tr>\n",
              "      <th>3876</th>\n",
              "      <td>다시 내게로 돌아와</td>\n",
              "      <td>조관우</td>\n",
              "      <td>1집 My First Story</td>\n",
              "      <td>1990</td>\n",
              "      <td>발라드</td>\n",
              "      <td>772</td>\n",
              "    </tr>\n",
              "    <tr>\n",
              "      <th>3955</th>\n",
              "      <td>우연히</td>\n",
              "      <td>신승훈</td>\n",
              "      <td>2집 보이지 않는 사랑</td>\n",
              "      <td>1990</td>\n",
              "      <td>발라드</td>\n",
              "      <td>851</td>\n",
              "    </tr>\n",
              "    <tr>\n",
              "      <th>4218</th>\n",
              "      <td>상심</td>\n",
              "      <td>R.ef</td>\n",
              "      <td>1집 Rave Effect</td>\n",
              "      <td>1990</td>\n",
              "      <td>댄스</td>\n",
              "      <td>114</td>\n",
              "    </tr>\n",
              "    <tr>\n",
              "      <th>4701</th>\n",
              "      <td>내 방식대로의 사랑</td>\n",
              "      <td>신승훈</td>\n",
              "      <td>5집 나보다 조금 더 높은곳에 니가 있을뿐</td>\n",
              "      <td>1990</td>\n",
              "      <td>댄스</td>\n",
              "      <td>597</td>\n",
              "    </tr>\n",
              "    <tr>\n",
              "      <th>4745</th>\n",
              "      <td>비련</td>\n",
              "      <td>구피</td>\n",
              "      <td>2집 Goofy II</td>\n",
              "      <td>1990</td>\n",
              "      <td>댄스</td>\n",
              "      <td>641</td>\n",
              "    </tr>\n",
              "    <tr>\n",
              "      <th>4749</th>\n",
              "      <td>Sweetest Love</td>\n",
              "      <td>써클</td>\n",
              "      <td>1집 卒業</td>\n",
              "      <td>1990</td>\n",
              "      <td>댄스</td>\n",
              "      <td>645</td>\n",
              "    </tr>\n",
              "    <tr>\n",
              "      <th>4974</th>\n",
              "      <td>Remember Last Christmas</td>\n",
              "      <td>바비 킴</td>\n",
              "      <td>1집 Holy Bumz Presents</td>\n",
              "      <td>1990</td>\n",
              "      <td>댄스</td>\n",
              "      <td>870</td>\n",
              "    </tr>\n",
              "    <tr>\n",
              "      <th>5020</th>\n",
              "      <td>게임의 법칙</td>\n",
              "      <td>구피</td>\n",
              "      <td>3집 Goofy III</td>\n",
              "      <td>1990</td>\n",
              "      <td>댄스</td>\n",
              "      <td>916</td>\n",
              "    </tr>\n",
              "    <tr>\n",
              "      <th>5069</th>\n",
              "      <td>나의 사랑 나의 신부</td>\n",
              "      <td>지오</td>\n",
              "      <td>2집 나의 사랑 나의 신부</td>\n",
              "      <td>1990</td>\n",
              "      <td>댄스</td>\n",
              "      <td>965</td>\n",
              "    </tr>\n",
              "    <tr>\n",
              "      <th>5172</th>\n",
              "      <td>내안의 그대</td>\n",
              "      <td>업타운(UpTown)</td>\n",
              "      <td>2집 Represented...Now Believe</td>\n",
              "      <td>1990</td>\n",
              "      <td>힙합</td>\n",
              "      <td>68</td>\n",
              "    </tr>\n",
              "    <tr>\n",
              "      <th>5216</th>\n",
              "      <td>그때가 좋았어</td>\n",
              "      <td>서지원</td>\n",
              "      <td>3집 Made In Heaven</td>\n",
              "      <td>1990</td>\n",
              "      <td>힙합</td>\n",
              "      <td>112</td>\n",
              "    </tr>\n",
              "    <tr>\n",
              "      <th>5485</th>\n",
              "      <td>뚜벅이 사랑</td>\n",
              "      <td>철이와 미애</td>\n",
              "      <td>2집 뚜벅이 사랑</td>\n",
              "      <td>1990</td>\n",
              "      <td>힙합</td>\n",
              "      <td>381</td>\n",
              "    </tr>\n",
              "    <tr>\n",
              "      <th>5563</th>\n",
              "      <td>최면 속에서</td>\n",
              "      <td>투투</td>\n",
              "      <td>3집 뉴투투</td>\n",
              "      <td>1990</td>\n",
              "      <td>힙합</td>\n",
              "      <td>459</td>\n",
              "    </tr>\n",
              "    <tr>\n",
              "      <th>5576</th>\n",
              "      <td>SOS</td>\n",
              "      <td>투원투(Two One Two)</td>\n",
              "      <td>In Your Area</td>\n",
              "      <td>1990</td>\n",
              "      <td>힙합</td>\n",
              "      <td>472</td>\n",
              "    </tr>\n",
              "    <tr>\n",
              "      <th>5593</th>\n",
              "      <td>우리 다시 만날 날까지</td>\n",
              "      <td>뉴클리어(Nuclear)</td>\n",
              "      <td>1집 NUCLEAR</td>\n",
              "      <td>1990</td>\n",
              "      <td>힙합</td>\n",
              "      <td>489</td>\n",
              "    </tr>\n",
              "    <tr>\n",
              "      <th>5608</th>\n",
              "      <td>불찰</td>\n",
              "      <td>뉴클리어(Nuclear)</td>\n",
              "      <td>1집 NUCLEAR</td>\n",
              "      <td>1990</td>\n",
              "      <td>힙합</td>\n",
              "      <td>504</td>\n",
              "    </tr>\n",
              "    <tr>\n",
              "      <th>5609</th>\n",
              "      <td>발가락</td>\n",
              "      <td>뉴클리어(Nuclear)</td>\n",
              "      <td>1집 NUCLEAR</td>\n",
              "      <td>1990</td>\n",
              "      <td>힙합</td>\n",
              "      <td>505</td>\n",
              "    </tr>\n",
              "    <tr>\n",
              "      <th>5612</th>\n",
              "      <td>J2y</td>\n",
              "      <td>Z.A2</td>\n",
              "      <td>Code-1ㆍ4ㆍ3ㆍ5 Story</td>\n",
              "      <td>1990</td>\n",
              "      <td>힙합</td>\n",
              "      <td>508</td>\n",
              "    </tr>\n",
              "    <tr>\n",
              "      <th>5614</th>\n",
              "      <td>N Y In Your Area</td>\n",
              "      <td>투원투(Two One Two)</td>\n",
              "      <td>In Your Area</td>\n",
              "      <td>1990</td>\n",
              "      <td>힙합</td>\n",
              "      <td>510</td>\n",
              "    </tr>\n",
              "    <tr>\n",
              "      <th>5616</th>\n",
              "      <td>보충 수업</td>\n",
              "      <td>뉴클리어(Nuclear)</td>\n",
              "      <td>1집 NUCLEAR</td>\n",
              "      <td>1990</td>\n",
              "      <td>힙합</td>\n",
              "      <td>512</td>\n",
              "    </tr>\n",
              "    <tr>\n",
              "      <th>5617</th>\n",
              "      <td>비상</td>\n",
              "      <td>뉴클리어(Nuclear)</td>\n",
              "      <td>1집 NUCLEAR</td>\n",
              "      <td>1990</td>\n",
              "      <td>힙합</td>\n",
              "      <td>513</td>\n",
              "    </tr>\n",
              "    <tr>\n",
              "      <th>5619</th>\n",
              "      <td>J2y</td>\n",
              "      <td>Z.A2</td>\n",
              "      <td>Code-1ㆍ4ㆍ3ㆍ5 Story</td>\n",
              "      <td>1990</td>\n",
              "      <td>힙합</td>\n",
              "      <td>515</td>\n",
              "    </tr>\n",
              "    <tr>\n",
              "      <th>5760</th>\n",
              "      <td>너 그럴때면...</td>\n",
              "      <td>EVE</td>\n",
              "      <td>1집 EVE</td>\n",
              "      <td>1990</td>\n",
              "      <td>록/포크</td>\n",
              "      <td>137</td>\n",
              "    </tr>\n",
              "    <tr>\n",
              "      <th>5885</th>\n",
              "      <td>마지막 약속</td>\n",
              "      <td>김정민</td>\n",
              "      <td>2집 4Love</td>\n",
              "      <td>1990</td>\n",
              "      <td>록/포크</td>\n",
              "      <td>262</td>\n",
              "    </tr>\n",
              "    <tr>\n",
              "      <th>6300</th>\n",
              "      <td>이미 슬픈 사랑</td>\n",
              "      <td>야다</td>\n",
              "      <td>1집 Wear To Healing YADA</td>\n",
              "      <td>1990</td>\n",
              "      <td>록/포크</td>\n",
              "      <td>677</td>\n",
              "    </tr>\n",
              "    <tr>\n",
              "      <th>6373</th>\n",
              "      <td>서시</td>\n",
              "      <td>신성우</td>\n",
              "      <td>3집 서시</td>\n",
              "      <td>1990</td>\n",
              "      <td>록/포크</td>\n",
              "      <td>750</td>\n",
              "    </tr>\n",
              "    <tr>\n",
              "      <th>6411</th>\n",
              "      <td>지울 수 없는 너</td>\n",
              "      <td>유앤미블루</td>\n",
              "      <td>2집 Cry... Our Wanna Be Nation</td>\n",
              "      <td>1990</td>\n",
              "      <td>록/포크</td>\n",
              "      <td>788</td>\n",
              "    </tr>\n",
              "    <tr>\n",
              "      <th>6774</th>\n",
              "      <td>남자라는 이유로</td>\n",
              "      <td>조항조</td>\n",
              "      <td>1집 남자라는 이유로</td>\n",
              "      <td>1990</td>\n",
              "      <td>트로트</td>\n",
              "      <td>151</td>\n",
              "    </tr>\n",
              "    <tr>\n",
              "      <th>6986</th>\n",
              "      <td>미움인지 그리움인지</td>\n",
              "      <td>최유나</td>\n",
              "      <td>5집 미움인지 그리움인지</td>\n",
              "      <td>1990</td>\n",
              "      <td>트로트</td>\n",
              "      <td>363</td>\n",
              "    </tr>\n",
              "    <tr>\n",
              "      <th>7037</th>\n",
              "      <td>장모님</td>\n",
              "      <td>배일호</td>\n",
              "      <td>배일호 골든베스트 9 (니가 올래 내가 갈까)</td>\n",
              "      <td>1990</td>\n",
              "      <td>트로트</td>\n",
              "      <td>414</td>\n",
              "    </tr>\n",
              "    <tr>\n",
              "      <th>7092</th>\n",
              "      <td>영영</td>\n",
              "      <td>나훈아</td>\n",
              "      <td>나훈아 25주년 신곡 New Album</td>\n",
              "      <td>1990</td>\n",
              "      <td>트로트</td>\n",
              "      <td>469</td>\n",
              "    </tr>\n",
              "    <tr>\n",
              "      <th>7242</th>\n",
              "      <td>정정정</td>\n",
              "      <td>한영주</td>\n",
              "      <td>정정정/당신은 나의 태양</td>\n",
              "      <td>1990</td>\n",
              "      <td>트로트</td>\n",
              "      <td>619</td>\n",
              "    </tr>\n",
              "    <tr>\n",
              "      <th>10989</th>\n",
              "      <td>봄이 오면</td>\n",
              "      <td>김윤아</td>\n",
              "      <td>2집 유리가면 (琉璃假面)</td>\n",
              "      <td>2000</td>\n",
              "      <td>록/포크</td>\n",
              "      <td>366</td>\n",
              "    </tr>\n",
              "    <tr>\n",
              "      <th>11083</th>\n",
              "      <td>사랑 Two</td>\n",
              "      <td>윤도현</td>\n",
              "      <td>1집 가을 우체국 앞에서</td>\n",
              "      <td>2000</td>\n",
              "      <td>록/포크</td>\n",
              "      <td>460</td>\n",
              "    </tr>\n",
              "    <tr>\n",
              "      <th>11498</th>\n",
              "      <td>낭만에 대하여</td>\n",
              "      <td>최백호</td>\n",
              "      <td>어이/동창회/남자에게</td>\n",
              "      <td>2000</td>\n",
              "      <td>록/포크</td>\n",
              "      <td>875</td>\n",
              "    </tr>\n",
              "    <tr>\n",
              "      <th>12510</th>\n",
              "      <td>사랑하고 싶어요</td>\n",
              "      <td>현숙</td>\n",
              "      <td>물방울 넥타이/사랑하고 싶어요/울리 불리</td>\n",
              "      <td>2000</td>\n",
              "      <td>트로트</td>\n",
              "      <td>887</td>\n",
              "    </tr>\n",
              "    <tr>\n",
              "      <th>16604</th>\n",
              "      <td>사랑해서 사랑해서</td>\n",
              "      <td>남자의자격</td>\n",
              "      <td>사랑해서 사랑해서</td>\n",
              "      <td>2010</td>\n",
              "      <td>록/포크</td>\n",
              "      <td>981</td>\n",
              "    </tr>\n",
              "  </tbody>\n",
              "</table>\n",
              "</div>"
            ],
            "text/plain": [
              "                            곡명              아티스트  \\\n",
              "547                      세월 가면               이광조   \n",
              "771                  그때는 어렸나봐요               이지연   \n",
              "772                 저 하늘에 구름따라               이광조   \n",
              "941                     우리네 인생               이광조   \n",
              "1354                        꿈에               조덕배   \n",
              "1716                       파랑새               전인권   \n",
              "2052              한 송이 저 들국화처럼               박광현   \n",
              "2619                    물새 한마리               김연자   \n",
              "2738                      청춘고백               김연자   \n",
              "2827                    삼다도 소식               김연자   \n",
              "2869                 스카이 라운지에서               주현미   \n",
              "3482                      오랜만에               박정현   \n",
              "3876                다시 내게로 돌아와               조관우   \n",
              "3955                       우연히               신승훈   \n",
              "4218                        상심              R.ef   \n",
              "4701                내 방식대로의 사랑               신승훈   \n",
              "4745                        비련                구피   \n",
              "4749             Sweetest Love                써클   \n",
              "4974   Remember Last Christmas              바비 킴   \n",
              "5020                    게임의 법칙                구피   \n",
              "5069               나의 사랑 나의 신부                지오   \n",
              "5172                    내안의 그대       업타운(UpTown)   \n",
              "5216                   그때가 좋았어               서지원   \n",
              "5485                    뚜벅이 사랑            철이와 미애   \n",
              "5563                    최면 속에서                투투   \n",
              "5576                       SOS  투원투(Two One Two)   \n",
              "5593              우리 다시 만날 날까지     뉴클리어(Nuclear)   \n",
              "5608                        불찰     뉴클리어(Nuclear)   \n",
              "5609                       발가락     뉴클리어(Nuclear)   \n",
              "5612                       J2y              Z.A2   \n",
              "5614          N Y In Your Area  투원투(Two One Two)   \n",
              "5616                     보충 수업     뉴클리어(Nuclear)   \n",
              "5617                        비상     뉴클리어(Nuclear)   \n",
              "5619                       J2y              Z.A2   \n",
              "5760                 너 그럴때면...               EVE   \n",
              "5885                    마지막 약속               김정민   \n",
              "6300                  이미 슬픈 사랑                야다   \n",
              "6373                        서시               신성우   \n",
              "6411                 지울 수 없는 너             유앤미블루   \n",
              "6774                  남자라는 이유로               조항조   \n",
              "6986                미움인지 그리움인지               최유나   \n",
              "7037                       장모님               배일호   \n",
              "7092                        영영               나훈아   \n",
              "7242                       정정정               한영주   \n",
              "10989                    봄이 오면               김윤아   \n",
              "11083                   사랑 Two               윤도현   \n",
              "11498                  낭만에 대하여               최백호   \n",
              "12510                 사랑하고 싶어요                현숙   \n",
              "16604                사랑해서 사랑해서             남자의자격   \n",
              "\n",
              "                                  앨범    시대    장르  순위/시대/장르  \n",
              "547                Golden Hits Vol.2  1980   발라드       548  \n",
              "771                         이지연 Best  1980   발라드       772  \n",
              "772                Golden Hits Vol.2  1980   발라드       773  \n",
              "941                Golden Hits Vol.2  1980   발라드       942  \n",
              "1354            나의 옛날 이야기 (사랑한 女人에게)  1980  록/포크       253  \n",
              "1716                          1집 파랑새  1980  록/포크       615  \n",
              "2052                  1집 한송이 저 들국화처럼  1980  록/포크       951  \n",
              "2619                     김연자 노래올림픽 1  1980   트로트       516  \n",
              "2738                     김연자 노래올림픽 1  1980   트로트       635  \n",
              "2827                     김연자 노래올림픽 1  1980   트로트       724  \n",
              "2869                     9집 신사동 그 사람  1980   트로트       766  \n",
              "3482                        1집 Piece  1990   발라드       378  \n",
              "3876               1집 My First Story  1990   발라드       772  \n",
              "3955                    2집 보이지 않는 사랑  1990   발라드       851  \n",
              "4218                  1집 Rave Effect  1990    댄스       114  \n",
              "4701         5집 나보다 조금 더 높은곳에 니가 있을뿐  1990    댄스       597  \n",
              "4745                     2집 Goofy II  1990    댄스       641  \n",
              "4749                           1집 卒業  1990    댄스       645  \n",
              "4974           1집 Holy Bumz Presents  1990    댄스       870  \n",
              "5020                    3집 Goofy III  1990    댄스       916  \n",
              "5069                  2집 나의 사랑 나의 신부  1990    댄스       965  \n",
              "5172    2집 Represented...Now Believe  1990    힙합        68  \n",
              "5216               3집 Made In Heaven  1990    힙합       112  \n",
              "5485                       2집 뚜벅이 사랑  1990    힙합       381  \n",
              "5563                          3집 뉴투투  1990    힙합       459  \n",
              "5576                    In Your Area  1990    힙합       472  \n",
              "5593                      1집 NUCLEAR  1990    힙합       489  \n",
              "5608                      1집 NUCLEAR  1990    힙합       504  \n",
              "5609                      1집 NUCLEAR  1990    힙합       505  \n",
              "5612              Code-1ㆍ4ㆍ3ㆍ5 Story  1990    힙합       508  \n",
              "5614                    In Your Area  1990    힙합       510  \n",
              "5616                      1집 NUCLEAR  1990    힙합       512  \n",
              "5617                      1집 NUCLEAR  1990    힙합       513  \n",
              "5619              Code-1ㆍ4ㆍ3ㆍ5 Story  1990    힙합       515  \n",
              "5760                          1집 EVE  1990  록/포크       137  \n",
              "5885                        2집 4Love  1990  록/포크       262  \n",
              "6300         1집 Wear To Healing YADA  1990  록/포크       677  \n",
              "6373                           3집 서시  1990  록/포크       750  \n",
              "6411   2집 Cry... Our Wanna Be Nation  1990  록/포크       788  \n",
              "6774                     1집 남자라는 이유로  1990   트로트       151  \n",
              "6986                   5집 미움인지 그리움인지  1990   트로트       363  \n",
              "7037       배일호 골든베스트 9 (니가 올래 내가 갈까)  1990   트로트       414  \n",
              "7092           나훈아 25주년 신곡 New Album  1990   트로트       469  \n",
              "7242                   정정정/당신은 나의 태양  1990   트로트       619  \n",
              "10989                 2집 유리가면 (琉璃假面)  2000  록/포크       366  \n",
              "11083                  1집 가을 우체국 앞에서  2000  록/포크       460  \n",
              "11498                    어이/동창회/남자에게  2000  록/포크       875  \n",
              "12510         물방울 넥타이/사랑하고 싶어요/울리 불리  2000   트로트       887  \n",
              "16604                      사랑해서 사랑해서  2010  록/포크       981  "
            ]
          },
          "metadata": {
            "tags": []
          },
          "execution_count": 42
        }
      ]
    },
    {
      "cell_type": "code",
      "metadata": {
        "id": "3qAmr7u16iEi",
        "colab_type": "code",
        "outputId": "08aa0b64-7d85-40d5-cedb-848d970ece25",
        "colab": {
          "base_uri": "https://localhost:8080/",
          "height": 108
        }
      },
      "source": [
        "full_data_sep[full_data_sep['곡명']=='세월 가면']"
      ],
      "execution_count": 0,
      "outputs": [
        {
          "output_type": "execute_result",
          "data": {
            "text/html": [
              "<div>\n",
              "<style scoped>\n",
              "    .dataframe tbody tr th:only-of-type {\n",
              "        vertical-align: middle;\n",
              "    }\n",
              "\n",
              "    .dataframe tbody tr th {\n",
              "        vertical-align: top;\n",
              "    }\n",
              "\n",
              "    .dataframe thead th {\n",
              "        text-align: right;\n",
              "    }\n",
              "</style>\n",
              "<table border=\"1\" class=\"dataframe\">\n",
              "  <thead>\n",
              "    <tr style=\"text-align: right;\">\n",
              "      <th></th>\n",
              "      <th>곡명</th>\n",
              "      <th>아티스트</th>\n",
              "      <th>앨범</th>\n",
              "      <th>시대</th>\n",
              "      <th>장르</th>\n",
              "      <th>순위/시대/장르</th>\n",
              "    </tr>\n",
              "  </thead>\n",
              "  <tbody>\n",
              "    <tr>\n",
              "      <th>364</th>\n",
              "      <td>세월 가면</td>\n",
              "      <td>이광조</td>\n",
              "      <td>Golden Hits Vol.2</td>\n",
              "      <td>1980</td>\n",
              "      <td>발라드</td>\n",
              "      <td>365</td>\n",
              "    </tr>\n",
              "    <tr>\n",
              "      <th>547</th>\n",
              "      <td>세월 가면</td>\n",
              "      <td>이광조</td>\n",
              "      <td>Golden Hits Vol.2</td>\n",
              "      <td>1980</td>\n",
              "      <td>발라드</td>\n",
              "      <td>548</td>\n",
              "    </tr>\n",
              "  </tbody>\n",
              "</table>\n",
              "</div>"
            ],
            "text/plain": [
              "        곡명 아티스트                 앨범    시대   장르  순위/시대/장르\n",
              "364  세월 가면  이광조  Golden Hits Vol.2  1980  발라드       365\n",
              "547  세월 가면  이광조  Golden Hits Vol.2  1980  발라드       548"
            ]
          },
          "metadata": {
            "tags": []
          },
          "execution_count": 43
        }
      ]
    },
    {
      "cell_type": "code",
      "metadata": {
        "id": "a__qUvsL8WJE",
        "colab_type": "code",
        "colab": {}
      },
      "source": [
        "### 아... 중복들... 다 제거해야할듯요"
      ],
      "execution_count": 0,
      "outputs": []
    },
    {
      "cell_type": "code",
      "metadata": {
        "id": "v4ruhPgu8iTJ",
        "colab_type": "code",
        "outputId": "a3169676-84a1-4720-9c4b-489efeab3e04",
        "colab": {
          "base_uri": "https://localhost:8080/",
          "height": 36
        }
      },
      "source": [
        "len(full_data_sep.drop_duplicates(['곡명','아티스트','앨범'])) #17624 - 49 = 17575"
      ],
      "execution_count": 0,
      "outputs": [
        {
          "output_type": "execute_result",
          "data": {
            "text/plain": [
              "17575"
            ]
          },
          "metadata": {
            "tags": []
          },
          "execution_count": 45
        }
      ]
    },
    {
      "cell_type": "code",
      "metadata": {
        "id": "nk4JvrGE8rht",
        "colab_type": "code",
        "colab": {}
      },
      "source": [
        "full_data_sep.drop_duplicates(['곡명','아티스트','앨범'], inplace=True)"
      ],
      "execution_count": 0,
      "outputs": []
    },
    {
      "cell_type": "code",
      "metadata": {
        "id": "bX9-kN4p9DJJ",
        "colab_type": "code",
        "outputId": "2c748c26-8059-4ae2-87ca-b92dc45d0c7f",
        "colab": {
          "base_uri": "https://localhost:8080/",
          "height": 78
        }
      },
      "source": [
        "full_data_sep[full_data_sep['곡명']=='세월 가면']"
      ],
      "execution_count": 0,
      "outputs": [
        {
          "output_type": "execute_result",
          "data": {
            "text/html": [
              "<div>\n",
              "<style scoped>\n",
              "    .dataframe tbody tr th:only-of-type {\n",
              "        vertical-align: middle;\n",
              "    }\n",
              "\n",
              "    .dataframe tbody tr th {\n",
              "        vertical-align: top;\n",
              "    }\n",
              "\n",
              "    .dataframe thead th {\n",
              "        text-align: right;\n",
              "    }\n",
              "</style>\n",
              "<table border=\"1\" class=\"dataframe\">\n",
              "  <thead>\n",
              "    <tr style=\"text-align: right;\">\n",
              "      <th></th>\n",
              "      <th>곡명</th>\n",
              "      <th>아티스트</th>\n",
              "      <th>앨범</th>\n",
              "      <th>시대</th>\n",
              "      <th>장르</th>\n",
              "      <th>순위/시대/장르</th>\n",
              "    </tr>\n",
              "  </thead>\n",
              "  <tbody>\n",
              "    <tr>\n",
              "      <th>364</th>\n",
              "      <td>세월 가면</td>\n",
              "      <td>이광조</td>\n",
              "      <td>Golden Hits Vol.2</td>\n",
              "      <td>1980</td>\n",
              "      <td>발라드</td>\n",
              "      <td>365</td>\n",
              "    </tr>\n",
              "  </tbody>\n",
              "</table>\n",
              "</div>"
            ],
            "text/plain": [
              "        곡명 아티스트                 앨범    시대   장르  순위/시대/장르\n",
              "364  세월 가면  이광조  Golden Hits Vol.2  1980  발라드       365"
            ]
          },
          "metadata": {
            "tags": []
          },
          "execution_count": 47
        }
      ]
    },
    {
      "cell_type": "code",
      "metadata": {
        "id": "vflzAmml9Etl",
        "colab_type": "code",
        "colab": {}
      },
      "source": [
        "full_data_era.drop_duplicates(['곡명','아티스트','앨범'], inplace=True)"
      ],
      "execution_count": 0,
      "outputs": []
    },
    {
      "cell_type": "code",
      "metadata": {
        "id": "cDrf4LAl9Ezd",
        "colab_type": "code",
        "colab": {}
      },
      "source": [
        "full_data_genre.drop_duplicates(['곡명','아티스트','앨범'], inplace=True)"
      ],
      "execution_count": 0,
      "outputs": []
    },
    {
      "cell_type": "code",
      "metadata": {
        "id": "gD5Aaq5u9E9l",
        "colab_type": "code",
        "colab": {}
      },
      "source": [
        "full_data_all.drop_duplicates(['곡명','아티스트','앨범'], inplace=True)"
      ],
      "execution_count": 0,
      "outputs": []
    },
    {
      "cell_type": "code",
      "metadata": {
        "id": "j86BSniQwq08",
        "colab_type": "code",
        "colab": {}
      },
      "source": [
        "merged_data = pd.merge(full_data_sep[['곡명','아티스트','앨범','시대','장르','순위/시대/장르']], full_data_genre[['곡명','아티스트','앨범','순위/장르']], on=['곡명','아티스트','앨범'])"
      ],
      "execution_count": 0,
      "outputs": []
    },
    {
      "cell_type": "code",
      "metadata": {
        "id": "6we3o_v5wq2a",
        "colab_type": "code",
        "outputId": "b3ce0aa5-3b9e-4dea-a751-15efd9afe616",
        "colab": {
          "base_uri": "https://localhost:8080/",
          "height": 36
        }
      },
      "source": [
        "merged_data.columns"
      ],
      "execution_count": 0,
      "outputs": [
        {
          "output_type": "execute_result",
          "data": {
            "text/plain": [
              "Index(['곡명', '아티스트', '앨범', '시대', '장르', '순위/시대/장르', '순위/장르'], dtype='object')"
            ]
          },
          "metadata": {
            "tags": []
          },
          "execution_count": 52
        }
      ]
    },
    {
      "cell_type": "code",
      "metadata": {
        "id": "o3pv9wmB-KPL",
        "colab_type": "code",
        "colab": {}
      },
      "source": [
        "merged_data = pd.merge(merged_data[['곡명','아티스트','앨범','시대','장르','순위/시대/장르','순위/장르']], full_data_era[['곡명','아티스트','앨범','순위/시대']], on=['곡명','아티스트','앨범'])"
      ],
      "execution_count": 0,
      "outputs": []
    },
    {
      "cell_type": "code",
      "metadata": {
        "id": "08WjF6G5-cJh",
        "colab_type": "code",
        "outputId": "f334425f-806d-493f-8d03-4ec5870caa6a",
        "colab": {
          "base_uri": "https://localhost:8080/",
          "height": 36
        }
      },
      "source": [
        "merged_data.columns"
      ],
      "execution_count": 0,
      "outputs": [
        {
          "output_type": "execute_result",
          "data": {
            "text/plain": [
              "Index(['곡명', '아티스트', '앨범', '시대', '장르', '순위/시대/장르', '순위/장르', '순위/시대'], dtype='object')"
            ]
          },
          "metadata": {
            "tags": []
          },
          "execution_count": 54
        }
      ]
    },
    {
      "cell_type": "code",
      "metadata": {
        "id": "dTtpGh8f-eCC",
        "colab_type": "code",
        "colab": {}
      },
      "source": [
        "merged_data = pd.merge(merged_data[['곡명','아티스트','앨범','시대','장르','순위/시대/장르','순위/장르','순위/시대']], full_data_all[['곡명','아티스트','앨범','순위/전체']], on=['곡명','아티스트','앨범'])"
      ],
      "execution_count": 0,
      "outputs": []
    },
    {
      "cell_type": "code",
      "metadata": {
        "id": "RXHk0C6L-50F",
        "colab_type": "code",
        "outputId": "c9c43226-eb9c-44fd-8696-c8603637eb20",
        "colab": {
          "base_uri": "https://localhost:8080/",
          "height": 36
        }
      },
      "source": [
        "merged_data.duplicated().sum()"
      ],
      "execution_count": 0,
      "outputs": [
        {
          "output_type": "execute_result",
          "data": {
            "text/plain": [
              "0"
            ]
          },
          "metadata": {
            "tags": []
          },
          "execution_count": 56
        }
      ]
    },
    {
      "cell_type": "code",
      "metadata": {
        "id": "aRDQokvd_EPf",
        "colab_type": "code",
        "outputId": "e50c2bb5-7af3-4891-ec2e-5ccceacba662",
        "colab": {
          "base_uri": "https://localhost:8080/",
          "height": 203
        }
      },
      "source": [
        "merged_data.isnull().sum()"
      ],
      "execution_count": 0,
      "outputs": [
        {
          "output_type": "execute_result",
          "data": {
            "text/plain": [
              "곡명          0\n",
              "아티스트        0\n",
              "앨범          0\n",
              "시대          0\n",
              "장르          0\n",
              "순위/시대/장르    0\n",
              "순위/장르       0\n",
              "순위/시대       0\n",
              "순위/전체       0\n",
              "dtype: int64"
            ]
          },
          "metadata": {
            "tags": []
          },
          "execution_count": 57
        }
      ]
    },
    {
      "cell_type": "code",
      "metadata": {
        "id": "Qm8lxYs2-8PW",
        "colab_type": "code",
        "colab": {}
      },
      "source": [
        "merged_data.to_csv(\"./gdrive/My Drive/Colab/data/merged_data.csv\", index=False)"
      ],
      "execution_count": 0,
      "outputs": []
    },
    {
      "cell_type": "code",
      "metadata": {
        "id": "q08ahugH_04K",
        "colab_type": "code",
        "colab": {}
      },
      "source": [
        ""
      ],
      "execution_count": 0,
      "outputs": []
    }
  ]
}