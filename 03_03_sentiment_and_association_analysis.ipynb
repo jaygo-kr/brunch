{
  "nbformat": 4,
  "nbformat_minor": 0,
  "metadata": {
    "colab": {
      "name": "03_03 sentiment and association analysis.ipynb",
      "provenance": [],
      "collapsed_sections": [],
      "include_colab_link": true
    },
    "kernelspec": {
      "name": "python3",
      "display_name": "Python 3"
    },
    "accelerator": "GPU"
  },
  "cells": [
    {
      "cell_type": "markdown",
      "metadata": {
        "id": "view-in-github",
        "colab_type": "text"
      },
      "source": [
        "<a href=\"https://colab.research.google.com/github/jaygo-kr/brunch/blob/master/03_03_sentiment_and_association_analysis.ipynb\" target=\"_parent\"><img src=\"https://colab.research.google.com/assets/colab-badge.svg\" alt=\"Open In Colab\"/></a>"
      ]
    },
    {
      "cell_type": "markdown",
      "metadata": {
        "id": "riIfUIjOb46e",
        "colab_type": "text"
      },
      "source": [
        "# 드라마 대본 감성분석, 연관분석, 토픽추출\n",
        "\n",
        "* 이전 노트에서 정제한 대본 자료의 문장들로 대사의 감성분석, 연관분석, 토픽 추출을 해보자\n",
        "1. 정제한 대본 파일 불러오기\n",
        "2. 감성분석\n",
        "3. 연관분석\n",
        "4. 토픽추출"
      ]
    },
    {
      "cell_type": "code",
      "metadata": {
        "id": "6uDvTrhYf6Mn",
        "colab_type": "code",
        "colab": {
          "base_uri": "https://localhost:8080/",
          "height": 35
        },
        "outputId": "3e9150cb-1301-4ca8-e2e4-40a3ec1dcd4d"
      },
      "source": [
        "import os\n",
        "import numpy as np\n",
        "import pandas as pd\n",
        "from google.colab import files, drive\n",
        "drive.mount('/content/gdrive')"
      ],
      "execution_count": 1,
      "outputs": [
        {
          "output_type": "stream",
          "text": [
            "Drive already mounted at /content/gdrive; to attempt to forcibly remount, call drive.mount(\"/content/gdrive\", force_remount=True).\n"
          ],
          "name": "stdout"
        }
      ]
    },
    {
      "cell_type": "code",
      "metadata": {
        "id": "LpcWVtOLgNjm",
        "colab_type": "code",
        "colab": {}
      },
      "source": [
        "DATA_PATH = './gdrive/My Drive/share/suwon study/script/JAY완료/' # 대본 데이터\n",
        "TRAIN_PATH = './gdrive/My Drive/share/suwon study/sentiment/' # 네이버 영화 리뷰 감성데이터"
      ],
      "execution_count": 0,
      "outputs": []
    },
    {
      "cell_type": "code",
      "metadata": {
        "id": "7bluAtva7yL_",
        "colab_type": "code",
        "colab": {
          "base_uri": "https://localhost:8080/",
          "height": 107
        },
        "outputId": "a22b2b2c-c02b-41f5-d28b-59718fd35114"
      },
      "source": [
        "os.listdir(DATA_PATH)[:5]"
      ],
      "execution_count": 3,
      "outputs": [
        {
          "output_type": "execute_result",
          "data": {
            "text/plain": [
              "['W+제11회+대본.csv',\n",
              " 'W+제12회+대본.csv',\n",
              " 'W+제13회+대본.csv',\n",
              " 'W+제15회+대본.csv',\n",
              " 'W+제4회+대본.csv']"
            ]
          },
          "metadata": {
            "tags": []
          },
          "execution_count": 3
        }
      ]
    },
    {
      "cell_type": "code",
      "metadata": {
        "id": "hNWEvQA472Te",
        "colab_type": "code",
        "colab": {
          "base_uri": "https://localhost:8080/",
          "height": 125
        },
        "outputId": "fd82d1a8-21a1-4d2e-e73b-203fa1ebbd2c"
      },
      "source": [
        "os.listdir(TRAIN_PATH)"
      ],
      "execution_count": 4,
      "outputs": [
        {
          "output_type": "execute_result",
          "data": {
            "text/plain": [
              "['ratings.txt',\n",
              " 'ratings_test.txt',\n",
              " 'ratings_train.txt',\n",
              " 'train.csv',\n",
              " 'test.csv',\n",
              " 'script.csv']"
            ]
          },
          "metadata": {
            "tags": []
          },
          "execution_count": 4
        }
      ]
    },
    {
      "cell_type": "markdown",
      "metadata": {
        "id": "mLlssRrjkPVw",
        "colab_type": "text"
      },
      "source": [
        "## 감성분석\n",
        "* 네이버 감성분석 데이터로 감성분석을 위한 모델 학습시키기(https://github.com/e9t/nsmc/)"
      ]
    },
    {
      "cell_type": "markdown",
      "metadata": {
        "id": "rPE8iLFj8-3a",
        "colab_type": "text"
      },
      "source": [
        "### 모델학습"
      ]
    },
    {
      "cell_type": "code",
      "metadata": {
        "id": "qCE27F0r7hBA",
        "colab_type": "code",
        "colab": {}
      },
      "source": [
        "senti = pd.read_csv(TRAIN_PATH + 'ratings.txt', sep='\\t') # txt 파일 구분자 \\t 기준으로 불러오기"
      ],
      "execution_count": 0,
      "outputs": []
    },
    {
      "cell_type": "code",
      "metadata": {
        "id": "kFSczXE27hPl",
        "colab_type": "code",
        "colab": {
          "base_uri": "https://localhost:8080/",
          "height": 419
        },
        "outputId": "4c820045-aed1-4423-d8a7-b2d1f8ff8063"
      },
      "source": [
        "senti # 네이버 영화 리뷰를 바탕으로 제작된 감성 데이터 셋이다. 긍정은 1, 부정은 0"
      ],
      "execution_count": 6,
      "outputs": [
        {
          "output_type": "execute_result",
          "data": {
            "text/html": [
              "<div>\n",
              "<style scoped>\n",
              "    .dataframe tbody tr th:only-of-type {\n",
              "        vertical-align: middle;\n",
              "    }\n",
              "\n",
              "    .dataframe tbody tr th {\n",
              "        vertical-align: top;\n",
              "    }\n",
              "\n",
              "    .dataframe thead th {\n",
              "        text-align: right;\n",
              "    }\n",
              "</style>\n",
              "<table border=\"1\" class=\"dataframe\">\n",
              "  <thead>\n",
              "    <tr style=\"text-align: right;\">\n",
              "      <th></th>\n",
              "      <th>id</th>\n",
              "      <th>document</th>\n",
              "      <th>label</th>\n",
              "    </tr>\n",
              "  </thead>\n",
              "  <tbody>\n",
              "    <tr>\n",
              "      <th>0</th>\n",
              "      <td>8112052</td>\n",
              "      <td>어릴때보고 지금다시봐도 재밌어요ㅋㅋ</td>\n",
              "      <td>1</td>\n",
              "    </tr>\n",
              "    <tr>\n",
              "      <th>1</th>\n",
              "      <td>8132799</td>\n",
              "      <td>디자인을 배우는 학생으로, 외국디자이너와 그들이 일군 전통을 통해 발전해가는 문화산...</td>\n",
              "      <td>1</td>\n",
              "    </tr>\n",
              "    <tr>\n",
              "      <th>2</th>\n",
              "      <td>4655635</td>\n",
              "      <td>폴리스스토리 시리즈는 1부터 뉴까지 버릴께 하나도 없음.. 최고.</td>\n",
              "      <td>1</td>\n",
              "    </tr>\n",
              "    <tr>\n",
              "      <th>3</th>\n",
              "      <td>9251303</td>\n",
              "      <td>와.. 연기가 진짜 개쩔구나.. 지루할거라고 생각했는데 몰입해서 봤다.. 그래 이런...</td>\n",
              "      <td>1</td>\n",
              "    </tr>\n",
              "    <tr>\n",
              "      <th>4</th>\n",
              "      <td>10067386</td>\n",
              "      <td>안개 자욱한 밤하늘에 떠 있는 초승달 같은 영화.</td>\n",
              "      <td>1</td>\n",
              "    </tr>\n",
              "    <tr>\n",
              "      <th>...</th>\n",
              "      <td>...</td>\n",
              "      <td>...</td>\n",
              "      <td>...</td>\n",
              "    </tr>\n",
              "    <tr>\n",
              "      <th>199995</th>\n",
              "      <td>8963373</td>\n",
              "      <td>포켓 몬스터 짜가 ㅡㅡ;;</td>\n",
              "      <td>0</td>\n",
              "    </tr>\n",
              "    <tr>\n",
              "      <th>199996</th>\n",
              "      <td>3302770</td>\n",
              "      <td>쓰.레.기</td>\n",
              "      <td>0</td>\n",
              "    </tr>\n",
              "    <tr>\n",
              "      <th>199997</th>\n",
              "      <td>5458175</td>\n",
              "      <td>완전 사이코영화. 마지막은 더욱더 이 영화의질을 떨어트린다.</td>\n",
              "      <td>0</td>\n",
              "    </tr>\n",
              "    <tr>\n",
              "      <th>199998</th>\n",
              "      <td>6908648</td>\n",
              "      <td>왜난 재미없었지 ㅠㅠ 라따뚜이 보고나서 스머프 봐서 그런가 ㅋㅋ</td>\n",
              "      <td>0</td>\n",
              "    </tr>\n",
              "    <tr>\n",
              "      <th>199999</th>\n",
              "      <td>8548411</td>\n",
              "      <td>포풍저그가나가신다영차영차영차</td>\n",
              "      <td>0</td>\n",
              "    </tr>\n",
              "  </tbody>\n",
              "</table>\n",
              "<p>200000 rows × 3 columns</p>\n",
              "</div>"
            ],
            "text/plain": [
              "              id                                           document  label\n",
              "0        8112052                                어릴때보고 지금다시봐도 재밌어요ㅋㅋ      1\n",
              "1        8132799  디자인을 배우는 학생으로, 외국디자이너와 그들이 일군 전통을 통해 발전해가는 문화산...      1\n",
              "2        4655635               폴리스스토리 시리즈는 1부터 뉴까지 버릴께 하나도 없음.. 최고.      1\n",
              "3        9251303  와.. 연기가 진짜 개쩔구나.. 지루할거라고 생각했는데 몰입해서 봤다.. 그래 이런...      1\n",
              "4       10067386                        안개 자욱한 밤하늘에 떠 있는 초승달 같은 영화.      1\n",
              "...          ...                                                ...    ...\n",
              "199995   8963373                                     포켓 몬스터 짜가 ㅡㅡ;;      0\n",
              "199996   3302770                                              쓰.레.기      0\n",
              "199997   5458175                  완전 사이코영화. 마지막은 더욱더 이 영화의질을 떨어트린다.      0\n",
              "199998   6908648                왜난 재미없었지 ㅠㅠ 라따뚜이 보고나서 스머프 봐서 그런가 ㅋㅋ      0\n",
              "199999   8548411                                    포풍저그가나가신다영차영차영차      0\n",
              "\n",
              "[200000 rows x 3 columns]"
            ]
          },
          "metadata": {
            "tags": []
          },
          "execution_count": 6
        }
      ]
    },
    {
      "cell_type": "code",
      "metadata": {
        "id": "KJApCYIB7hWj",
        "colab_type": "code",
        "colab": {}
      },
      "source": [
        "train_df = pd.read_csv(TRAIN_PATH + 'ratings_train.txt', sep='\\t')\n",
        "test_df = pd.read_csv(TRAIN_PATH + 'ratings_test.txt', sep='\\t')"
      ],
      "execution_count": 0,
      "outputs": []
    },
    {
      "cell_type": "code",
      "metadata": {
        "id": "-E_ZLSnp8tsm",
        "colab_type": "code",
        "colab": {
          "base_uri": "https://localhost:8080/",
          "height": 35
        },
        "outputId": "a4724aaa-605e-424e-9db0-2bb9c2c46fa2"
      },
      "source": [
        "train_df.shape, test_df.shape"
      ],
      "execution_count": 8,
      "outputs": [
        {
          "output_type": "execute_result",
          "data": {
            "text/plain": [
              "((150000, 3), (50000, 3))"
            ]
          },
          "metadata": {
            "tags": []
          },
          "execution_count": 8
        }
      ]
    },
    {
      "cell_type": "code",
      "metadata": {
        "id": "75hqP-ZFgayJ",
        "colab_type": "code",
        "colab": {
          "base_uri": "https://localhost:8080/",
          "height": 305
        },
        "outputId": "439e9423-32c8-4b97-9882-64d06ee58997"
      },
      "source": [
        "# 한글 태깅을 위한 패키지 설치\n",
        "! pip install konlpy"
      ],
      "execution_count": 9,
      "outputs": [
        {
          "output_type": "stream",
          "text": [
            "Requirement already satisfied: konlpy in /usr/local/lib/python3.6/dist-packages (0.5.2)\n",
            "Requirement already satisfied: JPype1>=0.7.0 in /usr/local/lib/python3.6/dist-packages (from konlpy) (0.7.1)\n",
            "Requirement already satisfied: tweepy>=3.7.0 in /usr/local/lib/python3.6/dist-packages (from konlpy) (3.8.0)\n",
            "Requirement already satisfied: lxml>=4.1.0 in /usr/local/lib/python3.6/dist-packages (from konlpy) (4.2.6)\n",
            "Requirement already satisfied: beautifulsoup4==4.6.0 in /usr/local/lib/python3.6/dist-packages (from konlpy) (4.6.0)\n",
            "Requirement already satisfied: colorama in /usr/local/lib/python3.6/dist-packages (from konlpy) (0.4.3)\n",
            "Requirement already satisfied: numpy>=1.6 in /usr/local/lib/python3.6/dist-packages (from konlpy) (1.17.5)\n",
            "Requirement already satisfied: six>=1.10.0 in /usr/local/lib/python3.6/dist-packages (from tweepy>=3.7.0->konlpy) (1.12.0)\n",
            "Requirement already satisfied: PySocks>=1.5.7 in /usr/local/lib/python3.6/dist-packages (from tweepy>=3.7.0->konlpy) (1.7.1)\n",
            "Requirement already satisfied: requests-oauthlib>=0.7.0 in /usr/local/lib/python3.6/dist-packages (from tweepy>=3.7.0->konlpy) (1.3.0)\n",
            "Requirement already satisfied: requests>=2.11.1 in /usr/local/lib/python3.6/dist-packages (from tweepy>=3.7.0->konlpy) (2.21.0)\n",
            "Requirement already satisfied: oauthlib>=3.0.0 in /usr/local/lib/python3.6/dist-packages (from requests-oauthlib>=0.7.0->tweepy>=3.7.0->konlpy) (3.1.0)\n",
            "Requirement already satisfied: certifi>=2017.4.17 in /usr/local/lib/python3.6/dist-packages (from requests>=2.11.1->tweepy>=3.7.0->konlpy) (2019.11.28)\n",
            "Requirement already satisfied: chardet<3.1.0,>=3.0.2 in /usr/local/lib/python3.6/dist-packages (from requests>=2.11.1->tweepy>=3.7.0->konlpy) (3.0.4)\n",
            "Requirement already satisfied: idna<2.9,>=2.5 in /usr/local/lib/python3.6/dist-packages (from requests>=2.11.1->tweepy>=3.7.0->konlpy) (2.8)\n",
            "Requirement already satisfied: urllib3<1.25,>=1.21.1 in /usr/local/lib/python3.6/dist-packages (from requests>=2.11.1->tweepy>=3.7.0->konlpy) (1.24.3)\n"
          ],
          "name": "stdout"
        }
      ]
    },
    {
      "cell_type": "code",
      "metadata": {
        "id": "RA3GSYTX8tN8",
        "colab_type": "code",
        "colab": {}
      },
      "source": [
        "from konlpy.tag import Okt\n",
        "tagger = Okt()"
      ],
      "execution_count": 0,
      "outputs": []
    },
    {
      "cell_type": "code",
      "metadata": {
        "id": "pCslAhMB97yr",
        "colab_type": "code",
        "colab": {}
      },
      "source": [
        "# 형태소  태깅에 장시간이 소요됨으로 한번 시행 후 저장하여 활용\n",
        "#train_df['pos'] = train_df['document'].map(lambda x : tagger.pos(str(x), norm=True, stem=True))\n",
        "#test_df['pos'] = test_df['document'].map(lambda x : tagger.pos(str(x), norm=True, stem=True))\n",
        "#train_df.to_csv(TRAIN_PATH + 'train.csv', index=False)\n",
        "#test_df.to_csv(TRAIN_PATH + 'test.csv', index=False)"
      ],
      "execution_count": 0,
      "outputs": []
    },
    {
      "cell_type": "code",
      "metadata": {
        "id": "QUxECV6XDRMR",
        "colab_type": "code",
        "colab": {}
      },
      "source": [
        "train_df = pd.read_csv(TRAIN_PATH + 'train.csv')\n",
        "test_df = pd.read_csv(TRAIN_PATH + 'test.csv')"
      ],
      "execution_count": 0,
      "outputs": []
    },
    {
      "cell_type": "code",
      "metadata": {
        "id": "KVMogBLK3PGb",
        "colab_type": "code",
        "colab": {
          "base_uri": "https://localhost:8080/",
          "height": 204
        },
        "outputId": "5799af09-ca10-4e10-8d57-523b5ad33d35"
      },
      "source": [
        "train_df.head()"
      ],
      "execution_count": 13,
      "outputs": [
        {
          "output_type": "execute_result",
          "data": {
            "text/html": [
              "<div>\n",
              "<style scoped>\n",
              "    .dataframe tbody tr th:only-of-type {\n",
              "        vertical-align: middle;\n",
              "    }\n",
              "\n",
              "    .dataframe tbody tr th {\n",
              "        vertical-align: top;\n",
              "    }\n",
              "\n",
              "    .dataframe thead th {\n",
              "        text-align: right;\n",
              "    }\n",
              "</style>\n",
              "<table border=\"1\" class=\"dataframe\">\n",
              "  <thead>\n",
              "    <tr style=\"text-align: right;\">\n",
              "      <th></th>\n",
              "      <th>id</th>\n",
              "      <th>document</th>\n",
              "      <th>label</th>\n",
              "      <th>pos</th>\n",
              "    </tr>\n",
              "  </thead>\n",
              "  <tbody>\n",
              "    <tr>\n",
              "      <th>0</th>\n",
              "      <td>9976970</td>\n",
              "      <td>아 더빙.. 진짜 짜증나네요 목소리</td>\n",
              "      <td>0</td>\n",
              "      <td>[('아', 'Exclamation'), ('더빙', 'Noun'), ('..', ...</td>\n",
              "    </tr>\n",
              "    <tr>\n",
              "      <th>1</th>\n",
              "      <td>3819312</td>\n",
              "      <td>흠...포스터보고 초딩영화줄....오버연기조차 가볍지 않구나</td>\n",
              "      <td>1</td>\n",
              "      <td>[('흠', 'Noun'), ('...', 'Punctuation'), ('포스터'...</td>\n",
              "    </tr>\n",
              "    <tr>\n",
              "      <th>2</th>\n",
              "      <td>10265843</td>\n",
              "      <td>너무재밓었다그래서보는것을추천한다</td>\n",
              "      <td>0</td>\n",
              "      <td>[('너', 'Modifier'), ('무재', 'Noun'), ('밓었', 'No...</td>\n",
              "    </tr>\n",
              "    <tr>\n",
              "      <th>3</th>\n",
              "      <td>9045019</td>\n",
              "      <td>교도소 이야기구먼 ..솔직히 재미는 없다..평점 조정</td>\n",
              "      <td>0</td>\n",
              "      <td>[('교도소', 'Noun'), ('이야기', 'Noun'), ('구먼', 'Nou...</td>\n",
              "    </tr>\n",
              "    <tr>\n",
              "      <th>4</th>\n",
              "      <td>6483659</td>\n",
              "      <td>사이몬페그의 익살스런 연기가 돋보였던 영화!스파이더맨에서 늙어보이기만 했던 커스틴 ...</td>\n",
              "      <td>1</td>\n",
              "      <td>[('사이', 'Modifier'), ('몬페', 'Noun'), ('그', 'De...</td>\n",
              "    </tr>\n",
              "  </tbody>\n",
              "</table>\n",
              "</div>"
            ],
            "text/plain": [
              "         id  ...                                                pos\n",
              "0   9976970  ...  [('아', 'Exclamation'), ('더빙', 'Noun'), ('..', ...\n",
              "1   3819312  ...  [('흠', 'Noun'), ('...', 'Punctuation'), ('포스터'...\n",
              "2  10265843  ...  [('너', 'Modifier'), ('무재', 'Noun'), ('밓었', 'No...\n",
              "3   9045019  ...  [('교도소', 'Noun'), ('이야기', 'Noun'), ('구먼', 'Nou...\n",
              "4   6483659  ...  [('사이', 'Modifier'), ('몬페', 'Noun'), ('그', 'De...\n",
              "\n",
              "[5 rows x 4 columns]"
            ]
          },
          "metadata": {
            "tags": []
          },
          "execution_count": 13
        }
      ]
    },
    {
      "cell_type": "code",
      "metadata": {
        "id": "CCMUskg_zYM6",
        "colab_type": "code",
        "colab": {}
      },
      "source": [
        "from sklearn.feature_extraction.text import TfidfVectorizer # 벡터화"
      ],
      "execution_count": 0,
      "outputs": []
    },
    {
      "cell_type": "code",
      "metadata": {
        "id": "obmKIvEmzYLt",
        "colab_type": "code",
        "colab": {}
      },
      "source": [
        "vectorizer = TfidfVectorizer(max_features=5000) # colab RAM이 부족하여 5천개로 타협\n",
        "vectorizer.fit(train_df['pos'])\n",
        "train_X = vectorizer.transform(train_df['pos'])\n",
        "test_X = vectorizer.transform(test_df['pos'])"
      ],
      "execution_count": 0,
      "outputs": []
    },
    {
      "cell_type": "code",
      "metadata": {
        "id": "hpdCv8TSzYIJ",
        "colab_type": "code",
        "colab": {
          "base_uri": "https://localhost:8080/",
          "height": 35
        },
        "outputId": "02a1e749-b741-4e3b-d720-31209910c82a"
      },
      "source": [
        "len(vectorizer.get_feature_names())"
      ],
      "execution_count": 16,
      "outputs": [
        {
          "output_type": "execute_result",
          "data": {
            "text/plain": [
              "5000"
            ]
          },
          "metadata": {
            "tags": []
          },
          "execution_count": 16
        }
      ]
    },
    {
      "cell_type": "code",
      "metadata": {
        "id": "ojABh7vhzYFa",
        "colab_type": "code",
        "colab": {}
      },
      "source": [
        "train_y = train_df['label']\n",
        "test_y = test_df['label']"
      ],
      "execution_count": 0,
      "outputs": []
    },
    {
      "cell_type": "code",
      "metadata": {
        "id": "D0lAa1z55N9C",
        "colab_type": "code",
        "colab": {
          "base_uri": "https://localhost:8080/",
          "height": 588
        },
        "outputId": "477ef13a-7a47-42f5-90a3-6cff6c223faa"
      },
      "source": [
        "# 모델링\n",
        "from tensorflow.keras import models\n",
        "from tensorflow.keras import layers\n",
        "from tensorflow.keras import optimizers\n",
        "from tensorflow.keras import losses\n",
        "from tensorflow.keras import metrics\n",
        "\n",
        "model = models.Sequential()\n",
        "model.add(layers.Dense(64, activation='relu', input_shape=(5000,)))\n",
        "model.add(layers.Dense(64, activation='relu'))\n",
        "model.add(layers.Dense(1, activation='sigmoid'))\n",
        "\n",
        "model.compile(optimizer=optimizers.RMSprop(lr=0.001),\n",
        "             loss=losses.binary_crossentropy,\n",
        "             metrics=[metrics.binary_accuracy])\n",
        "\n",
        "model.fit(train_X, train_y, epochs=10, batch_size=512)\n",
        "results = model.evaluate(test_X, test_y) # 83%의 정확도 확보"
      ],
      "execution_count": 18,
      "outputs": [
        {
          "output_type": "display_data",
          "data": {
            "text/html": [
              "<p style=\"color: red;\">\n",
              "The default version of TensorFlow in Colab will soon switch to TensorFlow 2.x.<br>\n",
              "We recommend you <a href=\"https://www.tensorflow.org/guide/migrate\" target=\"_blank\">upgrade</a> now \n",
              "or ensure your notebook will continue to use TensorFlow 1.x via the <code>%tensorflow_version 1.x</code> magic:\n",
              "<a href=\"https://colab.research.google.com/notebooks/tensorflow_version.ipynb\" target=\"_blank\">more info</a>.</p>\n"
            ],
            "text/plain": [
              "<IPython.core.display.HTML object>"
            ]
          },
          "metadata": {
            "tags": []
          }
        },
        {
          "output_type": "stream",
          "text": [
            "WARNING:tensorflow:From /usr/local/lib/python3.6/dist-packages/tensorflow_core/python/ops/resource_variable_ops.py:1630: calling BaseResourceVariable.__init__ (from tensorflow.python.ops.resource_variable_ops) with constraint is deprecated and will be removed in a future version.\n",
            "Instructions for updating:\n",
            "If using Keras pass *_constraint arguments to layers.\n",
            "WARNING:tensorflow:From /usr/local/lib/python3.6/dist-packages/tensorflow_core/python/ops/nn_impl.py:183: where (from tensorflow.python.ops.array_ops) is deprecated and will be removed in a future version.\n",
            "Instructions for updating:\n",
            "Use tf.where in 2.0, which has the same broadcast rule as np.where\n",
            "Train on 150000 samples\n",
            "Epoch 1/10\n",
            "150000/150000 [==============================] - 4s 27us/sample - loss: 0.4175 - binary_accuracy: 0.8165\n",
            "Epoch 2/10\n",
            "150000/150000 [==============================] - 4s 25us/sample - loss: 0.3619 - binary_accuracy: 0.8385\n",
            "Epoch 3/10\n",
            "150000/150000 [==============================] - 4s 25us/sample - loss: 0.3521 - binary_accuracy: 0.8434\n",
            "Epoch 4/10\n",
            "150000/150000 [==============================] - 4s 25us/sample - loss: 0.3424 - binary_accuracy: 0.8471\n",
            "Epoch 5/10\n",
            "150000/150000 [==============================] - 4s 25us/sample - loss: 0.3351 - binary_accuracy: 0.8516\n",
            "Epoch 6/10\n",
            "150000/150000 [==============================] - 4s 25us/sample - loss: 0.3290 - binary_accuracy: 0.8558\n",
            "Epoch 7/10\n",
            "150000/150000 [==============================] - 4s 25us/sample - loss: 0.3234 - binary_accuracy: 0.8596\n",
            "Epoch 8/10\n",
            "150000/150000 [==============================] - 4s 25us/sample - loss: 0.3176 - binary_accuracy: 0.8632\n",
            "Epoch 9/10\n",
            "150000/150000 [==============================] - 4s 24us/sample - loss: 0.3107 - binary_accuracy: 0.8679\n",
            "Epoch 10/10\n",
            "150000/150000 [==============================] - 4s 25us/sample - loss: 0.3025 - binary_accuracy: 0.8735\n",
            "50000/50000 [==============================] - 3s 64us/sample - loss: 0.3749 - binary_accuracy: 0.8371\n"
          ],
          "name": "stdout"
        }
      ]
    },
    {
      "cell_type": "markdown",
      "metadata": {
        "id": "u2MbazEH9d-D",
        "colab_type": "text"
      },
      "source": [
        "### 대본 감성분석\n",
        "* 위에서 학습한 모델을 대본에 적용"
      ]
    },
    {
      "cell_type": "code",
      "metadata": {
        "id": "MM3r8J-P9mQG",
        "colab_type": "code",
        "colab": {}
      },
      "source": [
        "script_df = pd.read_csv(DATA_PATH + 'W+제1회+대본.csv')"
      ],
      "execution_count": 0,
      "outputs": []
    },
    {
      "cell_type": "code",
      "metadata": {
        "id": "o_vqXHTT94pz",
        "colab_type": "code",
        "colab": {
          "base_uri": "https://localhost:8080/",
          "height": 204
        },
        "outputId": "6bd36dad-6084-49cc-92b6-caa53f4fba75"
      },
      "source": [
        "script_df.head()"
      ],
      "execution_count": 20,
      "outputs": [
        {
          "output_type": "execute_result",
          "data": {
            "text/html": [
              "<div>\n",
              "<style scoped>\n",
              "    .dataframe tbody tr th:only-of-type {\n",
              "        vertical-align: middle;\n",
              "    }\n",
              "\n",
              "    .dataframe tbody tr th {\n",
              "        vertical-align: top;\n",
              "    }\n",
              "\n",
              "    .dataframe thead th {\n",
              "        text-align: right;\n",
              "    }\n",
              "</style>\n",
              "<table border=\"1\" class=\"dataframe\">\n",
              "  <thead>\n",
              "    <tr style=\"text-align: right;\">\n",
              "      <th></th>\n",
              "      <th>act</th>\n",
              "      <th>content</th>\n",
              "    </tr>\n",
              "  </thead>\n",
              "  <tbody>\n",
              "    <tr>\n",
              "      <th>0</th>\n",
              "      <td>씬/1</td>\n",
              "      <td>아테네 올림픽 자료화면 인서트 \\n</td>\n",
              "    </tr>\n",
              "    <tr>\n",
              "      <th>1</th>\n",
              "      <td>지문</td>\n",
              "      <td>자막 – 2004년 8월. 아테네 올림픽\\n한국 국가대표 경기 생중계 자료화면.\\n...</td>\n",
              "    </tr>\n",
              "    <tr>\n",
              "      <th>2</th>\n",
              "      <td>씬/2</td>\n",
              "      <td>방송 스튜디오 (과거, 밤)\\n</td>\n",
              "    </tr>\n",
              "    <tr>\n",
              "      <th>3</th>\n",
              "      <td>지문</td>\n",
              "      <td>올림픽 중계 스튜디오. 아테네 올림픽 엠블럼과 마스코트를 배경으로 남자 MC가 진행...</td>\n",
              "    </tr>\n",
              "    <tr>\n",
              "      <th>4</th>\n",
              "      <td>MC</td>\n",
              "      <td>네, 잠시 종목을 바꿔보겠습니다. 지금 사격 경기장에서는 50미터 권총 남자 결선이...</td>\n",
              "    </tr>\n",
              "  </tbody>\n",
              "</table>\n",
              "</div>"
            ],
            "text/plain": [
              "   act                                            content\n",
              "0  씬/1                                아테네 올림픽 자료화면 인서트 \\n\n",
              "1   지문  자막 – 2004년 8월. 아테네 올림픽\\n한국 국가대표 경기 생중계 자료화면.\\n...\n",
              "2  씬/2                                  방송 스튜디오 (과거, 밤)\\n\n",
              "3   지문  올림픽 중계 스튜디오. 아테네 올림픽 엠블럼과 마스코트를 배경으로 남자 MC가 진행...\n",
              "4   MC  네, 잠시 종목을 바꿔보겠습니다. 지금 사격 경기장에서는 50미터 권총 남자 결선이..."
            ]
          },
          "metadata": {
            "tags": []
          },
          "execution_count": 20
        }
      ]
    },
    {
      "cell_type": "code",
      "metadata": {
        "id": "_r4B4Fo7-Bc_",
        "colab_type": "code",
        "colab": {}
      },
      "source": [
        "from konlpy.tag import Okt\n",
        "tagger = Okt()"
      ],
      "execution_count": 0,
      "outputs": []
    },
    {
      "cell_type": "code",
      "metadata": {
        "id": "h5Lxnbnt9weh",
        "colab_type": "code",
        "colab": {}
      },
      "source": [
        "#script_df['pos'] = script_df['content'].map(lambda x : tagger.pos(str(x), norm=True, stem=True))\n",
        "#script_df.to_csv(TRAIN_PATH + 'script.csv', index=False)"
      ],
      "execution_count": 0,
      "outputs": []
    },
    {
      "cell_type": "code",
      "metadata": {
        "id": "piedqwHE9whe",
        "colab_type": "code",
        "colab": {}
      },
      "source": [
        "script_df = pd.read_csv(TRAIN_PATH + 'script.csv')"
      ],
      "execution_count": 0,
      "outputs": []
    },
    {
      "cell_type": "code",
      "metadata": {
        "id": "PKilQGbk9wlG",
        "colab_type": "code",
        "colab": {}
      },
      "source": [
        "script_X = vectorizer.transform(script_df['pos'])"
      ],
      "execution_count": 0,
      "outputs": []
    },
    {
      "cell_type": "code",
      "metadata": {
        "id": "9ACWO-AE_DkB",
        "colab_type": "code",
        "colab": {}
      },
      "source": [
        "script_y = model.predict(script_X)"
      ],
      "execution_count": 0,
      "outputs": []
    },
    {
      "cell_type": "code",
      "metadata": {
        "id": "VrwNMn9U_DWd",
        "colab_type": "code",
        "colab": {}
      },
      "source": [
        "script_df['label'] = script_y"
      ],
      "execution_count": 0,
      "outputs": []
    },
    {
      "cell_type": "code",
      "metadata": {
        "id": "Pn7rpJpT_Uyg",
        "colab_type": "code",
        "colab": {
          "base_uri": "https://localhost:8080/",
          "height": 419
        },
        "outputId": "fa0afe14-d13b-4030-d074-04d85a08019d"
      },
      "source": [
        "script_df.sort_values(by=['label'])"
      ],
      "execution_count": 27,
      "outputs": [
        {
          "output_type": "execute_result",
          "data": {
            "text/html": [
              "<div>\n",
              "<style scoped>\n",
              "    .dataframe tbody tr th:only-of-type {\n",
              "        vertical-align: middle;\n",
              "    }\n",
              "\n",
              "    .dataframe tbody tr th {\n",
              "        vertical-align: top;\n",
              "    }\n",
              "\n",
              "    .dataframe thead th {\n",
              "        text-align: right;\n",
              "    }\n",
              "</style>\n",
              "<table border=\"1\" class=\"dataframe\">\n",
              "  <thead>\n",
              "    <tr style=\"text-align: right;\">\n",
              "      <th></th>\n",
              "      <th>act</th>\n",
              "      <th>content</th>\n",
              "      <th>pos</th>\n",
              "      <th>label</th>\n",
              "    </tr>\n",
              "  </thead>\n",
              "  <tbody>\n",
              "    <tr>\n",
              "      <th>370</th>\n",
              "      <td>지문</td>\n",
              "      <td>쓰레기와 주류 상자들이 쌓여있는 좁은 복도. 요란한 음악소리가 멀리 들려오고. 연주...</td>\n",
              "      <td>[('쓰레기', 'Noun'), ('와', 'Josa'), ('주류', 'Noun'...</td>\n",
              "      <td>0.011458</td>\n",
              "    </tr>\n",
              "    <tr>\n",
              "      <th>293</th>\n",
              "      <td>지문</td>\n",
              "      <td>조금 전과 풍경은 그대로. 앉아있던 성무만 사라지고 없는.\\n삐딱하게 돌아간 의자....</td>\n",
              "      <td>[('조금', 'Noun'), ('전과', 'Noun'), ('풍경', 'Noun'...</td>\n",
              "      <td>0.012698</td>\n",
              "    </tr>\n",
              "    <tr>\n",
              "      <th>182</th>\n",
              "      <td>박교수</td>\n",
              "      <td>너도 그림이나 그리지 그랬어? 재주도 없는 의사공부 하느라 뭔 고생이야?\\n</td>\n",
              "      <td>[('너', 'Noun'), ('도', 'Josa'), ('그림', 'Noun'),...</td>\n",
              "      <td>0.013584</td>\n",
              "    </tr>\n",
              "    <tr>\n",
              "      <th>75</th>\n",
              "      <td>C#1</td>\n",
              "      <td>뉴스룸 (밤)\\n남자 앵커가 뉴스 진행 중이다. \\n강철의 얼굴과 부모와 여동생 등...</td>\n",
              "      <td>[('뉴스룸', 'Noun'), ('(', 'Punctuation'), ('밤', ...</td>\n",
              "      <td>0.016045</td>\n",
              "    </tr>\n",
              "    <tr>\n",
              "      <th>199</th>\n",
              "      <td>연주</td>\n",
              "      <td>(황당)\\n</td>\n",
              "      <td>[('(', 'Punctuation'), ('황당', 'Noun'), (')', '...</td>\n",
              "      <td>0.018282</td>\n",
              "    </tr>\n",
              "    <tr>\n",
              "      <th>...</th>\n",
              "      <td>...</td>\n",
              "      <td>...</td>\n",
              "      <td>...</td>\n",
              "      <td>...</td>\n",
              "    </tr>\n",
              "    <tr>\n",
              "      <th>449</th>\n",
              "      <td>지문</td>\n",
              "      <td>강철, 매니저의 수선스런 목소리가 환청처럼 들리는 와중에, 시야에 대원들의 사이로 ...</td>\n",
              "      <td>[('강철', 'Noun'), (',', 'Punctuation'), ('매니저',...</td>\n",
              "      <td>0.994697</td>\n",
              "    </tr>\n",
              "    <tr>\n",
              "      <th>280</th>\n",
              "      <td>연주</td>\n",
              "      <td>(? 돌아보는)\\n</td>\n",
              "      <td>[('(?', 'Punctuation'), ('돌아보다', 'Verb'), (')'...</td>\n",
              "      <td>0.995663</td>\n",
              "    </tr>\n",
              "    <tr>\n",
              "      <th>181</th>\n",
              "      <td>연주</td>\n",
              "      <td>(늘 갈구는 방식이다, 울컥) 죄송합니다. 고작 오연주라서.\\n</td>\n",
              "      <td>[('(', 'Punctuation'), ('늘', 'Noun'), ('갈구다', ...</td>\n",
              "      <td>0.997181</td>\n",
              "    </tr>\n",
              "    <tr>\n",
              "      <th>216</th>\n",
              "      <td>석범</td>\n",
              "      <td>교수님.. 이거 싸인.. (다가오며 놀라 연주에게 눈빛으로 뭔 일인지 묻는데)\\n</td>\n",
              "      <td>[('교수', 'Noun'), ('님', 'Suffix'), ('..', 'Punc...</td>\n",
              "      <td>0.997608</td>\n",
              "    </tr>\n",
              "    <tr>\n",
              "      <th>429</th>\n",
              "      <td>지문</td>\n",
              "      <td>연주, 생각해보니 자기가 여기 왜 왔는지를 잊고 있었다.\\n내가 여기 왜 있었지.....</td>\n",
              "      <td>[('연주', 'Noun'), (',', 'Punctuation'), ('생각', ...</td>\n",
              "      <td>0.998215</td>\n",
              "    </tr>\n",
              "  </tbody>\n",
              "</table>\n",
              "<p>579 rows × 4 columns</p>\n",
              "</div>"
            ],
            "text/plain": [
              "     act  ...     label\n",
              "370   지문  ...  0.011458\n",
              "293   지문  ...  0.012698\n",
              "182  박교수  ...  0.013584\n",
              "75   C#1  ...  0.016045\n",
              "199   연주  ...  0.018282\n",
              "..   ...  ...       ...\n",
              "449   지문  ...  0.994697\n",
              "280   연주  ...  0.995663\n",
              "181   연주  ...  0.997181\n",
              "216   석범  ...  0.997608\n",
              "429   지문  ...  0.998215\n",
              "\n",
              "[579 rows x 4 columns]"
            ]
          },
          "metadata": {
            "tags": []
          },
          "execution_count": 27
        }
      ]
    },
    {
      "cell_type": "markdown",
      "metadata": {
        "id": "bvQJqTsJAZhU",
        "colab_type": "text"
      },
      "source": [
        "> 라벨이 0에 가까울수록 긍정, 1에 가까울수록 부정 으로 학습된 모델을 활용 하였으나, 이를 대본에 적용해본 결과 잘 맞지 않는다.\n",
        "대화체의 영화 리뷰와 정제되어 있는 대본과는 쓰는 단어의 차이가 나기 때문으로 판단된다."
      ]
    },
    {
      "cell_type": "markdown",
      "metadata": {
        "id": "l8hC1_ZMCiB-",
        "colab_type": "text"
      },
      "source": [
        "## 대사 연관분석\n",
        "* 대사들을 벡터화 하고 그 거리를 계산하여 연관성을 분석"
      ]
    },
    {
      "cell_type": "code",
      "metadata": {
        "id": "YeHBjTzeFNAl",
        "colab_type": "code",
        "colab": {}
      },
      "source": [
        "main_actor = ['연주','수봉','박교수','강철','소희','석범'] # 이전 분석에서 추출한 주요 인물들 : 연주 139 수봉 62 박교수 41 강철 28 소희 19 석범 13"
      ],
      "execution_count": 0,
      "outputs": []
    },
    {
      "cell_type": "code",
      "metadata": {
        "id": "UHxDB6SqFuEB",
        "colab_type": "code",
        "colab": {}
      },
      "source": [
        "script_by_actor = pd.DataFrame(index = main_actor)"
      ],
      "execution_count": 0,
      "outputs": []
    },
    {
      "cell_type": "code",
      "metadata": {
        "id": "HKa82tznIzFz",
        "colab_type": "code",
        "colab": {}
      },
      "source": [
        "for actor in main_actor: # 인물별로 대사들의 품사 테깅 데이터를 통합\n",
        "  script_by_actor.loc[actor, 'scripts'] = script_df[script_df['act'] == actor]['pos'].str.cat()"
      ],
      "execution_count": 0,
      "outputs": []
    },
    {
      "cell_type": "code",
      "metadata": {
        "id": "INPcAJP7Iy8k",
        "colab_type": "code",
        "colab": {
          "base_uri": "https://localhost:8080/",
          "height": 235
        },
        "outputId": "d4f9455c-8440-4caf-e8e8-011c34ce3a82"
      },
      "source": [
        "script_by_actor"
      ],
      "execution_count": 32,
      "outputs": [
        {
          "output_type": "execute_result",
          "data": {
            "text/html": [
              "<div>\n",
              "<style scoped>\n",
              "    .dataframe tbody tr th:only-of-type {\n",
              "        vertical-align: middle;\n",
              "    }\n",
              "\n",
              "    .dataframe tbody tr th {\n",
              "        vertical-align: top;\n",
              "    }\n",
              "\n",
              "    .dataframe thead th {\n",
              "        text-align: right;\n",
              "    }\n",
              "</style>\n",
              "<table border=\"1\" class=\"dataframe\">\n",
              "  <thead>\n",
              "    <tr style=\"text-align: right;\">\n",
              "      <th></th>\n",
              "      <th>scripts</th>\n",
              "    </tr>\n",
              "  </thead>\n",
              "  <tbody>\n",
              "    <tr>\n",
              "      <th>연주</th>\n",
              "      <td>[('(', 'Punctuation'), ('겨우', 'Noun'), ('보고', ...</td>\n",
              "    </tr>\n",
              "    <tr>\n",
              "      <th>수봉</th>\n",
              "      <td>[('(', 'Punctuation'), ('E', 'Alpha'), (')', '...</td>\n",
              "    </tr>\n",
              "    <tr>\n",
              "      <th>박교수</th>\n",
              "      <td>[('들어오다', 'Verb'), ('.', 'Punctuation'), ('\\n'...</td>\n",
              "    </tr>\n",
              "    <tr>\n",
              "      <th>강철</th>\n",
              "      <td>[('......', 'Punctuation')][('.....!', 'Punctu...</td>\n",
              "    </tr>\n",
              "    <tr>\n",
              "      <th>소희</th>\n",
              "      <td>[('아뇨', 'Noun'), ('.', 'Punctuation'), ('일대', ...</td>\n",
              "    </tr>\n",
              "    <tr>\n",
              "      <th>석범</th>\n",
              "      <td>[('(!!', 'Punctuation'), ('그', 'Noun'), ('소리',...</td>\n",
              "    </tr>\n",
              "  </tbody>\n",
              "</table>\n",
              "</div>"
            ],
            "text/plain": [
              "                                               scripts\n",
              "연주   [('(', 'Punctuation'), ('겨우', 'Noun'), ('보고', ...\n",
              "수봉   [('(', 'Punctuation'), ('E', 'Alpha'), (')', '...\n",
              "박교수  [('들어오다', 'Verb'), ('.', 'Punctuation'), ('\\n'...\n",
              "강철   [('......', 'Punctuation')][('.....!', 'Punctu...\n",
              "소희   [('아뇨', 'Noun'), ('.', 'Punctuation'), ('일대', ...\n",
              "석범   [('(!!', 'Punctuation'), ('그', 'Noun'), ('소리',..."
            ]
          },
          "metadata": {
            "tags": []
          },
          "execution_count": 32
        }
      ]
    },
    {
      "cell_type": "code",
      "metadata": {
        "id": "mNv021y-_Uw5",
        "colab_type": "code",
        "colab": {}
      },
      "source": [
        "from sklearn.feature_extraction.text import TfidfVectorizer"
      ],
      "execution_count": 0,
      "outputs": []
    },
    {
      "cell_type": "code",
      "metadata": {
        "id": "1cMZdB9CElat",
        "colab_type": "code",
        "colab": {}
      },
      "source": [
        "corvec = TfidfVectorizer()\n",
        "script_vec = corvec.fit_transform(script_by_actor['scripts'])"
      ],
      "execution_count": 0,
      "outputs": []
    },
    {
      "cell_type": "code",
      "metadata": {
        "id": "at6-pEWPKOp8",
        "colab_type": "code",
        "colab": {}
      },
      "source": [
        "import scipy # 벡터거리 계산 함수 https://steemit.com/kr/@anpigon/5\n",
        "def dist_norm(v1, v2):\n",
        "    v1_normalized = v1/scipy.sparse.linalg.norm(v1)\n",
        "    v2_normalized = v2/scipy.sparse.linalg.norm(v2)\n",
        "    delta = v1_normalized - v2_normalized\n",
        "    return scipy.sparse.linalg.norm(delta)"
      ],
      "execution_count": 0,
      "outputs": []
    },
    {
      "cell_type": "code",
      "metadata": {
        "id": "UX4nTo04O9qg",
        "colab_type": "code",
        "colab": {}
      },
      "source": [
        "cor_mat = np.zeros([6,6]) # 계산된 값을 상관 행렬로 정리\n",
        "for i in range(6):\n",
        "  for j in range(6):\n",
        "    cor_mat[i,j] = dist_norm(script_vec[i], script_vec[j])"
      ],
      "execution_count": 0,
      "outputs": []
    },
    {
      "cell_type": "code",
      "metadata": {
        "id": "8B7iYrjkPTzd",
        "colab_type": "code",
        "colab": {
          "base_uri": "https://localhost:8080/",
          "height": 283
        },
        "outputId": "d1884e9d-f9c8-4e7e-a855-e41badfdf195"
      },
      "source": [
        "import seaborn as sns\n",
        "sns.heatmap(cor_mat, annot=True) # ['연주','수봉','박교수','강철','소희','석범']"
      ],
      "execution_count": 37,
      "outputs": [
        {
          "output_type": "execute_result",
          "data": {
            "text/plain": [
              "<matplotlib.axes._subplots.AxesSubplot at 0x7f112719ba58>"
            ]
          },
          "metadata": {
            "tags": []
          },
          "execution_count": 37
        },
        {
          "output_type": "display_data",
          "data": {
            "image/png": "[encoded data removed]",
            "text/plain": [
              "<Figure size 432x288 with 2 Axes>"
            ]
          },
          "metadata": {
            "tags": []
          }
        }
      ]
    },
    {
      "cell_type": "markdown",
      "metadata": {
        "id": "vyRWBa8yQFOg",
        "colab_type": "text"
      },
      "source": [
        "> 수치가 낮을수록 유사함을 나타낸다. 연산을 토대로 보면 '연주'와 '수봉'이 가장 유사한 말을 쓰고 있고,'소희'와 '석범'이 가장 다른 말을 쓰고 있다고 볼 수 있다."
      ]
    },
    {
      "cell_type": "code",
      "metadata": {
        "id": "zjIwhSdbQpiB",
        "colab_type": "code",
        "colab": {
          "base_uri": "https://localhost:8080/",
          "height": 359
        },
        "outputId": "1ce208fb-380c-4368-8c56-82e0e2732196"
      },
      "source": [
        "script_df[(script_df['act']==\"연주\") | (script_df['act']==\"수봉\")].tail(10)"
      ],
      "execution_count": 38,
      "outputs": [
        {
          "output_type": "execute_result",
          "data": {
            "text/html": [
              "<div>\n",
              "<style scoped>\n",
              "    .dataframe tbody tr th:only-of-type {\n",
              "        vertical-align: middle;\n",
              "    }\n",
              "\n",
              "    .dataframe tbody tr th {\n",
              "        vertical-align: top;\n",
              "    }\n",
              "\n",
              "    .dataframe thead th {\n",
              "        text-align: right;\n",
              "    }\n",
              "</style>\n",
              "<table border=\"1\" class=\"dataframe\">\n",
              "  <thead>\n",
              "    <tr style=\"text-align: right;\">\n",
              "      <th></th>\n",
              "      <th>act</th>\n",
              "      <th>content</th>\n",
              "      <th>pos</th>\n",
              "      <th>label</th>\n",
              "    </tr>\n",
              "  </thead>\n",
              "  <tbody>\n",
              "    <tr>\n",
              "      <th>566</th>\n",
              "      <td>연주</td>\n",
              "      <td>(머리를 마구 헝클며) 이거 아빠가 그리는 게 아니야..!!\\n</td>\n",
              "      <td>[('(', 'Punctuation'), ('머리', 'Noun'), ('를', '...</td>\n",
              "      <td>0.152606</td>\n",
              "    </tr>\n",
              "    <tr>\n",
              "      <th>567</th>\n",
              "      <td>수봉</td>\n",
              "      <td>(? 이해 못하고) 그럼 누가 그려요? \\n</td>\n",
              "      <td>[('(?', 'Punctuation'), ('이해', 'Noun'), ('못', ...</td>\n",
              "      <td>0.294680</td>\n",
              "    </tr>\n",
              "    <tr>\n",
              "      <th>568</th>\n",
              "      <td>연주</td>\n",
              "      <td>이건 저절로 생겨난 거야..! 내가 강철을 살려내면서!! \\n</td>\n",
              "      <td>[('이', 'Determiner'), ('것', 'Noun'), ('은', 'Jo...</td>\n",
              "      <td>0.304304</td>\n",
              "    </tr>\n",
              "    <tr>\n",
              "      <th>569</th>\n",
              "      <td>수봉</td>\n",
              "      <td>에?\\n</td>\n",
              "      <td>[('에', 'Josa'), ('?', 'Punctuation'), ('\\n', '...</td>\n",
              "      <td>0.757596</td>\n",
              "    </tr>\n",
              "    <tr>\n",
              "      <th>570</th>\n",
              "      <td>연주</td>\n",
              "      <td>죽어야 될 강철이 살아나면서 스토리가 저절로 진행되고 있는 거라고!\\n</td>\n",
              "      <td>[('죽다', 'Verb'), ('되다', 'Verb'), ('강철', 'Noun'...</td>\n",
              "      <td>0.523396</td>\n",
              "    </tr>\n",
              "    <tr>\n",
              "      <th>571</th>\n",
              "      <td>수봉</td>\n",
              "      <td>(어이없는) 누나 저번부터 뭔 이상한 소리를 자꾸..\\n</td>\n",
              "      <td>[('(', 'Punctuation'), ('어이없다', 'Adjective'), ...</td>\n",
              "      <td>0.032150</td>\n",
              "    </tr>\n",
              "    <tr>\n",
              "      <th>572</th>\n",
              "      <td>연주</td>\n",
              "      <td>내 말이 무슨 말인지 모르겠어? 강철이 살아있다고!! 살아서 나를 찾고 있어!!\\n...</td>\n",
              "      <td>[('내', 'Noun'), ('말', 'Noun'), ('이', 'Josa'), ...</td>\n",
              "      <td>0.893146</td>\n",
              "    </tr>\n",
              "    <tr>\n",
              "      <th>573</th>\n",
              "      <td>수봉</td>\n",
              "      <td>(E) 누나 좀 진정하고.. 난 뭔 소리를 하는 건지\\n</td>\n",
              "      <td>[('(', 'Punctuation'), ('E', 'Alpha'), (')', '...</td>\n",
              "      <td>0.505930</td>\n",
              "    </tr>\n",
              "    <tr>\n",
              "      <th>575</th>\n",
              "      <td>연주</td>\n",
              "      <td>(살아있는 사람에게 말 걸 듯) 왜 나를 찾아 당신...? 날 찾아서 어쩌려고...?\\n</td>\n",
              "      <td>[('(', 'Punctuation'), ('살다', 'Verb'), ('사람', ...</td>\n",
              "      <td>0.841711</td>\n",
              "    </tr>\n",
              "    <tr>\n",
              "      <th>577</th>\n",
              "      <td>연주</td>\n",
              "      <td>왜 내가 당신 인생의 키가 되는데..?\\n</td>\n",
              "      <td>[('왜', 'Noun'), ('내', 'Noun'), ('가', 'Josa'), ...</td>\n",
              "      <td>0.718346</td>\n",
              "    </tr>\n",
              "  </tbody>\n",
              "</table>\n",
              "</div>"
            ],
            "text/plain": [
              "    act  ...     label\n",
              "566  연주  ...  0.152606\n",
              "567  수봉  ...  0.294680\n",
              "568  연주  ...  0.304304\n",
              "569  수봉  ...  0.757596\n",
              "570  연주  ...  0.523396\n",
              "571  수봉  ...  0.032150\n",
              "572  연주  ...  0.893146\n",
              "573  수봉  ...  0.505930\n",
              "575  연주  ...  0.841711\n",
              "577  연주  ...  0.718346\n",
              "\n",
              "[10 rows x 4 columns]"
            ]
          },
          "metadata": {
            "tags": []
          },
          "execution_count": 38
        }
      ]
    },
    {
      "cell_type": "markdown",
      "metadata": {
        "id": "jiEELVt6RaU3",
        "colab_type": "text"
      },
      "source": [
        "> 비슷해 보이기도 하고...사실 잘 모르겠다"
      ]
    },
    {
      "cell_type": "markdown",
      "metadata": {
        "id": "NrOp_gxLSD8p",
        "colab_type": "text"
      },
      "source": [
        "## 토픽 추출"
      ]
    },
    {
      "cell_type": "code",
      "metadata": {
        "id": "L8G1E1FDU4TE",
        "colab_type": "code",
        "colab": {}
      },
      "source": [
        "from gensim.summarization.summarizer import summarize"
      ],
      "execution_count": 0,
      "outputs": []
    },
    {
      "cell_type": "code",
      "metadata": {
        "id": "27nZZh6lVe6B",
        "colab_type": "code",
        "colab": {}
      },
      "source": [
        "text = script_df['content'].str.cat(sep=' ')"
      ],
      "execution_count": 0,
      "outputs": []
    },
    {
      "cell_type": "code",
      "metadata": {
        "id": "_PA7vU9-U4V1",
        "colab_type": "code",
        "colab": {
          "base_uri": "https://localhost:8080/",
          "height": 53
        },
        "outputId": "3d7a0a29-ea66-42f8-c25e-de5d1720a0f7"
      },
      "source": [
        "print(summarize(text, word_count=30)) # 이대로만 보면 살벌한 느낌의 드라마이다..."
      ],
      "execution_count": 41,
      "outputs": [
        {
          "output_type": "stream",
          "text": [
            "2위 선수, 마음대로 안 되자 작게 한 숨 쉬며 고개를 젓는데 강철의 얼굴에는 그제야 비로소 소년다운 미소가 싱긋 돈다.\n",
            "쓰러진 강철의 장면에 붉은 피를 채워 넣으며 미소 짓고 있는 성무의 모습이 보이고..\n"
          ],
          "name": "stdout"
        }
      ]
    },
    {
      "cell_type": "code",
      "metadata": {
        "id": "7FL-D9iLU4Y3",
        "colab_type": "code",
        "colab": {}
      },
      "source": [
        "text_yunju = script_df[script_df['act'] == '연주']['content'].str.cat(sep=' ')"
      ],
      "execution_count": 0,
      "outputs": []
    },
    {
      "cell_type": "code",
      "metadata": {
        "id": "J7_ZKFXXVVrw",
        "colab_type": "code",
        "colab": {
          "base_uri": "https://localhost:8080/",
          "height": 143
        },
        "outputId": "b1fa4837-5274-4021-e950-aca433ae1a72"
      },
      "source": [
        "print(summarize(text_yunju, word_count=30))"
      ],
      "execution_count": 43,
      "outputs": [
        {
          "output_type": "stream",
          "text": [
            "(중얼) 웬일이야~ 미친개가 만화 좋아하는 줄 진즉 알았으면 인생이 편했을텐데~ 그래도 이제라도 안 게 어디야?\n",
            "(반갑게) 수봉아~ 오랜만이다~\n",
            "(황당한) 여기가 어디야..?\n",
            "(버럭) 이봐요!!\n",
            "강철이 누군데..?\n",
            "너는 경찰에 신고한다고 나가고\n",
            "강철이 살아있다고!!\n"
          ],
          "name": "stdout"
        }
      ]
    },
    {
      "cell_type": "code",
      "metadata": {
        "id": "4QF3cbWzWjL3",
        "colab_type": "code",
        "colab": {
          "base_uri": "https://localhost:8080/",
          "height": 35
        },
        "outputId": "6121937c-8aa5-479e-91e8-cd86a9816f90"
      },
      "source": [
        "main_actor"
      ],
      "execution_count": 44,
      "outputs": [
        {
          "output_type": "execute_result",
          "data": {
            "text/plain": [
              "['연주', '수봉', '박교수', '강철', '소희', '석범']"
            ]
          },
          "metadata": {
            "tags": []
          },
          "execution_count": 44
        }
      ]
    },
    {
      "cell_type": "code",
      "metadata": {
        "id": "Gd2gj8apXPI3",
        "colab_type": "code",
        "colab": {
          "base_uri": "https://localhost:8080/",
          "height": 881
        },
        "outputId": "925d9b0b-0042-4e78-b3b4-86ca3133c54d"
      },
      "source": [
        "for actor in main_actor:\n",
        "  print(\"------------------\")\n",
        "  print(\"{}의 대사 요약\\n\".format(actor))\n",
        "  text_actor = script_df[script_df['act'] == actor]['content'].str.cat(sep=' ')\n",
        "  print(summarize(text_actor, word_count=30))\n"
      ],
      "execution_count": 45,
      "outputs": [
        {
          "output_type": "stream",
          "text": [
            "------------------\n",
            "연주의 대사 요약\n",
            "\n",
            "(중얼) 웬일이야~ 미친개가 만화 좋아하는 줄 진즉 알았으면 인생이 편했을텐데~ 그래도 이제라도 안 게 어디야?\n",
            "(반갑게) 수봉아~ 오랜만이다~\n",
            "(황당한) 여기가 어디야..?\n",
            "(버럭) 이봐요!!\n",
            "강철이 누군데..?\n",
            "너는 경찰에 신고한다고 나가고\n",
            "강철이 살아있다고!!\n",
            "------------------\n",
            "수봉의 대사 요약\n",
            "\n",
            "근데 누나 되게 이상한 게 뭐냐면요, 우리가 어제 밖에서 밤샘 작업을 했는데 한 번도 이 방에서 나오시질 않았거든요?\n",
            "우리가 얼마나 반대했다구요.\n",
            "선생님 속을 내가 어떻게 알아요?\n",
            "어디서 보내신 건진 모르겠지만 하여튼 지금 막 보내셨어요!\n",
            "------------------\n",
            "박교수의 대사 요약\n",
            "\n",
            "아버지는 무려 오성무 작가님이신데 딸은 왜 고작 오연주야??\n",
            "(짜증나, 보던 핸드폰을 흔들며) 임마, 아버지가 딸 사랑하는 마음은 십분 이해하지만 말야, 만화 캐릭터를 이렇게 오연주라고 대놓고 해버리시면 나 같은 독자는 어떻게 보냐?\n",
            "------------------\n",
            "강철의 대사 요약\n",
            "\n",
            "(구겨진 명함을 받아들고 읽는) 흉부외과 레지던트 오연주..?\n",
            "아무래도 이 여자가 내 인생의 키를 쥔 거 같으니까.\n",
            "내 존재의 이유.\n",
            "내 존재의 이유를 밝혀줄 키가 그 여자 같아.\n",
            "(진지하게) 오연주..\n",
            "------------------\n",
            "소희의 대사 요약\n",
            "\n",
            "(그 말에 순간 기분 상하는) 대표님 인생의 키요..?\n",
            "(눈 가늘게 뜨며) 근데 인생의 키라고요?\n",
            "그게 아님 어떻게 처음 본 여자가 인생의 키가 되나요?\n",
            "대표님 인생의 키가 될 여자는 결코 미인이 아니라고.\n",
            "------------------\n",
            "석범의 대사 요약\n",
            "\n",
            "그 소리에 자동으로 벌떡 일어나는)\n",
            "(혼비백산 전화 받는) 네 교수님!\n",
            "석범입니다!\n",
            "오연주요?\n",
            "교수님 저도 좀 아는데요, 얘네 아버지가 얄짤 없으시더라구요.\n",
            "(억울한) 교수님 이건 공정한 처사가 아니신 거 같은데요.\n",
            "교수님?\n",
            "교수님?\n"
          ],
          "name": "stdout"
        }
      ]
    },
    {
      "cell_type": "markdown",
      "metadata": {
        "id": "XND5T8h4YIkB",
        "colab_type": "text"
      },
      "source": [
        "* 인물들의 대사를 추출하니 그 인물의 성향이 들어나는거 같긴 합니다.\n",
        "위 요약들이 어떻게 추출되었는지에 대한 알고리즘은 https://excelsior-cjh.tistory.com/93"
      ]
    }
  ]
}