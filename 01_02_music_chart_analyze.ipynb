{
  "nbformat": 4,
  "nbformat_minor": 0,
  "metadata": {
    "colab": {
      "name": "01_02 music chart analyze.ipynb",
      "version": "0.3.2",
      "provenance": [],
      "collapsed_sections": [],
      "include_colab_link": true
    },
    "kernelspec": {
      "name": "python3",
      "display_name": "Python 3"
    }
  },
  "cells": [
    {
      "cell_type": "markdown",
      "metadata": {
        "id": "view-in-github",
        "colab_type": "text"
      },
      "source": [
        "<a href=\"https://colab.research.google.com/github/jaygo-kr/brunch/blob/master/01_02_music_chart_analyze.ipynb\" target=\"_parent\"><img src=\"https://colab.research.google.com/assets/colab-badge.svg\" alt=\"Open In Colab\"/></a>"
      ]
    },
    {
      "cell_type": "markdown",
      "metadata": {
        "id": "mQ5KF0ZfU8xw",
        "colab_type": "text"
      },
      "source": [
        "# 음악차트 데이터 분석 및 시각화\n",
        "\n",
        "\n",
        "기존에 추출한 네이버뮤직 - 시대별 음악 차트 활용 \n",
        "\n",
        "[네이버 뮤직 - 시대별 음악 크롤링하기](https://github.com/jaygo-kr/brunch/blob/master/01_01_get_naver_best_music.ipynb)\n"
      ]
    },
    {
      "cell_type": "code",
      "metadata": {
        "id": "YDqKZIGsS4aq",
        "colab_type": "code",
        "outputId": "3fcb6c27-48ca-4acc-d0b5-1bbaf04e9cbc",
        "colab": {
          "base_uri": "https://localhost:8080/",
          "height": 34
        }
      },
      "source": [
        "import os\n",
        "import numpy as np\n",
        "import pandas as pd\n",
        "from google.colab import files, drive\n",
        "drive.mount('/content/gdrive')"
      ],
      "execution_count": 1,
      "outputs": [
        {
          "output_type": "stream",
          "text": [
            "Drive already mounted at /content/gdrive; to attempt to forcibly remount, call drive.mount(\"/content/gdrive\", force_remount=True).\n"
          ],
          "name": "stdout"
        }
      ]
    },
    {
      "cell_type": "code",
      "metadata": {
        "id": "AHJrs1v4kvc2",
        "colab_type": "code",
        "colab": {}
      },
      "source": [
        "! apt-get install fonts-nanum* # 한글 출력을 위한 글꼴 설치"
      ],
      "execution_count": 0,
      "outputs": []
    },
    {
      "cell_type": "code",
      "metadata": {
        "id": "SvAs0thvS4eM",
        "colab_type": "code",
        "colab": {}
      },
      "source": [
        "os.listdir('./gdrive/My Drive/Colab/data/') # 01_01 get_naver_best_music.ipynb 로 생성한 음악차트 위치 확인"
      ],
      "execution_count": 0,
      "outputs": []
    },
    {
      "cell_type": "code",
      "metadata": {
        "id": "4lG_r9zDS4gy",
        "colab_type": "code",
        "colab": {}
      },
      "source": [
        "music_data = pd.read_csv('./gdrive/My Drive/Colab/data/merged_data.csv')"
      ],
      "execution_count": 0,
      "outputs": []
    },
    {
      "cell_type": "markdown",
      "metadata": {
        "id": "zDU8dMc3ZwI3",
        "colab_type": "text"
      },
      "source": [
        "## 1. 시대별 TOP 10"
      ]
    },
    {
      "cell_type": "code",
      "metadata": {
        "id": "kTzwGIA1TJjk",
        "colab_type": "code",
        "outputId": "aa3a5683-f8c4-4a27-a071-fce951c5f2ed",
        "colab": {
          "base_uri": "https://localhost:8080/",
          "height": 343
        }
      },
      "source": [
        "music_data[music_data['시대']==1980][['곡명','아티스트','앨범','시대','장르']].head(10).reset_index(drop=True)"
      ],
      "execution_count": 5,
      "outputs": [
        {
          "output_type": "execute_result",
          "data": {
            "text/html": [
              "<div>\n",
              "<style scoped>\n",
              "    .dataframe tbody tr th:only-of-type {\n",
              "        vertical-align: middle;\n",
              "    }\n",
              "\n",
              "    .dataframe tbody tr th {\n",
              "        vertical-align: top;\n",
              "    }\n",
              "\n",
              "    .dataframe thead th {\n",
              "        text-align: right;\n",
              "    }\n",
              "</style>\n",
              "<table border=\"1\" class=\"dataframe\">\n",
              "  <thead>\n",
              "    <tr style=\"text-align: right;\">\n",
              "      <th></th>\n",
              "      <th>곡명</th>\n",
              "      <th>아티스트</th>\n",
              "      <th>앨범</th>\n",
              "      <th>시대</th>\n",
              "      <th>장르</th>\n",
              "    </tr>\n",
              "  </thead>\n",
              "  <tbody>\n",
              "    <tr>\n",
              "      <th>0</th>\n",
              "      <td>가로수 그늘아래 서면</td>\n",
              "      <td>이문세</td>\n",
              "      <td>5집 가로수 그늘아래서면</td>\n",
              "      <td>1980</td>\n",
              "      <td>발라드</td>\n",
              "    </tr>\n",
              "    <tr>\n",
              "      <th>1</th>\n",
              "      <td>사랑하기 때문에</td>\n",
              "      <td>유재하</td>\n",
              "      <td>1집 사랑하기 때문에</td>\n",
              "      <td>1980</td>\n",
              "      <td>발라드</td>\n",
              "    </tr>\n",
              "    <tr>\n",
              "      <th>2</th>\n",
              "      <td>너에게로 또 다시</td>\n",
              "      <td>변진섭</td>\n",
              "      <td>2집 너에게로 또다시</td>\n",
              "      <td>1980</td>\n",
              "      <td>발라드</td>\n",
              "    </tr>\n",
              "    <tr>\n",
              "      <th>3</th>\n",
              "      <td>가리워진 길</td>\n",
              "      <td>유재하</td>\n",
              "      <td>1집 사랑하기 때문에</td>\n",
              "      <td>1980</td>\n",
              "      <td>발라드</td>\n",
              "    </tr>\n",
              "    <tr>\n",
              "      <th>4</th>\n",
              "      <td>비처럼 음악처럼</td>\n",
              "      <td>김현식</td>\n",
              "      <td>3집 비처럼 음악처럼</td>\n",
              "      <td>1980</td>\n",
              "      <td>발라드</td>\n",
              "    </tr>\n",
              "    <tr>\n",
              "      <th>5</th>\n",
              "      <td>그대 내 품에</td>\n",
              "      <td>유재하</td>\n",
              "      <td>1집 사랑하기 때문에</td>\n",
              "      <td>1980</td>\n",
              "      <td>발라드</td>\n",
              "    </tr>\n",
              "    <tr>\n",
              "      <th>6</th>\n",
              "      <td>나 항상 그대를</td>\n",
              "      <td>이선희</td>\n",
              "      <td>4집 사랑이 지는 이자리</td>\n",
              "      <td>1980</td>\n",
              "      <td>발라드</td>\n",
              "    </tr>\n",
              "    <tr>\n",
              "      <th>7</th>\n",
              "      <td>내 마음에 비친 내 모습</td>\n",
              "      <td>유재하</td>\n",
              "      <td>1집 사랑하기 때문에</td>\n",
              "      <td>1980</td>\n",
              "      <td>발라드</td>\n",
              "    </tr>\n",
              "    <tr>\n",
              "      <th>8</th>\n",
              "      <td>그 아픔까지 사랑한거야</td>\n",
              "      <td>조정현</td>\n",
              "      <td>1집 그 아픔까지 사랑한거야</td>\n",
              "      <td>1980</td>\n",
              "      <td>발라드</td>\n",
              "    </tr>\n",
              "    <tr>\n",
              "      <th>9</th>\n",
              "      <td>광화문 연가</td>\n",
              "      <td>이문세</td>\n",
              "      <td>5집 가로수 그늘아래서면</td>\n",
              "      <td>1980</td>\n",
              "      <td>발라드</td>\n",
              "    </tr>\n",
              "  </tbody>\n",
              "</table>\n",
              "</div>"
            ],
            "text/plain": [
              "              곡명 아티스트               앨범    시대   장르\n",
              "0    가로수 그늘아래 서면  이문세    5집 가로수 그늘아래서면  1980  발라드\n",
              "1       사랑하기 때문에  유재하      1집 사랑하기 때문에  1980  발라드\n",
              "2      너에게로 또 다시  변진섭      2집 너에게로 또다시  1980  발라드\n",
              "3         가리워진 길  유재하      1집 사랑하기 때문에  1980  발라드\n",
              "4       비처럼 음악처럼  김현식      3집 비처럼 음악처럼  1980  발라드\n",
              "5        그대 내 품에  유재하      1집 사랑하기 때문에  1980  발라드\n",
              "6       나 항상 그대를  이선희    4집 사랑이 지는 이자리  1980  발라드\n",
              "7  내 마음에 비친 내 모습  유재하      1집 사랑하기 때문에  1980  발라드\n",
              "8   그 아픔까지 사랑한거야  조정현  1집 그 아픔까지 사랑한거야  1980  발라드\n",
              "9         광화문 연가  이문세    5집 가로수 그늘아래서면  1980  발라드"
            ]
          },
          "metadata": {
            "tags": []
          },
          "execution_count": 5
        }
      ]
    },
    {
      "cell_type": "code",
      "metadata": {
        "id": "zxxafpPtZQcF",
        "colab_type": "code",
        "colab": {
          "base_uri": "https://localhost:8080/",
          "height": 343
        },
        "outputId": "dcb256b7-d4f3-47de-bb9c-8688b03eba42"
      },
      "source": [
        "music_data[music_data['시대']==1990][['곡명','아티스트','앨범','시대','장르']].head(10).reset_index(drop=True)"
      ],
      "execution_count": 6,
      "outputs": [
        {
          "output_type": "execute_result",
          "data": {
            "text/html": [
              "<div>\n",
              "<style scoped>\n",
              "    .dataframe tbody tr th:only-of-type {\n",
              "        vertical-align: middle;\n",
              "    }\n",
              "\n",
              "    .dataframe tbody tr th {\n",
              "        vertical-align: top;\n",
              "    }\n",
              "\n",
              "    .dataframe thead th {\n",
              "        text-align: right;\n",
              "    }\n",
              "</style>\n",
              "<table border=\"1\" class=\"dataframe\">\n",
              "  <thead>\n",
              "    <tr style=\"text-align: right;\">\n",
              "      <th></th>\n",
              "      <th>곡명</th>\n",
              "      <th>아티스트</th>\n",
              "      <th>앨범</th>\n",
              "      <th>시대</th>\n",
              "      <th>장르</th>\n",
              "    </tr>\n",
              "  </thead>\n",
              "  <tbody>\n",
              "    <tr>\n",
              "      <th>0</th>\n",
              "      <td>커플</td>\n",
              "      <td>젝스키스</td>\n",
              "      <td>3.5집 Special Album</td>\n",
              "      <td>1990</td>\n",
              "      <td>발라드</td>\n",
              "    </tr>\n",
              "    <tr>\n",
              "      <th>1</th>\n",
              "      <td>여전히 아름다운지</td>\n",
              "      <td>김연우</td>\n",
              "      <td>4집 A Night In Seoul</td>\n",
              "      <td>1990</td>\n",
              "      <td>발라드</td>\n",
              "    </tr>\n",
              "    <tr>\n",
              "      <th>2</th>\n",
              "      <td>아름다운 이별</td>\n",
              "      <td>김건모</td>\n",
              "      <td>3집 잘못된 만남</td>\n",
              "      <td>1990</td>\n",
              "      <td>발라드</td>\n",
              "    </tr>\n",
              "    <tr>\n",
              "      <th>3</th>\n",
              "      <td>회상 (December)</td>\n",
              "      <td>터보</td>\n",
              "      <td>3집 Born Again</td>\n",
              "      <td>1990</td>\n",
              "      <td>발라드</td>\n",
              "    </tr>\n",
              "    <tr>\n",
              "      <th>4</th>\n",
              "      <td>기억의 습작</td>\n",
              "      <td>전람회</td>\n",
              "      <td>1집 Exhibition</td>\n",
              "      <td>1990</td>\n",
              "      <td>발라드</td>\n",
              "    </tr>\n",
              "    <tr>\n",
              "      <th>5</th>\n",
              "      <td>To Heaven (천국으로 보낸 편지)</td>\n",
              "      <td>조성모</td>\n",
              "      <td>1집 To Heaven</td>\n",
              "      <td>1990</td>\n",
              "      <td>발라드</td>\n",
              "    </tr>\n",
              "    <tr>\n",
              "      <th>6</th>\n",
              "      <td>내가 너의 곁에 잠시 살았다는 걸</td>\n",
              "      <td>김연우</td>\n",
              "      <td>2집 Youheeyeol</td>\n",
              "      <td>1990</td>\n",
              "      <td>발라드</td>\n",
              "    </tr>\n",
              "    <tr>\n",
              "      <th>7</th>\n",
              "      <td>바보</td>\n",
              "      <td>박효신</td>\n",
              "      <td>1집 해줄 수 없는 일</td>\n",
              "      <td>1990</td>\n",
              "      <td>발라드</td>\n",
              "    </tr>\n",
              "    <tr>\n",
              "      <th>8</th>\n",
              "      <td>내 눈물 모아</td>\n",
              "      <td>서지원</td>\n",
              "      <td>2집 Tears</td>\n",
              "      <td>1990</td>\n",
              "      <td>발라드</td>\n",
              "    </tr>\n",
              "    <tr>\n",
              "      <th>9</th>\n",
              "      <td>Rain</td>\n",
              "      <td>이적</td>\n",
              "      <td>1집 Dead End</td>\n",
              "      <td>1990</td>\n",
              "      <td>발라드</td>\n",
              "    </tr>\n",
              "  </tbody>\n",
              "</table>\n",
              "</div>"
            ],
            "text/plain": [
              "                       곡명  아티스트                   앨범    시대   장르\n",
              "0                      커플  젝스키스   3.5집 Special Album  1990  발라드\n",
              "1               여전히 아름다운지   김연우  4집 A Night In Seoul  1990  발라드\n",
              "2                 아름다운 이별   김건모            3집 잘못된 만남  1990  발라드\n",
              "3           회상 (December)    터보        3집 Born Again  1990  발라드\n",
              "4                  기억의 습작   전람회        1집 Exhibition  1990  발라드\n",
              "5  To Heaven (천국으로 보낸 편지)   조성모         1집 To Heaven  1990  발라드\n",
              "6      내가 너의 곁에 잠시 살았다는 걸   김연우        2집 Youheeyeol  1990  발라드\n",
              "7                      바보   박효신         1집 해줄 수 없는 일  1990  발라드\n",
              "8                 내 눈물 모아   서지원             2집 Tears  1990  발라드\n",
              "9                    Rain    이적          1집 Dead End  1990  발라드"
            ]
          },
          "metadata": {
            "tags": []
          },
          "execution_count": 6
        }
      ]
    },
    {
      "cell_type": "code",
      "metadata": {
        "id": "LL3tVQFCZSrX",
        "colab_type": "code",
        "colab": {
          "base_uri": "https://localhost:8080/",
          "height": 343
        },
        "outputId": "678553cc-d823-4bd7-b8af-87dc81b095de"
      },
      "source": [
        "music_data[music_data['시대']==2000][['곡명','아티스트','앨범','시대','장르']].head(10).reset_index(drop=True)"
      ],
      "execution_count": 7,
      "outputs": [
        {
          "output_type": "execute_result",
          "data": {
            "text/html": [
              "<div>\n",
              "<style scoped>\n",
              "    .dataframe tbody tr th:only-of-type {\n",
              "        vertical-align: middle;\n",
              "    }\n",
              "\n",
              "    .dataframe tbody tr th {\n",
              "        vertical-align: top;\n",
              "    }\n",
              "\n",
              "    .dataframe thead th {\n",
              "        text-align: right;\n",
              "    }\n",
              "</style>\n",
              "<table border=\"1\" class=\"dataframe\">\n",
              "  <thead>\n",
              "    <tr style=\"text-align: right;\">\n",
              "      <th></th>\n",
              "      <th>곡명</th>\n",
              "      <th>아티스트</th>\n",
              "      <th>앨범</th>\n",
              "      <th>시대</th>\n",
              "      <th>장르</th>\n",
              "    </tr>\n",
              "  </thead>\n",
              "  <tbody>\n",
              "    <tr>\n",
              "      <th>0</th>\n",
              "      <td>소주 한 잔</td>\n",
              "      <td>임창정</td>\n",
              "      <td>10집 Bye</td>\n",
              "      <td>2000</td>\n",
              "      <td>발라드</td>\n",
              "    </tr>\n",
              "    <tr>\n",
              "      <th>1</th>\n",
              "      <td>눈의 꽃</td>\n",
              "      <td>박효신</td>\n",
              "      <td>미안하다 사랑한다 OST (KBS 미니시리즈)</td>\n",
              "      <td>2000</td>\n",
              "      <td>발라드</td>\n",
              "    </tr>\n",
              "    <tr>\n",
              "      <th>2</th>\n",
              "      <td>벌써 일년</td>\n",
              "      <td>브라운 아이즈</td>\n",
              "      <td>1집 Brown Eyes</td>\n",
              "      <td>2000</td>\n",
              "      <td>발라드</td>\n",
              "    </tr>\n",
              "    <tr>\n",
              "      <th>3</th>\n",
              "      <td>어떻게 사랑이 그래요</td>\n",
              "      <td>이승환</td>\n",
              "      <td>9집 Hwantastic</td>\n",
              "      <td>2000</td>\n",
              "      <td>발라드</td>\n",
              "    </tr>\n",
              "    <tr>\n",
              "      <th>4</th>\n",
              "      <td>거리에서</td>\n",
              "      <td>성시경</td>\n",
              "      <td>5집 The Ballads</td>\n",
              "      <td>2000</td>\n",
              "      <td>발라드</td>\n",
              "    </tr>\n",
              "    <tr>\n",
              "      <th>5</th>\n",
              "      <td>친구라도 될걸 그랬어</td>\n",
              "      <td>거미</td>\n",
              "      <td>1집 Like Them</td>\n",
              "      <td>2000</td>\n",
              "      <td>발라드</td>\n",
              "    </tr>\n",
              "    <tr>\n",
              "      <th>6</th>\n",
              "      <td>두 사람</td>\n",
              "      <td>성시경</td>\n",
              "      <td>4집 다시 꿈꾸고 싶다</td>\n",
              "      <td>2000</td>\n",
              "      <td>발라드</td>\n",
              "    </tr>\n",
              "    <tr>\n",
              "      <th>7</th>\n",
              "      <td>다시 사랑한다 말할까</td>\n",
              "      <td>김동률</td>\n",
              "      <td>3집 귀향 (歸鄕)</td>\n",
              "      <td>2000</td>\n",
              "      <td>발라드</td>\n",
              "    </tr>\n",
              "    <tr>\n",
              "      <th>8</th>\n",
              "      <td>만약에</td>\n",
              "      <td>태연 (TAEYEON)</td>\n",
              "      <td>쾌도홍길동 OST (KBS 드라마)</td>\n",
              "      <td>2000</td>\n",
              "      <td>발라드</td>\n",
              "    </tr>\n",
              "    <tr>\n",
              "      <th>9</th>\n",
              "      <td>사랑한 후에</td>\n",
              "      <td>박효신</td>\n",
              "      <td>6집 Gift Part.1</td>\n",
              "      <td>2000</td>\n",
              "      <td>발라드</td>\n",
              "    </tr>\n",
              "  </tbody>\n",
              "</table>\n",
              "</div>"
            ],
            "text/plain": [
              "            곡명          아티스트                         앨범    시대   장르\n",
              "0       소주 한 잔           임창정                    10집 Bye  2000  발라드\n",
              "1         눈의 꽃           박효신  미안하다 사랑한다 OST (KBS 미니시리즈)  2000  발라드\n",
              "2        벌써 일년       브라운 아이즈              1집 Brown Eyes  2000  발라드\n",
              "3  어떻게 사랑이 그래요           이승환              9집 Hwantastic  2000  발라드\n",
              "4         거리에서           성시경             5집 The Ballads  2000  발라드\n",
              "5  친구라도 될걸 그랬어            거미               1집 Like Them  2000  발라드\n",
              "6         두 사람           성시경               4집 다시 꿈꾸고 싶다  2000  발라드\n",
              "7  다시 사랑한다 말할까           김동률                 3집 귀향 (歸鄕)  2000  발라드\n",
              "8          만약에  태연 (TAEYEON)        쾌도홍길동 OST (KBS 드라마)  2000  발라드\n",
              "9       사랑한 후에           박효신             6집 Gift Part.1  2000  발라드"
            ]
          },
          "metadata": {
            "tags": []
          },
          "execution_count": 7
        }
      ]
    },
    {
      "cell_type": "code",
      "metadata": {
        "id": "UHrVjT1xZVZP",
        "colab_type": "code",
        "colab": {
          "base_uri": "https://localhost:8080/",
          "height": 343
        },
        "outputId": "95b019fd-c1ed-48c0-975d-d6ac3f158d7b"
      },
      "source": [
        "music_data[music_data['시대']==2010][['곡명','아티스트','앨범','시대','장르']].head(10).reset_index(drop=True)"
      ],
      "execution_count": 8,
      "outputs": [
        {
          "output_type": "execute_result",
          "data": {
            "text/html": [
              "<div>\n",
              "<style scoped>\n",
              "    .dataframe tbody tr th:only-of-type {\n",
              "        vertical-align: middle;\n",
              "    }\n",
              "\n",
              "    .dataframe tbody tr th {\n",
              "        vertical-align: top;\n",
              "    }\n",
              "\n",
              "    .dataframe thead th {\n",
              "        text-align: right;\n",
              "    }\n",
              "</style>\n",
              "<table border=\"1\" class=\"dataframe\">\n",
              "  <thead>\n",
              "    <tr style=\"text-align: right;\">\n",
              "      <th></th>\n",
              "      <th>곡명</th>\n",
              "      <th>아티스트</th>\n",
              "      <th>앨범</th>\n",
              "      <th>시대</th>\n",
              "      <th>장르</th>\n",
              "    </tr>\n",
              "  </thead>\n",
              "  <tbody>\n",
              "    <tr>\n",
              "      <th>0</th>\n",
              "      <td>그대네요 (With 아이유)</td>\n",
              "      <td>성시경</td>\n",
              "      <td>그대네요</td>\n",
              "      <td>2010</td>\n",
              "      <td>발라드</td>\n",
              "    </tr>\n",
              "    <tr>\n",
              "      <th>1</th>\n",
              "      <td>끝사랑</td>\n",
              "      <td>김범수</td>\n",
              "      <td>7집 SOLISTA Part 2</td>\n",
              "      <td>2010</td>\n",
              "      <td>발라드</td>\n",
              "    </tr>\n",
              "    <tr>\n",
              "      <th>2</th>\n",
              "      <td>너는 나의 봄이다</td>\n",
              "      <td>성시경</td>\n",
              "      <td>시크릿 가든 OST Part 4</td>\n",
              "      <td>2010</td>\n",
              "      <td>발라드</td>\n",
              "    </tr>\n",
              "    <tr>\n",
              "      <th>3</th>\n",
              "      <td>그 사람</td>\n",
              "      <td>이승철</td>\n",
              "      <td>제빵왕 김탁구 OST Part 3</td>\n",
              "      <td>2010</td>\n",
              "      <td>발라드</td>\n",
              "    </tr>\n",
              "    <tr>\n",
              "      <th>4</th>\n",
              "      <td>나만 몰랐던 이야기</td>\n",
              "      <td>아이유(IU)</td>\n",
              "      <td>Real +</td>\n",
              "      <td>2010</td>\n",
              "      <td>발라드</td>\n",
              "    </tr>\n",
              "    <tr>\n",
              "      <th>5</th>\n",
              "      <td>미워요</td>\n",
              "      <td>정인</td>\n",
              "      <td>정인 From Andromeda</td>\n",
              "      <td>2010</td>\n",
              "      <td>발라드</td>\n",
              "    </tr>\n",
              "    <tr>\n",
              "      <th>6</th>\n",
              "      <td>비가 오는 날엔</td>\n",
              "      <td>비스트(Beast)</td>\n",
              "      <td>비가 오는 날엔</td>\n",
              "      <td>2010</td>\n",
              "      <td>발라드</td>\n",
              "    </tr>\n",
              "    <tr>\n",
              "      <th>7</th>\n",
              "      <td>hello</td>\n",
              "      <td>허각</td>\n",
              "      <td>LIKE 1st MINI ALBUM 'First Story'</td>\n",
              "      <td>2010</td>\n",
              "      <td>발라드</td>\n",
              "    </tr>\n",
              "    <tr>\n",
              "      <th>8</th>\n",
              "      <td>가슴 시린 이야기 (Feat. 용준형 of BEAST)</td>\n",
              "      <td>휘성</td>\n",
              "      <td>가슴 시린 이야기</td>\n",
              "      <td>2010</td>\n",
              "      <td>발라드</td>\n",
              "    </tr>\n",
              "    <tr>\n",
              "      <th>9</th>\n",
              "      <td>못해 (Feat. 美)</td>\n",
              "      <td>포맨</td>\n",
              "      <td>The 3rd Generation (Special Album)</td>\n",
              "      <td>2010</td>\n",
              "      <td>발라드</td>\n",
              "    </tr>\n",
              "  </tbody>\n",
              "</table>\n",
              "</div>"
            ],
            "text/plain": [
              "                               곡명        아티스트  \\\n",
              "0                 그대네요 (With 아이유)         성시경   \n",
              "1                             끝사랑         김범수   \n",
              "2                       너는 나의 봄이다         성시경   \n",
              "3                            그 사람         이승철   \n",
              "4                      나만 몰랐던 이야기     아이유(IU)   \n",
              "5                             미워요          정인   \n",
              "6                        비가 오는 날엔  비스트(Beast)   \n",
              "7                           hello          허각   \n",
              "8  가슴 시린 이야기 (Feat. 용준형 of BEAST)          휘성   \n",
              "9                    못해 (Feat. 美)          포맨   \n",
              "\n",
              "                                   앨범    시대   장르  \n",
              "0                                그대네요  2010  발라드  \n",
              "1                   7집 SOLISTA Part 2  2010  발라드  \n",
              "2                   시크릿 가든 OST Part 4  2010  발라드  \n",
              "3                  제빵왕 김탁구 OST Part 3  2010  발라드  \n",
              "4                              Real +  2010  발라드  \n",
              "5                   정인 From Andromeda  2010  발라드  \n",
              "6                            비가 오는 날엔  2010  발라드  \n",
              "7   LIKE 1st MINI ALBUM 'First Story'  2010  발라드  \n",
              "8                           가슴 시린 이야기  2010  발라드  \n",
              "9  The 3rd Generation (Special Album)  2010  발라드  "
            ]
          },
          "metadata": {
            "tags": []
          },
          "execution_count": 8
        }
      ]
    },
    {
      "cell_type": "code",
      "metadata": {
        "id": "VhFkVodMTJmP",
        "colab_type": "code",
        "outputId": "e8b86db5-96d9-481c-f390-bfaac7df3823",
        "colab": {
          "base_uri": "https://localhost:8080/",
          "height": 34
        }
      },
      "source": [
        "music_data.shape"
      ],
      "execution_count": 9,
      "outputs": [
        {
          "output_type": "execute_result",
          "data": {
            "text/plain": [
              "(17575, 9)"
            ]
          },
          "metadata": {
            "tags": []
          },
          "execution_count": 9
        }
      ]
    },
    {
      "cell_type": "code",
      "metadata": {
        "id": "XqEqnvtWWYJ4",
        "colab_type": "code",
        "colab": {}
      },
      "source": [
        "# 루프에 활용할 변수 설정\n",
        "ERA = music_data['시대'].unique()\n",
        "GENRE = music_data['장르'].unique()"
      ],
      "execution_count": 0,
      "outputs": []
    },
    {
      "cell_type": "markdown",
      "metadata": {
        "id": "SdFbOxbkRARx",
        "colab_type": "text"
      },
      "source": [
        "## 2. 아티스트 다양성"
      ]
    },
    {
      "cell_type": "markdown",
      "metadata": {
        "id": "kMsIQVnMRJId",
        "colab_type": "text"
      },
      "source": [
        "\n",
        "\n",
        "*   차트에 존재하는 아티스트의 수\n",
        "\n"
      ]
    },
    {
      "cell_type": "code",
      "metadata": {
        "id": "1MJqXlc9TJou",
        "colab_type": "code",
        "outputId": "68888b15-8071-4ba2-92d4-97a7d5d5961f",
        "colab": {
          "base_uri": "https://localhost:8080/",
          "height": 34
        }
      },
      "source": [
        "len(music_data['아티스트'].unique())"
      ],
      "execution_count": 11,
      "outputs": [
        {
          "output_type": "execute_result",
          "data": {
            "text/plain": [
              "2339"
            ]
          },
          "metadata": {
            "tags": []
          },
          "execution_count": 11
        }
      ]
    },
    {
      "cell_type": "markdown",
      "metadata": {
        "id": "b7320KYnRQPY",
        "colab_type": "text"
      },
      "source": [
        "* 시대별 아티스트의 다양성"
      ]
    },
    {
      "cell_type": "code",
      "metadata": {
        "id": "lvvlTl3YTJq_",
        "colab_type": "code",
        "colab": {}
      },
      "source": [
        "era_static = pd.DataFrame(columns=['ERA','music_num','artist_num'])\n",
        "for era in ERA:\n",
        "  music_num = len(music_data[music_data['시대']==era])\n",
        "  artist_num = len(music_data[music_data['시대']==era]['아티스트'].unique())\n",
        "  era_static = era_static.append({'ERA':era, 'music_num':music_num ,'artist_num':artist_num}, ignore_index=True)\n",
        "era_static['ratio'] = era_static['artist_num']/era_static['music_num'] # for문에 포함하면 전체 값이 float이 되어서 별도 수행"
      ],
      "execution_count": 0,
      "outputs": []
    },
    {
      "cell_type": "code",
      "metadata": {
        "id": "2isyiWXRWj85",
        "colab_type": "code",
        "outputId": "ad974825-1e91-460c-f203-012869cdee13",
        "colab": {
          "base_uri": "https://localhost:8080/",
          "height": 166
        }
      },
      "source": [
        "era_static"
      ],
      "execution_count": 13,
      "outputs": [
        {
          "output_type": "execute_result",
          "data": {
            "text/html": [
              "<div>\n",
              "<style scoped>\n",
              "    .dataframe tbody tr th:only-of-type {\n",
              "        vertical-align: middle;\n",
              "    }\n",
              "\n",
              "    .dataframe tbody tr th {\n",
              "        vertical-align: top;\n",
              "    }\n",
              "\n",
              "    .dataframe thead th {\n",
              "        text-align: right;\n",
              "    }\n",
              "</style>\n",
              "<table border=\"1\" class=\"dataframe\">\n",
              "  <thead>\n",
              "    <tr style=\"text-align: right;\">\n",
              "      <th></th>\n",
              "      <th>ERA</th>\n",
              "      <th>music_num</th>\n",
              "      <th>artist_num</th>\n",
              "      <th>ratio</th>\n",
              "    </tr>\n",
              "  </thead>\n",
              "  <tbody>\n",
              "    <tr>\n",
              "      <th>0</th>\n",
              "      <td>1980</td>\n",
              "      <td>3094</td>\n",
              "      <td>337</td>\n",
              "      <td>0.10892</td>\n",
              "    </tr>\n",
              "    <tr>\n",
              "      <th>1</th>\n",
              "      <td>1990</td>\n",
              "      <td>4486</td>\n",
              "      <td>702</td>\n",
              "      <td>0.156487</td>\n",
              "    </tr>\n",
              "    <tr>\n",
              "      <th>2</th>\n",
              "      <td>2000</td>\n",
              "      <td>4996</td>\n",
              "      <td>1096</td>\n",
              "      <td>0.219376</td>\n",
              "    </tr>\n",
              "    <tr>\n",
              "      <th>3</th>\n",
              "      <td>2010</td>\n",
              "      <td>4999</td>\n",
              "      <td>1115</td>\n",
              "      <td>0.223045</td>\n",
              "    </tr>\n",
              "  </tbody>\n",
              "</table>\n",
              "</div>"
            ],
            "text/plain": [
              "    ERA music_num artist_num     ratio\n",
              "0  1980      3094        337   0.10892\n",
              "1  1990      4486        702  0.156487\n",
              "2  2000      4996       1096  0.219376\n",
              "3  2010      4999       1115  0.223045"
            ]
          },
          "metadata": {
            "tags": []
          },
          "execution_count": 13
        }
      ]
    },
    {
      "cell_type": "code",
      "metadata": {
        "id": "oGOWcXuaYOgo",
        "colab_type": "code",
        "colab": {}
      },
      "source": [
        "import seaborn as sns\n",
        "import matplotlib.pyplot as plt\n",
        "import matplotlib.font_manager as fm\n",
        "fm._rebuild()"
      ],
      "execution_count": 0,
      "outputs": []
    },
    {
      "cell_type": "code",
      "metadata": {
        "id": "-7nAMKBzS4jd",
        "colab_type": "code",
        "outputId": "92b74a46-25ac-4cf2-9a51-ed9bdccd14b5",
        "colab": {
          "base_uri": "https://localhost:8080/",
          "height": 426
        }
      },
      "source": [
        "sns.set(style=\"whitegrid\",font=\"nanumgothic\")\n",
        "f, ax = plt.subplots(figsize=(6, 6))\n",
        "sns.set_color_codes(\"pastel\")\n",
        "sns.despine()\n",
        "sns.barplot(x=\"ERA\", y=\"ratio\", data=era_static, palette=\"rocket\")\n",
        "ax.set_title(\"시대별 아티스트의 다양성\")\n",
        "plt.xlabel('시대')\n",
        "plt.ylabel('다양성')"
      ],
      "execution_count": 15,
      "outputs": [
        {
          "output_type": "execute_result",
          "data": {
            "text/plain": [
              "Text(0, 0.5, '다양성')"
            ]
          },
          "metadata": {
            "tags": []
          },
          "execution_count": 15
        },
        {
          "output_type": "display_data",
          "data": {
            "image/png": "[encoded data removed]",
            "text/plain": [
              "<Figure size 432x432 with 1 Axes>"
            ]
          },
          "metadata": {
            "tags": []
          }
        }
      ]
    },
    {
      "cell_type": "markdown",
      "metadata": {
        "id": "5uMPhS9AU2ex",
        "colab_type": "text"
      },
      "source": [
        "## 3. 아티스트 순위(곡 수 기준)"
      ]
    },
    {
      "cell_type": "markdown",
      "metadata": {
        "id": "Dll8Gu_SVQMX",
        "colab_type": "text"
      },
      "source": [
        "* 시대별 아티스트 순위"
      ]
    },
    {
      "cell_type": "code",
      "metadata": {
        "id": "3XKAGFEzUobl",
        "colab_type": "code",
        "colab": {}
      },
      "source": [
        "artist_rank_era = pd.DataFrame()\n",
        "\n",
        "for era in ERA:\n",
        "  artist_rank_era = pd.concat([artist_rank_era, music_data[music_data['시대']==era]['아티스트'].value_counts()[:10].reset_index()], axis=1)\n",
        "  \n",
        "artist_rank_era.columns = ['아티스트(1980)','곡 수','아티스트(1990)','곡 수','아티스트(2000)','곡 수','아티스트(2010)','곡 수']"
      ],
      "execution_count": 0,
      "outputs": []
    },
    {
      "cell_type": "code",
      "metadata": {
        "id": "hU42gzG-fLsK",
        "colab_type": "code",
        "outputId": "a8287962-831a-4c78-f3fd-442a56c80e40",
        "colab": {
          "base_uri": "https://localhost:8080/",
          "height": 343
        }
      },
      "source": [
        "artist_rank_era"
      ],
      "execution_count": 17,
      "outputs": [
        {
          "output_type": "execute_result",
          "data": {
            "text/html": [
              "<div>\n",
              "<style scoped>\n",
              "    .dataframe tbody tr th:only-of-type {\n",
              "        vertical-align: middle;\n",
              "    }\n",
              "\n",
              "    .dataframe tbody tr th {\n",
              "        vertical-align: top;\n",
              "    }\n",
              "\n",
              "    .dataframe thead th {\n",
              "        text-align: right;\n",
              "    }\n",
              "</style>\n",
              "<table border=\"1\" class=\"dataframe\">\n",
              "  <thead>\n",
              "    <tr style=\"text-align: right;\">\n",
              "      <th></th>\n",
              "      <th>아티스트(1980)</th>\n",
              "      <th>곡 수</th>\n",
              "      <th>아티스트(1990)</th>\n",
              "      <th>곡 수</th>\n",
              "      <th>아티스트(2000)</th>\n",
              "      <th>곡 수</th>\n",
              "      <th>아티스트(2010)</th>\n",
              "      <th>곡 수</th>\n",
              "    </tr>\n",
              "  </thead>\n",
              "  <tbody>\n",
              "    <tr>\n",
              "      <th>0</th>\n",
              "      <td>조용필</td>\n",
              "      <td>146</td>\n",
              "      <td>김건모</td>\n",
              "      <td>73</td>\n",
              "      <td>에픽하이 (EPIK HIGH)</td>\n",
              "      <td>96</td>\n",
              "      <td>나훈아</td>\n",
              "      <td>92</td>\n",
              "    </tr>\n",
              "    <tr>\n",
              "      <th>1</th>\n",
              "      <td>김연자</td>\n",
              "      <td>115</td>\n",
              "      <td>서태지와 아이들</td>\n",
              "      <td>69</td>\n",
              "      <td>장윤정</td>\n",
              "      <td>81</td>\n",
              "      <td>소녀시대 (GIRLS` GENERATION)</td>\n",
              "      <td>61</td>\n",
              "    </tr>\n",
              "    <tr>\n",
              "      <th>2</th>\n",
              "      <td>나훈아</td>\n",
              "      <td>106</td>\n",
              "      <td>듀스</td>\n",
              "      <td>67</td>\n",
              "      <td>BIGBANG</td>\n",
              "      <td>75</td>\n",
              "      <td>남진</td>\n",
              "      <td>44</td>\n",
              "    </tr>\n",
              "    <tr>\n",
              "      <th>3</th>\n",
              "      <td>이문세</td>\n",
              "      <td>66</td>\n",
              "      <td>DJ DOC</td>\n",
              "      <td>64</td>\n",
              "      <td>다이나믹 듀오(Dynamic Duo)</td>\n",
              "      <td>72</td>\n",
              "      <td>도끼(DOK2)</td>\n",
              "      <td>41</td>\n",
              "    </tr>\n",
              "    <tr>\n",
              "      <th>4</th>\n",
              "      <td>김현식</td>\n",
              "      <td>64</td>\n",
              "      <td>조용필</td>\n",
              "      <td>59</td>\n",
              "      <td>리쌍(LeeSSang)</td>\n",
              "      <td>65</td>\n",
              "      <td>강진</td>\n",
              "      <td>37</td>\n",
              "    </tr>\n",
              "    <tr>\n",
              "      <th>5</th>\n",
              "      <td>김수희</td>\n",
              "      <td>62</td>\n",
              "      <td>업타운(UpTown)</td>\n",
              "      <td>55</td>\n",
              "      <td>Various Artists</td>\n",
              "      <td>57</td>\n",
              "      <td>유지나</td>\n",
              "      <td>33</td>\n",
              "    </tr>\n",
              "    <tr>\n",
              "      <th>6</th>\n",
              "      <td>이미자</td>\n",
              "      <td>62</td>\n",
              "      <td>Various Artists</td>\n",
              "      <td>53</td>\n",
              "      <td>MC몽</td>\n",
              "      <td>54</td>\n",
              "      <td>자우림</td>\n",
              "      <td>31</td>\n",
              "    </tr>\n",
              "    <tr>\n",
              "      <th>7</th>\n",
              "      <td>이선희</td>\n",
              "      <td>53</td>\n",
              "      <td>이문세</td>\n",
              "      <td>52</td>\n",
              "      <td>심수봉</td>\n",
              "      <td>48</td>\n",
              "      <td>포맨</td>\n",
              "      <td>31</td>\n",
              "    </tr>\n",
              "    <tr>\n",
              "      <th>8</th>\n",
              "      <td>송창식</td>\n",
              "      <td>50</td>\n",
              "      <td>쿨(COOL)</td>\n",
              "      <td>52</td>\n",
              "      <td>나훈아</td>\n",
              "      <td>48</td>\n",
              "      <td>2PM</td>\n",
              "      <td>31</td>\n",
              "    </tr>\n",
              "    <tr>\n",
              "      <th>9</th>\n",
              "      <td>들국화</td>\n",
              "      <td>49</td>\n",
              "      <td>박강성</td>\n",
              "      <td>50</td>\n",
              "      <td>루시드 폴</td>\n",
              "      <td>46</td>\n",
              "      <td>티아라(T-ara)</td>\n",
              "      <td>31</td>\n",
              "    </tr>\n",
              "  </tbody>\n",
              "</table>\n",
              "</div>"
            ],
            "text/plain": [
              "  아티스트(1980)  곡 수       아티스트(1990)  곡 수            아티스트(2000)  곡 수  \\\n",
              "0        조용필  146              김건모   73      에픽하이 (EPIK HIGH)   96   \n",
              "1        김연자  115         서태지와 아이들   69                   장윤정   81   \n",
              "2        나훈아  106               듀스   67               BIGBANG   75   \n",
              "3        이문세   66           DJ DOC   64  다이나믹 듀오(Dynamic Duo)   72   \n",
              "4        김현식   64              조용필   59          리쌍(LeeSSang)   65   \n",
              "5        김수희   62      업타운(UpTown)   55       Various Artists   57   \n",
              "6        이미자   62  Various Artists   53                   MC몽   54   \n",
              "7        이선희   53              이문세   52                   심수봉   48   \n",
              "8        송창식   50          쿨(COOL)   52                   나훈아   48   \n",
              "9        들국화   49              박강성   50                 루시드 폴   46   \n",
              "\n",
              "                 아티스트(2010)  곡 수  \n",
              "0                       나훈아   92  \n",
              "1  소녀시대 (GIRLS` GENERATION)   61  \n",
              "2                        남진   44  \n",
              "3                  도끼(DOK2)   41  \n",
              "4                        강진   37  \n",
              "5                       유지나   33  \n",
              "6                       자우림   31  \n",
              "7                        포맨   31  \n",
              "8                       2PM   31  \n",
              "9                티아라(T-ara)   31  "
            ]
          },
          "metadata": {
            "tags": []
          },
          "execution_count": 17
        }
      ]
    },
    {
      "cell_type": "markdown",
      "metadata": {
        "id": "5FcJPZnCVSwN",
        "colab_type": "text"
      },
      "source": [
        "* 전체 기준 아티스트 순위"
      ]
    },
    {
      "cell_type": "code",
      "metadata": {
        "id": "MDcfTSCPL04a",
        "colab_type": "code",
        "outputId": "950f16ec-3220-4623-8dae-37da8017e00f",
        "colab": {
          "base_uri": "https://localhost:8080/",
          "height": 343
        }
      },
      "source": [
        "artist_rank = music_data['아티스트'].value_counts()[:10].reset_index()\n",
        "artist_rank.columns=['아티스트','곡 수']\n",
        "artist_rank"
      ],
      "execution_count": 18,
      "outputs": [
        {
          "output_type": "execute_result",
          "data": {
            "text/html": [
              "<div>\n",
              "<style scoped>\n",
              "    .dataframe tbody tr th:only-of-type {\n",
              "        vertical-align: middle;\n",
              "    }\n",
              "\n",
              "    .dataframe tbody tr th {\n",
              "        vertical-align: top;\n",
              "    }\n",
              "\n",
              "    .dataframe thead th {\n",
              "        text-align: right;\n",
              "    }\n",
              "</style>\n",
              "<table border=\"1\" class=\"dataframe\">\n",
              "  <thead>\n",
              "    <tr style=\"text-align: right;\">\n",
              "      <th></th>\n",
              "      <th>아티스트</th>\n",
              "      <th>곡 수</th>\n",
              "    </tr>\n",
              "  </thead>\n",
              "  <tbody>\n",
              "    <tr>\n",
              "      <th>0</th>\n",
              "      <td>나훈아</td>\n",
              "      <td>282</td>\n",
              "    </tr>\n",
              "    <tr>\n",
              "      <th>1</th>\n",
              "      <td>조용필</td>\n",
              "      <td>219</td>\n",
              "    </tr>\n",
              "    <tr>\n",
              "      <th>2</th>\n",
              "      <td>이미자</td>\n",
              "      <td>150</td>\n",
              "    </tr>\n",
              "    <tr>\n",
              "      <th>3</th>\n",
              "      <td>심수봉</td>\n",
              "      <td>127</td>\n",
              "    </tr>\n",
              "    <tr>\n",
              "      <th>4</th>\n",
              "      <td>이문세</td>\n",
              "      <td>125</td>\n",
              "    </tr>\n",
              "    <tr>\n",
              "      <th>5</th>\n",
              "      <td>김연자</td>\n",
              "      <td>123</td>\n",
              "    </tr>\n",
              "    <tr>\n",
              "      <th>6</th>\n",
              "      <td>Various Artists</td>\n",
              "      <td>121</td>\n",
              "    </tr>\n",
              "    <tr>\n",
              "      <th>7</th>\n",
              "      <td>에픽하이 (EPIK HIGH)</td>\n",
              "      <td>106</td>\n",
              "    </tr>\n",
              "    <tr>\n",
              "      <th>8</th>\n",
              "      <td>이승철</td>\n",
              "      <td>103</td>\n",
              "    </tr>\n",
              "    <tr>\n",
              "      <th>9</th>\n",
              "      <td>부활</td>\n",
              "      <td>102</td>\n",
              "    </tr>\n",
              "  </tbody>\n",
              "</table>\n",
              "</div>"
            ],
            "text/plain": [
              "               아티스트  곡 수\n",
              "0               나훈아  282\n",
              "1               조용필  219\n",
              "2               이미자  150\n",
              "3               심수봉  127\n",
              "4               이문세  125\n",
              "5               김연자  123\n",
              "6   Various Artists  121\n",
              "7  에픽하이 (EPIK HIGH)  106\n",
              "8               이승철  103\n",
              "9                부활  102"
            ]
          },
          "metadata": {
            "tags": []
          },
          "execution_count": 18
        }
      ]
    },
    {
      "cell_type": "markdown",
      "metadata": {
        "id": "rCr6KlMEVaEM",
        "colab_type": "text"
      },
      "source": [
        "* 순위권 아티스트의 시대별 곡 분포"
      ]
    },
    {
      "cell_type": "code",
      "metadata": {
        "id": "SZGWLz8UR0DZ",
        "colab_type": "code",
        "colab": {}
      },
      "source": [
        "artist_rank_data = pd.DataFrame()\n",
        "for artist in artist_rank['아티스트']:\n",
        "  artist_rank_data = pd.concat([artist_rank_data, music_data[music_data['아티스트']==artist]])"
      ],
      "execution_count": 0,
      "outputs": []
    },
    {
      "cell_type": "code",
      "metadata": {
        "id": "J25vG2YANhaY",
        "colab_type": "code",
        "outputId": "56cf06ac-d677-45b9-a344-251635b54137",
        "colab": {
          "base_uri": "https://localhost:8080/",
          "height": 426
        }
      },
      "source": [
        "sns.set(style=\"whitegrid\",font=\"nanumgothic\")\n",
        "f, ax = plt.subplots(figsize=(16, 6))\n",
        "sns.countplot(x=\"아티스트\",hue=\"시대\",data=artist_rank_data)\n",
        "ax.set_title(\"시대별 곡 분포\")\n",
        "plt.ylabel('곡 수')"
      ],
      "execution_count": 20,
      "outputs": [
        {
          "output_type": "execute_result",
          "data": {
            "text/plain": [
              "Text(0, 0.5, '곡 수')"
            ]
          },
          "metadata": {
            "tags": []
          },
          "execution_count": 20
        },
        {
          "output_type": "display_data",
          "data": {
            "image/png": "[encoded data removed]",
            "text/plain": [
              "<Figure size 1152x432 with 1 Axes>"
            ]
          },
          "metadata": {
            "tags": []
          }
        }
      ]
    },
    {
      "cell_type": "markdown",
      "metadata": {
        "id": "pNx_w-afDK_v",
        "colab_type": "text"
      },
      "source": [
        "## 4. 시대별 선호 장르"
      ]
    },
    {
      "cell_type": "code",
      "metadata": {
        "colab_type": "code",
        "id": "leNC5J0nDFQt",
        "colab": {}
      },
      "source": [
        "music_data['시대'] = music_data['시대'].astype('category') # stripplot y축을 카테고리로 제시하기 위하여 변환"
      ],
      "execution_count": 0,
      "outputs": []
    },
    {
      "cell_type": "code",
      "metadata": {
        "colab_type": "code",
        "outputId": "1d272b7b-7693-467e-c8cd-52e552e9e93e",
        "id": "nG4TsjyBDFQx",
        "colab": {
          "base_uri": "https://localhost:8080/",
          "height": 426
        }
      },
      "source": [
        "sns.set(style=\"whitegrid\", font=\"nanumgothic\")\n",
        "f, ax = plt.subplots(figsize=(12, 6))\n",
        "\n",
        "sns.stripplot(x=\"순위/시대\", y=\"시대\", hue=\"장르\",\n",
        "              data=music_data, dodge=True, jitter=True,\n",
        "              size=3, alpha=.2, zorder=1)\n",
        "\n",
        "\n",
        "sns.pointplot(x=\"순위/시대\", y=\"시대\", hue=\"장르\",\n",
        "              data=music_data, dodge=.65, join=False, palette=\"dark\",\n",
        "              markers=\"d\", scale=.8, ci=None)\n",
        "\n",
        "\n",
        "ax.set_title(\"시대별 장르 분포\")\n",
        "\n",
        "handles, labels = ax.get_legend_handles_labels()\n",
        "ax.legend(handles[5:], labels[5:], title=\"장르\")"
      ],
      "execution_count": 22,
      "outputs": [
        {
          "output_type": "execute_result",
          "data": {
            "text/plain": [
              "<matplotlib.legend.Legend at 0x7f05ad7ae390>"
            ]
          },
          "metadata": {
            "tags": []
          },
          "execution_count": 22
        },
        {
          "output_type": "display_data",
          "data": {
            "image/png": "[encoded data removed]",
            "text/plain": [
              "<Figure size 864x432 with 1 Axes>"
            ]
          },
          "metadata": {
            "tags": []
          }
        }
      ]
    },
    {
      "cell_type": "markdown",
      "metadata": {
        "id": "YdYc8U3dVhLv",
        "colab_type": "text"
      },
      "source": [
        "## 5. 곡 제목 분석"
      ]
    },
    {
      "cell_type": "code",
      "metadata": {
        "id": "cYj5-euifkZX",
        "colab_type": "code",
        "outputId": "a5c723f8-0777-4713-ea8e-43adc26752fa",
        "colab": {
          "base_uri": "https://localhost:8080/",
          "height": 228
        }
      },
      "source": [
        "pip install konlpy"
      ],
      "execution_count": 23,
      "outputs": [
        {
          "output_type": "stream",
          "text": [
            "Collecting konlpy\n",
            "\u001b[?25l  Downloading https://files.pythonhosted.org/packages/e5/3d/4e983cd98d87b50b2ab0387d73fa946f745aa8164e8888a714d5129f9765/konlpy-0.5.1-py2.py3-none-any.whl (19.4MB)\n",
            "\u001b[K     |████████████████████████████████| 19.4MB 4.5MB/s \n",
            "\u001b[?25hCollecting JPype1>=0.5.7 (from konlpy)\n",
            "\u001b[?25l  Downloading https://files.pythonhosted.org/packages/c4/4b/60a3e63d51714d4d7ef1b1efdf84315d118a0a80a5b085bb52a7e2428cdc/JPype1-0.6.3.tar.gz (168kB)\n",
            "\u001b[K     |████████████████████████████████| 174kB 41.3MB/s \n",
            "\u001b[?25hBuilding wheels for collected packages: JPype1\n",
            "  Building wheel for JPype1 (setup.py) ... \u001b[?25l\u001b[?25hdone\n",
            "  Stored in directory: /root/.cache/pip/wheels/0e/2b/e8/c0b818ac4b3d35104d35e48cdc7afe27fc06ea277feed2831a\n",
            "Successfully built JPype1\n",
            "Installing collected packages: JPype1, konlpy\n",
            "Successfully installed JPype1-0.6.3 konlpy-0.5.1\n"
          ],
          "name": "stdout"
        }
      ]
    },
    {
      "cell_type": "code",
      "metadata": {
        "id": "39JX98hzfpz1",
        "colab_type": "code",
        "colab": {}
      },
      "source": [
        "from konlpy.tag import Komoran, Twitter, Hannanum"
      ],
      "execution_count": 0,
      "outputs": []
    },
    {
      "cell_type": "code",
      "metadata": {
        "id": "86fCABGbho2q",
        "colab_type": "code",
        "outputId": "32ba8279-a1c9-4a0a-8964-d6c41b963e86",
        "colab": {
          "base_uri": "https://localhost:8080/",
          "height": 52
        }
      },
      "source": [
        "Komoran = Komoran()\n",
        "Twitter = Twitter()\n",
        "Hannanum = Hannanum()"
      ],
      "execution_count": 25,
      "outputs": [
        {
          "output_type": "stream",
          "text": [
            "/usr/local/lib/python3.6/dist-packages/konlpy/tag/_okt.py:16: UserWarning: \"Twitter\" has changed to \"Okt\" since KoNLPy v0.4.5.\n",
            "  warn('\"Twitter\" has changed to \"Okt\" since KoNLPy v0.4.5.')\n"
          ],
          "name": "stderr"
        }
      ]
    },
    {
      "cell_type": "code",
      "metadata": {
        "id": "dETfWMqEhsDi",
        "colab_type": "code",
        "colab": {}
      },
      "source": [
        "music_string = music_data['곡명'].to_string(index=False)"
      ],
      "execution_count": 0,
      "outputs": []
    },
    {
      "cell_type": "code",
      "metadata": {
        "id": "iDmiH2yrj8HZ",
        "colab_type": "code",
        "colab": {}
      },
      "source": [
        "# KoNLPy의 Tagger가 여러 버젼이 있음으로 비교\n",
        "music_noun_ko = Komoran.nouns(music_string)\n",
        "music_noun_tw = Twitter.nouns(music_string)\n",
        "music_noun_han = Hannanum.nouns(music_string)"
      ],
      "execution_count": 0,
      "outputs": []
    },
    {
      "cell_type": "code",
      "metadata": {
        "id": "p9MtbSIOr8i-",
        "colab_type": "code",
        "colab": {}
      },
      "source": [
        "music_noun_ko = pd.Series(music_noun_ko)\n",
        "music_noun_tw = pd.Series(music_noun_tw)\n",
        "music_noun_han = pd.Series(music_noun_han)"
      ],
      "execution_count": 0,
      "outputs": []
    },
    {
      "cell_type": "code",
      "metadata": {
        "id": "THYlWpaI540c",
        "colab_type": "code",
        "outputId": "e1861fcc-5893-49c6-895f-017a3148a0b5",
        "colab": {
          "base_uri": "https://localhost:8080/",
          "height": 343
        }
      },
      "source": [
        "music_noun_compare = pd.DataFrame()\n",
        "music_noun_compare = pd.concat([music_noun_compare, music_noun_ko.value_counts()[:10].reset_index()], axis=1)\n",
        "music_noun_compare = pd.concat([music_noun_compare, music_noun_tw.value_counts()[:10].reset_index()], axis=1)\n",
        "music_noun_compare = pd.concat([music_noun_compare, music_noun_han.value_counts()[:10].reset_index()], axis=1)\n",
        "music_noun_compare.columns = ['Komoran','count','Twitter','count','Hannanum','count']\n",
        "music_noun_compare"
      ],
      "execution_count": 29,
      "outputs": [
        {
          "output_type": "execute_result",
          "data": {
            "text/html": [
              "<div>\n",
              "<style scoped>\n",
              "    .dataframe tbody tr th:only-of-type {\n",
              "        vertical-align: middle;\n",
              "    }\n",
              "\n",
              "    .dataframe tbody tr th {\n",
              "        vertical-align: top;\n",
              "    }\n",
              "\n",
              "    .dataframe thead th {\n",
              "        text-align: right;\n",
              "    }\n",
              "</style>\n",
              "<table border=\"1\" class=\"dataframe\">\n",
              "  <thead>\n",
              "    <tr style=\"text-align: right;\">\n",
              "      <th></th>\n",
              "      <th>Komoran</th>\n",
              "      <th>count</th>\n",
              "      <th>Twitter</th>\n",
              "      <th>count</th>\n",
              "      <th>Hannanum</th>\n",
              "      <th>count</th>\n",
              "    </tr>\n",
              "  </thead>\n",
              "  <tbody>\n",
              "    <tr>\n",
              "      <th>0</th>\n",
              "      <td>사랑</td>\n",
              "      <td>910</td>\n",
              "      <td>사랑</td>\n",
              "      <td>1344</td>\n",
              "      <td>사랑</td>\n",
              "      <td>1030</td>\n",
              "    </tr>\n",
              "    <tr>\n",
              "      <th>1</th>\n",
              "      <td>사람</td>\n",
              "      <td>211</td>\n",
              "      <td>그대</td>\n",
              "      <td>350</td>\n",
              "      <td>나</td>\n",
              "      <td>484</td>\n",
              "    </tr>\n",
              "    <tr>\n",
              "      <th>2</th>\n",
              "      <td>이별</td>\n",
              "      <td>173</td>\n",
              "      <td>너</td>\n",
              "      <td>349</td>\n",
              "      <td>너</td>\n",
              "      <td>362</td>\n",
              "    </tr>\n",
              "    <tr>\n",
              "      <th>3</th>\n",
              "      <td>말</td>\n",
              "      <td>152</td>\n",
              "      <td>나</td>\n",
              "      <td>326</td>\n",
              "      <td>그대</td>\n",
              "      <td>354</td>\n",
              "    </tr>\n",
              "    <tr>\n",
              "      <th>4</th>\n",
              "      <td>여자</td>\n",
              "      <td>141</td>\n",
              "      <td>내</td>\n",
              "      <td>280</td>\n",
              "      <td>내</td>\n",
              "      <td>233</td>\n",
              "    </tr>\n",
              "    <tr>\n",
              "      <th>5</th>\n",
              "      <td>눈물</td>\n",
              "      <td>140</td>\n",
              "      <td>사람</td>\n",
              "      <td>224</td>\n",
              "      <td>이별</td>\n",
              "      <td>168</td>\n",
              "    </tr>\n",
              "    <tr>\n",
              "      <th>6</th>\n",
              "      <td>날</td>\n",
              "      <td>130</td>\n",
              "      <td>이별</td>\n",
              "      <td>192</td>\n",
              "      <td>당신</td>\n",
              "      <td>167</td>\n",
              "    </tr>\n",
              "    <tr>\n",
              "      <th>7</th>\n",
              "      <td>노래</td>\n",
              "      <td>129</td>\n",
              "      <td>여자</td>\n",
              "      <td>180</td>\n",
              "      <td>여자</td>\n",
              "      <td>158</td>\n",
              "    </tr>\n",
              "    <tr>\n",
              "      <th>8</th>\n",
              "      <td>밤</td>\n",
              "      <td>129</td>\n",
              "      <td>그</td>\n",
              "      <td>179</td>\n",
              "      <td>사람</td>\n",
              "      <td>152</td>\n",
              "    </tr>\n",
              "    <tr>\n",
              "      <th>9</th>\n",
              "      <td>남자</td>\n",
              "      <td>127</td>\n",
              "      <td>당신</td>\n",
              "      <td>171</td>\n",
              "      <td>눈물</td>\n",
              "      <td>142</td>\n",
              "    </tr>\n",
              "  </tbody>\n",
              "</table>\n",
              "</div>"
            ],
            "text/plain": [
              "  Komoran  count Twitter  count Hannanum  count\n",
              "0      사랑    910      사랑   1344       사랑   1030\n",
              "1      사람    211      그대    350        나    484\n",
              "2      이별    173       너    349        너    362\n",
              "3       말    152       나    326       그대    354\n",
              "4      여자    141       내    280        내    233\n",
              "5      눈물    140      사람    224       이별    168\n",
              "6       날    130      이별    192       당신    167\n",
              "7      노래    129      여자    180       여자    158\n",
              "8       밤    129       그    179       사람    152\n",
              "9      남자    127      당신    171       눈물    142"
            ]
          },
          "metadata": {
            "tags": []
          },
          "execution_count": 29
        }
      ]
    },
    {
      "cell_type": "code",
      "metadata": {
        "id": "YXpqr76c9h-7",
        "colab_type": "code",
        "outputId": "e649249d-f169-479d-f941-d00ad3571be3",
        "colab": {
          "base_uri": "https://localhost:8080/",
          "height": 343
        }
      },
      "source": [
        "# Tagger들의 결론이 다양함으로 이를 합하여 좀 더 안정적인 결과물을 얻자\n",
        "music_noun_mix = pd.concat([music_noun_ko,music_noun_tw,music_noun_han])\n",
        "music_noun_mix_rank = music_noun_mix.value_counts()[:10].reset_index()\n",
        "music_noun_mix_rank.columns = ['Tagger Mix','count']\n",
        "music_noun_mix_rank['count'] = music_noun_mix_rank['count']//3\n",
        "music_noun_mix_rank"
      ],
      "execution_count": 30,
      "outputs": [
        {
          "output_type": "execute_result",
          "data": {
            "text/html": [
              "<div>\n",
              "<style scoped>\n",
              "    .dataframe tbody tr th:only-of-type {\n",
              "        vertical-align: middle;\n",
              "    }\n",
              "\n",
              "    .dataframe tbody tr th {\n",
              "        vertical-align: top;\n",
              "    }\n",
              "\n",
              "    .dataframe thead th {\n",
              "        text-align: right;\n",
              "    }\n",
              "</style>\n",
              "<table border=\"1\" class=\"dataframe\">\n",
              "  <thead>\n",
              "    <tr style=\"text-align: right;\">\n",
              "      <th></th>\n",
              "      <th>Tagger Mix</th>\n",
              "      <th>count</th>\n",
              "    </tr>\n",
              "  </thead>\n",
              "  <tbody>\n",
              "    <tr>\n",
              "      <th>0</th>\n",
              "      <td>사랑</td>\n",
              "      <td>1094</td>\n",
              "    </tr>\n",
              "    <tr>\n",
              "      <th>1</th>\n",
              "      <td>나</td>\n",
              "      <td>271</td>\n",
              "    </tr>\n",
              "    <tr>\n",
              "      <th>2</th>\n",
              "      <td>너</td>\n",
              "      <td>237</td>\n",
              "    </tr>\n",
              "    <tr>\n",
              "      <th>3</th>\n",
              "      <td>그대</td>\n",
              "      <td>234</td>\n",
              "    </tr>\n",
              "    <tr>\n",
              "      <th>4</th>\n",
              "      <td>사람</td>\n",
              "      <td>195</td>\n",
              "    </tr>\n",
              "    <tr>\n",
              "      <th>5</th>\n",
              "      <td>내</td>\n",
              "      <td>193</td>\n",
              "    </tr>\n",
              "    <tr>\n",
              "      <th>6</th>\n",
              "      <td>이별</td>\n",
              "      <td>177</td>\n",
              "    </tr>\n",
              "    <tr>\n",
              "      <th>7</th>\n",
              "      <td>여자</td>\n",
              "      <td>159</td>\n",
              "    </tr>\n",
              "    <tr>\n",
              "      <th>8</th>\n",
              "      <td>눈물</td>\n",
              "      <td>149</td>\n",
              "    </tr>\n",
              "    <tr>\n",
              "      <th>9</th>\n",
              "      <td>말</td>\n",
              "      <td>149</td>\n",
              "    </tr>\n",
              "  </tbody>\n",
              "</table>\n",
              "</div>"
            ],
            "text/plain": [
              "  Tagger Mix  count\n",
              "0         사랑   1094\n",
              "1          나    271\n",
              "2          너    237\n",
              "3         그대    234\n",
              "4         사람    195\n",
              "5          내    193\n",
              "6         이별    177\n",
              "7         여자    159\n",
              "8         눈물    149\n",
              "9          말    149"
            ]
          },
          "metadata": {
            "tags": []
          },
          "execution_count": 30
        }
      ]
    },
    {
      "cell_type": "code",
      "metadata": {
        "id": "mQK_QlKKc5z6",
        "colab_type": "code",
        "colab": {}
      },
      "source": [
        "music_noun_era= pd.DataFrame()\n",
        "for era in ERA:\n",
        "  music_string = music_data[music_data['시대']==era]['곡명'].to_string(index=False)\n",
        "  music_noun_mix_era = pd.concat([pd.Series(Komoran.nouns(music_string)), pd.Series(Twitter.nouns(music_string)), pd.Series(Hannanum.nouns(music_string))]).reset_index(drop=True)\n",
        "  music_noun_mix_era = pd.concat([music_noun_mix_era, pd.Series([era]*music_noun_mix_era.shape[0])], axis=1)\n",
        "  music_noun_era = pd.concat([music_noun_era, music_noun_mix_era])\n",
        "music_noun_era.columns=['단어','시대']"
      ],
      "execution_count": 0,
      "outputs": []
    },
    {
      "cell_type": "code",
      "metadata": {
        "id": "_xYRcjJtjisw",
        "colab_type": "code",
        "colab": {}
      },
      "source": [
        "music_noun_rank_data = pd.DataFrame()\n",
        "for noun in music_noun_mix_rank['Tagger Mix']:\n",
        "  music_noun_rank_data = pd.concat([music_noun_rank_data, music_noun_era[music_noun_era['단어']==noun]])"
      ],
      "execution_count": 0,
      "outputs": []
    },
    {
      "cell_type": "code",
      "metadata": {
        "id": "tkeIH_vfFiLN",
        "colab_type": "code",
        "outputId": "85a0ca55-5fb4-43a1-e9b9-eff4c214664f",
        "colab": {
          "base_uri": "https://localhost:8080/",
          "height": 426
        }
      },
      "source": [
        "sns.set(style=\"whitegrid\",font=\"nanumgothic\")\n",
        "f, ax = plt.subplots(figsize=(16, 6))\n",
        "sns.countplot(x=\"단어\",hue=\"시대\",data=music_noun_rank_data)\n",
        "ax.set_title(\"단어별 출현 빈도 수\")\n",
        "plt.ylabel('곡 수(X3)')"
      ],
      "execution_count": 33,
      "outputs": [
        {
          "output_type": "execute_result",
          "data": {
            "text/plain": [
              "Text(0, 0.5, '곡 수(X3)')"
            ]
          },
          "metadata": {
            "tags": []
          },
          "execution_count": 33
        },
        {
          "output_type": "display_data",
          "data": {
            "image/png": "[encoded data removed]",
            "text/plain": [
              "<Figure size 1152x432 with 1 Axes>"
            ]
          },
          "metadata": {
            "tags": []
          }
        }
      ]
    }
  ]
}