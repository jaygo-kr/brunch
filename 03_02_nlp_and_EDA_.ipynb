{
  "nbformat": 4,
  "nbformat_minor": 0,
  "metadata": {
    "colab": {
      "name": "03_02 nlp and EDA .ipynb",
      "provenance": [],
      "collapsed_sections": [],
      "include_colab_link": true
    },
    "kernelspec": {
      "name": "python3",
      "display_name": "Python 3"
    }
  },
  "cells": [
    {
      "cell_type": "markdown",
      "metadata": {
        "id": "view-in-github",
        "colab_type": "text"
      },
      "source": [
        "<a href=\"https://colab.research.google.com/github/jaygo-kr/brunch/blob/master/03_02_nlp_and_EDA_.ipynb\" target=\"_parent\"><img src=\"https://colab.research.google.com/assets/colab-badge.svg\" alt=\"Open In Colab\"/></a>"
      ]
    },
    {
      "cell_type": "markdown",
      "metadata": {
        "id": "riIfUIjOb46e",
        "colab_type": "text"
      },
      "source": [
        "# 드라마 대본 자연어 태깅 및 EDA\n",
        "\n",
        "> 들여쓴 블록\n",
        "\n",
        "\n",
        "* 이전 노트에서 정제한 대본 자료의 문장들을 테깅 해보고 데이터 분석을 통해 데터를 둘러보기\n",
        "1. 정제한 대본 파일 불러오기\n",
        "2. 한국어 태깅 시키기\n",
        "3. 명사 워드클라우드 그리기\n",
        "4. 자연어 통계분석"
      ]
    },
    {
      "cell_type": "code",
      "metadata": {
        "id": "6uDvTrhYf6Mn",
        "colab_type": "code",
        "outputId": "a79e25ef-00cc-427f-e486-fa0b7fdfbe74",
        "colab": {
          "base_uri": "https://localhost:8080/",
          "height": 55
        }
      },
      "source": [
        "import os\n",
        "import numpy as np\n",
        "import pandas as pd\n",
        "from google.colab import files, drive\n",
        "drive.mount('/content/gdrive')"
      ],
      "execution_count": 38,
      "outputs": [
        {
          "output_type": "stream",
          "text": [
            "Drive already mounted at /content/gdrive; to attempt to forcibly remount, call drive.mount(\"/content/gdrive\", force_remount=True).\n"
          ],
          "name": "stdout"
        }
      ]
    },
    {
      "cell_type": "code",
      "metadata": {
        "id": "wnP-VfWJf7gd",
        "colab_type": "code",
        "outputId": "25b67ee1-ed0b-498d-87e3-493973dec3f6",
        "colab": {
          "base_uri": "https://localhost:8080/",
          "height": 341
        }
      },
      "source": [
        "os.listdir('./gdrive/My Drive/share/suwon study/script/JAY완료/')"
      ],
      "execution_count": 39,
      "outputs": [
        {
          "output_type": "execute_result",
          "data": {
            "text/plain": [
              "['W+제11회+대본.csv',\n",
              " 'W+제12회+대본.csv',\n",
              " 'W+제13회+대본.csv',\n",
              " 'W+제15회+대본.csv',\n",
              " 'W+제4회+대본.csv',\n",
              " 'W+제1회+대본.csv',\n",
              " 'W+제14회+대본.csv',\n",
              " 'W+제3회+대본.csv',\n",
              " 'W+제16회+대본.csv',\n",
              " 'W+제2회+대본.csv',\n",
              " 'W+제5회+대본.csv',\n",
              " 'W+제7회+대본.csv',\n",
              " 'W+제6회+대본.csv',\n",
              " 'W+제9회+대본.csv',\n",
              " 'W+제8회+대본.csv',\n",
              " 'W+제10회+대본.csv',\n",
              " 'W+제1회+대본.gsheet',\n",
              " 'text to csv.ipynb의 사본']"
            ]
          },
          "metadata": {
            "tags": []
          },
          "execution_count": 39
        }
      ]
    },
    {
      "cell_type": "code",
      "metadata": {
        "id": "LpcWVtOLgNjm",
        "colab_type": "code",
        "colab": {}
      },
      "source": [
        "DATA_PATH = './gdrive/My Drive/share/suwon study/script/JAY완료/'"
      ],
      "execution_count": 0,
      "outputs": []
    },
    {
      "cell_type": "markdown",
      "metadata": {
        "id": "9yVtgxiZkL8U",
        "colab_type": "text"
      },
      "source": [
        "## 데이터 불러오기"
      ]
    },
    {
      "cell_type": "code",
      "metadata": {
        "id": "5Pk3TDTggHCg",
        "colab_type": "code",
        "colab": {}
      },
      "source": [
        "script_df = pd.read_csv(DATA_PATH + 'W+제1회+대본.csv')"
      ],
      "execution_count": 0,
      "outputs": []
    },
    {
      "cell_type": "code",
      "metadata": {
        "id": "3R8f20LcgU69",
        "colab_type": "code",
        "outputId": "6340f2da-9c75-46be-c40a-c76f925b901d",
        "colab": {
          "base_uri": "https://localhost:8080/",
          "height": 204
        }
      },
      "source": [
        "script_df.head()"
      ],
      "execution_count": 42,
      "outputs": [
        {
          "output_type": "execute_result",
          "data": {
            "text/html": [
              "<div>\n",
              "<style scoped>\n",
              "    .dataframe tbody tr th:only-of-type {\n",
              "        vertical-align: middle;\n",
              "    }\n",
              "\n",
              "    .dataframe tbody tr th {\n",
              "        vertical-align: top;\n",
              "    }\n",
              "\n",
              "    .dataframe thead th {\n",
              "        text-align: right;\n",
              "    }\n",
              "</style>\n",
              "<table border=\"1\" class=\"dataframe\">\n",
              "  <thead>\n",
              "    <tr style=\"text-align: right;\">\n",
              "      <th></th>\n",
              "      <th>act</th>\n",
              "      <th>content</th>\n",
              "    </tr>\n",
              "  </thead>\n",
              "  <tbody>\n",
              "    <tr>\n",
              "      <th>0</th>\n",
              "      <td>씬/1</td>\n",
              "      <td>아테네 올림픽 자료화면 인서트 \\n</td>\n",
              "    </tr>\n",
              "    <tr>\n",
              "      <th>1</th>\n",
              "      <td>지문</td>\n",
              "      <td>자막 – 2004년 8월. 아테네 올림픽\\n한국 국가대표 경기 생중계 자료화면.\\n...</td>\n",
              "    </tr>\n",
              "    <tr>\n",
              "      <th>2</th>\n",
              "      <td>씬/2</td>\n",
              "      <td>방송 스튜디오 (과거, 밤)\\n</td>\n",
              "    </tr>\n",
              "    <tr>\n",
              "      <th>3</th>\n",
              "      <td>지문</td>\n",
              "      <td>올림픽 중계 스튜디오. 아테네 올림픽 엠블럼과 마스코트를 배경으로 남자 MC가 진행...</td>\n",
              "    </tr>\n",
              "    <tr>\n",
              "      <th>4</th>\n",
              "      <td>MC</td>\n",
              "      <td>네, 잠시 종목을 바꿔보겠습니다. 지금 사격 경기장에서는 50미터 권총 남자 결선이...</td>\n",
              "    </tr>\n",
              "  </tbody>\n",
              "</table>\n",
              "</div>"
            ],
            "text/plain": [
              "   act                                            content\n",
              "0  씬/1                                아테네 올림픽 자료화면 인서트 \\n\n",
              "1   지문  자막 – 2004년 8월. 아테네 올림픽\\n한국 국가대표 경기 생중계 자료화면.\\n...\n",
              "2  씬/2                                  방송 스튜디오 (과거, 밤)\\n\n",
              "3   지문  올림픽 중계 스튜디오. 아테네 올림픽 엠블럼과 마스코트를 배경으로 남자 MC가 진행...\n",
              "4   MC  네, 잠시 종목을 바꿔보겠습니다. 지금 사격 경기장에서는 50미터 권총 남자 결선이..."
            ]
          },
          "metadata": {
            "tags": []
          },
          "execution_count": 42
        }
      ]
    },
    {
      "cell_type": "markdown",
      "metadata": {
        "id": "mLlssRrjkPVw",
        "colab_type": "text"
      },
      "source": [
        "## 문장 태깅하기\n",
        "* content 전체에 대하여 명사로 태깅해보자"
      ]
    },
    {
      "cell_type": "code",
      "metadata": {
        "id": "nkH69VakgV4E",
        "colab_type": "code",
        "colab": {}
      },
      "source": [
        "# 한글 태깅을 위한 패키지 설치\n",
        "! pip install konlpy"
      ],
      "execution_count": 0,
      "outputs": []
    },
    {
      "cell_type": "code",
      "metadata": {
        "id": "Z_j-8i3NiJp4",
        "colab_type": "code",
        "colab": {}
      },
      "source": [
        "from konlpy.tag import Komoran, Twitter, Hannanum"
      ],
      "execution_count": 0,
      "outputs": []
    },
    {
      "cell_type": "code",
      "metadata": {
        "id": "LAw8NNj6jLtz",
        "colab_type": "code",
        "outputId": "017cb513-b7d0-4c9f-dd36-9d93d7c3571e",
        "colab": {
          "base_uri": "https://localhost:8080/",
          "height": 73
        }
      },
      "source": [
        "Komoran = Komoran()\n",
        "Twitter = Twitter()\n",
        "Hannanum = Hannanum()"
      ],
      "execution_count": 45,
      "outputs": [
        {
          "output_type": "stream",
          "text": [
            "/usr/local/lib/python3.6/dist-packages/konlpy/tag/_okt.py:16: UserWarning: \"Twitter\" has changed to \"Okt\" since KoNLPy v0.4.5.\n",
            "  warn('\"Twitter\" has changed to \"Okt\" since KoNLPy v0.4.5.')\n"
          ],
          "name": "stderr"
        }
      ]
    },
    {
      "cell_type": "code",
      "metadata": {
        "id": "vTjaWxFwjOK0",
        "colab_type": "code",
        "colab": {}
      },
      "source": [
        "# 태그 전 대본 대사 마지막에 있는 개행문자 제거\n",
        "content = script_df.content.map(lambda x: x.rstrip('\\n'))"
      ],
      "execution_count": 0,
      "outputs": []
    },
    {
      "cell_type": "code",
      "metadata": {
        "id": "vVLhriuto3lb",
        "colab_type": "code",
        "colab": {}
      },
      "source": [
        "# 태깅 입력을 위해 하나의 문장으로 연결\n",
        "content_tie = content.str.cat(sep=' ')"
      ],
      "execution_count": 0,
      "outputs": []
    },
    {
      "cell_type": "code",
      "metadata": {
        "id": "gbfzqHY6pXcy",
        "colab_type": "code",
        "colab": {}
      },
      "source": [
        "# 명사 태깅을 위한 클래스들 비교를 위해 3가지 클래스 사용\n",
        "content_nouns_ha = Hannanum.nouns(content_tie)\n",
        "content_nouns_tw = Twitter.nouns(content_tie)\n",
        "content_nouns_ko = Komoran.nouns(content_tie)"
      ],
      "execution_count": 0,
      "outputs": []
    },
    {
      "cell_type": "code",
      "metadata": {
        "id": "TVMetwsVqIeh",
        "colab_type": "code",
        "colab": {}
      },
      "source": [
        "content_nouns_ha_pd = pd.Series(content_nouns_ha)\n",
        "content_nouns_tw_pd = pd.Series(content_nouns_tw)\n",
        "content_nouns_ko_pd = pd.Series(content_nouns_ko)"
      ],
      "execution_count": 0,
      "outputs": []
    },
    {
      "cell_type": "code",
      "metadata": {
        "id": "zsnWV3DlrPIx",
        "colab_type": "code",
        "outputId": "0508652b-a707-476c-dd93-617216bb327f",
        "colab": {
          "base_uri": "https://localhost:8080/",
          "height": 359
        }
      },
      "source": [
        "# 태깅 클래스마다 차이가 있다.\n",
        "content_nouns_compare = pd.DataFrame()\n",
        "content_nouns_compare = pd.concat([content_nouns_compare, content_nouns_ko_pd.value_counts()[:30].reset_index()], axis=1)\n",
        "content_nouns_compare = pd.concat([content_nouns_compare, content_nouns_tw_pd.value_counts()[:30].reset_index()], axis=1)\n",
        "content_nouns_compare = pd.concat([content_nouns_compare, content_nouns_ha_pd.value_counts()[:30].reset_index()], axis=1)\n",
        "content_nouns_compare.columns = ['Komoran','count','Twitter','count','Hannanum','count']\n",
        "content_nouns_compare.head(10)"
      ],
      "execution_count": 50,
      "outputs": [
        {
          "output_type": "execute_result",
          "data": {
            "text/html": [
              "<div>\n",
              "<style scoped>\n",
              "    .dataframe tbody tr th:only-of-type {\n",
              "        vertical-align: middle;\n",
              "    }\n",
              "\n",
              "    .dataframe tbody tr th {\n",
              "        vertical-align: top;\n",
              "    }\n",
              "\n",
              "    .dataframe thead th {\n",
              "        text-align: right;\n",
              "    }\n",
              "</style>\n",
              "<table border=\"1\" class=\"dataframe\">\n",
              "  <thead>\n",
              "    <tr style=\"text-align: right;\">\n",
              "      <th></th>\n",
              "      <th>Komoran</th>\n",
              "      <th>count</th>\n",
              "      <th>Twitter</th>\n",
              "      <th>count</th>\n",
              "      <th>Hannanum</th>\n",
              "      <th>count</th>\n",
              "    </tr>\n",
              "  </thead>\n",
              "  <tbody>\n",
              "    <tr>\n",
              "      <th>0</th>\n",
              "      <td>강철</td>\n",
              "      <td>137</td>\n",
              "      <td>강철</td>\n",
              "      <td>137</td>\n",
              "      <td>강철</td>\n",
              "      <td>116</td>\n",
              "    </tr>\n",
              "    <tr>\n",
              "      <th>1</th>\n",
              "      <td>연주</td>\n",
              "      <td>109</td>\n",
              "      <td>연주</td>\n",
              "      <td>103</td>\n",
              "      <td>연주</td>\n",
              "      <td>101</td>\n",
              "    </tr>\n",
              "    <tr>\n",
              "      <th>2</th>\n",
              "      <td>!!</td>\n",
              "      <td>48</td>\n",
              "      <td>안</td>\n",
              "      <td>40</td>\n",
              "      <td>것</td>\n",
              "      <td>65</td>\n",
              "    </tr>\n",
              "    <tr>\n",
              "      <th>3</th>\n",
              "      <td>말</td>\n",
              "      <td>40</td>\n",
              "      <td>거</td>\n",
              "      <td>40</td>\n",
              "      <td>수</td>\n",
              "      <td>44</td>\n",
              "    </tr>\n",
              "    <tr>\n",
              "      <th>4</th>\n",
              "      <td>거</td>\n",
              "      <td>38</td>\n",
              "      <td>말</td>\n",
              "      <td>38</td>\n",
              "      <td>나</td>\n",
              "      <td>38</td>\n",
              "    </tr>\n",
              "    <tr>\n",
              "      <th>5</th>\n",
              "      <td>선수</td>\n",
              "      <td>35</td>\n",
              "      <td>선수</td>\n",
              "      <td>36</td>\n",
              "      <td>남자</td>\n",
              "      <td>34</td>\n",
              "    </tr>\n",
              "    <tr>\n",
              "      <th>6</th>\n",
              "      <td>성</td>\n",
              "      <td>35</td>\n",
              "      <td>남자</td>\n",
              "      <td>34</td>\n",
              "      <td>말</td>\n",
              "      <td>30</td>\n",
              "    </tr>\n",
              "    <tr>\n",
              "      <th>7</th>\n",
              "      <td>남자</td>\n",
              "      <td>34</td>\n",
              "      <td>이</td>\n",
              "      <td>34</td>\n",
              "      <td>밤</td>\n",
              "      <td>26</td>\n",
              "    </tr>\n",
              "    <tr>\n",
              "      <th>8</th>\n",
              "      <td>중</td>\n",
              "      <td>33</td>\n",
              "      <td>그</td>\n",
              "      <td>34</td>\n",
              "      <td>낮</td>\n",
              "      <td>25</td>\n",
              "    </tr>\n",
              "    <tr>\n",
              "      <th>9</th>\n",
              "      <td>수</td>\n",
              "      <td>32</td>\n",
              "      <td>왜</td>\n",
              "      <td>29</td>\n",
              "      <td>뭐</td>\n",
              "      <td>25</td>\n",
              "    </tr>\n",
              "  </tbody>\n",
              "</table>\n",
              "</div>"
            ],
            "text/plain": [
              "  Komoran  count Twitter  count Hannanum  count\n",
              "0      강철    137      강철    137       강철    116\n",
              "1      연주    109      연주    103       연주    101\n",
              "2      !!     48       안     40        것     65\n",
              "3       말     40       거     40        수     44\n",
              "4       거     38       말     38        나     38\n",
              "5      선수     35      선수     36       남자     34\n",
              "6       성     35      남자     34        말     30\n",
              "7      남자     34       이     34        밤     26\n",
              "8       중     33       그     34        낮     25\n",
              "9       수     32       왜     29        뭐     25"
            ]
          },
          "metadata": {
            "tags": []
          },
          "execution_count": 50
        }
      ]
    },
    {
      "cell_type": "code",
      "metadata": {
        "id": "8GRvT8KjswLd",
        "colab_type": "code",
        "outputId": "c21f256d-6c51-4e6d-9412-af04ec6f035e",
        "colab": {
          "base_uri": "https://localhost:8080/",
          "height": 359
        }
      },
      "source": [
        "# 태거들을 합하여 평균적인 결과물을 도출\n",
        "content_nouns_mix = pd.concat([content_nouns_ha_pd,content_nouns_tw_pd,content_nouns_ko_pd])\n",
        "content_nouns_mix_rank = content_nouns_mix.value_counts()[:30].reset_index()\n",
        "content_nouns_mix_rank.columns = ['Tagger Mix','count']\n",
        "content_nouns_mix_rank['count'] = content_nouns_mix_rank['count']//3\n",
        "content_nouns_mix_rank.head(10)"
      ],
      "execution_count": 51,
      "outputs": [
        {
          "output_type": "execute_result",
          "data": {
            "text/html": [
              "<div>\n",
              "<style scoped>\n",
              "    .dataframe tbody tr th:only-of-type {\n",
              "        vertical-align: middle;\n",
              "    }\n",
              "\n",
              "    .dataframe tbody tr th {\n",
              "        vertical-align: top;\n",
              "    }\n",
              "\n",
              "    .dataframe thead th {\n",
              "        text-align: right;\n",
              "    }\n",
              "</style>\n",
              "<table border=\"1\" class=\"dataframe\">\n",
              "  <thead>\n",
              "    <tr style=\"text-align: right;\">\n",
              "      <th></th>\n",
              "      <th>Tagger Mix</th>\n",
              "      <th>count</th>\n",
              "    </tr>\n",
              "  </thead>\n",
              "  <tbody>\n",
              "    <tr>\n",
              "      <th>0</th>\n",
              "      <td>강철</td>\n",
              "      <td>130</td>\n",
              "    </tr>\n",
              "    <tr>\n",
              "      <th>1</th>\n",
              "      <td>연주</td>\n",
              "      <td>104</td>\n",
              "    </tr>\n",
              "    <tr>\n",
              "      <th>2</th>\n",
              "      <td>말</td>\n",
              "      <td>36</td>\n",
              "    </tr>\n",
              "    <tr>\n",
              "      <th>3</th>\n",
              "      <td>남자</td>\n",
              "      <td>34</td>\n",
              "    </tr>\n",
              "    <tr>\n",
              "      <th>4</th>\n",
              "      <td>것</td>\n",
              "      <td>34</td>\n",
              "    </tr>\n",
              "    <tr>\n",
              "      <th>5</th>\n",
              "      <td>거</td>\n",
              "      <td>29</td>\n",
              "    </tr>\n",
              "    <tr>\n",
              "      <th>6</th>\n",
              "      <td>수</td>\n",
              "      <td>28</td>\n",
              "    </tr>\n",
              "    <tr>\n",
              "      <th>7</th>\n",
              "      <td>밤</td>\n",
              "      <td>26</td>\n",
              "    </tr>\n",
              "    <tr>\n",
              "      <th>8</th>\n",
              "      <td>소리</td>\n",
              "      <td>25</td>\n",
              "    </tr>\n",
              "    <tr>\n",
              "      <th>9</th>\n",
              "      <td>핸드폰</td>\n",
              "      <td>25</td>\n",
              "    </tr>\n",
              "  </tbody>\n",
              "</table>\n",
              "</div>"
            ],
            "text/plain": [
              "  Tagger Mix  count\n",
              "0         강철    130\n",
              "1         연주    104\n",
              "2          말     36\n",
              "3         남자     34\n",
              "4          것     34\n",
              "5          거     29\n",
              "6          수     28\n",
              "7          밤     26\n",
              "8         소리     25\n",
              "9        핸드폰     25"
            ]
          },
          "metadata": {
            "tags": []
          },
          "execution_count": 51
        }
      ]
    },
    {
      "cell_type": "code",
      "metadata": {
        "id": "S2aZKBJMuS4E",
        "colab_type": "code",
        "outputId": "d5b6f403-ad56-4864-d181-8025e6235781",
        "colab": {
          "base_uri": "https://localhost:8080/",
          "height": 53
        }
      },
      "source": [
        "# 태깅 클래스 사용에도 불구하고 '것, 거, 수' 등 명사로 활용키 어려운 것들은 제거하자\n",
        "print(\"before remove {}\".format(len(content_nouns_mix)))\n",
        "remove_list = ['것','거','수','중','이','듯','안','뭐','앞','!!']\n",
        "for n in remove_list:\n",
        "  content_nouns_mix.drop(content_nouns_mix[content_nouns_mix.values == n].index, inplace=True)\n",
        "print(\"before remove {}\".format(len(content_nouns_mix)))"
      ],
      "execution_count": 52,
      "outputs": [
        {
          "output_type": "stream",
          "text": [
            "before remove 12004\n",
            "before remove 10199\n"
          ],
          "name": "stdout"
        }
      ]
    },
    {
      "cell_type": "code",
      "metadata": {
        "id": "qORcKuTrvR1N",
        "colab_type": "code",
        "outputId": "fc6c1f89-0e42-489c-bc6e-de5dc3a38546",
        "colab": {
          "base_uri": "https://localhost:8080/",
          "height": 359
        }
      },
      "source": [
        "# 쓸만한 명사들의 순위가 나왔다.\n",
        "content_nouns_mix_rank = content_nouns_mix.value_counts()[:30].reset_index()\n",
        "content_nouns_mix_rank.columns = ['Tagger Mix','count']\n",
        "content_nouns_mix_rank['count'] = content_nouns_mix_rank['count']//3\n",
        "content_nouns_mix_rank.head(10)"
      ],
      "execution_count": 53,
      "outputs": [
        {
          "output_type": "execute_result",
          "data": {
            "text/html": [
              "<div>\n",
              "<style scoped>\n",
              "    .dataframe tbody tr th:only-of-type {\n",
              "        vertical-align: middle;\n",
              "    }\n",
              "\n",
              "    .dataframe tbody tr th {\n",
              "        vertical-align: top;\n",
              "    }\n",
              "\n",
              "    .dataframe thead th {\n",
              "        text-align: right;\n",
              "    }\n",
              "</style>\n",
              "<table border=\"1\" class=\"dataframe\">\n",
              "  <thead>\n",
              "    <tr style=\"text-align: right;\">\n",
              "      <th></th>\n",
              "      <th>Tagger Mix</th>\n",
              "      <th>count</th>\n",
              "    </tr>\n",
              "  </thead>\n",
              "  <tbody>\n",
              "    <tr>\n",
              "      <th>0</th>\n",
              "      <td>강철</td>\n",
              "      <td>115</td>\n",
              "    </tr>\n",
              "    <tr>\n",
              "      <th>1</th>\n",
              "      <td>연주</td>\n",
              "      <td>92</td>\n",
              "    </tr>\n",
              "    <tr>\n",
              "      <th>2</th>\n",
              "      <td>말</td>\n",
              "      <td>32</td>\n",
              "    </tr>\n",
              "    <tr>\n",
              "      <th>3</th>\n",
              "      <td>남자</td>\n",
              "      <td>30</td>\n",
              "    </tr>\n",
              "    <tr>\n",
              "      <th>4</th>\n",
              "      <td>소리</td>\n",
              "      <td>23</td>\n",
              "    </tr>\n",
              "    <tr>\n",
              "      <th>5</th>\n",
              "      <td>밤</td>\n",
              "      <td>21</td>\n",
              "    </tr>\n",
              "    <tr>\n",
              "      <th>6</th>\n",
              "      <td>핸드폰</td>\n",
              "      <td>21</td>\n",
              "    </tr>\n",
              "    <tr>\n",
              "      <th>7</th>\n",
              "      <td>낮</td>\n",
              "      <td>21</td>\n",
              "    </tr>\n",
              "    <tr>\n",
              "      <th>8</th>\n",
              "      <td>아버지</td>\n",
              "      <td>20</td>\n",
              "    </tr>\n",
              "    <tr>\n",
              "      <th>9</th>\n",
              "      <td>선수</td>\n",
              "      <td>19</td>\n",
              "    </tr>\n",
              "  </tbody>\n",
              "</table>\n",
              "</div>"
            ],
            "text/plain": [
              "  Tagger Mix  count\n",
              "0         강철    115\n",
              "1         연주     92\n",
              "2          말     32\n",
              "3         남자     30\n",
              "4         소리     23\n",
              "5          밤     21\n",
              "6        핸드폰     21\n",
              "7          낮     21\n",
              "8        아버지     20\n",
              "9         선수     19"
            ]
          },
          "metadata": {
            "tags": []
          },
          "execution_count": 53
        }
      ]
    },
    {
      "cell_type": "markdown",
      "metadata": {
        "id": "wfFwk4qZyAPB",
        "colab_type": "text"
      },
      "source": [
        "## 워드클라우드 그리기"
      ]
    },
    {
      "cell_type": "code",
      "metadata": {
        "id": "IZjr3T8pkIIz",
        "colab_type": "code",
        "colab": {}
      },
      "source": [
        "from wordcloud import WordCloud\n",
        "import matplotlib.pyplot as plt"
      ],
      "execution_count": 0,
      "outputs": []
    },
    {
      "cell_type": "code",
      "metadata": {
        "id": "gtcChu9hlJPq",
        "colab_type": "code",
        "colab": {}
      },
      "source": [
        "# 워드클래스 패키지에 입력으로 사용하기 위하여 단어 : 등장횟수 를 사전형식으로 변환\n",
        "content_rank_dict = {}\n",
        "for noun, cnt in content_nouns_mix_rank.values:\n",
        "  content_rank_dict[noun]=cnt"
      ],
      "execution_count": 0,
      "outputs": []
    },
    {
      "cell_type": "code",
      "metadata": {
        "id": "7baJV1UYkTR2",
        "colab_type": "code",
        "outputId": "4eed9a42-987c-4c61-a009-b2506f8a0eec",
        "colab": {
          "base_uri": "https://localhost:8080/",
          "height": 216
        }
      },
      "source": [
        "# 한글 출력시 에러 발생\n",
        "wordcloud = WordCloud(background_color='white').generate_from_frequencies(content_rank_dict)\n",
        "fig = plt.figure()\n",
        "plt.axis('off')\n",
        "plt.imshow(wordcloud, interpolation='bilinear')"
      ],
      "execution_count": 56,
      "outputs": [
        {
          "output_type": "execute_result",
          "data": {
            "text/plain": [
              "<matplotlib.image.AxesImage at 0x7fc384fd4748>"
            ]
          },
          "metadata": {
            "tags": []
          },
          "execution_count": 56
        },
        {
          "output_type": "display_data",
          "data": {
            "image/png": "[encoded data removed]",
            "text/plain": [
              "<Figure size 432x288 with 1 Axes>"
            ]
          },
          "metadata": {
            "tags": []
          }
        }
      ]
    },
    {
      "cell_type": "code",
      "metadata": {
        "id": "EGQDxqto6Xjn",
        "colab_type": "code",
        "colab": {}
      },
      "source": [
        "# 한글 폰트 설치\n",
        "! apt-get install fonts-nanum*"
      ],
      "execution_count": 0,
      "outputs": []
    },
    {
      "cell_type": "code",
      "metadata": {
        "id": "c7pJBq4aoSDD",
        "colab_type": "code",
        "outputId": "6a573048-f024-449d-dcc2-15cad7146f5f",
        "colab": {
          "base_uri": "https://localhost:8080/",
          "height": 216
        }
      },
      "source": [
        "# 한글 폰트 문제 해결\n",
        "font_path = '/usr/share/fonts/truetype/nanum/NanumBarunGothic.ttf'\n",
        "wordcloud = WordCloud(font_path = font_path, background_color='white').generate_from_frequencies(content_rank_dict)\n",
        "fig = plt.figure()\n",
        "plt.axis('off')\n",
        "plt.imshow(wordcloud, interpolation='bilinear')"
      ],
      "execution_count": 58,
      "outputs": [
        {
          "output_type": "execute_result",
          "data": {
            "text/plain": [
              "<matplotlib.image.AxesImage at 0x7fc385393b38>"
            ]
          },
          "metadata": {
            "tags": []
          },
          "execution_count": 58
        },
        {
          "output_type": "display_data",
          "data": {
            "image/png": "[encoded data removed]",
            "text/plain": [
              "<Figure size 432x288 with 1 Axes>"
            ]
          },
          "metadata": {
            "tags": []
          }
        }
      ]
    },
    {
      "cell_type": "markdown",
      "metadata": {
        "id": "KCtywyBFsdm9",
        "colab_type": "text"
      },
      "source": [
        "## 기초통계 수행\n",
        "* 대사의 길이\n",
        "* 등장인물별 대사의 비중\n",
        "* 단어의 종류"
      ]
    },
    {
      "cell_type": "code",
      "metadata": {
        "id": "CfLlBeqRpv1T",
        "colab_type": "code",
        "colab": {}
      },
      "source": [
        "script_df.content = script_df.content.map(lambda x: x.rstrip('\\n'))"
      ],
      "execution_count": 0,
      "outputs": []
    },
    {
      "cell_type": "code",
      "metadata": {
        "id": "6n9Uf878sw_J",
        "colab_type": "code",
        "outputId": "f0b574db-6251-4dad-97bc-d4047919ffa1",
        "colab": {
          "base_uri": "https://localhost:8080/",
          "height": 419
        }
      },
      "source": [
        "script_df"
      ],
      "execution_count": 60,
      "outputs": [
        {
          "output_type": "execute_result",
          "data": {
            "text/html": [
              "<div>\n",
              "<style scoped>\n",
              "    .dataframe tbody tr th:only-of-type {\n",
              "        vertical-align: middle;\n",
              "    }\n",
              "\n",
              "    .dataframe tbody tr th {\n",
              "        vertical-align: top;\n",
              "    }\n",
              "\n",
              "    .dataframe thead th {\n",
              "        text-align: right;\n",
              "    }\n",
              "</style>\n",
              "<table border=\"1\" class=\"dataframe\">\n",
              "  <thead>\n",
              "    <tr style=\"text-align: right;\">\n",
              "      <th></th>\n",
              "      <th>act</th>\n",
              "      <th>content</th>\n",
              "    </tr>\n",
              "  </thead>\n",
              "  <tbody>\n",
              "    <tr>\n",
              "      <th>0</th>\n",
              "      <td>씬/1</td>\n",
              "      <td>아테네 올림픽 자료화면 인서트</td>\n",
              "    </tr>\n",
              "    <tr>\n",
              "      <th>1</th>\n",
              "      <td>지문</td>\n",
              "      <td>자막 – 2004년 8월. 아테네 올림픽\\n한국 국가대표 경기 생중계 자료화면.\\n...</td>\n",
              "    </tr>\n",
              "    <tr>\n",
              "      <th>2</th>\n",
              "      <td>씬/2</td>\n",
              "      <td>방송 스튜디오 (과거, 밤)</td>\n",
              "    </tr>\n",
              "    <tr>\n",
              "      <th>3</th>\n",
              "      <td>지문</td>\n",
              "      <td>올림픽 중계 스튜디오. 아테네 올림픽 엠블럼과 마스코트를 배경으로 남자 MC가 진행...</td>\n",
              "    </tr>\n",
              "    <tr>\n",
              "      <th>4</th>\n",
              "      <td>MC</td>\n",
              "      <td>네, 잠시 종목을 바꿔보겠습니다. 지금 사격 경기장에서는 50미터 권총 남자 결선이...</td>\n",
              "    </tr>\n",
              "    <tr>\n",
              "      <th>...</th>\n",
              "      <td>...</td>\n",
              "      <td>...</td>\n",
              "    </tr>\n",
              "    <tr>\n",
              "      <th>574</th>\n",
              "      <td>지문</td>\n",
              "      <td>연주, 못 알아듣자 답답해 전화를 끊어버리는.\\n밖에서는 석범이 문 두드리며 ‘야 ...</td>\n",
              "    </tr>\n",
              "    <tr>\n",
              "      <th>575</th>\n",
              "      <td>연주</td>\n",
              "      <td>(살아있는 사람에게 말 걸 듯) 왜 나를 찾아 당신...? 날 찾아서 어쩌려고...?</td>\n",
              "    </tr>\n",
              "    <tr>\n",
              "      <th>576</th>\n",
              "      <td>지문</td>\n",
              "      <td>그림 속의 강철, 대답이 없고.</td>\n",
              "    </tr>\n",
              "    <tr>\n",
              "      <th>577</th>\n",
              "      <td>연주</td>\n",
              "      <td>왜 내가 당신 인생의 키가 되는데..?</td>\n",
              "    </tr>\n",
              "    <tr>\n",
              "      <th>578</th>\n",
              "      <td>지문</td>\n",
              "      <td>답도 없는 만화에 대고 묻는 연주와, 마치 연주에게 말을 거는 듯한 만화 속의 강철...</td>\n",
              "    </tr>\n",
              "  </tbody>\n",
              "</table>\n",
              "<p>579 rows × 2 columns</p>\n",
              "</div>"
            ],
            "text/plain": [
              "     act                                            content\n",
              "0    씬/1                                  아테네 올림픽 자료화면 인서트 \n",
              "1     지문  자막 – 2004년 8월. 아테네 올림픽\\n한국 국가대표 경기 생중계 자료화면.\\n...\n",
              "2    씬/2                                    방송 스튜디오 (과거, 밤)\n",
              "3     지문  올림픽 중계 스튜디오. 아테네 올림픽 엠블럼과 마스코트를 배경으로 남자 MC가 진행...\n",
              "4     MC  네, 잠시 종목을 바꿔보겠습니다. 지금 사격 경기장에서는 50미터 권총 남자 결선이...\n",
              "..   ...                                                ...\n",
              "574   지문  연주, 못 알아듣자 답답해 전화를 끊어버리는.\\n밖에서는 석범이 문 두드리며 ‘야 ...\n",
              "575   연주    (살아있는 사람에게 말 걸 듯) 왜 나를 찾아 당신...? 날 찾아서 어쩌려고...?\n",
              "576   지문                                  그림 속의 강철, 대답이 없고.\n",
              "577   연주                              왜 내가 당신 인생의 키가 되는데..?\n",
              "578   지문  답도 없는 만화에 대고 묻는 연주와, 마치 연주에게 말을 거는 듯한 만화 속의 강철...\n",
              "\n",
              "[579 rows x 2 columns]"
            ]
          },
          "metadata": {
            "tags": []
          },
          "execution_count": 60
        }
      ]
    },
    {
      "cell_type": "code",
      "metadata": {
        "id": "j3eg6xZXtNMi",
        "colab_type": "code",
        "colab": {}
      },
      "source": [
        "# 대사에만 집중하기 위해 지문, 씬, C#등 제거 - '지문', '씬/.*', 'C#.*'\n",
        "script_df_actor = script_df.drop(script_df[script_df['act'].str.find('지문') == 0].index)\n",
        "script_df_actor = script_df_actor.drop(script_df_actor[script_df_actor['act'].str.find('씬/') == 0].index)\n",
        "script_df_actor = script_df_actor.drop(script_df_actor[script_df_actor['act'].str.find('C#') == 0].index)"
      ],
      "execution_count": 0,
      "outputs": []
    },
    {
      "cell_type": "code",
      "metadata": {
        "id": "yczOaoeott-e",
        "colab_type": "code",
        "outputId": "c64b6467-4554-4578-d4bf-b22bbdf25dd9",
        "colab": {
          "base_uri": "https://localhost:8080/",
          "height": 89
        }
      },
      "source": [
        "script_df_actor['act'].unique()"
      ],
      "execution_count": 62,
      "outputs": [
        {
          "output_type": "execute_result",
          "data": {
            "text/plain": [
              "array(['MC', '캐스터', '해설', '가족들', '강철모', '강철부', '아이들', '앵커', '기자', '경감',\n",
              "       '전문가', '현석', '강철', '철호', '자막', '연주', '석범', '김간호사', '간호사1', '간호사2',\n",
              "       '박교수', '수봉', '선미/윤희', '성무', '연주/수봉', '선미', '  ', '일동', '웨이터',\n",
              "       '의사1', '매니저', '구급대원', '윤희', '소희', '도윤'], dtype=object)"
            ]
          },
          "metadata": {
            "tags": []
          },
          "execution_count": 62
        }
      ]
    },
    {
      "cell_type": "code",
      "metadata": {
        "id": "gX4mt99zwR1q",
        "colab_type": "code",
        "outputId": "95372960-fad5-450c-a269-42e12b08bc81",
        "colab": {
          "base_uri": "https://localhost:8080/",
          "height": 80
        }
      },
      "source": [
        "# 전처리 누락분 제거\n",
        "script_df_actor[script_df_actor['act']=='  ']"
      ],
      "execution_count": 63,
      "outputs": [
        {
          "output_type": "execute_result",
          "data": {
            "text/html": [
              "<div>\n",
              "<style scoped>\n",
              "    .dataframe tbody tr th:only-of-type {\n",
              "        vertical-align: middle;\n",
              "    }\n",
              "\n",
              "    .dataframe tbody tr th {\n",
              "        vertical-align: top;\n",
              "    }\n",
              "\n",
              "    .dataframe thead th {\n",
              "        text-align: right;\n",
              "    }\n",
              "</style>\n",
              "<table border=\"1\" class=\"dataframe\">\n",
              "  <thead>\n",
              "    <tr style=\"text-align: right;\">\n",
              "      <th></th>\n",
              "      <th>act</th>\n",
              "      <th>content</th>\n",
              "    </tr>\n",
              "  </thead>\n",
              "  <tbody>\n",
              "    <tr>\n",
              "      <th>373</th>\n",
              "      <td></td>\n",
              "      <td>지글지글 고기 굽는 소리, 칼질하는 소리, 매운 연기에 라운지에서 들려오는 음악소리...</td>\n",
              "    </tr>\n",
              "  </tbody>\n",
              "</table>\n",
              "</div>"
            ],
            "text/plain": [
              "    act                                            content\n",
              "373      지글지글 고기 굽는 소리, 칼질하는 소리, 매운 연기에 라운지에서 들려오는 음악소리..."
            ]
          },
          "metadata": {
            "tags": []
          },
          "execution_count": 63
        }
      ]
    },
    {
      "cell_type": "code",
      "metadata": {
        "id": "Ydy9aC8qw2Rp",
        "colab_type": "code",
        "colab": {}
      },
      "source": [
        "script_df_actor = script_df_actor.drop(373)"
      ],
      "execution_count": 0,
      "outputs": []
    },
    {
      "cell_type": "markdown",
      "metadata": {
        "id": "DHd3eI-8x8C5",
        "colab_type": "text"
      },
      "source": [
        "### 등장인물의 종류"
      ]
    },
    {
      "cell_type": "code",
      "metadata": {
        "id": "mjf7EEVMxE7s",
        "colab_type": "code",
        "outputId": "e0910a23-7335-4ddf-808f-809360f1068f",
        "colab": {
          "base_uri": "https://localhost:8080/",
          "height": 89
        }
      },
      "source": [
        "script_df_actor['act'].unique()"
      ],
      "execution_count": 65,
      "outputs": [
        {
          "output_type": "execute_result",
          "data": {
            "text/plain": [
              "array(['MC', '캐스터', '해설', '가족들', '강철모', '강철부', '아이들', '앵커', '기자', '경감',\n",
              "       '전문가', '현석', '강철', '철호', '자막', '연주', '석범', '김간호사', '간호사1', '간호사2',\n",
              "       '박교수', '수봉', '선미/윤희', '성무', '연주/수봉', '선미', '일동', '웨이터', '의사1',\n",
              "       '매니저', '구급대원', '윤희', '소희', '도윤'], dtype=object)"
            ]
          },
          "metadata": {
            "tags": []
          },
          "execution_count": 65
        }
      ]
    },
    {
      "cell_type": "code",
      "metadata": {
        "id": "4bwPC5WR40wl",
        "colab_type": "code",
        "outputId": "84eaf5a3-ad16-41ed-a1de-bca024e2ad7a",
        "colab": {
          "base_uri": "https://localhost:8080/",
          "height": 35
        }
      },
      "source": [
        "len(script_df_actor['act'].unique())"
      ],
      "execution_count": 66,
      "outputs": [
        {
          "output_type": "execute_result",
          "data": {
            "text/plain": [
              "34"
            ]
          },
          "metadata": {
            "tags": []
          },
          "execution_count": 66
        }
      ]
    },
    {
      "cell_type": "markdown",
      "metadata": {
        "id": "A29TcMyvyB56",
        "colab_type": "text"
      },
      "source": [
        "### 대사의 길이"
      ]
    },
    {
      "cell_type": "code",
      "metadata": {
        "id": "ZYf0Rr5qyUzp",
        "colab_type": "code",
        "colab": {}
      },
      "source": [
        "import seaborn as sns"
      ],
      "execution_count": 0,
      "outputs": []
    },
    {
      "cell_type": "code",
      "metadata": {
        "id": "iUC_N_Y6x6Of",
        "colab_type": "code",
        "outputId": "dbcffc26-d4a3-4acc-8996-25e734b2ccd3",
        "colab": {
          "base_uri": "https://localhost:8080/",
          "height": 297
        }
      },
      "source": [
        "# 대사 길이의 분포를 보면 50자 이내의 대사가 대부분을 차지함을 알 수 있다.\n",
        "sns.distplot(script_df_actor['content'].str.len())"
      ],
      "execution_count": 68,
      "outputs": [
        {
          "output_type": "execute_result",
          "data": {
            "text/plain": [
              "<matplotlib.axes._subplots.AxesSubplot at 0x7fc3850feac8>"
            ]
          },
          "metadata": {
            "tags": []
          },
          "execution_count": 68
        },
        {
          "output_type": "display_data",
          "data": {
            "image/png": "[encoded data removed]",
            "text/plain": [
              "<Figure size 432x288 with 1 Axes>"
            ]
          },
          "metadata": {
            "tags": []
          }
        }
      ]
    },
    {
      "cell_type": "code",
      "metadata": {
        "id": "nYY6bU9yyFek",
        "colab_type": "code",
        "outputId": "4a50673b-b16c-4e81-b2d1-c78a43a6bdd8",
        "colab": {
          "base_uri": "https://localhost:8080/",
          "height": 125
        }
      },
      "source": [
        "print(\"summary of content length\\n\\\n",
        "max : {}\\n\\\n",
        "min : {}\\n\\\n",
        "mean : {}\\n\\\n",
        "std : {}\\n\".format(\n",
        "            script_df_actor['content'].str.len().max(),\n",
        "            script_df_actor['content'].str.len().min(),\n",
        "            script_df_actor['content'].str.len().mean(),\n",
        "            script_df_actor['content'].str.len().std()))"
      ],
      "execution_count": 69,
      "outputs": [
        {
          "output_type": "stream",
          "text": [
            "summary of content length\n",
            "max : 167\n",
            "min : 2\n",
            "mean : 33.976133651551315\n",
            "std : 29.041125819143765\n",
            "\n"
          ],
          "name": "stdout"
        }
      ]
    },
    {
      "cell_type": "markdown",
      "metadata": {
        "id": "cxLFbgvg0_xH",
        "colab_type": "text"
      },
      "source": [
        "## 인물별 대사의 비중"
      ]
    },
    {
      "cell_type": "markdown",
      "metadata": {
        "id": "3UWIipq81KEj",
        "colab_type": "text"
      },
      "source": [
        "* 대사 횟수"
      ]
    },
    {
      "cell_type": "code",
      "metadata": {
        "id": "pqkmr0JV0-3V",
        "colab_type": "code",
        "outputId": "13d3b2aa-40ef-4574-9cf7-a71f5e180763",
        "colab": {
          "base_uri": "https://localhost:8080/",
          "height": 215
        }
      },
      "source": [
        "# 연주가 혼자 다해먹나보다\n",
        "script_df_actor['act'].value_counts().head(10)"
      ],
      "execution_count": 70,
      "outputs": [
        {
          "output_type": "execute_result",
          "data": {
            "text/plain": [
              "연주     139\n",
              "수봉      62\n",
              "박교수     41\n",
              "강철      28\n",
              "캐스터     25\n",
              "소희      19\n",
              "웨이터     14\n",
              "석범      13\n",
              "해설      13\n",
              "기자      13\n",
              "Name: act, dtype: int64"
            ]
          },
          "metadata": {
            "tags": []
          },
          "execution_count": 70
        }
      ]
    },
    {
      "cell_type": "markdown",
      "metadata": {
        "id": "1hXvF1uL1Xoj",
        "colab_type": "text"
      },
      "source": [
        "* 대사 길이"
      ]
    },
    {
      "cell_type": "code",
      "metadata": {
        "id": "LeuohxyjytXZ",
        "colab_type": "code",
        "colab": {}
      },
      "source": [
        "script_df_actor['length'] = script_df_actor['content'].str.len()"
      ],
      "execution_count": 0,
      "outputs": []
    },
    {
      "cell_type": "code",
      "metadata": {
        "id": "1AK-WVEZ1bwz",
        "colab_type": "code",
        "outputId": "e44866f0-8f23-4b4a-ef7a-1b7a36ce72a4",
        "colab": {
          "base_uri": "https://localhost:8080/",
          "height": 390
        }
      },
      "source": [
        "# 역시 연주가 가장 말이 많다. 강철이라는 인물은 남자라 그런지 등장에 비해 대사 길이가 짧다.\n",
        "script_df_actor.groupby('act').sum().sort_values(by='length', ascending=False).head(10)"
      ],
      "execution_count": 72,
      "outputs": [
        {
          "output_type": "execute_result",
          "data": {
            "text/html": [
              "<div>\n",
              "<style scoped>\n",
              "    .dataframe tbody tr th:only-of-type {\n",
              "        vertical-align: middle;\n",
              "    }\n",
              "\n",
              "    .dataframe tbody tr th {\n",
              "        vertical-align: top;\n",
              "    }\n",
              "\n",
              "    .dataframe thead th {\n",
              "        text-align: right;\n",
              "    }\n",
              "</style>\n",
              "<table border=\"1\" class=\"dataframe\">\n",
              "  <thead>\n",
              "    <tr style=\"text-align: right;\">\n",
              "      <th></th>\n",
              "      <th>length</th>\n",
              "    </tr>\n",
              "    <tr>\n",
              "      <th>act</th>\n",
              "      <th></th>\n",
              "    </tr>\n",
              "  </thead>\n",
              "  <tbody>\n",
              "    <tr>\n",
              "      <th>연주</th>\n",
              "      <td>4046</td>\n",
              "    </tr>\n",
              "    <tr>\n",
              "      <th>수봉</th>\n",
              "      <td>1853</td>\n",
              "    </tr>\n",
              "    <tr>\n",
              "      <th>박교수</th>\n",
              "      <td>1454</td>\n",
              "    </tr>\n",
              "    <tr>\n",
              "      <th>캐스터</th>\n",
              "      <td>1379</td>\n",
              "    </tr>\n",
              "    <tr>\n",
              "      <th>기자</th>\n",
              "      <td>870</td>\n",
              "    </tr>\n",
              "    <tr>\n",
              "      <th>소희</th>\n",
              "      <td>665</td>\n",
              "    </tr>\n",
              "    <tr>\n",
              "      <th>강철</th>\n",
              "      <td>633</td>\n",
              "    </tr>\n",
              "    <tr>\n",
              "      <th>해설</th>\n",
              "      <td>558</td>\n",
              "    </tr>\n",
              "    <tr>\n",
              "      <th>매니저</th>\n",
              "      <td>456</td>\n",
              "    </tr>\n",
              "    <tr>\n",
              "      <th>웨이터</th>\n",
              "      <td>369</td>\n",
              "    </tr>\n",
              "  </tbody>\n",
              "</table>\n",
              "</div>"
            ],
            "text/plain": [
              "     length\n",
              "act        \n",
              "연주     4046\n",
              "수봉     1853\n",
              "박교수    1454\n",
              "캐스터    1379\n",
              "기자      870\n",
              "소희      665\n",
              "강철      633\n",
              "해설      558\n",
              "매니저     456\n",
              "웨이터     369"
            ]
          },
          "metadata": {
            "tags": []
          },
          "execution_count": 72
        }
      ]
    },
    {
      "cell_type": "markdown",
      "metadata": {
        "id": "zyvIJWAG3bSp",
        "colab_type": "text"
      },
      "source": [
        "### 어휘의 다양성"
      ]
    },
    {
      "cell_type": "code",
      "metadata": {
        "id": "OHoqy6sj1jR1",
        "colab_type": "code",
        "outputId": "5566cd53-2b58-4ada-e19f-f90eef26e81a",
        "colab": {
          "base_uri": "https://localhost:8080/",
          "height": 35
        }
      },
      "source": [
        "# 1편의 대본에 명자 2040개가 사용되었다.\n",
        "len(content_nouns_mix.unique())"
      ],
      "execution_count": 73,
      "outputs": [
        {
          "output_type": "execute_result",
          "data": {
            "text/plain": [
              "2040"
            ]
          },
          "metadata": {
            "tags": []
          },
          "execution_count": 73
        }
      ]
    }
  ]
}