{
  "nbformat": 4,
  "nbformat_minor": 0,
  "metadata": {
    "colab": {
      "name": "01_01 get_naver_best_music.ipynb",
      "version": "0.3.2",
      "provenance": [],
      "collapsed_sections": [],
      "include_colab_link": true
    },
    "kernelspec": {
      "name": "python3",
      "display_name": "Python 3"
    }
  },
  "cells": [
    {
      "cell_type": "markdown",
      "metadata": {
        "id": "view-in-github",
        "colab_type": "text"
      },
      "source": [
        "<a href=\"https://colab.research.google.com/github/jaygo-kr/brunch/blob/master/01_01_get_naver_best_music.ipynb\" target=\"_parent\"><img src=\"https://colab.research.google.com/assets/colab-badge.svg\" alt=\"Open In Colab\"/></a>"
      ]
    },
    {
      "cell_type": "markdown",
      "metadata": {
        "id": "4GaFcUQimLVB",
        "colab_type": "text"
      },
      "source": [
        "# 네이버 뮤직 - 시대별 음악 크롤링하기\n",
        "[시대별 음악, 추천음악 : 네이버 뮤직](https://music.naver.com/recommend/timeLine.nhn)"
      ]
    },
    {
      "cell_type": "code",
      "metadata": {
        "id": "U4kQ2mLamKrA",
        "colab_type": "code",
        "outputId": "d9eef25e-becf-4e18-92ae-69802376a7bd",
        "colab": {
          "base_uri": "https://localhost:8080/",
          "height": 34
        }
      },
      "source": [
        "from bs4 import BeautifulSoup\n",
        "import numpy as np\n",
        "import pandas as pd\n",
        "import requests\n",
        "import time\n",
        "from google.colab import files, drive\n",
        "drive.mount('/content/gdrive')"
      ],
      "execution_count": 1,
      "outputs": [
        {
          "output_type": "stream",
          "text": [
            "Drive already mounted at /content/gdrive; to attempt to forcibly remount, call drive.mount(\"/content/gdrive\", force_remount=True).\n"
          ],
          "name": "stdout"
        }
      ]
    },
    {
      "cell_type": "code",
      "metadata": {
        "id": "RhagWp95PR_I",
        "colab_type": "code",
        "colab": {}
      },
      "source": [
        "ERA_DICT = {1980:'1980',1990:'1990',2000:'2000',2010:'2010'}\n",
        "GENRE_DICT = {'K01':'발라드','K02':'댄스','K03':'힙합','K04':'록/포크','K05':'트로트'}\n",
        "COLUMNS_LIST = ['곡명','아티스트','앨범','시대','장르','순위/전체','순위/시대','순위/장르','순위/시대/장르']"
      ],
      "execution_count": 0,
      "outputs": []
    },
    {
      "cell_type": "markdown",
      "metadata": {
        "id": "eQQHiwQSFK7i",
        "colab_type": "text"
      },
      "source": [
        "## 1. 시대, 장르별로 구분하여 순위대로 추출"
      ]
    },
    {
      "cell_type": "code",
      "metadata": {
        "colab_type": "code",
        "id": "XrYVYRbjwJcT",
        "colab": {}
      },
      "source": [
        "def read_data_seperate(ERA, GENRE, DISPLAY = 50):\n",
        "  initial_url = 'https://music.naver.com/recommend/trackTimeLine.nhn?fromTime={ERA_from}&toTime={ERA_to}&searchType=track&orderType=score&viewType=thumbnail&genre={GENRE}&display={DISPLAY}'.format(\n",
        "    ERA_from=ERA, ERA_to=ERA+10, GENRE=GENRE, DISPLAY=DISPLAY)\n",
        "  r = requests.get(initial_url)\n",
        "  \n",
        "  html = r.text\n",
        "  soup = BeautifulSoup(html, 'html.parser')\n",
        "  \n",
        "  num_select = soup.select(\n",
        "    'div.sorting_area > div.tab_rdo > label.item10 > em'\n",
        "  )\n",
        "  num = int(num_select[0].text[1:-1])\n",
        "  DISPLAY = num\n",
        "  \n",
        "  target_url = 'https://music.naver.com/recommend/trackTimeLine.nhn?fromTime={ERA_from}&toTime={ERA_to}&searchType=track&orderType=score&viewType=thumbnail&genre={GENRE}&display={DISPLAY}'.format(\n",
        "    ERA_from=ERA, ERA_to=ERA+10, GENRE=GENRE, DISPLAY=DISPLAY)\n",
        "  r = requests.get(target_url)\n",
        "  \n",
        "  print('STEP {},{} : {} data reading...'.format(ERA, GENRE, num))\n",
        "  \n",
        "  html = r.text\n",
        "  soup = BeautifulSoup(html, 'html.parser')\n",
        "  \n",
        "\n",
        "  title_select = soup.select(\n",
        "    'tbody > tr > td.name'\n",
        "  )\n",
        "  artist_select = soup.select(\n",
        "    'tbody > tr > td._artist'\n",
        "  )\n",
        "  album_select = soup.select(\n",
        "    'tbody > tr > td.album > a._album'\n",
        "  )\n",
        "\n",
        "  data = pd.DataFrame(columns = COLUMNS_LIST[:5] + [COLUMNS_LIST[8]])\n",
        "\n",
        "  #for col in COLUMNS_LIST:\n",
        "  title_list = []\n",
        "  for select in title_select[1:]:\n",
        "    title_list.append(select.text.strip())\n",
        "  data[COLUMNS_LIST[0]] = title_list\n",
        "  \n",
        "  artist_list = []\n",
        "  for select in artist_select[1:]:\n",
        "    artist_list.append(select.text.strip())\n",
        "  data[COLUMNS_LIST[1]] = artist_list\n",
        "  \n",
        "  album_list = []\n",
        "  for select in album_select:\n",
        "    album_list.append(select.text)\n",
        "  data[COLUMNS_LIST[2]] = album_list\n",
        "  \n",
        "  era_list = [ERA_DICT[ERA] for _ in range(num)]\n",
        "  data[COLUMNS_LIST[3]] = era_list\n",
        "  \n",
        "  genre_list = [GENRE_DICT[GENRE] for _ in range(num)]\n",
        "  data[COLUMNS_LIST[4]] = genre_list\n",
        "  \n",
        "  rank_list = [i+1 for i in range(num)]\n",
        "  data[COLUMNS_LIST[8]] = pd.to_numeric(rank_list)\n",
        "  print('STEP {},{} : {} data done.'.format(ERA, GENRE, num))\n",
        "  return data "
      ],
      "execution_count": 0,
      "outputs": []
    },
    {
      "cell_type": "code",
      "metadata": {
        "id": "kHEXOOqG-tPo",
        "colab_type": "code",
        "outputId": "1ae5edbe-9843-4121-e196-b58f4c42085a",
        "colab": {
          "base_uri": "https://localhost:8080/",
          "height": 738
        }
      },
      "source": [
        "full_data_sep = pd.DataFrame()\n",
        "\n",
        "for era in ERA_DICT.keys():\n",
        "  for genre in GENRE_DICT.keys():\n",
        "    read_data = read_data_seperate(era, genre)\n",
        "    full_data_sep = pd.concat([full_data_sep, read_data])\n",
        "\n",
        "print(\"Total data : {}\".format(len(full_data_sep)))"
      ],
      "execution_count": 4,
      "outputs": [
        {
          "output_type": "stream",
          "text": [
            "STEP 1980,K01 : 1005 data reading...\n",
            "STEP 1980,K01 : 1005 data done.\n",
            "STEP 1980,K02 : 97 data reading...\n",
            "STEP 1980,K02 : 97 data done.\n",
            "STEP 1980,K03 : 0 data reading...\n",
            "STEP 1980,K03 : 0 data done.\n",
            "STEP 1980,K04 : 1002 data reading...\n",
            "STEP 1980,K04 : 1002 data done.\n",
            "STEP 1980,K05 : 1001 data reading...\n",
            "STEP 1980,K05 : 1001 data done.\n",
            "STEP 1990,K01 : 1000 data reading...\n",
            "STEP 1990,K01 : 1000 data done.\n",
            "STEP 1990,K02 : 1000 data reading...\n",
            "STEP 1990,K02 : 1000 data done.\n",
            "STEP 1990,K03 : 519 data reading...\n",
            "STEP 1990,K03 : 519 data done.\n",
            "STEP 1990,K04 : 1000 data reading...\n",
            "STEP 1990,K04 : 1000 data done.\n",
            "STEP 1990,K05 : 1000 data reading...\n",
            "STEP 1990,K05 : 1000 data done.\n",
            "STEP 2000,K01 : 1000 data reading...\n",
            "STEP 2000,K01 : 1000 data done.\n",
            "STEP 2000,K02 : 1000 data reading...\n",
            "STEP 2000,K02 : 1000 data done.\n",
            "STEP 2000,K03 : 1000 data reading...\n",
            "STEP 2000,K03 : 1000 data done.\n",
            "STEP 2000,K04 : 1000 data reading...\n",
            "STEP 2000,K04 : 1000 data done.\n",
            "STEP 2000,K05 : 1000 data reading...\n",
            "STEP 2000,K05 : 1000 data done.\n",
            "STEP 2010,K01 : 1000 data reading...\n",
            "STEP 2010,K01 : 1000 data done.\n",
            "STEP 2010,K02 : 1000 data reading...\n",
            "STEP 2010,K02 : 1000 data done.\n",
            "STEP 2010,K03 : 1000 data reading...\n",
            "STEP 2010,K03 : 1000 data done.\n",
            "STEP 2010,K04 : 1000 data reading...\n",
            "STEP 2010,K04 : 1000 data done.\n",
            "STEP 2010,K05 : 1000 data reading...\n",
            "STEP 2010,K05 : 1000 data done.\n",
            "Total data : 17624\n"
          ],
          "name": "stdout"
        }
      ]
    },
    {
      "cell_type": "code",
      "metadata": {
        "id": "cIPl8LhnATXW",
        "colab_type": "code",
        "outputId": "ae2142f4-fc22-4e14-87ea-a4de5c25e099",
        "colab": {
          "base_uri": "https://localhost:8080/",
          "height": 195
        }
      },
      "source": [
        "full_data_sep.head()"
      ],
      "execution_count": 5,
      "outputs": [
        {
          "output_type": "execute_result",
          "data": {
            "text/html": [
              "<div>\n",
              "<style scoped>\n",
              "    .dataframe tbody tr th:only-of-type {\n",
              "        vertical-align: middle;\n",
              "    }\n",
              "\n",
              "    .dataframe tbody tr th {\n",
              "        vertical-align: top;\n",
              "    }\n",
              "\n",
              "    .dataframe thead th {\n",
              "        text-align: right;\n",
              "    }\n",
              "</style>\n",
              "<table border=\"1\" class=\"dataframe\">\n",
              "  <thead>\n",
              "    <tr style=\"text-align: right;\">\n",
              "      <th></th>\n",
              "      <th>곡명</th>\n",
              "      <th>아티스트</th>\n",
              "      <th>앨범</th>\n",
              "      <th>시대</th>\n",
              "      <th>장르</th>\n",
              "      <th>순위/시대/장르</th>\n",
              "    </tr>\n",
              "  </thead>\n",
              "  <tbody>\n",
              "    <tr>\n",
              "      <th>0</th>\n",
              "      <td>가로수 그늘아래 서면</td>\n",
              "      <td>이문세</td>\n",
              "      <td>5집 가로수 그늘아래서면</td>\n",
              "      <td>1980</td>\n",
              "      <td>발라드</td>\n",
              "      <td>1</td>\n",
              "    </tr>\n",
              "    <tr>\n",
              "      <th>1</th>\n",
              "      <td>사랑하기 때문에</td>\n",
              "      <td>유재하</td>\n",
              "      <td>1집 사랑하기 때문에</td>\n",
              "      <td>1980</td>\n",
              "      <td>발라드</td>\n",
              "      <td>2</td>\n",
              "    </tr>\n",
              "    <tr>\n",
              "      <th>2</th>\n",
              "      <td>너에게로 또 다시</td>\n",
              "      <td>변진섭</td>\n",
              "      <td>2집 너에게로 또다시</td>\n",
              "      <td>1980</td>\n",
              "      <td>발라드</td>\n",
              "      <td>3</td>\n",
              "    </tr>\n",
              "    <tr>\n",
              "      <th>3</th>\n",
              "      <td>가리워진 길</td>\n",
              "      <td>유재하</td>\n",
              "      <td>1집 사랑하기 때문에</td>\n",
              "      <td>1980</td>\n",
              "      <td>발라드</td>\n",
              "      <td>4</td>\n",
              "    </tr>\n",
              "    <tr>\n",
              "      <th>4</th>\n",
              "      <td>비처럼 음악처럼</td>\n",
              "      <td>김현식</td>\n",
              "      <td>3집 비처럼 음악처럼</td>\n",
              "      <td>1980</td>\n",
              "      <td>발라드</td>\n",
              "      <td>5</td>\n",
              "    </tr>\n",
              "  </tbody>\n",
              "</table>\n",
              "</div>"
            ],
            "text/plain": [
              "            곡명 아티스트             앨범    시대   장르  순위/시대/장르\n",
              "0  가로수 그늘아래 서면  이문세  5집 가로수 그늘아래서면  1980  발라드         1\n",
              "1     사랑하기 때문에  유재하    1집 사랑하기 때문에  1980  발라드         2\n",
              "2    너에게로 또 다시  변진섭    2집 너에게로 또다시  1980  발라드         3\n",
              "3       가리워진 길  유재하    1집 사랑하기 때문에  1980  발라드         4\n",
              "4     비처럼 음악처럼  김현식    3집 비처럼 음악처럼  1980  발라드         5"
            ]
          },
          "metadata": {
            "tags": []
          },
          "execution_count": 5
        }
      ]
    },
    {
      "cell_type": "code",
      "metadata": {
        "id": "Yk-L6hhmb-sL",
        "colab_type": "code",
        "colab": {}
      },
      "source": [
        "full_data_sep.to_csv(\"./gdrive/My Drive/Colab/data/full_data_sep.csv\", index=False)"
      ],
      "execution_count": 0,
      "outputs": []
    },
    {
      "cell_type": "markdown",
      "metadata": {
        "id": "FtfTcDQiFslu",
        "colab_type": "text"
      },
      "source": [
        "## 2. 시대별로 구분하여 순위대로 추출"
      ]
    },
    {
      "cell_type": "code",
      "metadata": {
        "id": "4EpIj9K4vb7n",
        "colab_type": "code",
        "colab": {}
      },
      "source": [
        "def read_data_era(ERA, DISPLAY = 50):\n",
        "  initial_url = 'https://music.naver.com/recommend/trackTimeLine.nhn?fromTime={ERA_from}&toTime={ERA_to}&searchType=track&orderType=score&viewType=thumbnail&genre={GENRE}&display={DISPLAY}'.format(\n",
        "    ERA_from=ERA, ERA_to=ERA+10, GENRE=','.join(GENRE_DICT.keys()), DISPLAY=DISPLAY)\n",
        "  r = requests.get(initial_url)\n",
        "  \n",
        "  html = r.text\n",
        "  soup = BeautifulSoup(html, 'html.parser')\n",
        "  \n",
        "  num_select = soup.select(\n",
        "    'div.sorting_area > div.tab_rdo > label.item10 > em'\n",
        "  )\n",
        "  num = int(num_select[0].text[1:-1])\n",
        "  DISPLAY = num\n",
        "  \n",
        "  target_url = 'https://music.naver.com/recommend/trackTimeLine.nhn?fromTime={ERA_from}&toTime={ERA_to}&searchType=track&orderType=score&viewType=thumbnail&genre={GENRE}&display={DISPLAY}'.format(\n",
        "    ERA_from=ERA, ERA_to=ERA+10, GENRE=','.join(GENRE_DICT.keys()), DISPLAY=num)\n",
        "  r = requests.get(target_url)\n",
        "  print('STEP {} : {} data reading...'.format(ERA, num))\n",
        "  \n",
        "  html = r.text\n",
        "  soup = BeautifulSoup(html, 'html.parser')\n",
        "  \n",
        "  title_select = soup.select(\n",
        "    'tbody > tr > td.name'\n",
        "  )\n",
        "  artist_select = soup.select(\n",
        "    'tbody > tr > td._artist'\n",
        "  )\n",
        "  album_select = soup.select(\n",
        "    'tbody > tr > td.album > a._album'\n",
        "  )\n",
        "  \n",
        "  data = pd.DataFrame(columns = COLUMNS_LIST[:4] + [COLUMNS_LIST[6]])\n",
        "\n",
        "  #for col in COLUMNS_LIST:\n",
        "  title_list = []\n",
        "  for select in title_select[1:]:\n",
        "    title_list.append(select.text.strip())\n",
        "  data[COLUMNS_LIST[0]] = title_list\n",
        "  \n",
        "  artist_list = []\n",
        "  for select in artist_select[1:]:\n",
        "    artist_list.append(select.text.strip())\n",
        "  data[COLUMNS_LIST[1]] = artist_list\n",
        "  \n",
        "  album_list = []\n",
        "  for select in album_select:\n",
        "    album_list.append(select.text)\n",
        "  data[COLUMNS_LIST[2]] = album_list\n",
        "  \n",
        "  era_list = [ERA_DICT[ERA] for _ in range(num)]\n",
        "  data[COLUMNS_LIST[3]] = era_list\n",
        "  \n",
        "  rank_list = [i+1 for i in range(num)]\n",
        "  data[COLUMNS_LIST[6]] = pd.to_numeric(rank_list)\n",
        "  print('STEP {} : {} data done.'.format(ERA, num))\n",
        "  \n",
        "  return data  "
      ],
      "execution_count": 0,
      "outputs": []
    },
    {
      "cell_type": "code",
      "metadata": {
        "id": "WERgmGOlnBCi",
        "colab_type": "code",
        "outputId": "833f9251-ea48-49b7-827d-a5b01fda9c4c",
        "colab": {
          "base_uri": "https://localhost:8080/",
          "height": 175
        }
      },
      "source": [
        "full_data_era = pd.DataFrame()\n",
        "\n",
        "for era in ERA_DICT.keys():\n",
        "  read_data = read_data_era(era)\n",
        "  full_data_era = pd.concat([full_data_era, read_data])\n",
        "\n",
        "print(\"Total data : {}\".format(len(full_data_era)))"
      ],
      "execution_count": 8,
      "outputs": [
        {
          "output_type": "stream",
          "text": [
            "STEP 1980 : 3105 data reading...\n",
            "STEP 1980 : 3105 data done.\n",
            "STEP 1990 : 4519 data reading...\n",
            "STEP 1990 : 4519 data done.\n",
            "STEP 2000 : 5000 data reading...\n",
            "STEP 2000 : 5000 data done.\n",
            "STEP 2010 : 5000 data reading...\n",
            "STEP 2010 : 5000 data done.\n",
            "Total data : 17624\n"
          ],
          "name": "stdout"
        }
      ]
    },
    {
      "cell_type": "code",
      "metadata": {
        "id": "GvYOaKAdmCFB",
        "colab_type": "code",
        "outputId": "04f060b4-a821-4420-85ab-8797379dbe16",
        "colab": {
          "base_uri": "https://localhost:8080/",
          "height": 195
        }
      },
      "source": [
        "full_data_era.head()"
      ],
      "execution_count": 9,
      "outputs": [
        {
          "output_type": "execute_result",
          "data": {
            "text/html": [
              "<div>\n",
              "<style scoped>\n",
              "    .dataframe tbody tr th:only-of-type {\n",
              "        vertical-align: middle;\n",
              "    }\n",
              "\n",
              "    .dataframe tbody tr th {\n",
              "        vertical-align: top;\n",
              "    }\n",
              "\n",
              "    .dataframe thead th {\n",
              "        text-align: right;\n",
              "    }\n",
              "</style>\n",
              "<table border=\"1\" class=\"dataframe\">\n",
              "  <thead>\n",
              "    <tr style=\"text-align: right;\">\n",
              "      <th></th>\n",
              "      <th>곡명</th>\n",
              "      <th>아티스트</th>\n",
              "      <th>앨범</th>\n",
              "      <th>시대</th>\n",
              "      <th>순위/시대</th>\n",
              "    </tr>\n",
              "  </thead>\n",
              "  <tbody>\n",
              "    <tr>\n",
              "      <th>0</th>\n",
              "      <td>가로수 그늘아래 서면</td>\n",
              "      <td>이문세</td>\n",
              "      <td>5집 가로수 그늘아래서면</td>\n",
              "      <td>1980</td>\n",
              "      <td>1</td>\n",
              "    </tr>\n",
              "    <tr>\n",
              "      <th>1</th>\n",
              "      <td>사랑하기 때문에</td>\n",
              "      <td>유재하</td>\n",
              "      <td>1집 사랑하기 때문에</td>\n",
              "      <td>1980</td>\n",
              "      <td>2</td>\n",
              "    </tr>\n",
              "    <tr>\n",
              "      <th>2</th>\n",
              "      <td>너에게로 또 다시</td>\n",
              "      <td>변진섭</td>\n",
              "      <td>2집 너에게로 또다시</td>\n",
              "      <td>1980</td>\n",
              "      <td>3</td>\n",
              "    </tr>\n",
              "    <tr>\n",
              "      <th>3</th>\n",
              "      <td>가리워진 길</td>\n",
              "      <td>유재하</td>\n",
              "      <td>1집 사랑하기 때문에</td>\n",
              "      <td>1980</td>\n",
              "      <td>4</td>\n",
              "    </tr>\n",
              "    <tr>\n",
              "      <th>4</th>\n",
              "      <td>비처럼 음악처럼</td>\n",
              "      <td>김현식</td>\n",
              "      <td>3집 비처럼 음악처럼</td>\n",
              "      <td>1980</td>\n",
              "      <td>5</td>\n",
              "    </tr>\n",
              "  </tbody>\n",
              "</table>\n",
              "</div>"
            ],
            "text/plain": [
              "            곡명 아티스트             앨범    시대  순위/시대\n",
              "0  가로수 그늘아래 서면  이문세  5집 가로수 그늘아래서면  1980      1\n",
              "1     사랑하기 때문에  유재하    1집 사랑하기 때문에  1980      2\n",
              "2    너에게로 또 다시  변진섭    2집 너에게로 또다시  1980      3\n",
              "3       가리워진 길  유재하    1집 사랑하기 때문에  1980      4\n",
              "4     비처럼 음악처럼  김현식    3집 비처럼 음악처럼  1980      5"
            ]
          },
          "metadata": {
            "tags": []
          },
          "execution_count": 9
        }
      ]
    },
    {
      "cell_type": "code",
      "metadata": {
        "id": "gQFASNWQl4sJ",
        "colab_type": "code",
        "colab": {}
      },
      "source": [
        "full_data_era.to_csv(\"./gdrive/My Drive/Colab/data/full_data_era.csv\", index=False)"
      ],
      "execution_count": 0,
      "outputs": []
    },
    {
      "cell_type": "markdown",
      "metadata": {
        "id": "Xnt7Evs6GF6h",
        "colab_type": "text"
      },
      "source": [
        "## 3. 장르별로 구분하여 순위대로 추출"
      ]
    },
    {
      "cell_type": "code",
      "metadata": {
        "id": "4c68a5EgYU73",
        "colab_type": "code",
        "colab": {}
      },
      "source": [
        "def read_data_genre(GENRE, DISPLAY = 50):\n",
        "  initial_url = 'https://music.naver.com/recommend/trackTimeLine.nhn?fromTime={ERA_from}&toTime={ERA_to}&searchType=track&orderType=score&viewType=thumbnail&genre={GENRE}&display={DISPLAY}'.format(\n",
        "    ERA_from=1980, ERA_to=2010+10, GENRE=GENRE, DISPLAY=DISPLAY)\n",
        "  r = requests.get(initial_url)\n",
        "  \n",
        "  html = r.text\n",
        "  soup = BeautifulSoup(html, 'html.parser')\n",
        "  \n",
        "  num_select = soup.select(\n",
        "    'div.sorting_area > div.tab_rdo > label.item10 > em'\n",
        "  )\n",
        "  num = int(num_select[0].text[1:-1])\n",
        "  DISPLAY = num\n",
        "  \n",
        "  target_url = 'https://music.naver.com/recommend/trackTimeLine.nhn?fromTime={ERA_from}&toTime={ERA_to}&searchType=track&orderType=score&viewType=thumbnail&genre={GENRE}&display={DISPLAY}'.format(\n",
        "    ERA_from=1980, ERA_to=2010+10, GENRE=GENRE, DISPLAY=num)\n",
        "  r = requests.get(target_url)\n",
        "  print('STEP {} : {} data reading...'.format(GENRE, num))\n",
        "  \n",
        "  html = r.text\n",
        "  soup = BeautifulSoup(html, 'html.parser')\n",
        "  \n",
        "  title_select = soup.select(\n",
        "    'tbody > tr > td.name'\n",
        "  )\n",
        "  artist_select = soup.select(\n",
        "    'tbody > tr > td._artist'\n",
        "  )\n",
        "  album_select = soup.select(\n",
        "    'tbody > tr > td.album > a._album'\n",
        "  )\n",
        "  \n",
        "  data = pd.DataFrame(columns = COLUMNS_LIST[:3] + [COLUMNS_LIST[4]] + [COLUMNS_LIST[7]])\n",
        "\n",
        "  #for col in COLUMNS_LIST:\n",
        "  title_list = []\n",
        "  for select in title_select[1:]:\n",
        "    title_list.append(select.text.strip())\n",
        "  data[COLUMNS_LIST[0]] = title_list\n",
        "  \n",
        "  artist_list = []\n",
        "  for select in artist_select[1:]:\n",
        "    artist_list.append(select.text.strip())\n",
        "  data[COLUMNS_LIST[1]] = artist_list\n",
        "  \n",
        "  album_list = []\n",
        "  for select in album_select:\n",
        "    album_list.append(select.text)\n",
        "  data[COLUMNS_LIST[2]] = album_list\n",
        "  \n",
        "  genre_list = [GENRE_DICT[GENRE] for _ in range(num)]\n",
        "  data[COLUMNS_LIST[4]] = genre_list\n",
        "  \n",
        "  rank_list = [i+1 for i in range(num)]\n",
        "  data[COLUMNS_LIST[7]] = pd.to_numeric(rank_list)\n",
        "  print('STEP {} : {} data done.'.format(GENRE, num))\n",
        "  \n",
        "  return data  "
      ],
      "execution_count": 0,
      "outputs": []
    },
    {
      "cell_type": "code",
      "metadata": {
        "id": "qVmi4AofnvLs",
        "colab_type": "code",
        "outputId": "761994e0-33a1-4854-8882-1d30e70461fc",
        "colab": {
          "base_uri": "https://localhost:8080/",
          "height": 210
        }
      },
      "source": [
        "full_data_genre = pd.DataFrame()\n",
        "\n",
        "for genre in GENRE_DICT.keys():\n",
        "  read_data = read_data_genre(genre)\n",
        "  full_data_genre = pd.concat([full_data_genre, read_data])\n",
        "\n",
        "print(\"Total data : {}\".format(len(full_data_genre)))"
      ],
      "execution_count": 12,
      "outputs": [
        {
          "output_type": "stream",
          "text": [
            "STEP K01 : 4005 data reading...\n",
            "STEP K01 : 4005 data done.\n",
            "STEP K02 : 3097 data reading...\n",
            "STEP K02 : 3097 data done.\n",
            "STEP K03 : 2519 data reading...\n",
            "STEP K03 : 2519 data done.\n",
            "STEP K04 : 4002 data reading...\n",
            "STEP K04 : 4002 data done.\n",
            "STEP K05 : 4001 data reading...\n",
            "STEP K05 : 4001 data done.\n",
            "Total data : 17624\n"
          ],
          "name": "stdout"
        }
      ]
    },
    {
      "cell_type": "code",
      "metadata": {
        "id": "Dqv7g2CvpLqw",
        "colab_type": "code",
        "outputId": "5d0fdcd0-c42f-40d4-e334-cec403b0d328",
        "colab": {
          "base_uri": "https://localhost:8080/",
          "height": 195
        }
      },
      "source": [
        "full_data_genre.head()"
      ],
      "execution_count": 13,
      "outputs": [
        {
          "output_type": "execute_result",
          "data": {
            "text/html": [
              "<div>\n",
              "<style scoped>\n",
              "    .dataframe tbody tr th:only-of-type {\n",
              "        vertical-align: middle;\n",
              "    }\n",
              "\n",
              "    .dataframe tbody tr th {\n",
              "        vertical-align: top;\n",
              "    }\n",
              "\n",
              "    .dataframe thead th {\n",
              "        text-align: right;\n",
              "    }\n",
              "</style>\n",
              "<table border=\"1\" class=\"dataframe\">\n",
              "  <thead>\n",
              "    <tr style=\"text-align: right;\">\n",
              "      <th></th>\n",
              "      <th>곡명</th>\n",
              "      <th>아티스트</th>\n",
              "      <th>앨범</th>\n",
              "      <th>장르</th>\n",
              "      <th>순위/장르</th>\n",
              "    </tr>\n",
              "  </thead>\n",
              "  <tbody>\n",
              "    <tr>\n",
              "      <th>0</th>\n",
              "      <td>소주 한 잔</td>\n",
              "      <td>임창정</td>\n",
              "      <td>10집 Bye</td>\n",
              "      <td>발라드</td>\n",
              "      <td>1</td>\n",
              "    </tr>\n",
              "    <tr>\n",
              "      <th>1</th>\n",
              "      <td>그대네요 (With 아이유)</td>\n",
              "      <td>성시경</td>\n",
              "      <td>그대네요</td>\n",
              "      <td>발라드</td>\n",
              "      <td>2</td>\n",
              "    </tr>\n",
              "    <tr>\n",
              "      <th>2</th>\n",
              "      <td>눈의 꽃</td>\n",
              "      <td>박효신</td>\n",
              "      <td>미안하다 사랑한다 OST (KBS 미니시리즈)</td>\n",
              "      <td>발라드</td>\n",
              "      <td>3</td>\n",
              "    </tr>\n",
              "    <tr>\n",
              "      <th>3</th>\n",
              "      <td>벌써 일년</td>\n",
              "      <td>브라운 아이즈</td>\n",
              "      <td>1집 Brown Eyes</td>\n",
              "      <td>발라드</td>\n",
              "      <td>4</td>\n",
              "    </tr>\n",
              "    <tr>\n",
              "      <th>4</th>\n",
              "      <td>어떻게 사랑이 그래요</td>\n",
              "      <td>이승환</td>\n",
              "      <td>9집 Hwantastic</td>\n",
              "      <td>발라드</td>\n",
              "      <td>5</td>\n",
              "    </tr>\n",
              "  </tbody>\n",
              "</table>\n",
              "</div>"
            ],
            "text/plain": [
              "                곡명     아티스트                         앨범   장르  순위/장르\n",
              "0           소주 한 잔      임창정                    10집 Bye  발라드      1\n",
              "1  그대네요 (With 아이유)      성시경                       그대네요  발라드      2\n",
              "2             눈의 꽃      박효신  미안하다 사랑한다 OST (KBS 미니시리즈)  발라드      3\n",
              "3            벌써 일년  브라운 아이즈              1집 Brown Eyes  발라드      4\n",
              "4      어떻게 사랑이 그래요      이승환              9집 Hwantastic  발라드      5"
            ]
          },
          "metadata": {
            "tags": []
          },
          "execution_count": 13
        }
      ]
    },
    {
      "cell_type": "code",
      "metadata": {
        "id": "EvHIJKWppLAQ",
        "colab_type": "code",
        "colab": {}
      },
      "source": [
        "full_data_genre.to_csv(\"./gdrive/My Drive/Colab/data/full_data_genre.csv\", index=False)"
      ],
      "execution_count": 0,
      "outputs": []
    },
    {
      "cell_type": "markdown",
      "metadata": {
        "id": "lS9MZiJiGhQC",
        "colab_type": "text"
      },
      "source": [
        "## 4. 전체 리스트 순위대로 추출"
      ]
    },
    {
      "cell_type": "code",
      "metadata": {
        "id": "XtPp7Hc2Yd-d",
        "colab_type": "code",
        "colab": {}
      },
      "source": [
        "def read_data_all(DISPLAY = 50):\n",
        "  initial_url = 'https://music.naver.com/recommend/trackTimeLine.nhn?fromTime={ERA_from}&toTime={ERA_to}&searchType=track&orderType=score&viewType=thumbnail&genre={GENRE}&display={DISPLAY}'.format(\n",
        "    ERA_from=1980, ERA_to=2010+10, GENRE=','.join(GENRE_DICT.keys()), DISPLAY=DISPLAY)\n",
        "  r = requests.get(initial_url)\n",
        "  \n",
        "  html = r.text\n",
        "  soup = BeautifulSoup(html, 'html.parser')\n",
        "  \n",
        "  num_select = soup.select(\n",
        "    'div.sorting_area > div.tab_rdo > label.item10 > em'\n",
        "  )\n",
        "  num = int(num_select[0].text[1:-1])\n",
        "  DISPLAY = num\n",
        "  \n",
        "  target_url = 'https://music.naver.com/recommend/trackTimeLine.nhn?fromTime={ERA_from}&toTime={ERA_to}&searchType=track&orderType=score&viewType=thumbnail&genre={GENRE}&display={DISPLAY}'.format(\n",
        "    ERA_from=1980, ERA_to=2010+10, GENRE=','.join(GENRE_DICT.keys()), DISPLAY=num)\n",
        "  r = requests.get(target_url)\n",
        "  print('STEP ALL : {} data reading...'.format(num))\n",
        "  \n",
        "  html = r.text\n",
        "  soup = BeautifulSoup(html, 'html.parser')\n",
        "  \n",
        "  title_select = soup.select(\n",
        "    'tbody > tr > td.name'\n",
        "  )\n",
        "  artist_select = soup.select(\n",
        "    'tbody > tr > td._artist'\n",
        "  )\n",
        "  album_select = soup.select(\n",
        "    'tbody > tr > td.album > a._album'\n",
        "  )\n",
        "  \n",
        "  data = pd.DataFrame(columns = COLUMNS_LIST[:3] + [COLUMNS_LIST[5]])\n",
        "\n",
        "  #for col in COLUMNS_LIST:\n",
        "  title_list = []\n",
        "  for select in title_select[1:]:\n",
        "    title_list.append(select.text.strip())\n",
        "  data[COLUMNS_LIST[0]] = title_list\n",
        "  \n",
        "  artist_list = []\n",
        "  for select in artist_select[1:]:\n",
        "    artist_list.append(select.text.strip())\n",
        "  data[COLUMNS_LIST[1]] = artist_list\n",
        "  \n",
        "  album_list = []\n",
        "  for select in album_select:\n",
        "    album_list.append(select.text)\n",
        "  data[COLUMNS_LIST[2]] = album_list\n",
        "  \n",
        "  rank_list = [i+1 for i in range(num)]\n",
        "  data[COLUMNS_LIST[5]] = pd.to_numeric(rank_list)\n",
        "  print('STEP ALL : {} data done.'.format(num))\n",
        "  \n",
        "  return data  "
      ],
      "execution_count": 0,
      "outputs": []
    },
    {
      "cell_type": "code",
      "metadata": {
        "id": "c-xjWqrxrtxD",
        "colab_type": "code",
        "outputId": "20aa8ac4-4bba-4988-b154-be64938fd485",
        "colab": {
          "base_uri": "https://localhost:8080/",
          "height": 70
        }
      },
      "source": [
        "full_data_all = pd.DataFrame()\n",
        "\n",
        "full_data_all = read_data_all()\n",
        "\n",
        "print(\"Total data : {}\".format(len(full_data_all)))"
      ],
      "execution_count": 16,
      "outputs": [
        {
          "output_type": "stream",
          "text": [
            "STEP ALL : 17624 data reading...\n",
            "STEP ALL : 17624 data done.\n",
            "Total data : 17624\n"
          ],
          "name": "stdout"
        }
      ]
    },
    {
      "cell_type": "code",
      "metadata": {
        "id": "l5LOnt5Kr9oh",
        "colab_type": "code",
        "outputId": "fb352241-0068-419a-98bb-b3a19490211c",
        "colab": {
          "base_uri": "https://localhost:8080/",
          "height": 195
        }
      },
      "source": [
        "full_data_all.tail()"
      ],
      "execution_count": 17,
      "outputs": [
        {
          "output_type": "execute_result",
          "data": {
            "text/html": [
              "<div>\n",
              "<style scoped>\n",
              "    .dataframe tbody tr th:only-of-type {\n",
              "        vertical-align: middle;\n",
              "    }\n",
              "\n",
              "    .dataframe tbody tr th {\n",
              "        vertical-align: top;\n",
              "    }\n",
              "\n",
              "    .dataframe thead th {\n",
              "        text-align: right;\n",
              "    }\n",
              "</style>\n",
              "<table border=\"1\" class=\"dataframe\">\n",
              "  <thead>\n",
              "    <tr style=\"text-align: right;\">\n",
              "      <th></th>\n",
              "      <th>곡명</th>\n",
              "      <th>아티스트</th>\n",
              "      <th>앨범</th>\n",
              "      <th>순위/전체</th>\n",
              "    </tr>\n",
              "  </thead>\n",
              "  <tbody>\n",
              "    <tr>\n",
              "      <th>17619</th>\n",
              "      <td>J2y</td>\n",
              "      <td>Z.A2</td>\n",
              "      <td>Code-1ㆍ4ㆍ3ㆍ5 Story</td>\n",
              "      <td>17620</td>\n",
              "    </tr>\n",
              "    <tr>\n",
              "      <th>17620</th>\n",
              "      <td>New Z.A.2 Style Vol.1</td>\n",
              "      <td>Z.A2</td>\n",
              "      <td>Code-1ㆍ4ㆍ3ㆍ5 Story</td>\n",
              "      <td>17621</td>\n",
              "    </tr>\n",
              "    <tr>\n",
              "      <th>17621</th>\n",
              "      <td>일방통행</td>\n",
              "      <td>Z.A2</td>\n",
              "      <td>Code-1ㆍ4ㆍ3ㆍ5 Story</td>\n",
              "      <td>17622</td>\n",
              "    </tr>\n",
              "    <tr>\n",
              "      <th>17622</th>\n",
              "      <td>Listen My Love</td>\n",
              "      <td>Z.A2</td>\n",
              "      <td>Code-1ㆍ4ㆍ3ㆍ5 Story</td>\n",
              "      <td>17623</td>\n",
              "    </tr>\n",
              "    <tr>\n",
              "      <th>17623</th>\n",
              "      <td>Brisk Intro B</td>\n",
              "      <td>Z.A2</td>\n",
              "      <td>Code-1ㆍ4ㆍ3ㆍ5 Story</td>\n",
              "      <td>17624</td>\n",
              "    </tr>\n",
              "  </tbody>\n",
              "</table>\n",
              "</div>"
            ],
            "text/plain": [
              "                          곡명  아티스트                  앨범  순위/전체\n",
              "17619                    J2y  Z.A2  Code-1ㆍ4ㆍ3ㆍ5 Story  17620\n",
              "17620  New Z.A.2 Style Vol.1  Z.A2  Code-1ㆍ4ㆍ3ㆍ5 Story  17621\n",
              "17621                   일방통행  Z.A2  Code-1ㆍ4ㆍ3ㆍ5 Story  17622\n",
              "17622         Listen My Love  Z.A2  Code-1ㆍ4ㆍ3ㆍ5 Story  17623\n",
              "17623          Brisk Intro B  Z.A2  Code-1ㆍ4ㆍ3ㆍ5 Story  17624"
            ]
          },
          "metadata": {
            "tags": []
          },
          "execution_count": 17
        }
      ]
    },
    {
      "cell_type": "code",
      "metadata": {
        "id": "AAzk6sHosNkz",
        "colab_type": "code",
        "colab": {}
      },
      "source": [
        "full_data_all.to_csv(\"./gdrive/My Drive/Colab/data/full_data_all.csv\", index=False)"
      ],
      "execution_count": 0,
      "outputs": []
    },
    {
      "cell_type": "markdown",
      "metadata": {
        "id": "r8hdrLKkGvZn",
        "colab_type": "text"
      },
      "source": [
        "## 5. 추출한 데이터 테이블 연결"
      ]
    },
    {
      "cell_type": "code",
      "metadata": {
        "id": "cYh0fcfGwqZz",
        "colab_type": "code",
        "colab": {}
      },
      "source": [
        "full_data_sep = pd.read_csv(\"./gdrive/My Drive/Colab/data/full_data_sep.csv\")\n",
        "full_data_genre = pd.read_csv(\"./gdrive/My Drive/Colab/data/full_data_genre.csv\")\n",
        "full_data_era = pd.read_csv(\"./gdrive/My Drive/Colab/data/full_data_era.csv\")\n",
        "full_data_all = pd.read_csv(\"./gdrive/My Drive/Colab/data/full_data_all.csv\")"
      ],
      "execution_count": 0,
      "outputs": []
    },
    {
      "cell_type": "code",
      "metadata": {
        "id": "RvcoVBTxwqzH",
        "colab_type": "code",
        "outputId": "49a0c5f5-d0bc-477c-85b4-ef1741e8c579",
        "colab": {
          "base_uri": "https://localhost:8080/",
          "height": 34
        }
      },
      "source": [
        "len(full_data_all),len(full_data_sep), len(full_data_era), len(full_data_genre)"
      ],
      "execution_count": 20,
      "outputs": [
        {
          "output_type": "execute_result",
          "data": {
            "text/plain": [
              "(17624, 17624, 17624, 17624)"
            ]
          },
          "metadata": {
            "tags": []
          },
          "execution_count": 20
        }
      ]
    },
    {
      "cell_type": "code",
      "metadata": {
        "id": "PGzX9UO64foS",
        "colab_type": "code",
        "outputId": "b4cd6479-73ff-4591-8c50-d0d86876b172",
        "colab": {
          "base_uri": "https://localhost:8080/",
          "height": 34
        }
      },
      "source": [
        "COLUMNS_LIST"
      ],
      "execution_count": 21,
      "outputs": [
        {
          "output_type": "execute_result",
          "data": {
            "text/plain": [
              "['곡명', '아티스트', '앨범', '시대', '장르', '순위/전체', '순위/시대', '순위/장르', '순위/시대/장르']"
            ]
          },
          "metadata": {
            "tags": []
          },
          "execution_count": 21
        }
      ]
    },
    {
      "cell_type": "code",
      "metadata": {
        "id": "G3hxf7gE4ggm",
        "colab_type": "code",
        "outputId": "6c0eaff4-9a01-49c7-f147-639ecda10e0c",
        "colab": {
          "base_uri": "https://localhost:8080/",
          "height": 34
        }
      },
      "source": [
        "full_data_all.columns"
      ],
      "execution_count": 22,
      "outputs": [
        {
          "output_type": "execute_result",
          "data": {
            "text/plain": [
              "Index(['곡명', '아티스트', '앨범', '순위/전체'], dtype='object')"
            ]
          },
          "metadata": {
            "tags": []
          },
          "execution_count": 22
        }
      ]
    },
    {
      "cell_type": "code",
      "metadata": {
        "id": "hyyLib_g4j6A",
        "colab_type": "code",
        "outputId": "dc2310f5-922c-40d0-be82-e0ac562ed950",
        "colab": {
          "base_uri": "https://localhost:8080/",
          "height": 34
        }
      },
      "source": [
        "full_data_sep.columns"
      ],
      "execution_count": 23,
      "outputs": [
        {
          "output_type": "execute_result",
          "data": {
            "text/plain": [
              "Index(['곡명', '아티스트', '앨범', '시대', '장르', '순위/시대/장르'], dtype='object')"
            ]
          },
          "metadata": {
            "tags": []
          },
          "execution_count": 23
        }
      ]
    },
    {
      "cell_type": "code",
      "metadata": {
        "id": "AArM1ElQ4j9S",
        "colab_type": "code",
        "outputId": "f3f06233-7742-4d11-964d-fd4fae6d1517",
        "colab": {
          "base_uri": "https://localhost:8080/",
          "height": 34
        }
      },
      "source": [
        "full_data_era.columns"
      ],
      "execution_count": 24,
      "outputs": [
        {
          "output_type": "execute_result",
          "data": {
            "text/plain": [
              "Index(['곡명', '아티스트', '앨범', '시대', '순위/시대'], dtype='object')"
            ]
          },
          "metadata": {
            "tags": []
          },
          "execution_count": 24
        }
      ]
    },
    {
      "cell_type": "code",
      "metadata": {
        "id": "LCQOn2NU4kBK",
        "colab_type": "code",
        "outputId": "2639b0fc-40a6-4535-d13a-d4874997793d",
        "colab": {
          "base_uri": "https://localhost:8080/",
          "height": 34
        }
      },
      "source": [
        "full_data_genre.columns"
      ],
      "execution_count": 25,
      "outputs": [
        {
          "output_type": "execute_result",
          "data": {
            "text/plain": [
              "Index(['곡명', '아티스트', '앨범', '장르', '순위/장르'], dtype='object')"
            ]
          },
          "metadata": {
            "tags": []
          },
          "execution_count": 25
        }
      ]
    },
    {
      "cell_type": "code",
      "metadata": {
        "id": "_EXLNjCh7QW1",
        "colab_type": "code",
        "outputId": "262cb770-a960-4447-fdc0-9f4e6168ab35",
        "colab": {
          "base_uri": "https://localhost:8080/",
          "height": 34
        }
      },
      "source": [
        "# 연결 전 중복데이터 확인\n",
        "full_data_sep[['곡명','아티스트','앨범']].duplicated().sum(), full_data_era[['곡명','아티스트','앨범']].duplicated().sum(), full_data_genre[['곡명','아티스트','앨범']].duplicated().sum(), full_data_all[['곡명','아티스트','앨범']].duplicated().sum()"
      ],
      "execution_count": 26,
      "outputs": [
        {
          "output_type": "execute_result",
          "data": {
            "text/plain": [
              "(49, 49, 49, 49)"
            ]
          },
          "metadata": {
            "tags": []
          },
          "execution_count": 26
        }
      ]
    },
    {
      "cell_type": "code",
      "metadata": {
        "id": "1DJXxp8r5vaj",
        "colab_type": "code",
        "outputId": "535d9c09-6a89-4c0e-ae96-01c73fb5599d",
        "colab": {
          "base_uri": "https://localhost:8080/",
          "height": 195
        }
      },
      "source": [
        "full_data_sep[full_data_sep[['곡명','아티스트','앨범']].duplicated()==True].head()"
      ],
      "execution_count": 27,
      "outputs": [
        {
          "output_type": "execute_result",
          "data": {
            "text/html": [
              "<div>\n",
              "<style scoped>\n",
              "    .dataframe tbody tr th:only-of-type {\n",
              "        vertical-align: middle;\n",
              "    }\n",
              "\n",
              "    .dataframe tbody tr th {\n",
              "        vertical-align: top;\n",
              "    }\n",
              "\n",
              "    .dataframe thead th {\n",
              "        text-align: right;\n",
              "    }\n",
              "</style>\n",
              "<table border=\"1\" class=\"dataframe\">\n",
              "  <thead>\n",
              "    <tr style=\"text-align: right;\">\n",
              "      <th></th>\n",
              "      <th>곡명</th>\n",
              "      <th>아티스트</th>\n",
              "      <th>앨범</th>\n",
              "      <th>시대</th>\n",
              "      <th>장르</th>\n",
              "      <th>순위/시대/장르</th>\n",
              "    </tr>\n",
              "  </thead>\n",
              "  <tbody>\n",
              "    <tr>\n",
              "      <th>546</th>\n",
              "      <td>세월 가면</td>\n",
              "      <td>이광조</td>\n",
              "      <td>Golden Hits Vol.2</td>\n",
              "      <td>1980</td>\n",
              "      <td>발라드</td>\n",
              "      <td>547</td>\n",
              "    </tr>\n",
              "    <tr>\n",
              "      <th>771</th>\n",
              "      <td>그때는 어렸나봐요</td>\n",
              "      <td>이지연</td>\n",
              "      <td>이지연 Best</td>\n",
              "      <td>1980</td>\n",
              "      <td>발라드</td>\n",
              "      <td>772</td>\n",
              "    </tr>\n",
              "    <tr>\n",
              "      <th>773</th>\n",
              "      <td>저 하늘에 구름따라</td>\n",
              "      <td>이광조</td>\n",
              "      <td>Golden Hits Vol.2</td>\n",
              "      <td>1980</td>\n",
              "      <td>발라드</td>\n",
              "      <td>774</td>\n",
              "    </tr>\n",
              "    <tr>\n",
              "      <th>942</th>\n",
              "      <td>우리네 인생</td>\n",
              "      <td>이광조</td>\n",
              "      <td>Golden Hits Vol.2</td>\n",
              "      <td>1980</td>\n",
              "      <td>발라드</td>\n",
              "      <td>943</td>\n",
              "    </tr>\n",
              "    <tr>\n",
              "      <th>1355</th>\n",
              "      <td>꿈에</td>\n",
              "      <td>조덕배</td>\n",
              "      <td>나의 옛날 이야기 (사랑한 女人에게)</td>\n",
              "      <td>1980</td>\n",
              "      <td>록/포크</td>\n",
              "      <td>254</td>\n",
              "    </tr>\n",
              "  </tbody>\n",
              "</table>\n",
              "</div>"
            ],
            "text/plain": [
              "              곡명 아티스트                    앨범    시대    장르  순위/시대/장르\n",
              "546        세월 가면  이광조     Golden Hits Vol.2  1980   발라드       547\n",
              "771    그때는 어렸나봐요  이지연              이지연 Best  1980   발라드       772\n",
              "773   저 하늘에 구름따라  이광조     Golden Hits Vol.2  1980   발라드       774\n",
              "942       우리네 인생  이광조     Golden Hits Vol.2  1980   발라드       943\n",
              "1355          꿈에  조덕배  나의 옛날 이야기 (사랑한 女人에게)  1980  록/포크       254"
            ]
          },
          "metadata": {
            "tags": []
          },
          "execution_count": 27
        }
      ]
    },
    {
      "cell_type": "code",
      "metadata": {
        "id": "3qAmr7u16iEi",
        "colab_type": "code",
        "outputId": "9964d730-f893-48a6-853a-b89dac8d96c9",
        "colab": {
          "base_uri": "https://localhost:8080/",
          "height": 106
        }
      },
      "source": [
        "full_data_sep[full_data_sep['곡명']=='세월 가면']"
      ],
      "execution_count": 28,
      "outputs": [
        {
          "output_type": "execute_result",
          "data": {
            "text/html": [
              "<div>\n",
              "<style scoped>\n",
              "    .dataframe tbody tr th:only-of-type {\n",
              "        vertical-align: middle;\n",
              "    }\n",
              "\n",
              "    .dataframe tbody tr th {\n",
              "        vertical-align: top;\n",
              "    }\n",
              "\n",
              "    .dataframe thead th {\n",
              "        text-align: right;\n",
              "    }\n",
              "</style>\n",
              "<table border=\"1\" class=\"dataframe\">\n",
              "  <thead>\n",
              "    <tr style=\"text-align: right;\">\n",
              "      <th></th>\n",
              "      <th>곡명</th>\n",
              "      <th>아티스트</th>\n",
              "      <th>앨범</th>\n",
              "      <th>시대</th>\n",
              "      <th>장르</th>\n",
              "      <th>순위/시대/장르</th>\n",
              "    </tr>\n",
              "  </thead>\n",
              "  <tbody>\n",
              "    <tr>\n",
              "      <th>366</th>\n",
              "      <td>세월 가면</td>\n",
              "      <td>이광조</td>\n",
              "      <td>Golden Hits Vol.2</td>\n",
              "      <td>1980</td>\n",
              "      <td>발라드</td>\n",
              "      <td>367</td>\n",
              "    </tr>\n",
              "    <tr>\n",
              "      <th>546</th>\n",
              "      <td>세월 가면</td>\n",
              "      <td>이광조</td>\n",
              "      <td>Golden Hits Vol.2</td>\n",
              "      <td>1980</td>\n",
              "      <td>발라드</td>\n",
              "      <td>547</td>\n",
              "    </tr>\n",
              "  </tbody>\n",
              "</table>\n",
              "</div>"
            ],
            "text/plain": [
              "        곡명 아티스트                 앨범    시대   장르  순위/시대/장르\n",
              "366  세월 가면  이광조  Golden Hits Vol.2  1980  발라드       367\n",
              "546  세월 가면  이광조  Golden Hits Vol.2  1980  발라드       547"
            ]
          },
          "metadata": {
            "tags": []
          },
          "execution_count": 28
        }
      ]
    },
    {
      "cell_type": "code",
      "metadata": {
        "id": "v4ruhPgu8iTJ",
        "colab_type": "code",
        "outputId": "ff1bbc3e-212b-4ccf-f239-4061a5bd0598",
        "colab": {
          "base_uri": "https://localhost:8080/",
          "height": 34
        }
      },
      "source": [
        "len(full_data_sep.drop_duplicates(['곡명','아티스트','앨범'])) #17624 - 49 = 17575"
      ],
      "execution_count": 29,
      "outputs": [
        {
          "output_type": "execute_result",
          "data": {
            "text/plain": [
              "17575"
            ]
          },
          "metadata": {
            "tags": []
          },
          "execution_count": 29
        }
      ]
    },
    {
      "cell_type": "code",
      "metadata": {
        "id": "nk4JvrGE8rht",
        "colab_type": "code",
        "colab": {}
      },
      "source": [
        "full_data_sep.drop_duplicates(['곡명','아티스트','앨범'], inplace=True)"
      ],
      "execution_count": 0,
      "outputs": []
    },
    {
      "cell_type": "code",
      "metadata": {
        "id": "bX9-kN4p9DJJ",
        "colab_type": "code",
        "outputId": "30d1cbb7-65b7-4bc5-bb85-e7846ceabd31",
        "colab": {
          "base_uri": "https://localhost:8080/",
          "height": 77
        }
      },
      "source": [
        "full_data_sep[full_data_sep['곡명']=='세월 가면']"
      ],
      "execution_count": 31,
      "outputs": [
        {
          "output_type": "execute_result",
          "data": {
            "text/html": [
              "<div>\n",
              "<style scoped>\n",
              "    .dataframe tbody tr th:only-of-type {\n",
              "        vertical-align: middle;\n",
              "    }\n",
              "\n",
              "    .dataframe tbody tr th {\n",
              "        vertical-align: top;\n",
              "    }\n",
              "\n",
              "    .dataframe thead th {\n",
              "        text-align: right;\n",
              "    }\n",
              "</style>\n",
              "<table border=\"1\" class=\"dataframe\">\n",
              "  <thead>\n",
              "    <tr style=\"text-align: right;\">\n",
              "      <th></th>\n",
              "      <th>곡명</th>\n",
              "      <th>아티스트</th>\n",
              "      <th>앨범</th>\n",
              "      <th>시대</th>\n",
              "      <th>장르</th>\n",
              "      <th>순위/시대/장르</th>\n",
              "    </tr>\n",
              "  </thead>\n",
              "  <tbody>\n",
              "    <tr>\n",
              "      <th>366</th>\n",
              "      <td>세월 가면</td>\n",
              "      <td>이광조</td>\n",
              "      <td>Golden Hits Vol.2</td>\n",
              "      <td>1980</td>\n",
              "      <td>발라드</td>\n",
              "      <td>367</td>\n",
              "    </tr>\n",
              "  </tbody>\n",
              "</table>\n",
              "</div>"
            ],
            "text/plain": [
              "        곡명 아티스트                 앨범    시대   장르  순위/시대/장르\n",
              "366  세월 가면  이광조  Golden Hits Vol.2  1980  발라드       367"
            ]
          },
          "metadata": {
            "tags": []
          },
          "execution_count": 31
        }
      ]
    },
    {
      "cell_type": "code",
      "metadata": {
        "id": "vflzAmml9Etl",
        "colab_type": "code",
        "colab": {}
      },
      "source": [
        "full_data_era.drop_duplicates(['곡명','아티스트','앨범'], inplace=True)\n",
        "full_data_genre.drop_duplicates(['곡명','아티스트','앨범'], inplace=True)\n",
        "full_data_all.drop_duplicates(['곡명','아티스트','앨범'], inplace=True)"
      ],
      "execution_count": 0,
      "outputs": []
    },
    {
      "cell_type": "code",
      "metadata": {
        "id": "j86BSniQwq08",
        "colab_type": "code",
        "colab": {}
      },
      "source": [
        "# 중복이 제거된 '곡명, 아티스트, 앨범' 을 기준으로 연결\n",
        "merged_data = pd.merge(full_data_sep[['곡명','아티스트','앨범','시대','장르','순위/시대/장르']], full_data_genre[['곡명','아티스트','앨범','순위/장르']], on=['곡명','아티스트','앨범'])"
      ],
      "execution_count": 0,
      "outputs": []
    },
    {
      "cell_type": "code",
      "metadata": {
        "id": "6we3o_v5wq2a",
        "colab_type": "code",
        "outputId": "a720918b-3fb3-47de-955b-85d2e9bce0cc",
        "colab": {
          "base_uri": "https://localhost:8080/",
          "height": 34
        }
      },
      "source": [
        "merged_data.columns"
      ],
      "execution_count": 34,
      "outputs": [
        {
          "output_type": "execute_result",
          "data": {
            "text/plain": [
              "Index(['곡명', '아티스트', '앨범', '시대', '장르', '순위/시대/장르', '순위/장르'], dtype='object')"
            ]
          },
          "metadata": {
            "tags": []
          },
          "execution_count": 34
        }
      ]
    },
    {
      "cell_type": "code",
      "metadata": {
        "id": "o3pv9wmB-KPL",
        "colab_type": "code",
        "colab": {}
      },
      "source": [
        "merged_data = pd.merge(merged_data[['곡명','아티스트','앨범','시대','장르','순위/시대/장르','순위/장르']], full_data_era[['곡명','아티스트','앨범','순위/시대']], on=['곡명','아티스트','앨범'])"
      ],
      "execution_count": 0,
      "outputs": []
    },
    {
      "cell_type": "code",
      "metadata": {
        "id": "08WjF6G5-cJh",
        "colab_type": "code",
        "outputId": "bddd4e54-4f8d-4ee1-b25b-fc255e44af72",
        "colab": {
          "base_uri": "https://localhost:8080/",
          "height": 34
        }
      },
      "source": [
        "merged_data.columns"
      ],
      "execution_count": 36,
      "outputs": [
        {
          "output_type": "execute_result",
          "data": {
            "text/plain": [
              "Index(['곡명', '아티스트', '앨범', '시대', '장르', '순위/시대/장르', '순위/장르', '순위/시대'], dtype='object')"
            ]
          },
          "metadata": {
            "tags": []
          },
          "execution_count": 36
        }
      ]
    },
    {
      "cell_type": "code",
      "metadata": {
        "id": "dTtpGh8f-eCC",
        "colab_type": "code",
        "colab": {}
      },
      "source": [
        "merged_data = pd.merge(merged_data[['곡명','아티스트','앨범','시대','장르','순위/시대/장르','순위/장르','순위/시대']], full_data_all[['곡명','아티스트','앨범','순위/전체']], on=['곡명','아티스트','앨범'])"
      ],
      "execution_count": 0,
      "outputs": []
    },
    {
      "cell_type": "code",
      "metadata": {
        "id": "RXHk0C6L-50F",
        "colab_type": "code",
        "outputId": "0fa86a0a-c76b-41b6-a4d2-6840ca90c7a0",
        "colab": {
          "base_uri": "https://localhost:8080/",
          "height": 34
        }
      },
      "source": [
        "merged_data.duplicated().sum() # 중복데이터 없음"
      ],
      "execution_count": 38,
      "outputs": [
        {
          "output_type": "execute_result",
          "data": {
            "text/plain": [
              "0"
            ]
          },
          "metadata": {
            "tags": []
          },
          "execution_count": 38
        }
      ]
    },
    {
      "cell_type": "code",
      "metadata": {
        "id": "aRDQokvd_EPf",
        "colab_type": "code",
        "outputId": "236bf022-6178-4159-a5e4-b678a7d8f819",
        "colab": {
          "base_uri": "https://localhost:8080/",
          "height": 193
        }
      },
      "source": [
        "merged_data.isnull().sum() # 누락 없음"
      ],
      "execution_count": 39,
      "outputs": [
        {
          "output_type": "execute_result",
          "data": {
            "text/plain": [
              "곡명          0\n",
              "아티스트        0\n",
              "앨범          0\n",
              "시대          0\n",
              "장르          0\n",
              "순위/시대/장르    0\n",
              "순위/장르       0\n",
              "순위/시대       0\n",
              "순위/전체       0\n",
              "dtype: int64"
            ]
          },
          "metadata": {
            "tags": []
          },
          "execution_count": 39
        }
      ]
    },
    {
      "cell_type": "code",
      "metadata": {
        "id": "cbvPeziiLE_n",
        "colab_type": "code",
        "colab": {
          "base_uri": "https://localhost:8080/",
          "height": 195
        },
        "outputId": "0a125fa0-78b7-466f-9023-938c8b708626"
      },
      "source": [
        "merged_data.head()"
      ],
      "execution_count": 40,
      "outputs": [
        {
          "output_type": "execute_result",
          "data": {
            "text/html": [
              "<div>\n",
              "<style scoped>\n",
              "    .dataframe tbody tr th:only-of-type {\n",
              "        vertical-align: middle;\n",
              "    }\n",
              "\n",
              "    .dataframe tbody tr th {\n",
              "        vertical-align: top;\n",
              "    }\n",
              "\n",
              "    .dataframe thead th {\n",
              "        text-align: right;\n",
              "    }\n",
              "</style>\n",
              "<table border=\"1\" class=\"dataframe\">\n",
              "  <thead>\n",
              "    <tr style=\"text-align: right;\">\n",
              "      <th></th>\n",
              "      <th>곡명</th>\n",
              "      <th>아티스트</th>\n",
              "      <th>앨범</th>\n",
              "      <th>시대</th>\n",
              "      <th>장르</th>\n",
              "      <th>순위/시대/장르</th>\n",
              "      <th>순위/장르</th>\n",
              "      <th>순위/시대</th>\n",
              "      <th>순위/전체</th>\n",
              "    </tr>\n",
              "  </thead>\n",
              "  <tbody>\n",
              "    <tr>\n",
              "      <th>0</th>\n",
              "      <td>가로수 그늘아래 서면</td>\n",
              "      <td>이문세</td>\n",
              "      <td>5집 가로수 그늘아래서면</td>\n",
              "      <td>1980</td>\n",
              "      <td>발라드</td>\n",
              "      <td>1</td>\n",
              "      <td>157</td>\n",
              "      <td>1</td>\n",
              "      <td>291</td>\n",
              "    </tr>\n",
              "    <tr>\n",
              "      <th>1</th>\n",
              "      <td>사랑하기 때문에</td>\n",
              "      <td>유재하</td>\n",
              "      <td>1집 사랑하기 때문에</td>\n",
              "      <td>1980</td>\n",
              "      <td>발라드</td>\n",
              "      <td>2</td>\n",
              "      <td>161</td>\n",
              "      <td>2</td>\n",
              "      <td>305</td>\n",
              "    </tr>\n",
              "    <tr>\n",
              "      <th>2</th>\n",
              "      <td>너에게로 또 다시</td>\n",
              "      <td>변진섭</td>\n",
              "      <td>2집 너에게로 또다시</td>\n",
              "      <td>1980</td>\n",
              "      <td>발라드</td>\n",
              "      <td>3</td>\n",
              "      <td>288</td>\n",
              "      <td>3</td>\n",
              "      <td>555</td>\n",
              "    </tr>\n",
              "    <tr>\n",
              "      <th>3</th>\n",
              "      <td>가리워진 길</td>\n",
              "      <td>유재하</td>\n",
              "      <td>1집 사랑하기 때문에</td>\n",
              "      <td>1980</td>\n",
              "      <td>발라드</td>\n",
              "      <td>4</td>\n",
              "      <td>333</td>\n",
              "      <td>4</td>\n",
              "      <td>649</td>\n",
              "    </tr>\n",
              "    <tr>\n",
              "      <th>4</th>\n",
              "      <td>비처럼 음악처럼</td>\n",
              "      <td>김현식</td>\n",
              "      <td>3집 비처럼 음악처럼</td>\n",
              "      <td>1980</td>\n",
              "      <td>발라드</td>\n",
              "      <td>5</td>\n",
              "      <td>358</td>\n",
              "      <td>5</td>\n",
              "      <td>691</td>\n",
              "    </tr>\n",
              "  </tbody>\n",
              "</table>\n",
              "</div>"
            ],
            "text/plain": [
              "            곡명 아티스트             앨범    시대   장르  순위/시대/장르  순위/장르  순위/시대  순위/전체\n",
              "0  가로수 그늘아래 서면  이문세  5집 가로수 그늘아래서면  1980  발라드         1    157      1    291\n",
              "1     사랑하기 때문에  유재하    1집 사랑하기 때문에  1980  발라드         2    161      2    305\n",
              "2    너에게로 또 다시  변진섭    2집 너에게로 또다시  1980  발라드         3    288      3    555\n",
              "3       가리워진 길  유재하    1집 사랑하기 때문에  1980  발라드         4    333      4    649\n",
              "4     비처럼 음악처럼  김현식    3집 비처럼 음악처럼  1980  발라드         5    358      5    691"
            ]
          },
          "metadata": {
            "tags": []
          },
          "execution_count": 40
        }
      ]
    },
    {
      "cell_type": "code",
      "metadata": {
        "id": "Qm8lxYs2-8PW",
        "colab_type": "code",
        "colab": {}
      },
      "source": [
        "merged_data.to_csv(\"./gdrive/My Drive/Colab/data/merged_data.csv\", index=False)"
      ],
      "execution_count": 0,
      "outputs": []
    }
  ]
}