{
  "nbformat": 4,
  "nbformat_minor": 0,
  "metadata": {
    "colab": {
      "name": "03_04 summarize script.ipynb",
      "provenance": [],
      "collapsed_sections": [],
      "include_colab_link": true
    },
    "kernelspec": {
      "name": "python3",
      "display_name": "Python 3"
    },
    "accelerator": "GPU"
  },
  "cells": [
    {
      "cell_type": "markdown",
      "metadata": {
        "id": "view-in-github",
        "colab_type": "text"
      },
      "source": [
        "<a href=\"https://colab.research.google.com/github/jaygo-kr/brunch/blob/master/03_04_summarize_script.ipynb\" target=\"_parent\"><img src=\"https://colab.research.google.com/assets/colab-badge.svg\" alt=\"Open In Colab\"/></a>"
      ]
    },
    {
      "cell_type": "markdown",
      "metadata": {
        "id": "riIfUIjOb46e",
        "colab_type": "text"
      },
      "source": [
        "# 드라마 대본 요약\n",
        "\n",
        "* 이전 노트에서 정제한 대본 자료의 문장들로 대본을 요약해(100자 이내) 보도록 하자"
      ]
    },
    {
      "cell_type": "code",
      "metadata": {
        "id": "6uDvTrhYf6Mn",
        "colab_type": "code",
        "outputId": "17141a45-4d38-47d8-a6c6-168cd988c5d7",
        "colab": {
          "base_uri": "https://localhost:8080/",
          "height": 127
        }
      },
      "source": [
        "import os\n",
        "import numpy as np\n",
        "import pandas as pd\n",
        "from google.colab import files, drive\n",
        "drive.mount('/content/gdrive')"
      ],
      "execution_count": 1,
      "outputs": [
        {
          "output_type": "stream",
          "text": [
            "Go to this URL in a browser: https://accounts.google.com/o/oauth2/auth?client_id=947318989803-6bn6qk8qdgf4n4g3pfee6491hc0brc4i.apps.googleusercontent.com&redirect_uri=urn%3aietf%3awg%3aoauth%3a2.0%3aoob&response_type=code&scope=email%20https%3a%2f%2fwww.googleapis.com%2fauth%2fdocs.test%20https%3a%2f%2fwww.googleapis.com%2fauth%2fdrive%20https%3a%2f%2fwww.googleapis.com%2fauth%2fdrive.photos.readonly%20https%3a%2f%2fwww.googleapis.com%2fauth%2fpeopleapi.readonly\n",
            "\n",
            "Enter your authorization code:\n",
            "··········\n",
            "Mounted at /content/gdrive\n"
          ],
          "name": "stdout"
        }
      ]
    },
    {
      "cell_type": "code",
      "metadata": {
        "id": "LpcWVtOLgNjm",
        "colab_type": "code",
        "colab": {}
      },
      "source": [
        "DATA_PATH = './gdrive/My Drive/share/suwon study/script/JAY완료/' # 대본 데이터\n",
        "TRAIN_PATH = './gdrive/My Drive/share/suwon study/sentiment/' # 네이버 영화 리뷰 감성데이터"
      ],
      "execution_count": 0,
      "outputs": []
    },
    {
      "cell_type": "code",
      "metadata": {
        "id": "7bluAtva7yL_",
        "colab_type": "code",
        "outputId": "7f952512-c19d-43a6-d750-03f8c4e66672",
        "colab": {
          "base_uri": "https://localhost:8080/",
          "height": 107
        }
      },
      "source": [
        "os.listdir(DATA_PATH)[:5]"
      ],
      "execution_count": 3,
      "outputs": [
        {
          "output_type": "execute_result",
          "data": {
            "text/plain": [
              "['W+제11회+대본.csv',\n",
              " 'W+제12회+대본.csv',\n",
              " 'W+제13회+대본.csv',\n",
              " 'W+제15회+대본.csv',\n",
              " 'W+제4회+대본.csv']"
            ]
          },
          "metadata": {
            "tags": []
          },
          "execution_count": 3
        }
      ]
    },
    {
      "cell_type": "code",
      "metadata": {
        "id": "hNWEvQA472Te",
        "colab_type": "code",
        "outputId": "cbd49cc4-89a3-401d-b795-88c1e9496d70",
        "colab": {
          "base_uri": "https://localhost:8080/",
          "height": 125
        }
      },
      "source": [
        "os.listdir(TRAIN_PATH)"
      ],
      "execution_count": 4,
      "outputs": [
        {
          "output_type": "execute_result",
          "data": {
            "text/plain": [
              "['ratings.txt',\n",
              " 'ratings_test.txt',\n",
              " 'ratings_train.txt',\n",
              " 'train.csv',\n",
              " 'test.csv',\n",
              " 'script.csv']"
            ]
          },
          "metadata": {
            "tags": []
          },
          "execution_count": 4
        }
      ]
    },
    {
      "cell_type": "code",
      "metadata": {
        "id": "MM3r8J-P9mQG",
        "colab_type": "code",
        "colab": {}
      },
      "source": [
        "script_df = pd.read_csv(DATA_PATH + 'W+제1회+대본.csv')"
      ],
      "execution_count": 0,
      "outputs": []
    },
    {
      "cell_type": "code",
      "metadata": {
        "id": "o_vqXHTT94pz",
        "colab_type": "code",
        "outputId": "d1cdb375-2d2b-4b83-ae81-862fc3618f0d",
        "colab": {
          "base_uri": "https://localhost:8080/",
          "height": 204
        }
      },
      "source": [
        "script_df.head()"
      ],
      "execution_count": 6,
      "outputs": [
        {
          "output_type": "execute_result",
          "data": {
            "text/html": [
              "<div>\n",
              "<style scoped>\n",
              "    .dataframe tbody tr th:only-of-type {\n",
              "        vertical-align: middle;\n",
              "    }\n",
              "\n",
              "    .dataframe tbody tr th {\n",
              "        vertical-align: top;\n",
              "    }\n",
              "\n",
              "    .dataframe thead th {\n",
              "        text-align: right;\n",
              "    }\n",
              "</style>\n",
              "<table border=\"1\" class=\"dataframe\">\n",
              "  <thead>\n",
              "    <tr style=\"text-align: right;\">\n",
              "      <th></th>\n",
              "      <th>act</th>\n",
              "      <th>content</th>\n",
              "    </tr>\n",
              "  </thead>\n",
              "  <tbody>\n",
              "    <tr>\n",
              "      <th>0</th>\n",
              "      <td>씬/1</td>\n",
              "      <td>아테네 올림픽 자료화면 인서트 \\n</td>\n",
              "    </tr>\n",
              "    <tr>\n",
              "      <th>1</th>\n",
              "      <td>지문</td>\n",
              "      <td>자막 – 2004년 8월. 아테네 올림픽\\n한국 국가대표 경기 생중계 자료화면.\\n...</td>\n",
              "    </tr>\n",
              "    <tr>\n",
              "      <th>2</th>\n",
              "      <td>씬/2</td>\n",
              "      <td>방송 스튜디오 (과거, 밤)\\n</td>\n",
              "    </tr>\n",
              "    <tr>\n",
              "      <th>3</th>\n",
              "      <td>지문</td>\n",
              "      <td>올림픽 중계 스튜디오. 아테네 올림픽 엠블럼과 마스코트를 배경으로 남자 MC가 진행...</td>\n",
              "    </tr>\n",
              "    <tr>\n",
              "      <th>4</th>\n",
              "      <td>MC</td>\n",
              "      <td>네, 잠시 종목을 바꿔보겠습니다. 지금 사격 경기장에서는 50미터 권총 남자 결선이...</td>\n",
              "    </tr>\n",
              "  </tbody>\n",
              "</table>\n",
              "</div>"
            ],
            "text/plain": [
              "   act                                            content\n",
              "0  씬/1                                아테네 올림픽 자료화면 인서트 \\n\n",
              "1   지문  자막 – 2004년 8월. 아테네 올림픽\\n한국 국가대표 경기 생중계 자료화면.\\n...\n",
              "2  씬/2                                  방송 스튜디오 (과거, 밤)\\n\n",
              "3   지문  올림픽 중계 스튜디오. 아테네 올림픽 엠블럼과 마스코트를 배경으로 남자 MC가 진행...\n",
              "4   MC  네, 잠시 종목을 바꿔보겠습니다. 지금 사격 경기장에서는 50미터 권총 남자 결선이..."
            ]
          },
          "metadata": {
            "tags": []
          },
          "execution_count": 6
        }
      ]
    },
    {
      "cell_type": "markdown",
      "metadata": {
        "id": "y0cznDlBcR6_",
        "colab_type": "text"
      },
      "source": [
        "## **LSTM 모델**\n",
        "* Keras 창시자에게 배우는 딥러닝 책에 나오는 LSTM 문장생성 모델 적용\n",
        "* 해당 모델은 음절단위 정보를 활용한 모델이다"
      ]
    },
    {
      "cell_type": "markdown",
      "metadata": {
        "id": "T5aUdKuQnnn2",
        "colab_type": "text"
      },
      "source": [
        "### 전처리"
      ]
    },
    {
      "cell_type": "markdown",
      "metadata": {
        "id": "0mWEJtcgnuUT",
        "colab_type": "text"
      },
      "source": [
        "* 대본 정리"
      ]
    },
    {
      "cell_type": "code",
      "metadata": {
        "id": "oxo_HCblfc4v",
        "colab_type": "code",
        "colab": {}
      },
      "source": [
        "script_df.content = script_df.content.map(lambda x: x.rstrip('\\n')) # 개행문자 제거"
      ],
      "execution_count": 0,
      "outputs": []
    },
    {
      "cell_type": "code",
      "metadata": {
        "id": "pFNDScvCfc-1",
        "colab_type": "code",
        "colab": {}
      },
      "source": [
        "# 대사에만 집중하기 위해 지문, 씬, C#등 제거 - '지문', '씬/.*', 'C#.*'\n",
        "script_df_actor = script_df.drop(script_df[script_df['act'].str.find('지문') == 0].index)\n",
        "script_df_actor = script_df_actor.drop(script_df_actor[script_df_actor['act'].str.find('씬/') == 0].index)\n",
        "script_df_actor = script_df_actor.drop(script_df_actor[script_df_actor['act'].str.find('C#') == 0].index)"
      ],
      "execution_count": 0,
      "outputs": []
    },
    {
      "cell_type": "code",
      "metadata": {
        "id": "Jj_WbRXNfdFv",
        "colab_type": "code",
        "outputId": "26912662-ff5d-4f93-9258-8daf419093df",
        "colab": {
          "base_uri": "https://localhost:8080/",
          "height": 80
        }
      },
      "source": [
        "# 전처리 누락분 제거\n",
        "script_df_actor[script_df_actor['act']=='  ']"
      ],
      "execution_count": 9,
      "outputs": [
        {
          "output_type": "execute_result",
          "data": {
            "text/html": [
              "<div>\n",
              "<style scoped>\n",
              "    .dataframe tbody tr th:only-of-type {\n",
              "        vertical-align: middle;\n",
              "    }\n",
              "\n",
              "    .dataframe tbody tr th {\n",
              "        vertical-align: top;\n",
              "    }\n",
              "\n",
              "    .dataframe thead th {\n",
              "        text-align: right;\n",
              "    }\n",
              "</style>\n",
              "<table border=\"1\" class=\"dataframe\">\n",
              "  <thead>\n",
              "    <tr style=\"text-align: right;\">\n",
              "      <th></th>\n",
              "      <th>act</th>\n",
              "      <th>content</th>\n",
              "    </tr>\n",
              "  </thead>\n",
              "  <tbody>\n",
              "    <tr>\n",
              "      <th>373</th>\n",
              "      <td></td>\n",
              "      <td>지글지글 고기 굽는 소리, 칼질하는 소리, 매운 연기에 라운지에서 들려오는 음악소리...</td>\n",
              "    </tr>\n",
              "  </tbody>\n",
              "</table>\n",
              "</div>"
            ],
            "text/plain": [
              "    act                                            content\n",
              "373      지글지글 고기 굽는 소리, 칼질하는 소리, 매운 연기에 라운지에서 들려오는 음악소리..."
            ]
          },
          "metadata": {
            "tags": []
          },
          "execution_count": 9
        }
      ]
    },
    {
      "cell_type": "code",
      "metadata": {
        "id": "h-DOSuzPfdII",
        "colab_type": "code",
        "colab": {}
      },
      "source": [
        "# 대사들을 학습하기 위해 연결\n",
        "content_tie_str = script_df_actor.content.str.cat(sep=' ')"
      ],
      "execution_count": 0,
      "outputs": []
    },
    {
      "cell_type": "code",
      "metadata": {
        "id": "oCeVXzFXhlFJ",
        "colab_type": "code",
        "outputId": "0a351a77-62ef-4f06-8b2b-4c6451964304",
        "colab": {
          "base_uri": "https://localhost:8080/",
          "height": 55
        }
      },
      "source": [
        "content_tie_str"
      ],
      "execution_count": 0,
      "outputs": [
        {
          "output_type": "execute_result",
          "data": {
            "text/plain": [
              "'네, 잠시 종목을 바꿔보겠습니다. 지금 사격 경기장에서는 50미터 권총 남자 결선이 펼쳐지고 있는데요. 대한민국의 강철 선수가 예상 밖 선전 중이라고 합니다. 강철 선수는 이제 겨우 고등학교 2학년생인데요, 깜짝 금메달을 기대해보며 사격 경기장으로 가보겠습니다. (E) 네 여기는 마르코 폴로 올림픽 사격 경기장입니다. 남자 권총 50미터 경기, 이미 결선 시작됐구요, 대한민국의 강철 선수가 금메달에 도전하고 있습니다. 강철 선수는 예선 5위로 올라왔지만 결선 총 열 발 중 일곱 발까지 쏜 현재 선두를 달리고 있습니다! (E) 박위원님, 사실 강철 선수는 애초에 예상했던 메달 후보는 아니지 않습니까? 지금 강철 선수 옆에 세계선수권 1,2,3위가 나란히 있는데 말이지요. (E) 그렇죠. 강철 선수가요 이번에 처음 국가대표로 발탁이 됐구요 국제무대 경험도 처음입니다.   (E) 경험도 없는 만 열 일곱살 학생이 지금 세계 랭킹 1,2,3위를 상대로 선전 중입니다. 얼굴도 아주 귀엽게 생겼죠? (E) 네 그 요즘 하는 말로 뭐라 그러나요, 꽃미남? 네 아주 꽃미남이에요. \\n(둘, 웃고) (E) 지난 92년 바르셀로나의 여갑순 선수에 이어 다시 한 번 고교 금메달 신화를 만들어낼 수 있을 런지요, 강철 선수, 고지가 눈앞에 보이고 있습니다. (E) 이제 여덟 번째 격발하겠습니다. (E) 아 강철 선수 점수가... (하다 화면에 점수 뜨자 흥분) 10.2! 10.2를 기록하는 강철! 세계랭킹 1위 요시모프 선수는 9.5입니다. 이로서 격차는 더욱 더 벌어집니다!! (E) 이제 2.1 포인트 차입니다! 두발 남은 상황에서 역전하기 쉽지 않은 점수 아닙니까! 아~ 강철 선수도 승리를 확신한 듯 미소 짓고 있는데요! (E) 네 그렇지만 미리 자축하면 안돼요! 강철 선수 끝까지 침착해야 합니다!  (E) 네. 코치진도 지금 침착하라고 주문하고 있는 것 같은데요  (E) 지금 보시는 강윤 코치, 저 분이 바로 강철 선수의 부친입니다. (E) 아 그렇습니까? (E) 네 네. 집중력을 키워준다고 취미삼아 가르친 게 단 3년 만에 여기까지 왔다고 하죠. (E) 아~ 역시 피를 이어받은 타고난 총잡이었군요 강철 선수~ (하다 모두 조준하자 소리 낮추며) 자 이제 아홉 번째 격발입니다.  (E) 아 이게 웬일입니까?! 많이 빗나간 거 같은데요! (E) 아...! 7.9! 7.9가 나왔습니다. 결정적 실수가 아홉 번째에서 나옵니다! (2위 점수 뜨자) 우크라이나의 요시모프 선수는 10.2를 쐈습니다 이렇게 되면..  (E) 0.2점 차이로 역전 당했습니다..! (E) 653.4와 653.2. 단 0.2의 차이를 두고 이제 메달 색깔을 가를 마지막 격발이 남았습니다. 역시 연륜의 힘이 막판에 나오는 군요. 강철 선수, 경험 부족이 드러나는 거겠죠? (E) 그렇습니다. 아무래도 국제경기 경험이 없다보니.. 그러나 충분히 해낼 수 있습니다! 끝까지 집중해야 합니다! (E) 긴장되는 순간입니다. 마지막 열 번째 격발. (E) 10.4..! 요시모프 10.4를 쐈습니다.  (E) 아.. 역시 저력이 대단한 선수입니다. (E) 이렇게 되면 강철 선수는 반드시 10.7 이상을 쏴야 된다는 말인데요.. (E) 강철 선수는 아직도 겨누고만 있습니다.\\n75초 제한시간 내에 쏴야 하는데요, 많이 긴장했나보네요. (E) 마음 비워야합니다 강선수. 사실 여기까지 온 것만도 대단한 겁니다. (E) 아.. 모두 경기를 마쳤는데 강철 선수만 아직도 격발을 못하고 있습니다.  (E) 55초 넘어가고 있습니다..! 많이 흔들리는 강철 선수..! (E) 이제 무조건 쏴야합니다! 동메달이라도 확보해야죠! (E) 5초 남았습니다 4초 3초! (E) 아 쏴야 돼요!!  (E) 2초 1초 (E) 아.. 1초를 남겨두고 쐈는데요 결과가.. (E 흥분) 10.8!!! 10.8을 쐈습니다!! 강철 선수!! 10.8!! (E 흥분) 역전했어요!! 0.2포인트 차로 역전! 금메달이예요!! (E) 네! 대한민국 강철 선수!! 금메달입니다!!  (E) 대단합니다 강철 선수! 이제 겨우 열일곱 살 아닙니까! 보통 저 상황에선 부담감에 무너지기 마련인데요 어디서 저런 담대함이 나왔을까요!!  (E) 그렇습니다!! 마지막 1초를 남기고 세계랭킹 1위를 상대로 대역전극을 펼친 강철 선수! 새로운 스타 탄생입니다!! 슛 슛!!! (벌떡 일어났다 실망하며 각자 떠드는) 아 씨!! / 뭐하는 거야!! / 거기서 그렇게 가냐!!! (당연히 강철인 줄) 철이니? 왜 이제 와 (일어나 현관 쪽으로 가는) (시선은 TV에 고정된 채) 이 자식이, 다 끝나 가는데 어디 갔다  (??!) 엄마?!! (놀라 뛰어가고) (E) 첫 소식입니다. 이틀 전 서울 상도동 일가족의 권총 살인사건 소식을 전해드렸었는데요, 경찰이 이 사건의 유력한 용의자로 아테네 올림픽 금메달리스트인 아들 강철씨를 지목했습니다. (경찰서 현장에 나가있는 기자를 부른다) 박상민 기자!  (현장중계, 밤의 경찰서 앞에서 리포팅하는) 네, 여기는 동작경찰섭니다.  (E) 조금 전, 전 국가대표 강철씨가 존속살해혐의로 긴급 체포됐습니다. (E) 사격 국가대표 코치 강윤씨와 아내 윤미호씨, 딸 수연양과 준석군이 자택 거실에서 총에 맞아 숨진 채 발견된 건 지난 15일 오전이었습니다. (E) 경찰은 사건 당시 집에 없었던 장남 강철씨를 조사하던 중 당일 행적에 많은 의문점을 발견한 것으로 알려졌습니다. (E) 또 사건 현장에서 500미터 떨어진 쓰레기 더미 사이에서 범행에 쓰인 권총이 발견되었는데요, 이것이 범행에 쓰인 권총입니다. 스위스 모리니사의 5.56미리 구경이며 여기서 피해자 혈흔과 아들 강씨의 지문이 다수 검출되었습니다.  (E) 또한 경찰은 범행에 쓰인 권총이 올림픽에서 사용됐던 강철씨 것임을 확인했다고 밝혔습니다. (E) 검찰은 증거인멸과 도주를 우려해 강철씨를 구속수사하기로 하고, 범행 동기과 당시 행적을 밝히는데 주력하고 있습니다. 정말 충격적인 사건이 아닐 수 없네요. 김기자, 아테네 올림픽의 그 감격적인 순간을 수많은 국민들이 기억하고 있지 않습니까? 아버지에게 달려가 안기던 소년의 모습이 지금도 생생한데요. 만약 강철씨가 정말 범인이라면, 범행 동기는 대체 뭘까요? 명확한 동기는 아직 밝혀지지 않았으나, 주변의 증언으로는 올림픽 이후 사격을 그만두고 컴퓨터 공학과에 진학하면서 부자간 갈등을 빚어왔다고 합니다.  그것만으로 올림픽 스타의 끔찍한 패륜이 설명될 거 같지는 않은데 말이죠. (E) 그렇습니다. 그런 이유로 검찰의 성급한 구속에 대한 반발 여론도 만만치 않습니다. 그러나 전문가들의 소견은 다릅니다.  (E) 4발 모두 이마를 명중시켰거든요. 움직이는 목표를 상대로 오발이 하나도 없었습니다. 이건 전문가의 솜씨죠.   (E) 즉, 제 3의 범인이 강씨에게 누명을 씌울 작정이었다 해도 그 또한 기막힌 총잡이라는 주장입니다. (E) 모든 정황증거가 강씨를 범인으로 지목하는 가운데, 뚜렷한 범행동기가 보이지 않는 이 사건이 어떻게 결론이 날 지, 그 귀추가 주목되고 있습니다. 한철호, 그 담당검사 말이다. 야심이 엄청난 놈이더라. 정치하려는 모양인데 니 유명세를 업고 이번에 떠보겠다는 거지. 제대로 잘못 걸렸어.  ......  그리고... (말하기 어려워 머뭇거리다) 더 기다릴 수가 없어서 장례를 치렀다. .....!  (시선 마주치기 힘들어 피하며) 모두 양지바른 곳에 편히 모셨으니까 너무 걱정하지 말고.. ...... (더 못 듣고 얼굴을 감싼다)  (마음 아픈) 약해지면 안 돼. 백방으로 노력 중이니까 힘을 내라. 잘 될 거야 임마.  (흐느끼는지 어깨가 흔들리고) 범행 시각과 방법을 고려하면 우발적 범행이라 보기 어렵고, 주도면밀한 계획 아래 가족을 살해한 것은 인륜을 저버린 충격적 범죄이며, 피고인이 유명인이며 청소년들의 우상으로서 사회에 미친 충격이 다른 사건과 비교할 수 없을 만큼 큰 만큼, 사회적 경각심을 일깨우는 차원에서 (잠시 사이, 강철을 흘끔) ......  피고인 강철을 사형에 처할 것을 강력히 요청합니다. (!) 이 미친 새끼야..!! 어떻게 그게 결론이야?!!  W : 더블유 – 두개의 세계 (겨우 보고) 전화 받어.. (석범, 미동도 없고) 야 전화 받으라고.. 니 전화야..  아 진짜~ (가서 책상 위 핸드폰을 보는데 ‘미친개’ 뜨자) 어? 야 미친갠데? (!! 그 소리에 자동으로 벌떡 일어나는) (핸드폰 건네주며 놀리는) 너 죽었다 이제~ 벌써 열 번 넘게 울렸는데 어째? (혼비백산 전화 받는) 네 교수님! 석범입니다! 네 아니 그게.. (고소해하며 도로 눕는데) 오연주요? (눈 번쩍)  지금 옆에 있는데요. 글쎄요 왜 전화를 죽어도 안 받았는지는 저도 잘.. (??! 가운 주머니의 핸드폰을 꺼내보면, 부재중 전화 10통 와 있다, !!!!) 알겠습니다. (전화 끊는) 너 찾는데? 미쳐! 이게 왜 무음으로 돼 있어?!  (놀리는) 어떡하냐? 부재중 열 번이면 최소 사망각인데? (가운 급히 걸치며) 왜 왜 왜 나를 찾는대? 몰라. 명복을 빈다~ (도로 눕는) 하 씨 (울상으로 뛰쳐나가는) 오선생님, (입가에 침 묻었다고 얼른 알려주는) 아, 감사 감사 (대충 웃으며 침 닦으며 후다닥 엘리베이터 쪽으로 달려간다) (헐떡거리며 들어와) 박교수님..!! 여기 안 계신데요. 에? (하다가 응급실인가 하고 도로 달려나가는) (???) 박교수님 안 내려오셨는데요 (???) 우리 과 환자?! 없어요? 없는데요. (하며 지나가고)  (중얼) 뭐야..? (E) 교수님. 오연줍니다. 들어와. (고개 들고) 이게 지금 몇 분이 지나서 나타나? 디질래? (공손의 끝을 달리는) 죄송합니다. 여기 계신 줄 모르고.. 빠져가지구는 전화를 몇 번을 하게 만들고.. \\n너 교수가 우습냐? 교수 전화는 그냥 막 씹고 자빠졌냐?  죄송합니다 다신 이런 일 없도록 하겠습니다! 죄송합니다! (무조건 비는데) (O.L) 니가 오성무 작가 딸이야? (굽실거리다가 예상못한 질문에 ?) 네..? (고개 드는) 니가 만화가 오성무 딸이라던데. 나 오늘 처음 들었다? 아... 그럴 리가 있냐 설마? 아니지?  제 아버지 맞으신데요. 진짜? (하더니 연주를 아래위로 훑는) 근데 넌 왜 그래? 네..? 아버지는 무려 오성무 작가님이신데 딸은 왜 고작 오연주야?? (늘 갈구는 방식이다, 울컥) 죄송합니다. 고작 오연주라서. 너도 그림이나 그리지 그랬어? 재주도 없는 의사공부 하느라 뭔 고생이야? ..... 아버지가 길 다 닦아 주실테고, 쉬웠을텐데. 저도 하고 싶었는데요.. 근데 왜 안했어? 엄마가 반대하셔서요. 만화로 먹고 살기 힘들다고. (혀 차며) 저런. 어머니가 시류를 잘못 읽으셨네. 요즘처럼 의사가 널린 세상에 만화가가 나았을 텐데. 특히 경쟁력 없는 의사는.  ......  그럼 부모님이랑 같이 사나? 아니요. 엄마랑 둘이 삽니다. 아버지는? ..... 부모님이 이혼하셔서. 그래..? (집요한) 그럼 아버지는 자주 안 봐? 가끔 뵙는데.. (짜증나기 시작하는) 근데 그걸 왜 (O.L) 스포 좀 알려주라. 네..? (그제야 웃음기, 읽고 있던 만화 <더블유> 표지를 보여주는) 내가 요즘 이거에 푹 빠졌거든. 니네 아버지 만화. (황당) (싱글거리며) 이게 너무 재밌더라구? 히트친 건 알았지만 웹툰은 영 어색해서 안 보고 버텼거든. 근데 이번주가 마지막 회라며. 그래서 뒷북치기 싫어서 엊그제 서점가서 책을 샀어요. 서른세권 전부 다. (책상 밑에 산처럼 쌓아놓은 만화책 가리키는) 나 이틀밤 꼴딱 샜잖냐. 이거 왜 이리 재밌냐? (황당하게 보다) 이거 땜에 부르신 거였어요..? (그제야 안도하는) (들고 있던 책 보여주며) 지금 4권짼데 강철이 사형 선고 받았다? 어이없어. (여유 생겨) 아이~ 사형 안 당해요. 걱정 안하셔도 돼요. 알어~ 나 지금 세 번째 복습하는 거야. (처음 보는 미친개의 해맑은 모습이 신기한) (표지를 새삼 보며) 주인공이 맘에 든단 말야. 강철 이 자식이~ 근성이 있는게~ 남자가 봐도 멋진 놈이야~  (팬심에 불쑥) 여자가 봐도 멋있어요! (흘끔) 너도 강철 팬이냐? 당연하죠. (하고) 한 섹시하잖아요. 섹시? (순간 멈칫) (아차 너무 나갔나하는데) 하하하~ (호탕하게 웃어제끼는) 니가 뭘 안다고 섹시야? (손가락으로 장난스레 표시하며) 쪼금 압니다.  그러냐? 하하하~ 그렇지 한섹시하지~ 교수님.. 이거 싸인.. (다가오며 놀라 연주에게 눈빛으로 뭔 일인지 묻는데) (보란 듯 웃기만 하고) (석범은 쳐다보지도 않고) 근데 범인이 도대체 누구야?  그건 저도 모르는데요. 이번 주가 끝이라면서 아직도 안 나왔잖아. (석범이 내민 종이에 사인을 하며) 아버지한테 들은 거 없냐? 없는데요.  딸하고 그런 대화 안 하시나? 저희 아버진 스토리 얘긴 절대 안 해주세요. 스포 좀 얻어와 봐. 교수님 저도 좀 아는데요, 얘네 아버지가 얄짤 없으시더라구요. 네. 스포는 뭐 어림도 없.. (O.L) 너 수술 때 가슴 한 번도 안 열어봤던가? (멈칫)  가슴 열게 해줄게. (!) 진짜요? (놀라 석범을 보는) (뭐야 이거??) 범인이 누군지 알아와.  근데 안 알려주실 텐데.. 가슴 닫는 것도 니가 해. (!! 더 망설일 것도 없이 벌떡) 당장 스포 따오겠습니다! (뛰어나가는) 야. 가슴 열고 싶어서 뻥카치면 디진다. 걱정마세요!! (신이 나 나가고) (억울한) 교수님 이건 공정한 처사가 아니신 거 같은데요. \\n가슴은 저도 아직 못 열어봤거든요. 억울하면 너도 작가 아버지 둬. (서류 주며) 나가. 하... (허탈한) (중얼) 웬일이야~ 미친개가 만화 좋아하는 줄 진즉 알았으면 인생이 편했을텐데~ 그래도 이제라도 안 게 어디야? (흥얼거리며 전화를 건다)  아니지. 괜히 말 꺼냈다 본전도 못 찾겠지..? (E) 여보세요 누나? (반갑게) 수봉아~ 오랜만이다~ (E, 격한) 누나!! (애교스레) 많이 바쁘지~? 오늘 마감이라 정신없을 거 아는데.. 있잖니 내가 부탁할 게 하나 있는데 내 인생이 달린 문제거든~? 아빠한테는 비밀로 하고.. (E, 말 끊으며) 안 그래도 연락하려 그랬어요! 누나 클났어요! (?) 큰일 나다니?  (E) 선생님이 사라지셨어요! 어? (혼이 나간 듯) 어제 밤부터 계속 안 보이세요 연락도 안 되고요! (순간 놀랐다가 별거 아닌 말에) 난 또.. 어디서 또 밤새 술 푸시는 거 아냐? 아녜요! 단골집 다 확인했는데 어제 안 오셨대요. 친구 분들도 다 연락해봤는데 모른대잖아요. (성무의 핸드폰을 들고) 핸드폰도 놓고 가셨구요! 핸드폰을 놓고? 차키도요! 지갑까지 다 놓고요! 그냥 연락두절이예요! (...! 그제야 심각해져) 어딜 가신 거야 그럼..? (한숨 푹) 마감이 4시까진데 아무 지시도 없으시구, 우린 어째야 할지도 모르겠구. 선생님이 마감 어기신 적 단 한 번도 없잖아요. 어떡해요? (표정) 누나!! (구세주라도 만난 듯한 표정) 안녕하세요.  오랜만이다 다들. (하고) 아빠는? (고개 젓는) 누나랑은 통화 안하셨어요? (방안을 살펴보며) 나 요새 너무 바빠서 아빠랑 연락한지 한참 됐어. (머리 헝클며) 편집부에 연락해야겠죠? 아직 말도 못 꺼냈는데.  좀만 기다려보자. 아직 마감까지 시간 있잖아. 근데 누나 되게 이상한 게 뭐냐면요, 우리가 어제 밖에서 밤샘 작업을 했는데 한 번도 이 방에서 나오시질 않았거든요? (? 돌아보는) 선생님. 커피 물 올릴까요? (고개를 들어 시계를 보면 이제 9시가 넘은) 10시에. 네. (얼른 나가고) .... (계속 몰두한다) (E) 우리가 밖에 계속 있었다구요. 근데  선생님. 커피.. (하다 보면) 선생님? (두리번거리는) (E) 10시에 들어갔더니 안 계신 거예요. 나가시는 걸 아무도 못 봤는데. (E) 신발도 그대로 있었어요.  (E) 그래서 어디 쓰러지셨나하고 집 안팎을 다 뒤졌죠.  근데 흔적도 없더라구요. 이상하죠? (진짜 이상하다) 이상하네.. 많이 이상한데. (말 해놓고 겁먹는) 경찰에 신고할까요? (판단이 안 선다, 일단) 아직 24시간도 안됐잖아. 좀만 기다려보자.\\n너무 심란해서 잠깐 머리 식히러 나가셨을 수도 있지. 한밤중에 말도 없이요? 것도 맨발로요? 돈도 안 갖고? 핸드폰도 없이? (그 말에 겁이 나자 더 우기듯) 야 아버지도 사람인데~ 10년이나 그려온 주인공하고 이별하려니까 섭섭하셨겠지 안 그래? 선생님이요? 섭섭하시긴요. 아주 징글징글하다고 죽이고 싶댔는데. 누굴 죽여? (낮게 일러바치듯) 강철이요. 엔딩에 강철을 죽이신댔다구요. (?! 뜻밖의 말에 뭐라 하려는데) (책상 위에 놓여있던 커다란 액정 태블릿을 켜며) 누나만 봐요. 이거요. (보자마자 눈이 커져) 뭐야 이게..?  강철이요. 보세요 죽었잖아요. (버럭) 왜? 왜?!! 우리 강철이가 왜 죽어?! (토로할 상대가 생겨 반가운) 그러니까요. 우리 강철이가요! 말이 안 되죠~ (믿을 수 없는) 진짜 죽었다고? 봐요 피. 피를 저렇게 쏟고 어떻게 살아요? (황당하다, 순간 아버지 일은 잊고 그림만 뚫어져라)  우리가 얼마나 반대했다구요. 진짜 선생님 말씀에 토 한번 단 적도 없었는데 이번엔 결사반대했어요. 선미는 막 울기까지 했다구요. 근데 선생님 고집이 진짜.. 하.. (고개를 저으며) 무조건 죽이신다는 거예요. 처참하게 죽여주겠다고. 그게 일생 소원이라고. (....!) 이거 뜨면 인터넷에 난리가 날걸요. 다들 범인 잡아 복수하고 끝나는 거 기대하고 있을텐데 복수는커녕 개죽음 당하니. 저게 범인이야..? 누군데? (고개 젓는) 우린 몰라요. 말 안 해주셨어요. (....!) 여기까지 그리시다 사라지신 거예요.  (그림을 보며) 막상 죽이자니 갈등되신 거 아냐? 그래서 다시 생각해보려고.. (단호히) 아닐걸요. 얼마나 의지가 확고하셨는데요.  (E) 분명히 웃고 계셨어요. 아주 즐거워하셨다니까요.  (점점 미궁으로 빠지는 기분) 왜..? 왜 주인공을 죽이면서 즐거워 해? 모르죠. 선생님 속을 내가 어떻게 알아요? .... (문득) 혹시 말이야.. 이 만화 극성팬들 많잖아. 어디서 엔딩이 이런 걸 주워듣고선 사이코 광빠가 아빠를 납치한 거 아냐?  (눈 똥그래지는) 미저리처럼..? 그래, 미저리! 미저리도 광빠였잖아? (서로 잠시 쳐다보며 점차 의혹이 확신이 되는) 누나 그럼..! (마음 급해지는) 안 되겠다. 경찰에 신고하자 느낌이 안 좋아. (!!) 핸드폰 어딨냐!! 왜 왜? 뭐 찾았어 오빠? 경찰에 신고해야 돼 이거 보통 일이 아니야 씨! (급히 112 누른다) (겁먹어 보는)\\n   (중얼) 잡아먹히느니 잡아먹겠다..? (E) 잡아먹히느니 잡아먹겠다. 뭐...야..?  (황당한) 여기가 어디야..? 내가 왜 여깄어..? (놀라 순간 뒷걸음질쳤다가 잠시 후) 이봐요..?? (조심스레 불렀다 대답이 없자 깨우는) 이봐요! 정신 차려요! 내 말 들려요?!  하 씨...!! (핸드폰 내던지고, 의식 없는 남자에 대고) 좀만 버텨요!! (출구를 찾아 냅다 뛰어간다) 지글지글 고기 굽는 소리, 칼질하는 소리, 매운 연기에 라운지에서 들려오는 음악소리, 분주한 요리사들의 움직임으로 부산스러운데 연주, 뛰어들어오면서 (버럭) 이봐요!! 누가 119 좀 불러줘요!! 옥상에 사람이 죽어가요!! (...??) 못 들었어요? 사람이 칼에 찔려 죽어간다구요! (급히 눈에 보이는 대로 깨끗한 행주들과 가위를 집는다, 그 와중에 냄비와 조리도구들 바닥에 떨어지고) 출혈이 많다고 전해요!! 오래 못 버틴다고 서두르라고!! 빨리요!! (도로 확 나가고) (잠시 놀라 멍하니 연주 사라질 때가지 있다가 뒤늦게) 핸드폰 어딨냐?! / 야 매니저 불러! / 누가 좀 쫓아가봐!! / 야 니가 가!! (소란스러워지는) (놀라) 뭐예요? 왜 다쳤어요?! 누구예요?  (처치하며) 나도 몰라요 불 좀 이쪽 비춰요! 구급차는요? (조명 비추다 피를 보고 기겁하는) 으어!! 구급차는?! (떨며) 불렀어요. 그리고 아래층에 외과 의사들 컨퍼런스가 있어서 그 분들이 올라온다는데요! (그 소리에) 컨퍼런스..? 여기가 뭐하는 덴데요? 에? (급히 지혈하며) 이 건물이 뭐냐고요? (질문이 이해 안 되는) 여기 호텔인데요..? 남산 프라임 호텔.. (정신없이 동여매며 중얼) 호텔이야 여기가..? (불안한) 근데 뭐 알고 하는 거예요? 의사 올 때까지 기다리죠 나도 의사예요. 별 재능은 없지만 어! 왜 이래요? (만져보며) 기흉인 거 같은데..  네?  (침착하려고 혼자 계속 중얼중얼) 기흉 맞지..? 맞아 그럼.. 뚫어야 되지.. 근데 뚫을 게 없잖아..? (두리번거리다 웨이터 주머니에 꽂힌 볼펜이 눈에 들어오자 ...!! 잡으려다가 멈칫) 안 돼 위험해. 니가 뭘 안다고? (놀라) 주.. 죽는 거 아녜요?!\\t !! (볼펜을 확 잡아챘다가 다시 멈칫) 괜히 했다가 더 빨리 죽으면? 다 뒤집어쓰는 건데? (하면서도 볼펜 급히 분해한다) 아 몰라, 드라마에선 하잖아? 그냥 막 하던데 뭐. (가운데가 텅 빈 대만 남은 볼펜을 부러뜨려 날카롭게 만드는) (불안해서) 잠깐만요, 진짜 의사 맞아요?!! 자신 없으면 그냥 둬요 누구 올 때까지! 자신은 항상 없죠, 난 재능이 없다니까..! (곧 죽을 듯이 숨넘어가는 남자의 마지막을 보고) 그렇다고 그냥 죽게 둬..? (웨이터를 한번 보고는 웨이터가 말릴 새도 없이 볼펜을 잡고 흉곽에 확 꽂는다) (...!!)  (겁먹어 버럭) 죽은 거예요?!! 죽었어??!! (찾느라 두리번) 환자 어딨습니까? (울먹이며) 죽었어..!! 여기 사람 죽었어요!!!  (표정에) (비로소 입가에 뿌듯한 미소가 번지는) 아까 미친개가 봤어야 되는데.. 당신이 무시하는 오연주가 얼마나 멋지게 해 냈는지.. (하다 감탄하는) \\t알고 보니 난 실전에 강한 타입이었던거야? 내추럴 본 닥터? (자기가 말해놓고 웃는) (인사하며) 안녕하세요 이 호텔 매니저 박호영입니다. (명함 주는)  아 네.. (받는) 아까 조치가 조금만 늦었어도 사망했을 거라고 하네요. 저희 호텔에서 살인사건이 났으면.. (땀 닦으며) 정말 덕분입니다. 감사합니다.  뭘요. (언제 혼자 방정 떨었냐는 듯, 근엄하게) 의사로서 당연히 할일을 한 건데요. 어떻게 마침 의사분이 발견하셔서. 저 사람이 천운이네요~ (하고) 경찰이 오면 증언을 좀 해주셔야 될 거 같은데,, 네.. 그래야겠죠. 선생님 존함이..? 아 저요.. (주머니에서 구겨진 명함을 꺼내 내미는) 오연주라고 합니다.  (명함 대충 보며) 네에.. 저희 호텔 투숙객이신가요? 아니요..  그럼 여길 어떻게 올라오셨습니까? 네..? (멈칫) (연주가 멍하자) 선생님? 여기 왜 올라오셨는지 여쭸는데.. 네.. 근데 그게.. (할 말이 없다 머뭇거리는데) 매니저님! 저 사람 강철이예요! 뭐..?? (...?) (사색되어) 맞아요! 강철 대표! 아깐 피 때문에 못 알아봤는데! 어떡해요!! 그게 뭔 소리야 강철이라니?!! (표정 완전히 굳어 웨이터와 함께 달려간다) .....? (보자마자 놀라 헉 소리를 내는, 패닉이 되서) 어떻게 된 거야 이게 도대체!! 비서실에 당장 연락해!  (그 소리에) 왜들 놀래..? 강철이 누군데..? (하다 중얼) 강철은 만화 주인공인데..? (그것 말고는 떠오르는 사람이 없는) 연예인인가..? (하다) 아, 가수 중에 강철이.. (하다) 아니지, 그건 강탄데. (중얼) 무슨... 말도 안 되는.. (사색으로) 강대표님!! 정신 드십니까?? (들여다보는 사람들 또렷했다 흐렸다, 뭔가 말하려고 하는데 말이 안 나오고) (호들갑) 말씀하려고 애쓰지 마세요. 회사엔 저희가 연락했습니다! 죄송합니다 저희가 경호를 했어야 했는데!! 자 자 비켜주세요! 뭐야 이게..? (놀라 주춤하는데) (????) 뭐야 이게..?? (하는 순간) 누나 뭐 해요? (! 소스라치며 돌아보는) 뭐해요? 왜 불러도 대답도 없고 (떨며) 어떻게 된 거야..? 뭐가요? 나 여기서 없어졌었지..? 한참 동안 없어졌다구요? 언제? (표정) 나 혼자 방에 있었잖아.. 너는 경찰에 신고한다고 나가고 (말 끊는) 경찰에 신고 안했어요! 선생님 무사하세요 누나! 뭐...? (즐거운) 선생님 지금 마감하셨어요! (!!) 어디서 보내신 건진 모르겠지만 하여튼 지금 막 보내셨어요!\\n그리고 강철을 도로 살려내셨어요~ 누나 말이 맞았어 막상 죽이려니까 갈등되서 다시 생각하러 나가셨던 거예요. 그것도 모르고 괜히 누나까지 불렀잖아요. (표정) 나와 봐요~  (멍해) 아빠는...? 아직 연락 없으신데 곧 들어오시겠죠~ 마감도 하셨는데~ (나가는) (표정) 누나 여기서 봐요. (모니터를 돌려주는) (연주가 나오자 신나) 언니! 우리 강철이 살았어요! 마지막 회도 아니예요 좀 더 연재하실 건가봐요~ 완전 다행이죠~ (무슨 소린지)  (주방으로 가며) 아 한숨 돌리니까 갑자기 막 배고프다~ 짜장면 시켜먹자~ ..... (모니터로 시선 돌리는) (주방 쪽에서 맥주 따며) 새 캐릭터를 넣으셨더라구요. 여자 의사.  (믿을 수 없다, 중얼) 말도 안 돼.. ..... (멍해서 벽거울에 비친 자신의 모습을 보며, 중얼) 이거.. 나잖아..?  두 차례에 걸친 수술을 받은 강철 대표는 다행히 현재는 안정적인 상태로 회복 중이라고 병원 측은 알렸습니다. 지금 병원 앞은 강대표를 걱정해 모인 시민들로 발 디딜 틈이 없을 정도입니다. (E) 경찰은 강대표를 피습한 용의자를 계속 추적 중에 있으나 아직 명확한 단서는 나오지 않고 있는 것으로 알려졌습니다.  찾았어?  아뇨. 일대를 샅샅이 뒤졌는데 행방이 묘연하답니다. \\n사건 전후로 CCTV에도 전혀 찍힌 게 없구요.  (이상한) 찍힌 게 없어? (다가와) 네. 그 여자 좀 이상해요. 매니저한테는 증언하겠다고 하구선 (E) 경찰 오니까 없어졌다네요. 그리고 자신을 명세병원 의사라고 했답니다.  명세병원이 어디야..? 현재 대한민국에 명세병원이라는 데는 없습니다.  (?)  그러니까 의사를 사칭했다는 건데요. 이거 좀 보세요. (매니저에게 줬던 연주의 명함을 건네준다) (구겨진 명함을 받아들고 읽는) 흉부외과 레지던트 오연주..? 아예 명함까지 파서 다녔나 봐요. 거기 적힌 핸드폰, 이메일 모두 가짜였구요. (하고) 경찰은 이 여자를 공범으로 의심하고 있던데요. (잠시 생각하다) 그건 아닌 거 같은데 (하고 다시 단호하게) 그건 아니야. 어떻게 알아요? 아무것도 기억 안 난다면서. 직감으로.  (?) 어쨌든 꼭 찾아야 돼. 아무래도 이 여자가 내 인생의 키를 쥔 거 같으니까. (그 말에 순간 기분 상하는) 대표님 인생의 키요..?\\n어휴~ 너무 거창한 표현이라 좀 오글거리는데요. (못 들은 척) 찾아봐요. 지금 몽타주 만들고 있답니다. 구급대원들 말로는 꽤 미인이라고 아니 미인은 절대 아니고 미인이라던데요?  (단호한) 그 여자가 미인이면 개나 소나 다 미인인거고.  (눈 가늘게 뜨며) 근데 인생의 키라고요? 예뻐서 내 인생의 키라고 한 줄 알아?  한 눈에 꽂히신 줄 알았죠. 대체 날 뭘로 보는 거야? 희대의 바람둥이요. (어이없어하며) 이렇게 사장한테 막말하는 비서 봤나? 형, 본 적 있어요? (웃으며) 아니요. 그게 아님 어떻게 처음 본 여자가 인생의 키가 되나요? 내 존재의 이유. (....?) 내 존재의 이유를 밝혀줄 키가 그 여자 같아. 됐어?  (....!) 황당하네. (갑자기 반말 나오는) 니 존재의 이유는 나도 밝힐 수 있거든? 간단해, 너희 부모님의 사랑으로 정자와 난자가 결합해서  (말 끊어버리는) 몽타주 절대 예쁘게 그리면 안 돼. 그럼 죽어도 그 여자 못 찾아. (하고) 그리고 반말은 둘이 있을 때 만이랬지? (뭔가 약 오르는) 네 알겠습니다. 경찰에 그대로 전할게요. 대표님 인생의 키가 될 여자는 결코 미인이 아니라고. (부러 공손히 인사하고 나가는) (흘끔) 또 삐진 거 같지? 인생의 키라는 표현은 좀 쎄긴 한데. (하고) 엄청 미인인가보다? (어이없는) 미인 아니라니까. (안 믿는 미소) 하 참. (하고는 명함을 다시 보는, 중얼) 오연주라.. \\n(진지하게) 오연주.. 당신 지금 어디 있어..? (E) 오연주 어딨냐?   여기 있네. (짜증나, 보던 핸드폰을 흔들며) 임마, 아버지가 딸 사랑하는 마음은 십분 이해하지만 말야, 만화 캐릭터를 이렇게 오연주라고 대놓고 해버리시면 나 같은 독자는 어떻게 보냐? ...... 이거 봐 명세병원 흉부외과, 아예 대놓고 내 딸입네 하시면 대체~ 너같은 돌팔이가 강철 목숨을 구하는 게 몰입이 되겠냐고 나한테? 그리고 뭐, 오연주가 미인이라고? 내가 그 대사 보고 순간 핸드폰을 집어던질 뻔 했어 (머리가 깨질듯) 교수님 나중에 얘기하시죠. 저도 이게 바라는 바가 아니구요.. 니가 아버지한테 압력행사 했지? 이름 넣어달라고? \\n이게 얻어오라는 스포는 안 얻어오고 명작에 오연주로 개칠을 하고  (벌떡 일어나 박교수를 밀며) 저기 좀 나가주실래요? 제가 지금 교수님 말씀 들을 때가 아니라서요 (황당) 어, 이게 나 밀었냐? 지금 날 밀어?  아 제발 좀!! 일단 나가시라구요!! (확 떠밀더니 문을 잠가버리는) 교수님? (뛰어가 넘어지지 않게 부축하는) (기막힌) 저게 돌았는데? 저게 아주 디질라고  (E) 여보세요 누나? 수봉아 너도 봤지? 강철이 나를 찾고 있어. 기가 막혀 나를 찾고 있다고! (E) 네? 내 명함을 들고 나를 찾는다니까!! 저거 내가 준 명함이야!\\n내가 호텔 매니저한테 준 명함이라니까?! 진짜 내 명함!! 에? (?? 연주 말은 이해 못한 채) 하여튼 스토리가 좀 이상해지는 거 같긴 해요. 갑자기 새 여자 캐릭한테 너무 포커스가 가니까.. 선생님은 연락도 끊고 이걸 어디서 그리시는 건지  (머리를 마구 헝클며) 이거 아빠가 그리는 게 아니야..!! (? 이해 못하고) 그럼 누가 그려요?  이건 저절로 생겨난 거야..! 내가 강철을 살려내면서!!  에? 죽어야 될 강철이 살아나면서 스토리가 저절로 진행되고 있는 거라고! (어이없는) 누나 저번부터 뭔 이상한 소리를 자꾸.. 내 말이 무슨 말인지 모르겠어? 강철이 살아있다고!! 살아서 나를 찾고 있어!!\\n더블유에 다른 세계가 존재한다니까?! 진짜 강철이 사는 세계!! 내가 봤다고! (E) 누나 좀 진정하고.. 난 뭔 소리를 하는 건지 (살아있는 사람에게 말 걸 듯) 왜 나를 찾아 당신...? 날 찾아서 어쩌려고...? 왜 내가 당신 인생의 키가 되는데..?'"
            ]
          },
          "metadata": {
            "tags": []
          },
          "execution_count": 66
        }
      ]
    },
    {
      "cell_type": "code",
      "metadata": {
        "id": "htEfN4L0lHvw",
        "colab_type": "code",
        "outputId": "5a87144c-4617-41eb-c7ef-109bfb41fb18",
        "colab": {
          "base_uri": "https://localhost:8080/",
          "height": 35
        }
      },
      "source": [
        "len(content_tie_str)"
      ],
      "execution_count": 0,
      "outputs": [
        {
          "output_type": "execute_result",
          "data": {
            "text/plain": [
              "14737"
            ]
          },
          "metadata": {
            "tags": []
          },
          "execution_count": 67
        }
      ]
    },
    {
      "cell_type": "code",
      "metadata": {
        "id": "RvF5Wiz2qqfJ",
        "colab_type": "code",
        "outputId": "366280ca-91c5-4726-8de3-091eabc842e8",
        "colab": {
          "base_uri": "https://localhost:8080/",
          "height": 305
        }
      },
      "source": [
        "# 한글 태깅을 위한 패키지 설치\n",
        "! pip install konlpy\n",
        "from konlpy.tag import Okt\n",
        "tagger = Okt()"
      ],
      "execution_count": 0,
      "outputs": [
        {
          "output_type": "stream",
          "text": [
            "Requirement already satisfied: konlpy in /usr/local/lib/python3.6/dist-packages (0.5.2)\n",
            "Requirement already satisfied: beautifulsoup4==4.6.0 in /usr/local/lib/python3.6/dist-packages (from konlpy) (4.6.0)\n",
            "Requirement already satisfied: lxml>=4.1.0 in /usr/local/lib/python3.6/dist-packages (from konlpy) (4.2.6)\n",
            "Requirement already satisfied: tweepy>=3.7.0 in /usr/local/lib/python3.6/dist-packages (from konlpy) (3.8.0)\n",
            "Requirement already satisfied: JPype1>=0.7.0 in /usr/local/lib/python3.6/dist-packages (from konlpy) (0.7.1)\n",
            "Requirement already satisfied: numpy>=1.6 in /usr/local/lib/python3.6/dist-packages (from konlpy) (1.17.5)\n",
            "Requirement already satisfied: colorama in /usr/local/lib/python3.6/dist-packages (from konlpy) (0.4.3)\n",
            "Requirement already satisfied: requests>=2.11.1 in /usr/local/lib/python3.6/dist-packages (from tweepy>=3.7.0->konlpy) (2.21.0)\n",
            "Requirement already satisfied: requests-oauthlib>=0.7.0 in /usr/local/lib/python3.6/dist-packages (from tweepy>=3.7.0->konlpy) (1.3.0)\n",
            "Requirement already satisfied: PySocks>=1.5.7 in /usr/local/lib/python3.6/dist-packages (from tweepy>=3.7.0->konlpy) (1.7.1)\n",
            "Requirement already satisfied: six>=1.10.0 in /usr/local/lib/python3.6/dist-packages (from tweepy>=3.7.0->konlpy) (1.12.0)\n",
            "Requirement already satisfied: urllib3<1.25,>=1.21.1 in /usr/local/lib/python3.6/dist-packages (from requests>=2.11.1->tweepy>=3.7.0->konlpy) (1.24.3)\n",
            "Requirement already satisfied: certifi>=2017.4.17 in /usr/local/lib/python3.6/dist-packages (from requests>=2.11.1->tweepy>=3.7.0->konlpy) (2019.11.28)\n",
            "Requirement already satisfied: chardet<3.1.0,>=3.0.2 in /usr/local/lib/python3.6/dist-packages (from requests>=2.11.1->tweepy>=3.7.0->konlpy) (3.0.4)\n",
            "Requirement already satisfied: idna<2.9,>=2.5 in /usr/local/lib/python3.6/dist-packages (from requests>=2.11.1->tweepy>=3.7.0->konlpy) (2.8)\n",
            "Requirement already satisfied: oauthlib>=3.0.0 in /usr/local/lib/python3.6/dist-packages (from requests-oauthlib>=0.7.0->tweepy>=3.7.0->konlpy) (3.1.0)\n"
          ],
          "name": "stdout"
        }
      ]
    },
    {
      "cell_type": "code",
      "metadata": {
        "id": "MfNaDBCAq2Pn",
        "colab_type": "code",
        "colab": {}
      },
      "source": [
        "content_tie_pos = tagger.pos(content_tie_str, norm=True)"
      ],
      "execution_count": 0,
      "outputs": []
    },
    {
      "cell_type": "code",
      "metadata": {
        "id": "W1omBwFusenw",
        "colab_type": "code",
        "colab": {}
      },
      "source": [
        "def pos_inv(pos):\n",
        "  return pos[0]"
      ],
      "execution_count": 0,
      "outputs": []
    },
    {
      "cell_type": "code",
      "metadata": {
        "id": "LZ_qWcDTq2Mh",
        "colab_type": "code",
        "colab": {}
      },
      "source": [
        "#content_tie = list(map(pos_inv, content_tie_pos))\n",
        "content_tie = content_tie_str"
      ],
      "execution_count": 0,
      "outputs": []
    },
    {
      "cell_type": "code",
      "metadata": {
        "id": "7T0xSPOKs9va",
        "colab_type": "code",
        "outputId": "c3113608-bc49-4d2e-e608-99d30cc10756",
        "colab": {
          "base_uri": "https://localhost:8080/",
          "height": 35
        }
      },
      "source": [
        "len(content_tie)"
      ],
      "execution_count": 0,
      "outputs": [
        {
          "output_type": "execute_result",
          "data": {
            "text/plain": [
              "14737"
            ]
          },
          "metadata": {
            "tags": []
          },
          "execution_count": 72
        }
      ]
    },
    {
      "cell_type": "markdown",
      "metadata": {
        "id": "LVJBDNktnrc7",
        "colab_type": "text"
      },
      "source": [
        "* 원핫 인코딩"
      ]
    },
    {
      "cell_type": "code",
      "metadata": {
        "id": "c-iYQQWahuVT",
        "colab_type": "code",
        "outputId": "f9b4a35b-4c23-416a-c2de-1656c58a3784",
        "colab": {
          "base_uri": "https://localhost:8080/",
          "height": 35
        }
      },
      "source": [
        "maxlen = 100\n",
        "step = 2\n",
        "\n",
        "sentences = []\n",
        "\n",
        "next_chars = []\n",
        "\n",
        "for i in range(0, len(content_tie) - maxlen, step):\n",
        "  sentences.append(content_tie[i:i + maxlen])\n",
        "  next_chars.append(content_tie[i + maxlen])\n",
        "print(len(sentences))"
      ],
      "execution_count": 0,
      "outputs": [
        {
          "output_type": "stream",
          "text": [
            "7319\n"
          ],
          "name": "stdout"
        }
      ]
    },
    {
      "cell_type": "code",
      "metadata": {
        "id": "_Yz3OgdOlPWq",
        "colab_type": "code",
        "outputId": "cc5ed748-85f9-4c7b-ab62-915c7a73c5ed",
        "colab": {
          "base_uri": "https://localhost:8080/",
          "height": 35
        }
      },
      "source": [
        "chars = sorted(list(set(content_tie))) # 중복없는 글자 리스트\n",
        "print(len(chars))"
      ],
      "execution_count": 0,
      "outputs": [
        {
          "output_type": "stream",
          "text": [
            "701\n"
          ],
          "name": "stdout"
        }
      ]
    },
    {
      "cell_type": "code",
      "metadata": {
        "id": "qUGWMkVqlc2j",
        "colab_type": "code",
        "colab": {}
      },
      "source": [
        "char_indices = dict((char, chars.index(char)) for char in chars)"
      ],
      "execution_count": 0,
      "outputs": []
    },
    {
      "cell_type": "code",
      "metadata": {
        "id": "FaxMFAeymmAO",
        "colab_type": "code",
        "colab": {}
      },
      "source": [
        "# 문자을 위 인덱스를 바탕으로 벡터화 하여 학습 가능하도록 x,y로 생성\n",
        "x = np.zeros((len(sentences), maxlen, len(chars)), dtype=np.bool)\n",
        "y = np.zeros((len(sentences), len(chars)), dtype=np.bool)\n",
        "\n",
        "for i, sentence in enumerate(sentences):\n",
        "  for t, char in enumerate(sentence):\n",
        "    x[i, t, char_indices[char]] = 1\n",
        "  y[i, char_indices[next_chars[i]]] = 1"
      ],
      "execution_count": 0,
      "outputs": []
    },
    {
      "cell_type": "code",
      "metadata": {
        "id": "36bHBH1imuTs",
        "colab_type": "code",
        "outputId": "db617258-ae3d-4db5-cf3e-08762ebdb6b5",
        "colab": {
          "base_uri": "https://localhost:8080/",
          "height": 35
        }
      },
      "source": [
        "x.shape, y.shape"
      ],
      "execution_count": 0,
      "outputs": [
        {
          "output_type": "execute_result",
          "data": {
            "text/plain": [
              "((7319, 100, 701), (7319, 701))"
            ]
          },
          "metadata": {
            "tags": []
          },
          "execution_count": 77
        }
      ]
    },
    {
      "cell_type": "markdown",
      "metadata": {
        "id": "9Fsi_zznnEmw",
        "colab_type": "text"
      },
      "source": [
        "### 모델링"
      ]
    },
    {
      "cell_type": "code",
      "metadata": {
        "id": "rmy4vOq-m__8",
        "colab_type": "code",
        "colab": {}
      },
      "source": [
        "from keras import layers, models\n",
        "\n",
        "model = models.Sequential()\n",
        "model.add(layers.LSTM(128, input_shape = (maxlen, len(chars))))\n",
        "model.add(layers.Dense(len(chars), activation='softmax'))"
      ],
      "execution_count": 0,
      "outputs": []
    },
    {
      "cell_type": "code",
      "metadata": {
        "id": "tKa5gJUlnGsK",
        "colab_type": "code",
        "colab": {}
      },
      "source": [
        "model.compile(optimizer = 'rmsprop',\n",
        "             loss = 'categorical_crossentropy')"
      ],
      "execution_count": 0,
      "outputs": []
    },
    {
      "cell_type": "code",
      "metadata": {
        "id": "B_O7KajznIFO",
        "colab_type": "code",
        "colab": {}
      },
      "source": [
        "def sample(preds, temperature = 0.1):\n",
        "  preds = np.asarray(preds).astype('float64')\n",
        "  preds = np.log(preds) / temperature\n",
        "  exp_preds = np.exp(preds)\n",
        "  preds = exp_preds/ np.sum(exp_preds)\n",
        "  probas = np.random.multinomial(1, preds, 1) # 주사위 던지기 1번 1차원으로, 그래서 몇번 나왔는가\n",
        "  return np.argmax(probas)"
      ],
      "execution_count": 0,
      "outputs": []
    },
    {
      "cell_type": "code",
      "metadata": {
        "id": "5P203SBpnPWv",
        "colab_type": "code",
        "outputId": "a115602d-5a8a-4686-9cec-4ca19d9c252f",
        "colab": {
          "base_uri": "https://localhost:8080/",
          "height": 1000
        }
      },
      "source": [
        "import random\n",
        "import sys\n",
        "\n",
        "random.seed(42)\n",
        "start_index = random.randint(0, len(content_tie) - maxlen -1)\n",
        "\n",
        "epoch = 20\n",
        "print(\"epochs : \", epoch)\n",
        "model.fit(x, y, batch_size=128, epochs=epoch)\n",
        "\n",
        "seed_text = content_tie[start_index : start_index + maxlen]\n",
        "print(\"seed text : \", seed_text)\n",
        "\n",
        "for temperature in [0.2, 0.5, 1.0, 1.2]:\n",
        "  print(\"temp : \", temperature)\n",
        "  generated_text = seed_text\n",
        "  full_text = \"\"\n",
        "  print(generated_text)\n",
        "  \n",
        "  for i in range(100):\n",
        "    sampled = np.zeros((1, maxlen, len(chars)))\n",
        "    for t, char in enumerate(generated_text):\n",
        "      sampled[0, t, char_indices[char]] = 1.\n",
        "      \n",
        "    preds = model.predict(sampled, verbose=0)[0]\n",
        "    next_index = sample(preds, temperature)\n",
        "    next_char = chars[next_index]\n",
        "\n",
        "    generated_text += next_char # 덧셈하면 맨위에 붙음\n",
        "    generated_text = generated_text[1:] # 앞에 자름\n",
        "    full_text += next_char\n",
        "\n",
        "    #sys.stdout.write(next_char)\n",
        "    #sys.stdout.flush()\n",
        "    \n",
        "  print(\"generated text : \", full_text)"
      ],
      "execution_count": 0,
      "outputs": [
        {
          "output_type": "stream",
          "text": [
            "epochs :  20\n",
            "Epoch 1/20\n",
            "7319/7319 [==============================] - 11s 2ms/step - loss: 4.8716\n",
            "Epoch 2/20\n",
            "7319/7319 [==============================] - 11s 1ms/step - loss: 4.5988\n",
            "Epoch 3/20\n",
            "7319/7319 [==============================] - 10s 1ms/step - loss: 4.5606\n",
            "Epoch 4/20\n",
            "7319/7319 [==============================] - 10s 1ms/step - loss: 4.5012\n",
            "Epoch 5/20\n",
            "7319/7319 [==============================] - 11s 1ms/step - loss: 4.4046\n",
            "Epoch 6/20\n",
            "7319/7319 [==============================] - 10s 1ms/step - loss: 4.2930\n",
            "Epoch 7/20\n",
            "7319/7319 [==============================] - 10s 1ms/step - loss: 4.1843\n",
            "Epoch 8/20\n",
            "7319/7319 [==============================] - 10s 1ms/step - loss: 4.0931\n",
            "Epoch 9/20\n",
            "7319/7319 [==============================] - 10s 1ms/step - loss: 4.0092\n",
            "Epoch 10/20\n",
            "7319/7319 [==============================] - 10s 1ms/step - loss: 3.9379\n",
            "Epoch 11/20\n",
            "7319/7319 [==============================] - 10s 1ms/step - loss: 3.8655\n",
            "Epoch 12/20\n",
            "7319/7319 [==============================] - 10s 1ms/step - loss: 3.7994\n",
            "Epoch 13/20\n",
            "7319/7319 [==============================] - 10s 1ms/step - loss: 3.7362\n",
            "Epoch 14/20\n",
            "7319/7319 [==============================] - 10s 1ms/step - loss: 3.6692\n",
            "Epoch 15/20\n",
            "7319/7319 [==============================] - 10s 1ms/step - loss: 3.6067\n",
            "Epoch 16/20\n",
            "7319/7319 [==============================] - 10s 1ms/step - loss: 3.5515\n",
            "Epoch 17/20\n",
            "7319/7319 [==============================] - 10s 1ms/step - loss: 3.4894\n",
            "Epoch 18/20\n",
            "7319/7319 [==============================] - 10s 1ms/step - loss: 3.4353\n",
            "Epoch 19/20\n",
            "7319/7319 [==============================] - 10s 1ms/step - loss: 3.3814\n",
            "Epoch 20/20\n",
            "7319/7319 [==============================] - 10s 1ms/step - loss: 3.3241\n",
            "seed text :  소가 번지는) 아까 미친개가 봤어야 되는데.. 당신이 무시하는 오연주가 얼마나 멋지게 해 냈는지.. (하다 감탄하는) \t알고 보니 난 실전에 강한 타입이었던거야? 내추럴 본 닥터?\n",
            "temp :  0.2\n",
            "소가 번지는) 아까 미친개가 봤어야 되는데.. 당신이 무시하는 오연주가 얼마나 멋지게 해 냈는지.. (하다 감탄하는) \t알고 보니 난 실전에 강한 타입이었던거야? 내추럴 본 닥터?\n",
            "generated text :    (하라는 이데 이 이 이 이해요. ((E) (E) 이 이 이 이 이라 거...... (E) 이 이다... (E) (E) (E) (E) (E) (E) (E) (E) 이 이 이는 \n",
            "temp :  0.5\n",
            "소가 번지는) 아까 미친개가 봤어야 되는데.. 당신이 무시하는 오연주가 얼마나 멋지게 해 냈는지.. (하다 감탄하는) \t알고 보니 난 실전에 강한 타입이었던거야? 내추럴 본 닥터?\n",
            "generated text :    어신 거...... (E) (하는) 아....? (E) 왜 이 다는 누..... (E) 그어....? (송려이다다 누....? (E) (하신요. (E) (E) 아 정어는 그에 \n",
            "temp :  1.0\n",
            "소가 번지는) 아까 미친개가 봤어야 되는데.. 당신이 무시하는 오연주가 얼마나 멋지게 해 냈는지.. (하다 감탄하는) \t알고 보니 난 실전에 강한 타입이었던거야? 내추럴 본 닥터?\n",
            "generated text :   디 자님 한.하이?이 (손하시죠. ?! (실다고 자황는는 라 키었야니니다 (E친서. 2을 안렸그4 어야요요 누디? 섭 0는는. 저방지5 러데 선미도 아다.... 아. (E 말코보\n",
            "temp :  1.2\n",
            "소가 번지는) 아까 미친개가 봤어야 되는데.. 당신이 무시하는 오연주가 얼마나 멋지게 해 냈는지.. (하다 감탄하는) \t알고 보니 난 실전에 강한 타입이었던거야? 내추럴 본 닥터?\n",
            "generated text :   한투 벌른신데...... \n",
            "? 경함흥리다가 서 그 여요.!. 어 범니는니다? 될빠기을 안 니까을 봐가 다연요. 가고, 깜인요했님 좀사아도 키가! 만뻔과? ?기이야요! 너!  세어\n"
          ],
          "name": "stdout"
        }
      ]
    },
    {
      "cell_type": "code",
      "metadata": {
        "id": "SKatfAkU0qro",
        "colab_type": "code",
        "outputId": "e14450db-e6fe-4964-daa2-a0f1b4022153",
        "colab": {
          "base_uri": "https://localhost:8080/",
          "height": 35
        }
      },
      "source": [
        "full_text"
      ],
      "execution_count": 0,
      "outputs": [
        {
          "output_type": "execute_result",
          "data": {
            "text/plain": [
              "' 한투 벌른신데...... \\n? 경함흥리다가 서 그 여요.!. 어 범니는니다? 될빠기을 안 니까을 봐가 다연요. 가고, 깜인요했님 좀사아도 키가! 만뻔과? ?기이야요! 너!  세어'"
            ]
          },
          "metadata": {
            "tags": []
          },
          "execution_count": 82
        }
      ]
    },
    {
      "cell_type": "markdown",
      "metadata": {
        "id": "fjIXjwVJcY9s",
        "colab_type": "text"
      },
      "source": [
        "> 알파벳과는 다르게 단어의 종류가 무궁무진하여 단어 기반으로 하는 LSTM 모델은 문장을 생성하는데 부적합 하다."
      ]
    },
    {
      "cell_type": "markdown",
      "metadata": {
        "id": "Gk95ruoXg4Gr",
        "colab_type": "text"
      },
      "source": [
        "### **bigram 모델**\n",
        "* 해당 모델은 ratsgo 님의 블로그를 참조한 모델이다\n",
        "* 어절을 기본단위로 하여 분석하는 모델이다"
      ]
    },
    {
      "cell_type": "markdown",
      "metadata": {
        "id": "IluMVIHedECy",
        "colab_type": "text"
      },
      "source": [
        "### 전처리"
      ]
    },
    {
      "cell_type": "code",
      "metadata": {
        "id": "mvS_x-gMg5-X",
        "colab_type": "code",
        "colab": {}
      },
      "source": [
        "script_df_actor.content = script_df_actor.content.map(lambda x : x.split(' ')) # 어절단위 분해"
      ],
      "execution_count": 0,
      "outputs": []
    },
    {
      "cell_type": "code",
      "metadata": {
        "id": "RtIBAKJwa38w",
        "colab_type": "code",
        "colab": {}
      },
      "source": [
        "from collections import defaultdict"
      ],
      "execution_count": 0,
      "outputs": []
    },
    {
      "cell_type": "code",
      "metadata": {
        "id": "kWdxy7mXea6b",
        "colab_type": "code",
        "colab": {}
      },
      "source": [
        "bigram_transitions = defaultdict(list)"
      ],
      "execution_count": 0,
      "outputs": []
    },
    {
      "cell_type": "code",
      "metadata": {
        "id": "HNsjpiVcef8L",
        "colab_type": "code",
        "colab": {
          "base_uri": "https://localhost:8080/",
          "height": 35
        },
        "outputId": "44dcfcc8-0b1c-418f-9d7d-5371c3bf7230"
      },
      "source": [
        "bigram_transitions"
      ],
      "execution_count": 21,
      "outputs": [
        {
          "output_type": "execute_result",
          "data": {
            "text/plain": [
              "defaultdict(list, {})"
            ]
          },
          "metadata": {
            "tags": []
          },
          "execution_count": 21
        }
      ]
    },
    {
      "cell_type": "code",
      "metadata": {
        "id": "iiZoaWLVelL8",
        "colab_type": "code",
        "colab": {}
      },
      "source": [
        "for line in script_df_actor.content:\n",
        "  for prev, current in zip(line, line[1:]):\n",
        "    bigram_transitions[prev].append(current)"
      ],
      "execution_count": 0,
      "outputs": []
    },
    {
      "cell_type": "code",
      "metadata": {
        "id": "yD4F26FUh2Bf",
        "colab_type": "code",
        "colab": {}
      },
      "source": [
        "import random\n",
        "\n",
        "def generate_using_bigrams(cut=30):\n",
        "  idx = 0\n",
        "  stp = 0\n",
        "  result = []\n",
        "  while True:\n",
        "    current = random.choice(list(bigram_transitions.keys()))\n",
        "    if bigram_transitions[current] != []:\n",
        "      break\n",
        "\n",
        "  while True:\n",
        "      next_word_candidates = bigram_transitions[current]\n",
        "\n",
        "      while True:\n",
        "        stp += 1\n",
        "        current = random.choice(next_word_candidates)\n",
        "        if bigram_transitions[current] != []:\n",
        "          break\n",
        "          \n",
        "        if stp == 300:\n",
        "          return print(\"Over run\")\n",
        "           \n",
        "      result.append(current)\n",
        "      if idx == cut:\n",
        "          return \" \".join(result)\n",
        "      idx += 1"
      ],
      "execution_count": 0,
      "outputs": []
    },
    {
      "cell_type": "code",
      "metadata": {
        "id": "UtP7WAtSiAuS",
        "colab_type": "code",
        "colab": {
          "base_uri": "https://localhost:8080/",
          "height": 55
        },
        "outputId": "d83f8d75-fcff-4c5e-e3de-71c8bfe3ff3f"
      },
      "source": [
        "generate_using_bigrams()"
      ],
      "execution_count": 71,
      "outputs": [
        {
          "output_type": "execute_result",
          "data": {
            "text/plain": [
              "'금메달에 도전하고 있습니다. 강철 선수 점수가... (하다 화면에 점수 뜨자) 우크라이나의 요시모프 10.4를 쐈습니다.                 '"
            ]
          },
          "metadata": {
            "tags": []
          },
          "execution_count": 71
        }
      ]
    },
    {
      "cell_type": "code",
      "metadata": {
        "id": "CjYy48ucopT5",
        "colab_type": "code",
        "colab": {
          "base_uri": "https://localhost:8080/",
          "height": 35
        },
        "outputId": "5c2edd43-ec4e-4342-b9ff-27e823109e76"
      },
      "source": [
        "generate_using_bigrams()"
      ],
      "execution_count": 72,
      "outputs": [
        {
          "output_type": "stream",
          "text": [
            "Over run\n"
          ],
          "name": "stdout"
        }
      ]
    },
    {
      "cell_type": "code",
      "metadata": {
        "id": "TsLDxFmwoqa9",
        "colab_type": "code",
        "colab": {
          "base_uri": "https://localhost:8080/",
          "height": 35
        },
        "outputId": "20f8f045-d335-499e-a722-ccbcd7fbdc67"
      },
      "source": [
        "generate_using_bigrams()"
      ],
      "execution_count": 73,
      "outputs": [
        {
          "output_type": "stream",
          "text": [
            "Over run\n"
          ],
          "name": "stdout"
        }
      ]
    },
    {
      "cell_type": "code",
      "metadata": {
        "id": "VlDscSp-orc_",
        "colab_type": "code",
        "colab": {
          "base_uri": "https://localhost:8080/",
          "height": 35
        },
        "outputId": "00339c01-d0c9-47a1-94f5-b470493dd776"
      },
      "source": [
        "generate_using_bigrams()"
      ],
      "execution_count": 74,
      "outputs": [
        {
          "output_type": "execute_result",
          "data": {
            "text/plain": [
              "'의사라고 했답니다.                             '"
            ]
          },
          "metadata": {
            "tags": []
          },
          "execution_count": 74
        }
      ]
    },
    {
      "cell_type": "markdown",
      "metadata": {
        "id": "6f9gbcQym4-4",
        "colab_type": "text"
      },
      "source": [
        "> bigram을 위해서는 충분한 defalutdict 가 구성되어야 하는데, 지금 주어진 대본만으로는 하나의 단어에 연결된 biragm 단어가 1개인 경우가 많아서 기존에 존재하는 문장을 그대로 산출하게 되거나, 문장을 종결하게 된다."
      ]
    }
  ]
}